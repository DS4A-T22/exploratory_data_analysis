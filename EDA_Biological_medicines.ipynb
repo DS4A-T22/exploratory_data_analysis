{
 "cells": [
  {
   "cell_type": "code",
   "execution_count": 1,
   "metadata": {},
   "outputs": [],
   "source": [
    "import pandas  as pd\n",
    "import seaborn as sns\n",
    "import numpy   as np\n",
    "import matplotlib.pyplot as plt\n",
    "import missingno as msno "
   ]
  },
  {
   "cell_type": "code",
   "execution_count": 2,
   "metadata": {},
   "outputs": [],
   "source": [
    "Biological_Md = pd.read_excel('biologicos asma.xlsx')"
   ]
  },
  {
   "cell_type": "markdown",
   "metadata": {},
   "source": [
    "# BIOLOGICAL MEDICINES (Biologicos)\n"
   ]
  },
  {
   "cell_type": "markdown",
   "metadata": {},
   "source": [
    "Información sobre las dispensaciones históricas por cada paciente. De acuerdo con la condición del paciente hay algunos con dispensación frecuente, mientras que otros tienen dispensación mensual. \n",
    "\n",
    "**Nota:** durante 2018 hubo un desabastecimiento del medicamento Omalizumab, por lo cual van a encontrarse registros de pacientes sin dispensaciones del medicamento por uno o dos meses.\n"
   ]
  },
  {
   "cell_type": "code",
   "execution_count": 3,
   "metadata": {
    "scrolled": true
   },
   "outputs": [
    {
     "name": "stdout",
     "output_type": "stream",
     "text": [
      "DF shape: (12594, 5)\n",
      "Patiends ID 872\n",
      "<class 'pandas.core.frame.DataFrame'>\n",
      "RangeIndex: 12594 entries, 0 to 12593\n",
      "Data columns (total 5 columns):\n",
      " #   Column                Non-Null Count  Dtype         \n",
      "---  ------                --------------  -----         \n",
      " 0   Identificacion        12594 non-null  int64         \n",
      " 1   Fecha_Dcto            12594 non-null  datetime64[ns]\n",
      " 2   Nombre_Producto_Mvto  12594 non-null  object        \n",
      " 3   Nom_Generico          12594 non-null  object        \n",
      " 4   Cantidad              12594 non-null  int64         \n",
      "dtypes: datetime64[ns](1), int64(2), object(2)\n",
      "memory usage: 492.1+ KB\n",
      "None\n"
     ]
    }
   ],
   "source": [
    "print('DF shape:',Biological_Md.shape)                                \n",
    "print('Patiends ID',len(Biological_Md['Identificacion'].unique())) # How many ID can be found\n",
    "print(Biological_Md.info())\n"
   ]
  },
  {
   "cell_type": "code",
   "execution_count": 4,
   "metadata": {},
   "outputs": [],
   "source": [
    "Biological_Md.rename(columns={'Identificacion':'id_paciente','Fecha_Dcto':'fecha_dcto','Nombre_Producto_Mvto':'nombreprodmvto',\n",
    "                      'Nom_Generico':'nombregenerico','Cantidad':'cantidad'}, inplace=True)\n"
   ]
  },
  {
   "cell_type": "code",
   "execution_count": 5,
   "metadata": {},
   "outputs": [
    {
     "data": {
      "text/plain": [
       "<matplotlib.axes._subplots.AxesSubplot at 0x1b3707a6408>"
      ]
     },
     "execution_count": 5,
     "metadata": {},
     "output_type": "execute_result"
    },
    {
     "data": {
      "image/png": "[encoded data removed]",
      "text/plain": [
       "<Figure size 1800x720 with 2 Axes>"
      ]
     },
     "metadata": {
      "needs_background": "light"
     },
     "output_type": "display_data"
    }
   ],
   "source": [
    "msno.matrix(Biological_Md) "
   ]
  },
  {
   "cell_type": "code",
   "execution_count": 6,
   "metadata": {},
   "outputs": [
    {
     "data": {
      "text/html": [
       "<div>\n",
       "<style scoped>\n",
       "    .dataframe tbody tr th:only-of-type {\n",
       "        vertical-align: middle;\n",
       "    }\n",
       "\n",
       "    .dataframe tbody tr th {\n",
       "        vertical-align: top;\n",
       "    }\n",
       "\n",
       "    .dataframe thead th {\n",
       "        text-align: right;\n",
       "    }\n",
       "</style>\n",
       "<table border=\"1\" class=\"dataframe\">\n",
       "  <thead>\n",
       "    <tr style=\"text-align: right;\">\n",
       "      <th></th>\n",
       "      <th>id_paciente</th>\n",
       "      <th>fecha_dcto</th>\n",
       "      <th>nombreprodmvto</th>\n",
       "      <th>nombregenerico</th>\n",
       "      <th>cantidad</th>\n",
       "    </tr>\n",
       "  </thead>\n",
       "  <tbody>\n",
       "    <tr>\n",
       "      <th>0</th>\n",
       "      <td>1853167</td>\n",
       "      <td>2019-08-02</td>\n",
       "      <td>OMALIZUMAB 150 MG POLV INY (XOLAIR)-21755-4896</td>\n",
       "      <td>OMALIZUMAB</td>\n",
       "      <td>2</td>\n",
       "    </tr>\n",
       "    <tr>\n",
       "      <th>1</th>\n",
       "      <td>695889</td>\n",
       "      <td>2019-07-31</td>\n",
       "      <td>OMALIZUMAB 150 MG POLV INY (XOLAIR)-21755-4896</td>\n",
       "      <td>OMALIZUMAB</td>\n",
       "      <td>2</td>\n",
       "    </tr>\n",
       "    <tr>\n",
       "      <th>2</th>\n",
       "      <td>1534187</td>\n",
       "      <td>2019-01-05</td>\n",
       "      <td>OMALIZUMAB SOLUCIÓN INYECTABLE 150MG /1ML (XOL...</td>\n",
       "      <td>OMALIZUMAB</td>\n",
       "      <td>4</td>\n",
       "    </tr>\n",
       "    <tr>\n",
       "      <th>3</th>\n",
       "      <td>1831103</td>\n",
       "      <td>2018-12-03</td>\n",
       "      <td>OMALIZUMAB SOLUCIÓN INYECTABLE 150MG /1ML (XOL...</td>\n",
       "      <td>OMALIZUMAB</td>\n",
       "      <td>3</td>\n",
       "    </tr>\n",
       "    <tr>\n",
       "      <th>4</th>\n",
       "      <td>1831103</td>\n",
       "      <td>2019-01-03</td>\n",
       "      <td>OMALIZUMAB SOLUCIÓN INYECTABLE 150MG /1ML (XOL...</td>\n",
       "      <td>OMALIZUMAB</td>\n",
       "      <td>3</td>\n",
       "    </tr>\n",
       "    <tr>\n",
       "      <th>...</th>\n",
       "      <td>...</td>\n",
       "      <td>...</td>\n",
       "      <td>...</td>\n",
       "      <td>...</td>\n",
       "      <td>...</td>\n",
       "    </tr>\n",
       "    <tr>\n",
       "      <th>12589</th>\n",
       "      <td>1209144</td>\n",
       "      <td>2020-04-22</td>\n",
       "      <td>MEPOLIZUMAB POLVO INYECTABLE 100MG (NUCALA) -2...</td>\n",
       "      <td>MEPOLIZUMAB</td>\n",
       "      <td>1</td>\n",
       "    </tr>\n",
       "    <tr>\n",
       "      <th>12590</th>\n",
       "      <td>896933</td>\n",
       "      <td>2020-04-22</td>\n",
       "      <td>MEPOLIZUMAB POLVO INYECTABLE 100MG (NUCALA) -2...</td>\n",
       "      <td>MEPOLIZUMAB</td>\n",
       "      <td>1</td>\n",
       "    </tr>\n",
       "    <tr>\n",
       "      <th>12591</th>\n",
       "      <td>896933</td>\n",
       "      <td>2020-02-25</td>\n",
       "      <td>MEPOLIZUMAB POLVO INYECTABLE 100MG (NUCALA) -2...</td>\n",
       "      <td>MEPOLIZUMAB</td>\n",
       "      <td>1</td>\n",
       "    </tr>\n",
       "    <tr>\n",
       "      <th>12592</th>\n",
       "      <td>1209144</td>\n",
       "      <td>2020-02-27</td>\n",
       "      <td>MEPOLIZUMAB POLVO INYECTABLE 100MG (NUCALA) -2...</td>\n",
       "      <td>MEPOLIZUMAB</td>\n",
       "      <td>1</td>\n",
       "    </tr>\n",
       "    <tr>\n",
       "      <th>12593</th>\n",
       "      <td>1346990</td>\n",
       "      <td>2019-10-30</td>\n",
       "      <td>OMALIZUMAB SOLUCIÓN INYECTABLE 150MG /1ML (XOL...</td>\n",
       "      <td>OMALIZUMAB</td>\n",
       "      <td>2</td>\n",
       "    </tr>\n",
       "  </tbody>\n",
       "</table>\n",
       "<p>12594 rows × 5 columns</p>\n",
       "</div>"
      ],
      "text/plain": [
       "       id_paciente fecha_dcto  \\\n",
       "0          1853167 2019-08-02   \n",
       "1           695889 2019-07-31   \n",
       "2          1534187 2019-01-05   \n",
       "3          1831103 2018-12-03   \n",
       "4          1831103 2019-01-03   \n",
       "...            ...        ...   \n",
       "12589      1209144 2020-04-22   \n",
       "12590       896933 2020-04-22   \n",
       "12591       896933 2020-02-25   \n",
       "12592      1209144 2020-02-27   \n",
       "12593      1346990 2019-10-30   \n",
       "\n",
       "                                          nombreprodmvto nombregenerico  \\\n",
       "0         OMALIZUMAB 150 MG POLV INY (XOLAIR)-21755-4896     OMALIZUMAB   \n",
       "1         OMALIZUMAB 150 MG POLV INY (XOLAIR)-21755-4896     OMALIZUMAB   \n",
       "2      OMALIZUMAB SOLUCIÓN INYECTABLE 150MG /1ML (XOL...     OMALIZUMAB   \n",
       "3      OMALIZUMAB SOLUCIÓN INYECTABLE 150MG /1ML (XOL...     OMALIZUMAB   \n",
       "4      OMALIZUMAB SOLUCIÓN INYECTABLE 150MG /1ML (XOL...     OMALIZUMAB   \n",
       "...                                                  ...            ...   \n",
       "12589  MEPOLIZUMAB POLVO INYECTABLE 100MG (NUCALA) -2...    MEPOLIZUMAB   \n",
       "12590  MEPOLIZUMAB POLVO INYECTABLE 100MG (NUCALA) -2...    MEPOLIZUMAB   \n",
       "12591  MEPOLIZUMAB POLVO INYECTABLE 100MG (NUCALA) -2...    MEPOLIZUMAB   \n",
       "12592  MEPOLIZUMAB POLVO INYECTABLE 100MG (NUCALA) -2...    MEPOLIZUMAB   \n",
       "12593  OMALIZUMAB SOLUCIÓN INYECTABLE 150MG /1ML (XOL...     OMALIZUMAB   \n",
       "\n",
       "       cantidad  \n",
       "0             2  \n",
       "1             2  \n",
       "2             4  \n",
       "3             3  \n",
       "4             3  \n",
       "...         ...  \n",
       "12589         1  \n",
       "12590         1  \n",
       "12591         1  \n",
       "12592         1  \n",
       "12593         2  \n",
       "\n",
       "[12594 rows x 5 columns]"
      ]
     },
     "execution_count": 6,
     "metadata": {},
     "output_type": "execute_result"
    }
   ],
   "source": [
    "Biological_Md"
   ]
  },
  {
   "cell_type": "code",
   "execution_count": 7,
   "metadata": {},
   "outputs": [
    {
     "name": "stdout",
     "output_type": "stream",
     "text": [
      "Medical prescription: ['OMALIZUMAB 150 MG POLV INY (XOLAIR)-21755-4896'\n",
      " 'OMALIZUMAB SOLUCIÓN INYECTABLE 150MG /1ML (XOLAIR)-29140'\n",
      " 'OMALIZUMAB SOLUCIÓN INYECTABLE 75MG /0.5ML (XOLAIR) -29157'\n",
      " 'BENRALIZUMAB 30MG JERINGA PRELLENA (FASENRA) -29551'\n",
      " 'MEPOLIZUMAB POLVO INYECTABLE 100MG (NUCALA) -29631'\n",
      " 'DUPILUMAB 200MG/1.14 ML JERINGA PRELLENA (DUPIXENT) -29751' '1'] 7\n",
      "Generic Name: ['OMALIZUMAB' 'BENRALIZUMAB' 'MEPOLIZUMAB' 'DUPILUMAB']\n"
     ]
    }
   ],
   "source": [
    "print('Medical prescription:', Biological_Md['nombreprodmvto'].unique(), len(Biological_Md['nombreprodmvto'].unique()))\n",
    "print('Generic Name:',Biological_Md['nombregenerico'].unique() )"
   ]
  },
  {
   "cell_type": "code",
   "execution_count": 8,
   "metadata": {},
   "outputs": [
    {
     "data": {
      "text/plain": [
       "137"
      ]
     },
     "execution_count": 8,
     "metadata": {},
     "output_type": "execute_result"
    }
   ],
   "source": [
    "Biological_Md.duplicated().sum()"
   ]
  },
  {
   "cell_type": "code",
   "execution_count": 9,
   "metadata": {},
   "outputs": [
    {
     "data": {
      "text/html": [
       "<div>\n",
       "<style scoped>\n",
       "    .dataframe tbody tr th:only-of-type {\n",
       "        vertical-align: middle;\n",
       "    }\n",
       "\n",
       "    .dataframe tbody tr th {\n",
       "        vertical-align: top;\n",
       "    }\n",
       "\n",
       "    .dataframe thead th {\n",
       "        text-align: right;\n",
       "    }\n",
       "</style>\n",
       "<table border=\"1\" class=\"dataframe\">\n",
       "  <thead>\n",
       "    <tr style=\"text-align: right;\">\n",
       "      <th></th>\n",
       "      <th>id_paciente</th>\n",
       "      <th>fecha_dcto</th>\n",
       "      <th>nombreprodmvto</th>\n",
       "      <th>nombregenerico</th>\n",
       "      <th>cantidad</th>\n",
       "    </tr>\n",
       "  </thead>\n",
       "  <tbody>\n",
       "    <tr>\n",
       "      <th>3820</th>\n",
       "      <td>1133201</td>\n",
       "      <td>2016-11-08</td>\n",
       "      <td>OMALIZUMAB 150 MG POLV INY (XOLAIR)-21755-4896</td>\n",
       "      <td>OMALIZUMAB</td>\n",
       "      <td>1</td>\n",
       "    </tr>\n",
       "    <tr>\n",
       "      <th>3819</th>\n",
       "      <td>1133201</td>\n",
       "      <td>2016-11-08</td>\n",
       "      <td>OMALIZUMAB 150 MG POLV INY (XOLAIR)-21755-4896</td>\n",
       "      <td>OMALIZUMAB</td>\n",
       "      <td>1</td>\n",
       "    </tr>\n",
       "    <tr>\n",
       "      <th>3821</th>\n",
       "      <td>1439545</td>\n",
       "      <td>2016-11-10</td>\n",
       "      <td>OMALIZUMAB 150 MG POLV INY (XOLAIR)-21755-4896</td>\n",
       "      <td>OMALIZUMAB</td>\n",
       "      <td>2</td>\n",
       "    </tr>\n",
       "    <tr>\n",
       "      <th>6759</th>\n",
       "      <td>773485</td>\n",
       "      <td>2016-11-10</td>\n",
       "      <td>OMALIZUMAB 150 MG POLV INY (XOLAIR)-21755-4896</td>\n",
       "      <td>OMALIZUMAB</td>\n",
       "      <td>1</td>\n",
       "    </tr>\n",
       "    <tr>\n",
       "      <th>3883</th>\n",
       "      <td>1671179</td>\n",
       "      <td>2016-11-16</td>\n",
       "      <td>OMALIZUMAB 150 MG POLV INY (XOLAIR)-21755-4896</td>\n",
       "      <td>OMALIZUMAB</td>\n",
       "      <td>4</td>\n",
       "    </tr>\n",
       "    <tr>\n",
       "      <th>...</th>\n",
       "      <td>...</td>\n",
       "      <td>...</td>\n",
       "      <td>...</td>\n",
       "      <td>...</td>\n",
       "      <td>...</td>\n",
       "    </tr>\n",
       "    <tr>\n",
       "      <th>9179</th>\n",
       "      <td>1629016</td>\n",
       "      <td>2020-05-30</td>\n",
       "      <td>OMALIZUMAB SOLUCIÓN INYECTABLE 150MG /1ML (XOL...</td>\n",
       "      <td>OMALIZUMAB</td>\n",
       "      <td>-3</td>\n",
       "    </tr>\n",
       "    <tr>\n",
       "      <th>7522</th>\n",
       "      <td>1516087</td>\n",
       "      <td>2020-05-30</td>\n",
       "      <td>OMALIZUMAB SOLUCIÓN INYECTABLE 150MG /1ML (XOL...</td>\n",
       "      <td>OMALIZUMAB</td>\n",
       "      <td>2</td>\n",
       "    </tr>\n",
       "    <tr>\n",
       "      <th>7672</th>\n",
       "      <td>1715065</td>\n",
       "      <td>2020-05-30</td>\n",
       "      <td>OMALIZUMAB SOLUCIÓN INYECTABLE 150MG /1ML (XOL...</td>\n",
       "      <td>OMALIZUMAB</td>\n",
       "      <td>1</td>\n",
       "    </tr>\n",
       "    <tr>\n",
       "      <th>7502</th>\n",
       "      <td>979331</td>\n",
       "      <td>2020-05-30</td>\n",
       "      <td>OMALIZUMAB SOLUCIÓN INYECTABLE 150MG /1ML (XOL...</td>\n",
       "      <td>OMALIZUMAB</td>\n",
       "      <td>2</td>\n",
       "    </tr>\n",
       "    <tr>\n",
       "      <th>8121</th>\n",
       "      <td>1877468</td>\n",
       "      <td>2020-05-30</td>\n",
       "      <td>OMALIZUMAB SOLUCIÓN INYECTABLE 75MG /0.5ML (XO...</td>\n",
       "      <td>OMALIZUMAB</td>\n",
       "      <td>1</td>\n",
       "    </tr>\n",
       "  </tbody>\n",
       "</table>\n",
       "<p>12594 rows × 5 columns</p>\n",
       "</div>"
      ],
      "text/plain": [
       "      id_paciente fecha_dcto  \\\n",
       "3820      1133201 2016-11-08   \n",
       "3819      1133201 2016-11-08   \n",
       "3821      1439545 2016-11-10   \n",
       "6759       773485 2016-11-10   \n",
       "3883      1671179 2016-11-16   \n",
       "...           ...        ...   \n",
       "9179      1629016 2020-05-30   \n",
       "7522      1516087 2020-05-30   \n",
       "7672      1715065 2020-05-30   \n",
       "7502       979331 2020-05-30   \n",
       "8121      1877468 2020-05-30   \n",
       "\n",
       "                                         nombreprodmvto nombregenerico  \\\n",
       "3820     OMALIZUMAB 150 MG POLV INY (XOLAIR)-21755-4896     OMALIZUMAB   \n",
       "3819     OMALIZUMAB 150 MG POLV INY (XOLAIR)-21755-4896     OMALIZUMAB   \n",
       "3821     OMALIZUMAB 150 MG POLV INY (XOLAIR)-21755-4896     OMALIZUMAB   \n",
       "6759     OMALIZUMAB 150 MG POLV INY (XOLAIR)-21755-4896     OMALIZUMAB   \n",
       "3883     OMALIZUMAB 150 MG POLV INY (XOLAIR)-21755-4896     OMALIZUMAB   \n",
       "...                                                 ...            ...   \n",
       "9179  OMALIZUMAB SOLUCIÓN INYECTABLE 150MG /1ML (XOL...     OMALIZUMAB   \n",
       "7522  OMALIZUMAB SOLUCIÓN INYECTABLE 150MG /1ML (XOL...     OMALIZUMAB   \n",
       "7672  OMALIZUMAB SOLUCIÓN INYECTABLE 150MG /1ML (XOL...     OMALIZUMAB   \n",
       "7502  OMALIZUMAB SOLUCIÓN INYECTABLE 150MG /1ML (XOL...     OMALIZUMAB   \n",
       "8121  OMALIZUMAB SOLUCIÓN INYECTABLE 75MG /0.5ML (XO...     OMALIZUMAB   \n",
       "\n",
       "      cantidad  \n",
       "3820         1  \n",
       "3819         1  \n",
       "3821         2  \n",
       "6759         1  \n",
       "3883         4  \n",
       "...        ...  \n",
       "9179        -3  \n",
       "7522         2  \n",
       "7672         1  \n",
       "7502         2  \n",
       "8121         1  \n",
       "\n",
       "[12594 rows x 5 columns]"
      ]
     },
     "execution_count": 9,
     "metadata": {},
     "output_type": "execute_result"
    }
   ],
   "source": [
    "Biological_Md.sort_values(by=('fecha_dcto'))"
   ]
  },
  {
   "cell_type": "code",
   "execution_count": 10,
   "metadata": {},
   "outputs": [],
   "source": [
    "#drop values less than zero\n",
    "Biological_Md1 = Biological_Md.drop(Biological_Md[Biological_Md['cantidad']<0].index)"
   ]
  },
  {
   "cell_type": "code",
   "execution_count": 11,
   "metadata": {},
   "outputs": [
    {
     "name": "stdout",
     "output_type": "stream",
     "text": [
      "<class 'pandas.core.frame.DataFrame'>\n",
      "Int64Index: 12154 entries, 0 to 12593\n",
      "Data columns (total 5 columns):\n",
      " #   Column          Non-Null Count  Dtype         \n",
      "---  ------          --------------  -----         \n",
      " 0   id_paciente     12154 non-null  int64         \n",
      " 1   fecha_dcto      12154 non-null  datetime64[ns]\n",
      " 2   nombreprodmvto  12154 non-null  object        \n",
      " 3   nombregenerico  12154 non-null  object        \n",
      " 4   cantidad        12154 non-null  int64         \n",
      "dtypes: datetime64[ns](1), int64(2), object(2)\n",
      "memory usage: 569.7+ KB\n",
      "828\n"
     ]
    }
   ],
   "source": [
    "Biological_Md1.info()\n",
    "print(len(Biological_Md1.id_paciente.unique()))"
   ]
  },
  {
   "cell_type": "code",
   "execution_count": 12,
   "metadata": {},
   "outputs": [
    {
     "data": {
      "text/plain": [
       "[array(['OMALIZUMAB', 'BENRALIZUMAB', 'MEPOLIZUMAB', 'DUPILUMAB'],\n",
       "       dtype=object)]"
      ]
     },
     "execution_count": 12,
     "metadata": {},
     "output_type": "execute_result"
    }
   ],
   "source": [
    "medicines =[Biological_Md1['nombregenerico'].unique()]\n",
    "medicines"
   ]
  },
  {
   "cell_type": "code",
   "execution_count": 13,
   "metadata": {
    "scrolled": true
   },
   "outputs": [
    {
     "name": "stdout",
     "output_type": "stream",
     "text": [
      "OMALIZUMAB      11700\n",
      "BENRALIZUMAB      427\n",
      "DUPILUMAB         287\n",
      "MEPOLIZUMAB       180\n",
      "Name: nombregenerico, dtype: int64\n"
     ]
    }
   ],
   "source": [
    "Bio_df = Biological_Md1.groupby(['id_paciente','nombregenerico','fecha_dcto']).agg({'cantidad':'sum'}).reset_index()\n",
    "\n",
    "print(Biological_Md['nombregenerico'].value_counts())"
   ]
  },
  {
   "cell_type": "code",
   "execution_count": 14,
   "metadata": {},
   "outputs": [
    {
     "data": {
      "text/plain": [
       "OMALIZUMAB SOLUCIÓN INYECTABLE 150MG /1ML (XOLAIR)-29140      8624\n",
       "OMALIZUMAB 150 MG POLV INY (XOLAIR)-21755-4896                1834\n",
       "OMALIZUMAB SOLUCIÓN INYECTABLE 75MG /0.5ML (XOLAIR) -29157     824\n",
       "BENRALIZUMAB 30MG JERINGA PRELLENA (FASENRA) -29551            414\n",
       "DUPILUMAB 200MG/1.14 ML JERINGA PRELLENA (DUPIXENT) -29751     281\n",
       "MEPOLIZUMAB POLVO INYECTABLE 100MG (NUCALA) -29631             177\n",
       "Name: nombreprodmvto, dtype: int64"
      ]
     },
     "execution_count": 14,
     "metadata": {},
     "output_type": "execute_result"
    }
   ],
   "source": [
    "Biological_Md1['nombreprodmvto'].value_counts()"
   ]
  },
  {
   "cell_type": "code",
   "execution_count": 15,
   "metadata": {},
   "outputs": [
    {
     "data": {
      "text/html": [
       "<div>\n",
       "<style scoped>\n",
       "    .dataframe tbody tr th:only-of-type {\n",
       "        vertical-align: middle;\n",
       "    }\n",
       "\n",
       "    .dataframe tbody tr th {\n",
       "        vertical-align: top;\n",
       "    }\n",
       "\n",
       "    .dataframe thead th {\n",
       "        text-align: right;\n",
       "    }\n",
       "</style>\n",
       "<table border=\"1\" class=\"dataframe\">\n",
       "  <thead>\n",
       "    <tr style=\"text-align: right;\">\n",
       "      <th></th>\n",
       "      <th>id_paciente</th>\n",
       "      <th>nombregenerico</th>\n",
       "      <th>fecha_dcto</th>\n",
       "      <th>cantidad</th>\n",
       "    </tr>\n",
       "  </thead>\n",
       "  <tbody>\n",
       "    <tr>\n",
       "      <th>2</th>\n",
       "      <td>500588</td>\n",
       "      <td>OMALIZUMAB</td>\n",
       "      <td>2018-01-04</td>\n",
       "      <td>3</td>\n",
       "    </tr>\n",
       "    <tr>\n",
       "      <th>3</th>\n",
       "      <td>500588</td>\n",
       "      <td>OMALIZUMAB</td>\n",
       "      <td>2018-01-18</td>\n",
       "      <td>3</td>\n",
       "    </tr>\n",
       "    <tr>\n",
       "      <th>4</th>\n",
       "      <td>500588</td>\n",
       "      <td>OMALIZUMAB</td>\n",
       "      <td>2018-01-30</td>\n",
       "      <td>3</td>\n",
       "    </tr>\n",
       "    <tr>\n",
       "      <th>5</th>\n",
       "      <td>500588</td>\n",
       "      <td>OMALIZUMAB</td>\n",
       "      <td>2018-02-10</td>\n",
       "      <td>3</td>\n",
       "    </tr>\n",
       "    <tr>\n",
       "      <th>6</th>\n",
       "      <td>500588</td>\n",
       "      <td>OMALIZUMAB</td>\n",
       "      <td>2018-02-24</td>\n",
       "      <td>3</td>\n",
       "    </tr>\n",
       "    <tr>\n",
       "      <th>...</th>\n",
       "      <td>...</td>\n",
       "      <td>...</td>\n",
       "      <td>...</td>\n",
       "      <td>...</td>\n",
       "    </tr>\n",
       "    <tr>\n",
       "      <th>11308</th>\n",
       "      <td>1999629</td>\n",
       "      <td>OMALIZUMAB</td>\n",
       "      <td>2019-08-09</td>\n",
       "      <td>2</td>\n",
       "    </tr>\n",
       "    <tr>\n",
       "      <th>11309</th>\n",
       "      <td>1999629</td>\n",
       "      <td>OMALIZUMAB</td>\n",
       "      <td>2019-09-06</td>\n",
       "      <td>2</td>\n",
       "    </tr>\n",
       "    <tr>\n",
       "      <th>11310</th>\n",
       "      <td>1999629</td>\n",
       "      <td>OMALIZUMAB</td>\n",
       "      <td>2019-10-23</td>\n",
       "      <td>2</td>\n",
       "    </tr>\n",
       "    <tr>\n",
       "      <th>11311</th>\n",
       "      <td>1999629</td>\n",
       "      <td>OMALIZUMAB</td>\n",
       "      <td>2019-11-25</td>\n",
       "      <td>2</td>\n",
       "    </tr>\n",
       "    <tr>\n",
       "      <th>11312</th>\n",
       "      <td>1999629</td>\n",
       "      <td>OMALIZUMAB</td>\n",
       "      <td>2020-01-07</td>\n",
       "      <td>2</td>\n",
       "    </tr>\n",
       "  </tbody>\n",
       "</table>\n",
       "<p>10485 rows × 4 columns</p>\n",
       "</div>"
      ],
      "text/plain": [
       "       id_paciente nombregenerico fecha_dcto  cantidad\n",
       "2           500588     OMALIZUMAB 2018-01-04         3\n",
       "3           500588     OMALIZUMAB 2018-01-18         3\n",
       "4           500588     OMALIZUMAB 2018-01-30         3\n",
       "5           500588     OMALIZUMAB 2018-02-10         3\n",
       "6           500588     OMALIZUMAB 2018-02-24         3\n",
       "...            ...            ...        ...       ...\n",
       "11308      1999629     OMALIZUMAB 2019-08-09         2\n",
       "11309      1999629     OMALIZUMAB 2019-09-06         2\n",
       "11310      1999629     OMALIZUMAB 2019-10-23         2\n",
       "11311      1999629     OMALIZUMAB 2019-11-25         2\n",
       "11312      1999629     OMALIZUMAB 2020-01-07         2\n",
       "\n",
       "[10485 rows x 4 columns]"
      ]
     },
     "execution_count": 15,
     "metadata": {},
     "output_type": "execute_result"
    }
   ],
   "source": [
    "Bio_df[Bio_df.duplicated('id_paciente')]\n"
   ]
  },
  {
   "cell_type": "code",
   "execution_count": 16,
   "metadata": {},
   "outputs": [
    {
     "data": {
      "text/html": [
       "<div>\n",
       "<style scoped>\n",
       "    .dataframe tbody tr th:only-of-type {\n",
       "        vertical-align: middle;\n",
       "    }\n",
       "\n",
       "    .dataframe tbody tr th {\n",
       "        vertical-align: top;\n",
       "    }\n",
       "\n",
       "    .dataframe thead th {\n",
       "        text-align: right;\n",
       "    }\n",
       "</style>\n",
       "<table border=\"1\" class=\"dataframe\">\n",
       "  <thead>\n",
       "    <tr style=\"text-align: right;\">\n",
       "      <th></th>\n",
       "      <th>id_paciente</th>\n",
       "      <th>nombregenerico</th>\n",
       "      <th>fecha_dcto</th>\n",
       "      <th>cantidad</th>\n",
       "    </tr>\n",
       "  </thead>\n",
       "  <tbody>\n",
       "    <tr>\n",
       "      <th>131</th>\n",
       "      <td>525295</td>\n",
       "      <td>BENRALIZUMAB</td>\n",
       "      <td>2019-09-24</td>\n",
       "      <td>1</td>\n",
       "    </tr>\n",
       "    <tr>\n",
       "      <th>132</th>\n",
       "      <td>525295</td>\n",
       "      <td>BENRALIZUMAB</td>\n",
       "      <td>2019-10-22</td>\n",
       "      <td>1</td>\n",
       "    </tr>\n",
       "    <tr>\n",
       "      <th>133</th>\n",
       "      <td>525295</td>\n",
       "      <td>BENRALIZUMAB</td>\n",
       "      <td>2019-11-22</td>\n",
       "      <td>1</td>\n",
       "    </tr>\n",
       "    <tr>\n",
       "      <th>134</th>\n",
       "      <td>525295</td>\n",
       "      <td>BENRALIZUMAB</td>\n",
       "      <td>2020-01-22</td>\n",
       "      <td>1</td>\n",
       "    </tr>\n",
       "    <tr>\n",
       "      <th>135</th>\n",
       "      <td>525295</td>\n",
       "      <td>BENRALIZUMAB</td>\n",
       "      <td>2020-03-21</td>\n",
       "      <td>1</td>\n",
       "    </tr>\n",
       "    <tr>\n",
       "      <th>136</th>\n",
       "      <td>525295</td>\n",
       "      <td>BENRALIZUMAB</td>\n",
       "      <td>2020-05-18</td>\n",
       "      <td>1</td>\n",
       "    </tr>\n",
       "    <tr>\n",
       "      <th>137</th>\n",
       "      <td>525295</td>\n",
       "      <td>OMALIZUMAB</td>\n",
       "      <td>2019-06-11</td>\n",
       "      <td>2</td>\n",
       "    </tr>\n",
       "    <tr>\n",
       "      <th>138</th>\n",
       "      <td>525295</td>\n",
       "      <td>OMALIZUMAB</td>\n",
       "      <td>2019-06-25</td>\n",
       "      <td>2</td>\n",
       "    </tr>\n",
       "    <tr>\n",
       "      <th>139</th>\n",
       "      <td>525295</td>\n",
       "      <td>OMALIZUMAB</td>\n",
       "      <td>2019-07-09</td>\n",
       "      <td>2</td>\n",
       "    </tr>\n",
       "    <tr>\n",
       "      <th>140</th>\n",
       "      <td>525295</td>\n",
       "      <td>OMALIZUMAB</td>\n",
       "      <td>2019-07-23</td>\n",
       "      <td>2</td>\n",
       "    </tr>\n",
       "    <tr>\n",
       "      <th>141</th>\n",
       "      <td>525295</td>\n",
       "      <td>OMALIZUMAB</td>\n",
       "      <td>2019-08-06</td>\n",
       "      <td>2</td>\n",
       "    </tr>\n",
       "    <tr>\n",
       "      <th>142</th>\n",
       "      <td>525295</td>\n",
       "      <td>OMALIZUMAB</td>\n",
       "      <td>2019-08-20</td>\n",
       "      <td>2</td>\n",
       "    </tr>\n",
       "    <tr>\n",
       "      <th>143</th>\n",
       "      <td>525295</td>\n",
       "      <td>OMALIZUMAB</td>\n",
       "      <td>2019-09-24</td>\n",
       "      <td>4</td>\n",
       "    </tr>\n",
       "    <tr>\n",
       "      <th>144</th>\n",
       "      <td>525295</td>\n",
       "      <td>OMALIZUMAB</td>\n",
       "      <td>2019-10-05</td>\n",
       "      <td>4</td>\n",
       "    </tr>\n",
       "    <tr>\n",
       "      <th>145</th>\n",
       "      <td>525295</td>\n",
       "      <td>OMALIZUMAB</td>\n",
       "      <td>2019-10-11</td>\n",
       "      <td>4</td>\n",
       "    </tr>\n",
       "  </tbody>\n",
       "</table>\n",
       "</div>"
      ],
      "text/plain": [
       "     id_paciente nombregenerico fecha_dcto  cantidad\n",
       "131       525295   BENRALIZUMAB 2019-09-24         1\n",
       "132       525295   BENRALIZUMAB 2019-10-22         1\n",
       "133       525295   BENRALIZUMAB 2019-11-22         1\n",
       "134       525295   BENRALIZUMAB 2020-01-22         1\n",
       "135       525295   BENRALIZUMAB 2020-03-21         1\n",
       "136       525295   BENRALIZUMAB 2020-05-18         1\n",
       "137       525295     OMALIZUMAB 2019-06-11         2\n",
       "138       525295     OMALIZUMAB 2019-06-25         2\n",
       "139       525295     OMALIZUMAB 2019-07-09         2\n",
       "140       525295     OMALIZUMAB 2019-07-23         2\n",
       "141       525295     OMALIZUMAB 2019-08-06         2\n",
       "142       525295     OMALIZUMAB 2019-08-20         2\n",
       "143       525295     OMALIZUMAB 2019-09-24         4\n",
       "144       525295     OMALIZUMAB 2019-10-05         4\n",
       "145       525295     OMALIZUMAB 2019-10-11         4"
      ]
     },
     "execution_count": 16,
     "metadata": {},
     "output_type": "execute_result"
    }
   ],
   "source": [
    "Bio_df[Bio_df['id_paciente'] == 525295]"
   ]
  },
  {
   "cell_type": "code",
   "execution_count": 17,
   "metadata": {
    "scrolled": true
   },
   "outputs": [
    {
     "data": {
      "text/plain": [
       "Text(0.5, 0, 'Medicines')"
      ]
     },
     "execution_count": 17,
     "metadata": {},
     "output_type": "execute_result"
    },
    {
     "data": {
      "image/png": "[encoded data removed]",
      "text/plain": [
       "<Figure size 432x288 with 1 Axes>"
      ]
     },
     "metadata": {
      "needs_background": "light"
     },
     "output_type": "display_data"
    }
   ],
   "source": [
    "plt.hist(Bio_df['nombregenerico'])\n",
    "plt.title('Biological Medicines for severe Asthma ')\n",
    "plt.ylabel('Patients')\n",
    "plt.xlabel('Medicines')"
   ]
  },
  {
   "cell_type": "code",
   "execution_count": 18,
   "metadata": {},
   "outputs": [
    {
     "data": {
      "text/html": [
       "<div>\n",
       "<style scoped>\n",
       "    .dataframe tbody tr th:only-of-type {\n",
       "        vertical-align: middle;\n",
       "    }\n",
       "\n",
       "    .dataframe tbody tr th {\n",
       "        vertical-align: top;\n",
       "    }\n",
       "\n",
       "    .dataframe thead th {\n",
       "        text-align: right;\n",
       "    }\n",
       "</style>\n",
       "<table border=\"1\" class=\"dataframe\">\n",
       "  <thead>\n",
       "    <tr style=\"text-align: right;\">\n",
       "      <th></th>\n",
       "      <th>id_paciente</th>\n",
       "      <th>nombregenerico</th>\n",
       "      <th>fecha_dcto</th>\n",
       "      <th>cantidad</th>\n",
       "    </tr>\n",
       "  </thead>\n",
       "  <tbody>\n",
       "    <tr>\n",
       "      <th>0</th>\n",
       "      <td>500547</td>\n",
       "      <td>OMALIZUMAB</td>\n",
       "      <td>2019-07-13</td>\n",
       "      <td>2</td>\n",
       "    </tr>\n",
       "    <tr>\n",
       "      <th>1</th>\n",
       "      <td>500588</td>\n",
       "      <td>OMALIZUMAB</td>\n",
       "      <td>2017-12-07</td>\n",
       "      <td>3</td>\n",
       "    </tr>\n",
       "    <tr>\n",
       "      <th>2</th>\n",
       "      <td>500588</td>\n",
       "      <td>OMALIZUMAB</td>\n",
       "      <td>2018-01-04</td>\n",
       "      <td>3</td>\n",
       "    </tr>\n",
       "    <tr>\n",
       "      <th>3</th>\n",
       "      <td>500588</td>\n",
       "      <td>OMALIZUMAB</td>\n",
       "      <td>2018-01-18</td>\n",
       "      <td>3</td>\n",
       "    </tr>\n",
       "    <tr>\n",
       "      <th>4</th>\n",
       "      <td>500588</td>\n",
       "      <td>OMALIZUMAB</td>\n",
       "      <td>2018-01-30</td>\n",
       "      <td>3</td>\n",
       "    </tr>\n",
       "    <tr>\n",
       "      <th>...</th>\n",
       "      <td>...</td>\n",
       "      <td>...</td>\n",
       "      <td>...</td>\n",
       "      <td>...</td>\n",
       "    </tr>\n",
       "    <tr>\n",
       "      <th>11308</th>\n",
       "      <td>1999629</td>\n",
       "      <td>OMALIZUMAB</td>\n",
       "      <td>2019-08-09</td>\n",
       "      <td>2</td>\n",
       "    </tr>\n",
       "    <tr>\n",
       "      <th>11309</th>\n",
       "      <td>1999629</td>\n",
       "      <td>OMALIZUMAB</td>\n",
       "      <td>2019-09-06</td>\n",
       "      <td>2</td>\n",
       "    </tr>\n",
       "    <tr>\n",
       "      <th>11310</th>\n",
       "      <td>1999629</td>\n",
       "      <td>OMALIZUMAB</td>\n",
       "      <td>2019-10-23</td>\n",
       "      <td>2</td>\n",
       "    </tr>\n",
       "    <tr>\n",
       "      <th>11311</th>\n",
       "      <td>1999629</td>\n",
       "      <td>OMALIZUMAB</td>\n",
       "      <td>2019-11-25</td>\n",
       "      <td>2</td>\n",
       "    </tr>\n",
       "    <tr>\n",
       "      <th>11312</th>\n",
       "      <td>1999629</td>\n",
       "      <td>OMALIZUMAB</td>\n",
       "      <td>2020-01-07</td>\n",
       "      <td>2</td>\n",
       "    </tr>\n",
       "  </tbody>\n",
       "</table>\n",
       "<p>11313 rows × 4 columns</p>\n",
       "</div>"
      ],
      "text/plain": [
       "       id_paciente nombregenerico fecha_dcto  cantidad\n",
       "0           500547     OMALIZUMAB 2019-07-13         2\n",
       "1           500588     OMALIZUMAB 2017-12-07         3\n",
       "2           500588     OMALIZUMAB 2018-01-04         3\n",
       "3           500588     OMALIZUMAB 2018-01-18         3\n",
       "4           500588     OMALIZUMAB 2018-01-30         3\n",
       "...            ...            ...        ...       ...\n",
       "11308      1999629     OMALIZUMAB 2019-08-09         2\n",
       "11309      1999629     OMALIZUMAB 2019-09-06         2\n",
       "11310      1999629     OMALIZUMAB 2019-10-23         2\n",
       "11311      1999629     OMALIZUMAB 2019-11-25         2\n",
       "11312      1999629     OMALIZUMAB 2020-01-07         2\n",
       "\n",
       "[11313 rows x 4 columns]"
      ]
     },
     "execution_count": 18,
     "metadata": {},
     "output_type": "execute_result"
    }
   ],
   "source": [
    "Bio_df"
   ]
  },
  {
   "cell_type": "code",
   "execution_count": 19,
   "metadata": {},
   "outputs": [
    {
     "data": {
      "text/html": [
       "<div>\n",
       "<style scoped>\n",
       "    .dataframe tbody tr th:only-of-type {\n",
       "        vertical-align: middle;\n",
       "    }\n",
       "\n",
       "    .dataframe tbody tr th {\n",
       "        vertical-align: top;\n",
       "    }\n",
       "\n",
       "    .dataframe thead th {\n",
       "        text-align: right;\n",
       "    }\n",
       "</style>\n",
       "<table border=\"1\" class=\"dataframe\">\n",
       "  <thead>\n",
       "    <tr style=\"text-align: right;\">\n",
       "      <th></th>\n",
       "      <th>nombreprodmvto</th>\n",
       "      <th>id_paciente</th>\n",
       "      <th>cantidad</th>\n",
       "    </tr>\n",
       "  </thead>\n",
       "  <tbody>\n",
       "    <tr>\n",
       "      <th>0</th>\n",
       "      <td>BENRALIZUMAB 30MG JERINGA PRELLENA (FASENRA) -...</td>\n",
       "      <td>414</td>\n",
       "      <td>416</td>\n",
       "    </tr>\n",
       "    <tr>\n",
       "      <th>1</th>\n",
       "      <td>DUPILUMAB 200MG/1.14 ML JERINGA PRELLENA (DUPI...</td>\n",
       "      <td>281</td>\n",
       "      <td>318</td>\n",
       "    </tr>\n",
       "    <tr>\n",
       "      <th>2</th>\n",
       "      <td>MEPOLIZUMAB POLVO INYECTABLE 100MG (NUCALA) -2...</td>\n",
       "      <td>177</td>\n",
       "      <td>177</td>\n",
       "    </tr>\n",
       "    <tr>\n",
       "      <th>3</th>\n",
       "      <td>OMALIZUMAB 150 MG POLV INY (XOLAIR)-21755-4896</td>\n",
       "      <td>1834</td>\n",
       "      <td>4641</td>\n",
       "    </tr>\n",
       "    <tr>\n",
       "      <th>4</th>\n",
       "      <td>OMALIZUMAB SOLUCIÓN INYECTABLE 150MG /1ML (XOL...</td>\n",
       "      <td>8624</td>\n",
       "      <td>20633</td>\n",
       "    </tr>\n",
       "    <tr>\n",
       "      <th>5</th>\n",
       "      <td>OMALIZUMAB SOLUCIÓN INYECTABLE 75MG /0.5ML (XO...</td>\n",
       "      <td>824</td>\n",
       "      <td>824</td>\n",
       "    </tr>\n",
       "  </tbody>\n",
       "</table>\n",
       "</div>"
      ],
      "text/plain": [
       "                                      nombreprodmvto  id_paciente  cantidad\n",
       "0  BENRALIZUMAB 30MG JERINGA PRELLENA (FASENRA) -...          414       416\n",
       "1  DUPILUMAB 200MG/1.14 ML JERINGA PRELLENA (DUPI...          281       318\n",
       "2  MEPOLIZUMAB POLVO INYECTABLE 100MG (NUCALA) -2...          177       177\n",
       "3     OMALIZUMAB 150 MG POLV INY (XOLAIR)-21755-4896         1834      4641\n",
       "4  OMALIZUMAB SOLUCIÓN INYECTABLE 150MG /1ML (XOL...         8624     20633\n",
       "5  OMALIZUMAB SOLUCIÓN INYECTABLE 75MG /0.5ML (XO...          824       824"
      ]
     },
     "execution_count": 19,
     "metadata": {},
     "output_type": "execute_result"
    },
    {
     "data": {
      "image/png": "[encoded data removed]",
      "text/plain": [
       "<Figure size 792x432 with 1 Axes>"
      ]
     },
     "metadata": {
      "needs_background": "light"
     },
     "output_type": "display_data"
    }
   ],
   "source": [
    "bio2=Biological_Md1.groupby('nombreprodmvto').agg({'id_paciente':'count', 'cantidad':'sum'}).reset_index()\n",
    "bio2\n",
    "\n",
    "plt.figure(figsize=(11,6))\n",
    "sns.barplot(x='id_paciente', y='nombreprodmvto', data=bio2, orient='h' )\n",
    "plt.xlabel('Pacientes tratados')\n",
    "plt.ylabel('Nombre del producto')\n",
    "\n",
    "bio2"
   ]
  },
  {
   "cell_type": "code",
   "execution_count": 20,
   "metadata": {},
   "outputs": [
    {
     "data": {
      "text/html": [
       "<div>\n",
       "<style scoped>\n",
       "    .dataframe tbody tr th:only-of-type {\n",
       "        vertical-align: middle;\n",
       "    }\n",
       "\n",
       "    .dataframe tbody tr th {\n",
       "        vertical-align: top;\n",
       "    }\n",
       "\n",
       "    .dataframe thead th {\n",
       "        text-align: right;\n",
       "    }\n",
       "</style>\n",
       "<table border=\"1\" class=\"dataframe\">\n",
       "  <thead>\n",
       "    <tr style=\"text-align: right;\">\n",
       "      <th></th>\n",
       "      <th>index</th>\n",
       "      <th>nombregenerico</th>\n",
       "      <th>cantidad</th>\n",
       "    </tr>\n",
       "  </thead>\n",
       "  <tbody>\n",
       "    <tr>\n",
       "      <th>0</th>\n",
       "      <td>3</td>\n",
       "      <td>OMALIZUMAB</td>\n",
       "      <td>26098</td>\n",
       "    </tr>\n",
       "    <tr>\n",
       "      <th>1</th>\n",
       "      <td>0</td>\n",
       "      <td>BENRALIZUMAB</td>\n",
       "      <td>416</td>\n",
       "    </tr>\n",
       "    <tr>\n",
       "      <th>2</th>\n",
       "      <td>1</td>\n",
       "      <td>DUPILUMAB</td>\n",
       "      <td>318</td>\n",
       "    </tr>\n",
       "    <tr>\n",
       "      <th>3</th>\n",
       "      <td>2</td>\n",
       "      <td>MEPOLIZUMAB</td>\n",
       "      <td>177</td>\n",
       "    </tr>\n",
       "  </tbody>\n",
       "</table>\n",
       "</div>"
      ],
      "text/plain": [
       "   index nombregenerico  cantidad\n",
       "0      3     OMALIZUMAB     26098\n",
       "1      0   BENRALIZUMAB       416\n",
       "2      1      DUPILUMAB       318\n",
       "3      2    MEPOLIZUMAB       177"
      ]
     },
     "execution_count": 20,
     "metadata": {},
     "output_type": "execute_result"
    }
   ],
   "source": [
    "Biological_Md1.sort_values(by='fecha_dcto')\n",
    "bio3=Biological_Md1.groupby('nombregenerico').agg({'cantidad':'sum'}).reset_index()\n",
    "bio31=bio3.sort_values(by='cantidad', ascending=False).reset_index()\n",
    "bio31"
   ]
  },
  {
   "cell_type": "code",
   "execution_count": 21,
   "metadata": {},
   "outputs": [
    {
     "data": {
      "text/plain": [
       "Text(0, 0.5, 'Drug generic name ')"
      ]
     },
     "execution_count": 21,
     "metadata": {},
     "output_type": "execute_result"
    },
    {
     "data": {
      "image/png": "[encoded data removed]",
      "text/plain": [
       "<Figure size 720x360 with 1 Axes>"
      ]
     },
     "metadata": {
      "needs_background": "light"
     },
     "output_type": "display_data"
    }
   ],
   "source": [
    "plt.figure(figsize=(10,5))\n",
    "sns.barplot(x='cantidad', y='nombregenerico', data=bio31)\n",
    "plt.xlabel('Total dosis given')\n",
    "plt.ylabel('Drug generic name ')"
   ]
  },
  {
   "cell_type": "code",
   "execution_count": 22,
   "metadata": {},
   "outputs": [],
   "source": [
    "bio_y=Biological_Md1.copy()\n",
    "bio_y=bio_y.astype({'id_paciente':str})\n",
    "bio_y['fecha_año']=pd.to_datetime(bio_y['fecha_dcto'], infer_datetime_format=True).dt.strftime('%Y')"
   ]
  },
  {
   "cell_type": "code",
   "execution_count": 23,
   "metadata": {},
   "outputs": [
    {
     "data": {
      "text/html": [
       "<div>\n",
       "<style scoped>\n",
       "    .dataframe tbody tr th:only-of-type {\n",
       "        vertical-align: middle;\n",
       "    }\n",
       "\n",
       "    .dataframe tbody tr th {\n",
       "        vertical-align: top;\n",
       "    }\n",
       "\n",
       "    .dataframe thead th {\n",
       "        text-align: right;\n",
       "    }\n",
       "</style>\n",
       "<table border=\"1\" class=\"dataframe\">\n",
       "  <thead>\n",
       "    <tr style=\"text-align: right;\">\n",
       "      <th></th>\n",
       "      <th>fecha_año</th>\n",
       "      <th>nombregenerico</th>\n",
       "      <th>cantidad</th>\n",
       "    </tr>\n",
       "  </thead>\n",
       "  <tbody>\n",
       "    <tr>\n",
       "      <th>0</th>\n",
       "      <td>2016</td>\n",
       "      <td>OMALIZUMAB</td>\n",
       "      <td>25</td>\n",
       "    </tr>\n",
       "    <tr>\n",
       "      <th>1</th>\n",
       "      <td>2017</td>\n",
       "      <td>OMALIZUMAB</td>\n",
       "      <td>627</td>\n",
       "    </tr>\n",
       "    <tr>\n",
       "      <th>2</th>\n",
       "      <td>2018</td>\n",
       "      <td>OMALIZUMAB</td>\n",
       "      <td>11444</td>\n",
       "    </tr>\n",
       "    <tr>\n",
       "      <th>3</th>\n",
       "      <td>2019</td>\n",
       "      <td>BENRALIZUMAB</td>\n",
       "      <td>210</td>\n",
       "    </tr>\n",
       "    <tr>\n",
       "      <th>4</th>\n",
       "      <td>2019</td>\n",
       "      <td>DUPILUMAB</td>\n",
       "      <td>43</td>\n",
       "    </tr>\n",
       "    <tr>\n",
       "      <th>5</th>\n",
       "      <td>2019</td>\n",
       "      <td>MEPOLIZUMAB</td>\n",
       "      <td>76</td>\n",
       "    </tr>\n",
       "    <tr>\n",
       "      <th>6</th>\n",
       "      <td>2019</td>\n",
       "      <td>OMALIZUMAB</td>\n",
       "      <td>10716</td>\n",
       "    </tr>\n",
       "    <tr>\n",
       "      <th>7</th>\n",
       "      <td>2020</td>\n",
       "      <td>BENRALIZUMAB</td>\n",
       "      <td>206</td>\n",
       "    </tr>\n",
       "    <tr>\n",
       "      <th>8</th>\n",
       "      <td>2020</td>\n",
       "      <td>DUPILUMAB</td>\n",
       "      <td>275</td>\n",
       "    </tr>\n",
       "    <tr>\n",
       "      <th>9</th>\n",
       "      <td>2020</td>\n",
       "      <td>MEPOLIZUMAB</td>\n",
       "      <td>101</td>\n",
       "    </tr>\n",
       "    <tr>\n",
       "      <th>10</th>\n",
       "      <td>2020</td>\n",
       "      <td>OMALIZUMAB</td>\n",
       "      <td>3286</td>\n",
       "    </tr>\n",
       "  </tbody>\n",
       "</table>\n",
       "</div>"
      ],
      "text/plain": [
       "   fecha_año nombregenerico  cantidad\n",
       "0       2016     OMALIZUMAB        25\n",
       "1       2017     OMALIZUMAB       627\n",
       "2       2018     OMALIZUMAB     11444\n",
       "3       2019   BENRALIZUMAB       210\n",
       "4       2019      DUPILUMAB        43\n",
       "5       2019    MEPOLIZUMAB        76\n",
       "6       2019     OMALIZUMAB     10716\n",
       "7       2020   BENRALIZUMAB       206\n",
       "8       2020      DUPILUMAB       275\n",
       "9       2020    MEPOLIZUMAB       101\n",
       "10      2020     OMALIZUMAB      3286"
      ]
     },
     "execution_count": 23,
     "metadata": {},
     "output_type": "execute_result"
    }
   ],
   "source": [
    "bio_y1=bio_y.groupby(['fecha_año','nombregenerico']).sum().reset_index()\n",
    "bio_y1"
   ]
  },
  {
   "cell_type": "code",
   "execution_count": 24,
   "metadata": {},
   "outputs": [
    {
     "data": {
      "text/plain": [
       "Text(0.5, 1.0, 'Drugs used in the treatment')"
      ]
     },
     "execution_count": 24,
     "metadata": {},
     "output_type": "execute_result"
    },
    {
     "data": {
      "image/png": "[encoded data removed]",
      "text/plain": [
       "<Figure size 504x360 with 1 Axes>"
      ]
     },
     "metadata": {
      "needs_background": "light"
     },
     "output_type": "display_data"
    }
   ],
   "source": [
    "plt.figure(figsize=(7,5))\n",
    "sns.barplot(x='fecha_año', y='cantidad', hue='nombregenerico', data=bio_y1)\n",
    "plt.xlabel('Year')\n",
    "plt.ylabel('Given units')\n",
    "plt.title('Drugs used in the treatment')"
   ]
  },
  {
   "cell_type": "code",
   "execution_count": 25,
   "metadata": {},
   "outputs": [
    {
     "data": {
      "text/html": [
       "<div>\n",
       "<style scoped>\n",
       "    .dataframe tbody tr th:only-of-type {\n",
       "        vertical-align: middle;\n",
       "    }\n",
       "\n",
       "    .dataframe tbody tr th {\n",
       "        vertical-align: top;\n",
       "    }\n",
       "\n",
       "    .dataframe thead th {\n",
       "        text-align: right;\n",
       "    }\n",
       "</style>\n",
       "<table border=\"1\" class=\"dataframe\">\n",
       "  <thead>\n",
       "    <tr style=\"text-align: right;\">\n",
       "      <th></th>\n",
       "      <th>fecha_año</th>\n",
       "      <th>id_paciente</th>\n",
       "      <th>fecha_dcto</th>\n",
       "      <th>nombreprodmvto</th>\n",
       "      <th>nombregenerico</th>\n",
       "      <th>cantidad</th>\n",
       "    </tr>\n",
       "  </thead>\n",
       "  <tbody>\n",
       "    <tr>\n",
       "      <th>0</th>\n",
       "      <td>2016</td>\n",
       "      <td>4</td>\n",
       "      <td>4</td>\n",
       "      <td>4</td>\n",
       "      <td>4</td>\n",
       "      <td>4</td>\n",
       "    </tr>\n",
       "    <tr>\n",
       "      <th>1</th>\n",
       "      <td>2017</td>\n",
       "      <td>195</td>\n",
       "      <td>195</td>\n",
       "      <td>195</td>\n",
       "      <td>195</td>\n",
       "      <td>195</td>\n",
       "    </tr>\n",
       "    <tr>\n",
       "      <th>2</th>\n",
       "      <td>2018</td>\n",
       "      <td>575</td>\n",
       "      <td>575</td>\n",
       "      <td>575</td>\n",
       "      <td>575</td>\n",
       "      <td>575</td>\n",
       "    </tr>\n",
       "    <tr>\n",
       "      <th>3</th>\n",
       "      <td>2019</td>\n",
       "      <td>522</td>\n",
       "      <td>522</td>\n",
       "      <td>522</td>\n",
       "      <td>522</td>\n",
       "      <td>522</td>\n",
       "    </tr>\n",
       "    <tr>\n",
       "      <th>4</th>\n",
       "      <td>2020</td>\n",
       "      <td>465</td>\n",
       "      <td>465</td>\n",
       "      <td>465</td>\n",
       "      <td>465</td>\n",
       "      <td>465</td>\n",
       "    </tr>\n",
       "  </tbody>\n",
       "</table>\n",
       "</div>"
      ],
      "text/plain": [
       "  fecha_año  id_paciente  fecha_dcto  nombreprodmvto  nombregenerico  cantidad\n",
       "0      2016            4           4               4               4         4\n",
       "1      2017          195         195             195             195       195\n",
       "2      2018          575         575             575             575       575\n",
       "3      2019          522         522             522             522       522\n",
       "4      2020          465         465             465             465       465"
      ]
     },
     "execution_count": 25,
     "metadata": {},
     "output_type": "execute_result"
    }
   ],
   "source": [
    "bio_y2=bio_y.groupby(['fecha_año', 'id_paciente']).count().reset_index()\n",
    "bio_y3=bio_y2.groupby(['fecha_año']).count().reset_index()\n",
    "bio_y3"
   ]
  },
  {
   "cell_type": "code",
   "execution_count": 26,
   "metadata": {},
   "outputs": [
    {
     "data": {
      "text/plain": [
       "Text(0.5, 1.0, 'Patiens per year')"
      ]
     },
     "execution_count": 26,
     "metadata": {},
     "output_type": "execute_result"
    },
    {
     "data": {
      "image/png": "[encoded data removed]",
      "text/plain": [
       "<Figure size 504x360 with 1 Axes>"
      ]
     },
     "metadata": {
      "needs_background": "light"
     },
     "output_type": "display_data"
    }
   ],
   "source": [
    "plt.figure(figsize=(7,5))\n",
    "sns.barplot(x='fecha_año', y='id_paciente', data=bio_y3)\n",
    "plt.xlabel('Year')\n",
    "plt.ylabel('Patients')\n",
    "plt.title('Patiens per year')"
   ]
  },
  {
   "cell_type": "code",
   "execution_count": 27,
   "metadata": {},
   "outputs": [
    {
     "data": {
      "text/html": [
       "<div>\n",
       "<style scoped>\n",
       "    .dataframe tbody tr th:only-of-type {\n",
       "        vertical-align: middle;\n",
       "    }\n",
       "\n",
       "    .dataframe tbody tr th {\n",
       "        vertical-align: top;\n",
       "    }\n",
       "\n",
       "    .dataframe thead th {\n",
       "        text-align: right;\n",
       "    }\n",
       "</style>\n",
       "<table border=\"1\" class=\"dataframe\">\n",
       "  <thead>\n",
       "    <tr style=\"text-align: right;\">\n",
       "      <th></th>\n",
       "      <th>id_paciente</th>\n",
       "      <th>fecha_dcto</th>\n",
       "      <th>nombreprodmvto</th>\n",
       "      <th>nombregenerico</th>\n",
       "      <th>cantidad</th>\n",
       "    </tr>\n",
       "  </thead>\n",
       "  <tbody>\n",
       "    <tr>\n",
       "      <th>0</th>\n",
       "      <td>1853167</td>\n",
       "      <td>2019-08-02</td>\n",
       "      <td>OMALIZUMAB 150 MG POLV INY (XOLAIR)-21755-4896</td>\n",
       "      <td>OMALIZUMAB</td>\n",
       "      <td>2</td>\n",
       "    </tr>\n",
       "    <tr>\n",
       "      <th>1</th>\n",
       "      <td>695889</td>\n",
       "      <td>2019-07-31</td>\n",
       "      <td>OMALIZUMAB 150 MG POLV INY (XOLAIR)-21755-4896</td>\n",
       "      <td>OMALIZUMAB</td>\n",
       "      <td>2</td>\n",
       "    </tr>\n",
       "    <tr>\n",
       "      <th>2</th>\n",
       "      <td>1534187</td>\n",
       "      <td>2019-01-05</td>\n",
       "      <td>OMALIZUMAB SOLUCIÓN INYECTABLE 150MG /1ML (XOL...</td>\n",
       "      <td>OMALIZUMAB</td>\n",
       "      <td>4</td>\n",
       "    </tr>\n",
       "    <tr>\n",
       "      <th>3</th>\n",
       "      <td>1831103</td>\n",
       "      <td>2018-12-03</td>\n",
       "      <td>OMALIZUMAB SOLUCIÓN INYECTABLE 150MG /1ML (XOL...</td>\n",
       "      <td>OMALIZUMAB</td>\n",
       "      <td>3</td>\n",
       "    </tr>\n",
       "    <tr>\n",
       "      <th>4</th>\n",
       "      <td>1831103</td>\n",
       "      <td>2019-01-03</td>\n",
       "      <td>OMALIZUMAB SOLUCIÓN INYECTABLE 150MG /1ML (XOL...</td>\n",
       "      <td>OMALIZUMAB</td>\n",
       "      <td>3</td>\n",
       "    </tr>\n",
       "    <tr>\n",
       "      <th>...</th>\n",
       "      <td>...</td>\n",
       "      <td>...</td>\n",
       "      <td>...</td>\n",
       "      <td>...</td>\n",
       "      <td>...</td>\n",
       "    </tr>\n",
       "    <tr>\n",
       "      <th>12589</th>\n",
       "      <td>1209144</td>\n",
       "      <td>2020-04-22</td>\n",
       "      <td>MEPOLIZUMAB POLVO INYECTABLE 100MG (NUCALA) -2...</td>\n",
       "      <td>MEPOLIZUMAB</td>\n",
       "      <td>1</td>\n",
       "    </tr>\n",
       "    <tr>\n",
       "      <th>12590</th>\n",
       "      <td>896933</td>\n",
       "      <td>2020-04-22</td>\n",
       "      <td>MEPOLIZUMAB POLVO INYECTABLE 100MG (NUCALA) -2...</td>\n",
       "      <td>MEPOLIZUMAB</td>\n",
       "      <td>1</td>\n",
       "    </tr>\n",
       "    <tr>\n",
       "      <th>12591</th>\n",
       "      <td>896933</td>\n",
       "      <td>2020-02-25</td>\n",
       "      <td>MEPOLIZUMAB POLVO INYECTABLE 100MG (NUCALA) -2...</td>\n",
       "      <td>MEPOLIZUMAB</td>\n",
       "      <td>1</td>\n",
       "    </tr>\n",
       "    <tr>\n",
       "      <th>12592</th>\n",
       "      <td>1209144</td>\n",
       "      <td>2020-02-27</td>\n",
       "      <td>MEPOLIZUMAB POLVO INYECTABLE 100MG (NUCALA) -2...</td>\n",
       "      <td>MEPOLIZUMAB</td>\n",
       "      <td>1</td>\n",
       "    </tr>\n",
       "    <tr>\n",
       "      <th>12593</th>\n",
       "      <td>1346990</td>\n",
       "      <td>2019-10-30</td>\n",
       "      <td>OMALIZUMAB SOLUCIÓN INYECTABLE 150MG /1ML (XOL...</td>\n",
       "      <td>OMALIZUMAB</td>\n",
       "      <td>2</td>\n",
       "    </tr>\n",
       "  </tbody>\n",
       "</table>\n",
       "<p>12154 rows × 5 columns</p>\n",
       "</div>"
      ],
      "text/plain": [
       "       id_paciente fecha_dcto  \\\n",
       "0          1853167 2019-08-02   \n",
       "1           695889 2019-07-31   \n",
       "2          1534187 2019-01-05   \n",
       "3          1831103 2018-12-03   \n",
       "4          1831103 2019-01-03   \n",
       "...            ...        ...   \n",
       "12589      1209144 2020-04-22   \n",
       "12590       896933 2020-04-22   \n",
       "12591       896933 2020-02-25   \n",
       "12592      1209144 2020-02-27   \n",
       "12593      1346990 2019-10-30   \n",
       "\n",
       "                                          nombreprodmvto nombregenerico  \\\n",
       "0         OMALIZUMAB 150 MG POLV INY (XOLAIR)-21755-4896     OMALIZUMAB   \n",
       "1         OMALIZUMAB 150 MG POLV INY (XOLAIR)-21755-4896     OMALIZUMAB   \n",
       "2      OMALIZUMAB SOLUCIÓN INYECTABLE 150MG /1ML (XOL...     OMALIZUMAB   \n",
       "3      OMALIZUMAB SOLUCIÓN INYECTABLE 150MG /1ML (XOL...     OMALIZUMAB   \n",
       "4      OMALIZUMAB SOLUCIÓN INYECTABLE 150MG /1ML (XOL...     OMALIZUMAB   \n",
       "...                                                  ...            ...   \n",
       "12589  MEPOLIZUMAB POLVO INYECTABLE 100MG (NUCALA) -2...    MEPOLIZUMAB   \n",
       "12590  MEPOLIZUMAB POLVO INYECTABLE 100MG (NUCALA) -2...    MEPOLIZUMAB   \n",
       "12591  MEPOLIZUMAB POLVO INYECTABLE 100MG (NUCALA) -2...    MEPOLIZUMAB   \n",
       "12592  MEPOLIZUMAB POLVO INYECTABLE 100MG (NUCALA) -2...    MEPOLIZUMAB   \n",
       "12593  OMALIZUMAB SOLUCIÓN INYECTABLE 150MG /1ML (XOL...     OMALIZUMAB   \n",
       "\n",
       "       cantidad  \n",
       "0             2  \n",
       "1             2  \n",
       "2             4  \n",
       "3             3  \n",
       "4             3  \n",
       "...         ...  \n",
       "12589         1  \n",
       "12590         1  \n",
       "12591         1  \n",
       "12592         1  \n",
       "12593         2  \n",
       "\n",
       "[12154 rows x 5 columns]"
      ]
     },
     "execution_count": 27,
     "metadata": {},
     "output_type": "execute_result"
    }
   ],
   "source": [
    "Biological_Md1"
   ]
  },
  {
   "cell_type": "code",
   "execution_count": 32,
   "metadata": {},
   "outputs": [],
   "source": [
    "Biological_Md1.to_csv('./clean_biological.csv', sep='|', index=False)"
   ]
  },
  {
   "cell_type": "code",
   "execution_count": null,
   "metadata": {},
   "outputs": [],
   "source": []
  }
 ],
 "metadata": {
  "kernelspec": {
   "display_name": "Python 3",
   "language": "python",
   "name": "python3"
  },
  "language_info": {
   "codemirror_mode": {
    "name": "ipython",
    "version": 3
   },
   "file_extension": ".py",
   "mimetype": "text/x-python",
   "name": "python",
   "nbconvert_exporter": "python",
   "pygments_lexer": "ipython3",
   "version": "3.7.6"
  }
 },
 "nbformat": 4,
 "nbformat_minor": 4
}
