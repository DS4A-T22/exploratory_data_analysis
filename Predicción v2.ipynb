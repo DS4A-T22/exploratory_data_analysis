{
 "cells": [
  {
   "cell_type": "code",
   "execution_count": 211,
   "metadata": {
    "colab": {},
    "colab_type": "code",
    "id": "RaWPrqIVrNm3"
   },
   "outputs": [],
   "source": [
    "import pandas as pd\n",
    "import matplotlib.pyplot as plt\n",
    "from plotly.subplots import make_subplots\n",
    "import plotly.graph_objects as go\n",
    "import numpy as np\n",
    "import plotly.express as px\n",
    "# library\n",
    "import seaborn as sns\n",
    "\n",
    "#Importamos dependencias\n",
    "import statsmodels.api as sm\n",
    "import statsmodels.formula.api as sfm\n",
    "\n",
    "from matplotlib.widgets import Slider, Button, RadioButtons\n",
    "from scipy import interp\n",
    "from scipy.optimize import fsolve\n",
    "from scipy.stats import chi2_contingency, ttest_ind\n",
    "from sklearn.metrics import roc_curve, auc\n",
    "from sklearn.model_selection import StratifiedKFold\n",
    "from statsmodels.formula.api import ols"
   ]
  },
  {
   "cell_type": "code",
   "execution_count": 56,
   "metadata": {},
   "outputs": [
    {
     "name": "stdout",
     "output_type": "stream",
     "text": [
      "ACT.xlsx\n",
      "ACT_DESAGREGADO.xlsx\n",
      "Adher.csv\n",
      "Adherencia.xlsx\n",
      "Antecedentes_familiares.xlsx\n",
      "Antecedentes_patologicos.xlsx\n",
      "Ayudas_diagnosticas.xlsx\n",
      "Biologicos Asma.xlsx\n",
      "Calidad de vida relacioada en salud.xlsx\n",
      "Datos basicos.xlsx\n",
      "\u001b[34mDetalle\u001b[m\u001b[m\n",
      "Disnea.xlsx\n",
      "Farmacovigilancia RAM.xlsx\n",
      "Habitos.xlsx\n",
      "Hospitalizaciones.xlsx\n",
      "Incosistencias en reclamacion.xlsx\n",
      "Medicamentos.xlsx\n",
      "Mediciones de peso y talla.xlsx\n",
      "Predicción.ipynb\n",
      "Urgencias.xlsx\n",
      "Vacunacion.xlsx\n"
     ]
    }
   ],
   "source": [
    "!ls"
   ]
  },
  {
   "cell_type": "markdown",
   "metadata": {},
   "source": [
    "> ¿Está la adherencia relacionada con los hábitos?"
   ]
  },
  {
   "cell_type": "code",
   "execution_count": 57,
   "metadata": {},
   "outputs": [],
   "source": [
    "adh_df = pd.read_csv('Adher.csv')"
   ]
  },
  {
   "cell_type": "code",
   "execution_count": 58,
   "metadata": {},
   "outputs": [
    {
     "name": "stdout",
     "output_type": "stream",
     "text": [
      "<class 'pandas.core.frame.DataFrame'>\n",
      "RangeIndex: 4773 entries, 0 to 4772\n",
      "Data columns (total 9 columns):\n",
      "id_patient             4773 non-null int64\n",
      "survey_date            4773 non-null object\n",
      "morisky_green          4773 non-null object\n",
      "smaq1                  4773 non-null object\n",
      "smaq2                  4773 non-null object\n",
      "espa                   4773 non-null object\n",
      "nm_espa                4773 non-null float64\n",
      "qualitative_result     4773 non-null object\n",
      "quantitative_result    4773 non-null object\n",
      "dtypes: float64(1), int64(1), object(7)\n",
      "memory usage: 335.7+ KB\n"
     ]
    }
   ],
   "source": [
    "adh_df.info()"
   ]
  },
  {
   "cell_type": "code",
   "execution_count": 59,
   "metadata": {},
   "outputs": [
    {
     "data": {
      "text/html": [
       "<div>\n",
       "<style scoped>\n",
       "    .dataframe tbody tr th:only-of-type {\n",
       "        vertical-align: middle;\n",
       "    }\n",
       "\n",
       "    .dataframe tbody tr th {\n",
       "        vertical-align: top;\n",
       "    }\n",
       "\n",
       "    .dataframe thead th {\n",
       "        text-align: right;\n",
       "    }\n",
       "</style>\n",
       "<table border=\"1\" class=\"dataframe\">\n",
       "  <thead>\n",
       "    <tr style=\"text-align: right;\">\n",
       "      <th></th>\n",
       "      <th>count</th>\n",
       "      <th>unique</th>\n",
       "      <th>top</th>\n",
       "      <th>freq</th>\n",
       "      <th>mean</th>\n",
       "      <th>std</th>\n",
       "      <th>min</th>\n",
       "      <th>25%</th>\n",
       "      <th>50%</th>\n",
       "      <th>75%</th>\n",
       "      <th>max</th>\n",
       "    </tr>\n",
       "  </thead>\n",
       "  <tbody>\n",
       "    <tr>\n",
       "      <th>id_patient</th>\n",
       "      <td>4773</td>\n",
       "      <td>NaN</td>\n",
       "      <td>NaN</td>\n",
       "      <td>NaN</td>\n",
       "      <td>1.23818e+06</td>\n",
       "      <td>429639</td>\n",
       "      <td>500547</td>\n",
       "      <td>871633</td>\n",
       "      <td>1.22648e+06</td>\n",
       "      <td>1.61737e+06</td>\n",
       "      <td>1.99963e+06</td>\n",
       "    </tr>\n",
       "    <tr>\n",
       "      <th>survey_date</th>\n",
       "      <td>4773</td>\n",
       "      <td>1433</td>\n",
       "      <td>2019-04-30</td>\n",
       "      <td>87</td>\n",
       "      <td>NaN</td>\n",
       "      <td>NaN</td>\n",
       "      <td>NaN</td>\n",
       "      <td>NaN</td>\n",
       "      <td>NaN</td>\n",
       "      <td>NaN</td>\n",
       "      <td>NaN</td>\n",
       "    </tr>\n",
       "    <tr>\n",
       "      <th>morisky_green</th>\n",
       "      <td>4773</td>\n",
       "      <td>2</td>\n",
       "      <td>si</td>\n",
       "      <td>4052</td>\n",
       "      <td>NaN</td>\n",
       "      <td>NaN</td>\n",
       "      <td>NaN</td>\n",
       "      <td>NaN</td>\n",
       "      <td>NaN</td>\n",
       "      <td>NaN</td>\n",
       "      <td>NaN</td>\n",
       "    </tr>\n",
       "    <tr>\n",
       "      <th>smaq1</th>\n",
       "      <td>4773</td>\n",
       "      <td>2</td>\n",
       "      <td>si</td>\n",
       "      <td>3991</td>\n",
       "      <td>NaN</td>\n",
       "      <td>NaN</td>\n",
       "      <td>NaN</td>\n",
       "      <td>NaN</td>\n",
       "      <td>NaN</td>\n",
       "      <td>NaN</td>\n",
       "      <td>NaN</td>\n",
       "    </tr>\n",
       "    <tr>\n",
       "      <th>smaq2</th>\n",
       "      <td>4773</td>\n",
       "      <td>5</td>\n",
       "      <td>95-100%</td>\n",
       "      <td>4311</td>\n",
       "      <td>NaN</td>\n",
       "      <td>NaN</td>\n",
       "      <td>NaN</td>\n",
       "      <td>NaN</td>\n",
       "      <td>NaN</td>\n",
       "      <td>NaN</td>\n",
       "      <td>NaN</td>\n",
       "    </tr>\n",
       "    <tr>\n",
       "      <th>espa</th>\n",
       "      <td>4773</td>\n",
       "      <td>2</td>\n",
       "      <td>si</td>\n",
       "      <td>3962</td>\n",
       "      <td>NaN</td>\n",
       "      <td>NaN</td>\n",
       "      <td>NaN</td>\n",
       "      <td>NaN</td>\n",
       "      <td>NaN</td>\n",
       "      <td>NaN</td>\n",
       "      <td>NaN</td>\n",
       "    </tr>\n",
       "    <tr>\n",
       "      <th>nm_espa</th>\n",
       "      <td>4773</td>\n",
       "      <td>NaN</td>\n",
       "      <td>NaN</td>\n",
       "      <td>NaN</td>\n",
       "      <td>5.60298</td>\n",
       "      <td>0.911489</td>\n",
       "      <td>0</td>\n",
       "      <td>5</td>\n",
       "      <td>6</td>\n",
       "      <td>6</td>\n",
       "      <td>6</td>\n",
       "    </tr>\n",
       "    <tr>\n",
       "      <th>qualitative_result</th>\n",
       "      <td>4773</td>\n",
       "      <td>2</td>\n",
       "      <td>si</td>\n",
       "      <td>3785</td>\n",
       "      <td>NaN</td>\n",
       "      <td>NaN</td>\n",
       "      <td>NaN</td>\n",
       "      <td>NaN</td>\n",
       "      <td>NaN</td>\n",
       "      <td>NaN</td>\n",
       "      <td>NaN</td>\n",
       "    </tr>\n",
       "    <tr>\n",
       "      <th>quantitative_result</th>\n",
       "      <td>4773</td>\n",
       "      <td>5</td>\n",
       "      <td>95-100%</td>\n",
       "      <td>4311</td>\n",
       "      <td>NaN</td>\n",
       "      <td>NaN</td>\n",
       "      <td>NaN</td>\n",
       "      <td>NaN</td>\n",
       "      <td>NaN</td>\n",
       "      <td>NaN</td>\n",
       "      <td>NaN</td>\n",
       "    </tr>\n",
       "  </tbody>\n",
       "</table>\n",
       "</div>"
      ],
      "text/plain": [
       "                    count unique         top  freq         mean       std  \\\n",
       "id_patient           4773    NaN         NaN   NaN  1.23818e+06    429639   \n",
       "survey_date          4773   1433  2019-04-30    87          NaN       NaN   \n",
       "morisky_green        4773      2          si  4052          NaN       NaN   \n",
       "smaq1                4773      2          si  3991          NaN       NaN   \n",
       "smaq2                4773      5     95-100%  4311          NaN       NaN   \n",
       "espa                 4773      2          si  3962          NaN       NaN   \n",
       "nm_espa              4773    NaN         NaN   NaN      5.60298  0.911489   \n",
       "qualitative_result   4773      2          si  3785          NaN       NaN   \n",
       "quantitative_result  4773      5     95-100%  4311          NaN       NaN   \n",
       "\n",
       "                        min     25%          50%          75%          max  \n",
       "id_patient           500547  871633  1.22648e+06  1.61737e+06  1.99963e+06  \n",
       "survey_date             NaN     NaN          NaN          NaN          NaN  \n",
       "morisky_green           NaN     NaN          NaN          NaN          NaN  \n",
       "smaq1                   NaN     NaN          NaN          NaN          NaN  \n",
       "smaq2                   NaN     NaN          NaN          NaN          NaN  \n",
       "espa                    NaN     NaN          NaN          NaN          NaN  \n",
       "nm_espa                   0       5            6            6            6  \n",
       "qualitative_result      NaN     NaN          NaN          NaN          NaN  \n",
       "quantitative_result     NaN     NaN          NaN          NaN          NaN  "
      ]
     },
     "execution_count": 59,
     "metadata": {},
     "output_type": "execute_result"
    }
   ],
   "source": [
    "adh_df.describe(include = 'all').T"
   ]
  },
  {
   "cell_type": "code",
   "execution_count": 60,
   "metadata": {},
   "outputs": [
    {
     "data": {
      "text/html": [
       "<div>\n",
       "<style scoped>\n",
       "    .dataframe tbody tr th:only-of-type {\n",
       "        vertical-align: middle;\n",
       "    }\n",
       "\n",
       "    .dataframe tbody tr th {\n",
       "        vertical-align: top;\n",
       "    }\n",
       "\n",
       "    .dataframe thead th {\n",
       "        text-align: right;\n",
       "    }\n",
       "</style>\n",
       "<table border=\"1\" class=\"dataframe\">\n",
       "  <thead>\n",
       "    <tr style=\"text-align: right;\">\n",
       "      <th></th>\n",
       "      <th>id_patient</th>\n",
       "      <th>survey_date</th>\n",
       "      <th>morisky_green</th>\n",
       "      <th>smaq1</th>\n",
       "      <th>smaq2</th>\n",
       "      <th>espa</th>\n",
       "      <th>nm_espa</th>\n",
       "      <th>qualitative_result</th>\n",
       "      <th>quantitative_result</th>\n",
       "    </tr>\n",
       "  </thead>\n",
       "  <tbody>\n",
       "    <tr>\n",
       "      <th>0</th>\n",
       "      <td>529410</td>\n",
       "      <td>2012-04-19</td>\n",
       "      <td>no</td>\n",
       "      <td>si</td>\n",
       "      <td>95-100%</td>\n",
       "      <td>no</td>\n",
       "      <td>6.0</td>\n",
       "      <td>no</td>\n",
       "      <td>95-100%</td>\n",
       "    </tr>\n",
       "    <tr>\n",
       "      <th>1</th>\n",
       "      <td>1101180</td>\n",
       "      <td>2012-04-24</td>\n",
       "      <td>no</td>\n",
       "      <td>si</td>\n",
       "      <td>95-100%</td>\n",
       "      <td>no</td>\n",
       "      <td>4.0</td>\n",
       "      <td>no</td>\n",
       "      <td>95-100%</td>\n",
       "    </tr>\n",
       "    <tr>\n",
       "      <th>2</th>\n",
       "      <td>1053118</td>\n",
       "      <td>2012-05-03</td>\n",
       "      <td>no</td>\n",
       "      <td>si</td>\n",
       "      <td>95-100%</td>\n",
       "      <td>no</td>\n",
       "      <td>6.0</td>\n",
       "      <td>no</td>\n",
       "      <td>95-100%</td>\n",
       "    </tr>\n",
       "    <tr>\n",
       "      <th>3</th>\n",
       "      <td>1198956</td>\n",
       "      <td>2012-05-16</td>\n",
       "      <td>no</td>\n",
       "      <td>si</td>\n",
       "      <td>95-100%</td>\n",
       "      <td>no</td>\n",
       "      <td>6.0</td>\n",
       "      <td>no</td>\n",
       "      <td>95-100%</td>\n",
       "    </tr>\n",
       "    <tr>\n",
       "      <th>4</th>\n",
       "      <td>605968</td>\n",
       "      <td>2012-05-17</td>\n",
       "      <td>no</td>\n",
       "      <td>si</td>\n",
       "      <td>95-100%</td>\n",
       "      <td>no</td>\n",
       "      <td>5.0</td>\n",
       "      <td>no</td>\n",
       "      <td>95-100%</td>\n",
       "    </tr>\n",
       "  </tbody>\n",
       "</table>\n",
       "</div>"
      ],
      "text/plain": [
       "   id_patient survey_date morisky_green smaq1    smaq2 espa  nm_espa  \\\n",
       "0      529410  2012-04-19            no    si  95-100%   no      6.0   \n",
       "1     1101180  2012-04-24            no    si  95-100%   no      4.0   \n",
       "2     1053118  2012-05-03            no    si  95-100%   no      6.0   \n",
       "3     1198956  2012-05-16            no    si  95-100%   no      6.0   \n",
       "4      605968  2012-05-17            no    si  95-100%   no      5.0   \n",
       "\n",
       "  qualitative_result quantitative_result  \n",
       "0                 no             95-100%  \n",
       "1                 no             95-100%  \n",
       "2                 no             95-100%  \n",
       "3                 no             95-100%  \n",
       "4                 no             95-100%  "
      ]
     },
     "execution_count": 60,
     "metadata": {},
     "output_type": "execute_result"
    }
   ],
   "source": [
    "adh_df.head() #adh_df[['id_patient', 'survey_date', 'quantitative_result']]"
   ]
  },
  {
   "cell_type": "code",
   "execution_count": 62,
   "metadata": {},
   "outputs": [
    {
     "data": {
      "text/plain": [
       "id_patient                int64\n",
       "survey_date              object\n",
       "morisky_green            object\n",
       "smaq1                    object\n",
       "smaq2                    object\n",
       "espa                     object\n",
       "nm_espa                 float64\n",
       "qualitative_result       object\n",
       "quantitative_result    category\n",
       "dtype: object"
      ]
     },
     "execution_count": 62,
     "metadata": {},
     "output_type": "execute_result"
    }
   ],
   "source": [
    "adh_df.dtypes"
   ]
  },
  {
   "cell_type": "code",
   "execution_count": 61,
   "metadata": {},
   "outputs": [],
   "source": [
    "from pandas.api.types import CategoricalDtype\n",
    "cat_type = CategoricalDtype(categories=['NO APLICA', \n",
    "                                        '<30%',\n",
    "                                        '30-65%',\n",
    "                                        '64-84%',\n",
    "                                        '85-94%',                                       \n",
    "                                        '95-100%'], ordered=True)\n",
    "adh_df['quantitative_result'] = adh_df['quantitative_result'].astype(cat_type)"
   ]
  },
  {
   "cell_type": "code",
   "execution_count": 63,
   "metadata": {},
   "outputs": [
    {
     "data": {
      "text/plain": [
       "0    5\n",
       "1    5\n",
       "2    5\n",
       "3    5\n",
       "4    5\n",
       "dtype: int8"
      ]
     },
     "execution_count": 63,
     "metadata": {},
     "output_type": "execute_result"
    }
   ],
   "source": [
    "adh_df['quantitative_result'].cat.codes.head()"
   ]
  },
  {
   "cell_type": "code",
   "execution_count": 64,
   "metadata": {},
   "outputs": [
    {
     "data": {
      "text/plain": [
       "1769865    41\n",
       "979605     30\n",
       "1132214    28\n",
       "622031     27\n",
       "1676414    26\n",
       "Name: id_patient, dtype: int64"
      ]
     },
     "execution_count": 64,
     "metadata": {},
     "output_type": "execute_result"
    }
   ],
   "source": [
    "adh_df['id_patient'].value_counts().head()"
   ]
  },
  {
   "cell_type": "code",
   "execution_count": 65,
   "metadata": {},
   "outputs": [
    {
     "data": {
      "text/html": [
       "<div>\n",
       "<style scoped>\n",
       "    .dataframe tbody tr th:only-of-type {\n",
       "        vertical-align: middle;\n",
       "    }\n",
       "\n",
       "    .dataframe tbody tr th {\n",
       "        vertical-align: top;\n",
       "    }\n",
       "\n",
       "    .dataframe thead th {\n",
       "        text-align: right;\n",
       "    }\n",
       "</style>\n",
       "<table border=\"1\" class=\"dataframe\">\n",
       "  <thead>\n",
       "    <tr style=\"text-align: right;\">\n",
       "      <th></th>\n",
       "      <th>id_patient</th>\n",
       "      <th>survey_date</th>\n",
       "      <th>morisky_green</th>\n",
       "      <th>smaq1</th>\n",
       "      <th>smaq2</th>\n",
       "      <th>espa</th>\n",
       "      <th>nm_espa</th>\n",
       "      <th>qualitative_result</th>\n",
       "      <th>quantitative_result</th>\n",
       "    </tr>\n",
       "  </thead>\n",
       "  <tbody>\n",
       "    <tr>\n",
       "      <th>1247</th>\n",
       "      <td>1769865</td>\n",
       "      <td>2016-07-05</td>\n",
       "      <td>si</td>\n",
       "      <td>no</td>\n",
       "      <td>&lt;30%</td>\n",
       "      <td>si</td>\n",
       "      <td>6.0</td>\n",
       "      <td>no</td>\n",
       "      <td>&lt;30%</td>\n",
       "    </tr>\n",
       "    <tr>\n",
       "      <th>1470</th>\n",
       "      <td>1769865</td>\n",
       "      <td>2016-10-26</td>\n",
       "      <td>no</td>\n",
       "      <td>no</td>\n",
       "      <td>30-65%</td>\n",
       "      <td>no</td>\n",
       "      <td>5.0</td>\n",
       "      <td>no</td>\n",
       "      <td>30-65%</td>\n",
       "    </tr>\n",
       "    <tr>\n",
       "      <th>1437</th>\n",
       "      <td>1769865</td>\n",
       "      <td>2016-10-11</td>\n",
       "      <td>no</td>\n",
       "      <td>no</td>\n",
       "      <td>30-65%</td>\n",
       "      <td>no</td>\n",
       "      <td>5.0</td>\n",
       "      <td>no</td>\n",
       "      <td>30-65%</td>\n",
       "    </tr>\n",
       "    <tr>\n",
       "      <th>1337</th>\n",
       "      <td>1769865</td>\n",
       "      <td>2016-09-06</td>\n",
       "      <td>no</td>\n",
       "      <td>no</td>\n",
       "      <td>30-65%</td>\n",
       "      <td>no</td>\n",
       "      <td>5.0</td>\n",
       "      <td>no</td>\n",
       "      <td>30-65%</td>\n",
       "    </tr>\n",
       "    <tr>\n",
       "      <th>1262</th>\n",
       "      <td>1769865</td>\n",
       "      <td>2016-07-26</td>\n",
       "      <td>no</td>\n",
       "      <td>no</td>\n",
       "      <td>30-65%</td>\n",
       "      <td>no</td>\n",
       "      <td>5.0</td>\n",
       "      <td>no</td>\n",
       "      <td>30-65%</td>\n",
       "    </tr>\n",
       "  </tbody>\n",
       "</table>\n",
       "</div>"
      ],
      "text/plain": [
       "      id_patient survey_date morisky_green smaq1   smaq2 espa  nm_espa  \\\n",
       "1247     1769865  2016-07-05            si    no    <30%   si      6.0   \n",
       "1470     1769865  2016-10-26            no    no  30-65%   no      5.0   \n",
       "1437     1769865  2016-10-11            no    no  30-65%   no      5.0   \n",
       "1337     1769865  2016-09-06            no    no  30-65%   no      5.0   \n",
       "1262     1769865  2016-07-26            no    no  30-65%   no      5.0   \n",
       "\n",
       "     qualitative_result quantitative_result  \n",
       "1247                 no                <30%  \n",
       "1470                 no              30-65%  \n",
       "1437                 no              30-65%  \n",
       "1337                 no              30-65%  \n",
       "1262                 no              30-65%  "
      ]
     },
     "execution_count": 65,
     "metadata": {},
     "output_type": "execute_result"
    }
   ],
   "source": [
    "df_0 = adh_df[adh_df['id_patient'] == 1769865].copy()\n",
    "df_0.sort_values('quantitative_result').head()"
   ]
  },
  {
   "cell_type": "code",
   "execution_count": 66,
   "metadata": {},
   "outputs": [
    {
     "data": {
      "application/vnd.plotly.v1+json": {
       "config": {
        "plotlyServerURL": "https://plot.ly"
       },
       "data": [
        {
         "hoverlabel": {
          "namelength": 0
         },
         "hovertemplate": "qualitative_result=no<br>survey_date=%{x}<br>quantitative_result=%{y}",
         "legendgroup": "qualitative_result=no",
         "marker": {
          "color": "#636efa",
          "symbol": "circle"
         },
         "mode": "markers",
         "name": "qualitative_result=no",
         "showlegend": true,
         "type": "scatter",
         "x": [
          "2016-07-05",
          "2016-10-26",
          "2016-10-11",
          "2016-09-06",
          "2016-07-26",
          "2017-03-27",
          "2016-09-01",
          "2016-08-10",
          "2015-09-29",
          "2016-07-08",
          "2018-03-13",
          "2012-10-18",
          "2015-12-29",
          "2015-08-26",
          "2015-01-09",
          "2014-10-28",
          "2014-02-10",
          "2018-10-09",
          "2018-10-01",
          "2018-01-29",
          "2018-01-25"
         ],
         "xaxis": "x",
         "y": [
          "<30%",
          "30-65%",
          "30-65%",
          "30-65%",
          "30-65%",
          "64-84%",
          "64-84%",
          "64-84%",
          "64-84%",
          "64-84%",
          "85-94%",
          "85-94%",
          "85-94%",
          "85-94%",
          "85-94%",
          "85-94%",
          "85-94%",
          "95-100%",
          "95-100%",
          "95-100%",
          "95-100%"
         ],
         "yaxis": "y"
        },
        {
         "hoverlabel": {
          "namelength": 0
         },
         "hovertemplate": "qualitative_result=si<br>survey_date=%{x}<br>quantitative_result=%{y}",
         "legendgroup": "qualitative_result=si",
         "marker": {
          "color": "#EF553B",
          "symbol": "circle"
         },
         "mode": "markers",
         "name": "qualitative_result=si",
         "showlegend": true,
         "type": "scatter",
         "x": [
          "2016-03-23",
          "2019-08-27",
          "2019-05-24",
          "2018-11-14",
          "2013-04-15",
          "2017-12-05",
          "2017-08-30",
          "2017-05-18",
          "2017-07-28",
          "2016-02-29",
          "2017-05-10",
          "2017-03-01",
          "2017-02-27",
          "2016-11-11",
          "2019-10-25",
          "2014-09-19",
          "2015-09-11",
          "2015-12-07",
          "2017-08-15",
          "2020-03-31"
         ],
         "xaxis": "x",
         "y": [
          "95-100%",
          "95-100%",
          "95-100%",
          "95-100%",
          "95-100%",
          "95-100%",
          "95-100%",
          "95-100%",
          "95-100%",
          "95-100%",
          "95-100%",
          "95-100%",
          "95-100%",
          "95-100%",
          "95-100%",
          "95-100%",
          "95-100%",
          "95-100%",
          "95-100%",
          "95-100%"
         ],
         "yaxis": "y"
        }
       ],
       "layout": {
        "height": 600,
        "legend": {
         "tracegroupgap": 0
        },
        "margin": {
         "t": 60
        },
        "template": {
         "data": {
          "bar": [
           {
            "error_x": {
             "color": "#2a3f5f"
            },
            "error_y": {
             "color": "#2a3f5f"
            },
            "marker": {
             "line": {
              "color": "#E5ECF6",
              "width": 0.5
             }
            },
            "type": "bar"
           }
          ],
          "barpolar": [
           {
            "marker": {
             "line": {
              "color": "#E5ECF6",
              "width": 0.5
             }
            },
            "type": "barpolar"
           }
          ],
          "carpet": [
           {
            "aaxis": {
             "endlinecolor": "#2a3f5f",
             "gridcolor": "white",
             "linecolor": "white",
             "minorgridcolor": "white",
             "startlinecolor": "#2a3f5f"
            },
            "baxis": {
             "endlinecolor": "#2a3f5f",
             "gridcolor": "white",
             "linecolor": "white",
             "minorgridcolor": "white",
             "startlinecolor": "#2a3f5f"
            },
            "type": "carpet"
           }
          ],
          "choropleth": [
           {
            "colorbar": {
             "outlinewidth": 0,
             "ticks": ""
            },
            "type": "choropleth"
           }
          ],
          "contour": [
           {
            "colorbar": {
             "outlinewidth": 0,
             "ticks": ""
            },
            "colorscale": [
             [
              0,
              "#0d0887"
             ],
             [
              0.1111111111111111,
              "#46039f"
             ],
             [
              0.2222222222222222,
              "#7201a8"
             ],
             [
              0.3333333333333333,
              "#9c179e"
             ],
             [
              0.4444444444444444,
              "#bd3786"
             ],
             [
              0.5555555555555556,
              "#d8576b"
             ],
             [
              0.6666666666666666,
              "#ed7953"
             ],
             [
              0.7777777777777778,
              "#fb9f3a"
             ],
             [
              0.8888888888888888,
              "#fdca26"
             ],
             [
              1,
              "#f0f921"
             ]
            ],
            "type": "contour"
           }
          ],
          "contourcarpet": [
           {
            "colorbar": {
             "outlinewidth": 0,
             "ticks": ""
            },
            "type": "contourcarpet"
           }
          ],
          "heatmap": [
           {
            "colorbar": {
             "outlinewidth": 0,
             "ticks": ""
            },
            "colorscale": [
             [
              0,
              "#0d0887"
             ],
             [
              0.1111111111111111,
              "#46039f"
             ],
             [
              0.2222222222222222,
              "#7201a8"
             ],
             [
              0.3333333333333333,
              "#9c179e"
             ],
             [
              0.4444444444444444,
              "#bd3786"
             ],
             [
              0.5555555555555556,
              "#d8576b"
             ],
             [
              0.6666666666666666,
              "#ed7953"
             ],
             [
              0.7777777777777778,
              "#fb9f3a"
             ],
             [
              0.8888888888888888,
              "#fdca26"
             ],
             [
              1,
              "#f0f921"
             ]
            ],
            "type": "heatmap"
           }
          ],
          "heatmapgl": [
           {
            "colorbar": {
             "outlinewidth": 0,
             "ticks": ""
            },
            "colorscale": [
             [
              0,
              "#0d0887"
             ],
             [
              0.1111111111111111,
              "#46039f"
             ],
             [
              0.2222222222222222,
              "#7201a8"
             ],
             [
              0.3333333333333333,
              "#9c179e"
             ],
             [
              0.4444444444444444,
              "#bd3786"
             ],
             [
              0.5555555555555556,
              "#d8576b"
             ],
             [
              0.6666666666666666,
              "#ed7953"
             ],
             [
              0.7777777777777778,
              "#fb9f3a"
             ],
             [
              0.8888888888888888,
              "#fdca26"
             ],
             [
              1,
              "#f0f921"
             ]
            ],
            "type": "heatmapgl"
           }
          ],
          "histogram": [
           {
            "marker": {
             "colorbar": {
              "outlinewidth": 0,
              "ticks": ""
             }
            },
            "type": "histogram"
           }
          ],
          "histogram2d": [
           {
            "colorbar": {
             "outlinewidth": 0,
             "ticks": ""
            },
            "colorscale": [
             [
              0,
              "#0d0887"
             ],
             [
              0.1111111111111111,
              "#46039f"
             ],
             [
              0.2222222222222222,
              "#7201a8"
             ],
             [
              0.3333333333333333,
              "#9c179e"
             ],
             [
              0.4444444444444444,
              "#bd3786"
             ],
             [
              0.5555555555555556,
              "#d8576b"
             ],
             [
              0.6666666666666666,
              "#ed7953"
             ],
             [
              0.7777777777777778,
              "#fb9f3a"
             ],
             [
              0.8888888888888888,
              "#fdca26"
             ],
             [
              1,
              "#f0f921"
             ]
            ],
            "type": "histogram2d"
           }
          ],
          "histogram2dcontour": [
           {
            "colorbar": {
             "outlinewidth": 0,
             "ticks": ""
            },
            "colorscale": [
             [
              0,
              "#0d0887"
             ],
             [
              0.1111111111111111,
              "#46039f"
             ],
             [
              0.2222222222222222,
              "#7201a8"
             ],
             [
              0.3333333333333333,
              "#9c179e"
             ],
             [
              0.4444444444444444,
              "#bd3786"
             ],
             [
              0.5555555555555556,
              "#d8576b"
             ],
             [
              0.6666666666666666,
              "#ed7953"
             ],
             [
              0.7777777777777778,
              "#fb9f3a"
             ],
             [
              0.8888888888888888,
              "#fdca26"
             ],
             [
              1,
              "#f0f921"
             ]
            ],
            "type": "histogram2dcontour"
           }
          ],
          "mesh3d": [
           {
            "colorbar": {
             "outlinewidth": 0,
             "ticks": ""
            },
            "type": "mesh3d"
           }
          ],
          "parcoords": [
           {
            "line": {
             "colorbar": {
              "outlinewidth": 0,
              "ticks": ""
             }
            },
            "type": "parcoords"
           }
          ],
          "scatter": [
           {
            "marker": {
             "colorbar": {
              "outlinewidth": 0,
              "ticks": ""
             }
            },
            "type": "scatter"
           }
          ],
          "scatter3d": [
           {
            "line": {
             "colorbar": {
              "outlinewidth": 0,
              "ticks": ""
             }
            },
            "marker": {
             "colorbar": {
              "outlinewidth": 0,
              "ticks": ""
             }
            },
            "type": "scatter3d"
           }
          ],
          "scattercarpet": [
           {
            "marker": {
             "colorbar": {
              "outlinewidth": 0,
              "ticks": ""
             }
            },
            "type": "scattercarpet"
           }
          ],
          "scattergeo": [
           {
            "marker": {
             "colorbar": {
              "outlinewidth": 0,
              "ticks": ""
             }
            },
            "type": "scattergeo"
           }
          ],
          "scattergl": [
           {
            "marker": {
             "colorbar": {
              "outlinewidth": 0,
              "ticks": ""
             }
            },
            "type": "scattergl"
           }
          ],
          "scattermapbox": [
           {
            "marker": {
             "colorbar": {
              "outlinewidth": 0,
              "ticks": ""
             }
            },
            "type": "scattermapbox"
           }
          ],
          "scatterpolar": [
           {
            "marker": {
             "colorbar": {
              "outlinewidth": 0,
              "ticks": ""
             }
            },
            "type": "scatterpolar"
           }
          ],
          "scatterpolargl": [
           {
            "marker": {
             "colorbar": {
              "outlinewidth": 0,
              "ticks": ""
             }
            },
            "type": "scatterpolargl"
           }
          ],
          "scatterternary": [
           {
            "marker": {
             "colorbar": {
              "outlinewidth": 0,
              "ticks": ""
             }
            },
            "type": "scatterternary"
           }
          ],
          "surface": [
           {
            "colorbar": {
             "outlinewidth": 0,
             "ticks": ""
            },
            "colorscale": [
             [
              0,
              "#0d0887"
             ],
             [
              0.1111111111111111,
              "#46039f"
             ],
             [
              0.2222222222222222,
              "#7201a8"
             ],
             [
              0.3333333333333333,
              "#9c179e"
             ],
             [
              0.4444444444444444,
              "#bd3786"
             ],
             [
              0.5555555555555556,
              "#d8576b"
             ],
             [
              0.6666666666666666,
              "#ed7953"
             ],
             [
              0.7777777777777778,
              "#fb9f3a"
             ],
             [
              0.8888888888888888,
              "#fdca26"
             ],
             [
              1,
              "#f0f921"
             ]
            ],
            "type": "surface"
           }
          ],
          "table": [
           {
            "cells": {
             "fill": {
              "color": "#EBF0F8"
             },
             "line": {
              "color": "white"
             }
            },
            "header": {
             "fill": {
              "color": "#C8D4E3"
             },
             "line": {
              "color": "white"
             }
            },
            "type": "table"
           }
          ]
         },
         "layout": {
          "annotationdefaults": {
           "arrowcolor": "#2a3f5f",
           "arrowhead": 0,
           "arrowwidth": 1
          },
          "colorscale": {
           "diverging": [
            [
             0,
             "#8e0152"
            ],
            [
             0.1,
             "#c51b7d"
            ],
            [
             0.2,
             "#de77ae"
            ],
            [
             0.3,
             "#f1b6da"
            ],
            [
             0.4,
             "#fde0ef"
            ],
            [
             0.5,
             "#f7f7f7"
            ],
            [
             0.6,
             "#e6f5d0"
            ],
            [
             0.7,
             "#b8e186"
            ],
            [
             0.8,
             "#7fbc41"
            ],
            [
             0.9,
             "#4d9221"
            ],
            [
             1,
             "#276419"
            ]
           ],
           "sequential": [
            [
             0,
             "#0d0887"
            ],
            [
             0.1111111111111111,
             "#46039f"
            ],
            [
             0.2222222222222222,
             "#7201a8"
            ],
            [
             0.3333333333333333,
             "#9c179e"
            ],
            [
             0.4444444444444444,
             "#bd3786"
            ],
            [
             0.5555555555555556,
             "#d8576b"
            ],
            [
             0.6666666666666666,
             "#ed7953"
            ],
            [
             0.7777777777777778,
             "#fb9f3a"
            ],
            [
             0.8888888888888888,
             "#fdca26"
            ],
            [
             1,
             "#f0f921"
            ]
           ],
           "sequentialminus": [
            [
             0,
             "#0d0887"
            ],
            [
             0.1111111111111111,
             "#46039f"
            ],
            [
             0.2222222222222222,
             "#7201a8"
            ],
            [
             0.3333333333333333,
             "#9c179e"
            ],
            [
             0.4444444444444444,
             "#bd3786"
            ],
            [
             0.5555555555555556,
             "#d8576b"
            ],
            [
             0.6666666666666666,
             "#ed7953"
            ],
            [
             0.7777777777777778,
             "#fb9f3a"
            ],
            [
             0.8888888888888888,
             "#fdca26"
            ],
            [
             1,
             "#f0f921"
            ]
           ]
          },
          "colorway": [
           "#636efa",
           "#EF553B",
           "#00cc96",
           "#ab63fa",
           "#FFA15A",
           "#19d3f3",
           "#FF6692",
           "#B6E880",
           "#FF97FF",
           "#FECB52"
          ],
          "font": {
           "color": "#2a3f5f"
          },
          "geo": {
           "bgcolor": "white",
           "lakecolor": "white",
           "landcolor": "#E5ECF6",
           "showlakes": true,
           "showland": true,
           "subunitcolor": "white"
          },
          "hoverlabel": {
           "align": "left"
          },
          "hovermode": "closest",
          "mapbox": {
           "style": "light"
          },
          "paper_bgcolor": "white",
          "plot_bgcolor": "#E5ECF6",
          "polar": {
           "angularaxis": {
            "gridcolor": "white",
            "linecolor": "white",
            "ticks": ""
           },
           "bgcolor": "#E5ECF6",
           "radialaxis": {
            "gridcolor": "white",
            "linecolor": "white",
            "ticks": ""
           }
          },
          "scene": {
           "xaxis": {
            "backgroundcolor": "#E5ECF6",
            "gridcolor": "white",
            "gridwidth": 2,
            "linecolor": "white",
            "showbackground": true,
            "ticks": "",
            "zerolinecolor": "white"
           },
           "yaxis": {
            "backgroundcolor": "#E5ECF6",
            "gridcolor": "white",
            "gridwidth": 2,
            "linecolor": "white",
            "showbackground": true,
            "ticks": "",
            "zerolinecolor": "white"
           },
           "zaxis": {
            "backgroundcolor": "#E5ECF6",
            "gridcolor": "white",
            "gridwidth": 2,
            "linecolor": "white",
            "showbackground": true,
            "ticks": "",
            "zerolinecolor": "white"
           }
          },
          "shapedefaults": {
           "line": {
            "color": "#2a3f5f"
           }
          },
          "ternary": {
           "aaxis": {
            "gridcolor": "white",
            "linecolor": "white",
            "ticks": ""
           },
           "baxis": {
            "gridcolor": "white",
            "linecolor": "white",
            "ticks": ""
           },
           "bgcolor": "#E5ECF6",
           "caxis": {
            "gridcolor": "white",
            "linecolor": "white",
            "ticks": ""
           }
          },
          "title": {
           "x": 0.05
          },
          "xaxis": {
           "automargin": true,
           "gridcolor": "white",
           "linecolor": "white",
           "ticks": "",
           "zerolinecolor": "white",
           "zerolinewidth": 2
          },
          "yaxis": {
           "automargin": true,
           "gridcolor": "white",
           "linecolor": "white",
           "ticks": "",
           "zerolinecolor": "white",
           "zerolinewidth": 2
          }
         }
        },
        "title": {
         "text": "Bar chart with categorical axes"
        },
        "xaxis": {
         "anchor": "y",
         "domain": [
          0,
          0.98
         ],
         "title": {
          "text": "survey_date"
         }
        },
        "yaxis": {
         "anchor": "x",
         "domain": [
          0,
          1
         ],
         "title": {
          "text": "quantitative_result"
         },
         "type": "category"
        }
       }
      },
      "text/html": [
       "<div>\n",
       "        \n",
       "        \n",
       "            <div id=\"285cd183-e276-469d-95f8-bed0d3107d75\" class=\"plotly-graph-div\" style=\"height:600px; width:100%;\"></div>\n",
       "            <script type=\"text/javascript\">\n",
       "                require([\"plotly\"], function(Plotly) {\n",
       "                    window.PLOTLYENV=window.PLOTLYENV || {};\n",
       "                    \n",
       "                if (document.getElementById(\"285cd183-e276-469d-95f8-bed0d3107d75\")) {\n",
       "                    Plotly.newPlot(\n",
       "                        '285cd183-e276-469d-95f8-bed0d3107d75',\n",
       "                        [{\"hoverlabel\": {\"namelength\": 0}, \"hovertemplate\": \"qualitative_result=no<br>survey_date=%{x}<br>quantitative_result=%{y}\", \"legendgroup\": \"qualitative_result=no\", \"marker\": {\"color\": \"#636efa\", \"symbol\": \"circle\"}, \"mode\": \"markers\", \"name\": \"qualitative_result=no\", \"showlegend\": true, \"type\": \"scatter\", \"x\": [\"2016-07-05\", \"2016-10-26\", \"2016-10-11\", \"2016-09-06\", \"2016-07-26\", \"2017-03-27\", \"2016-09-01\", \"2016-08-10\", \"2015-09-29\", \"2016-07-08\", \"2018-03-13\", \"2012-10-18\", \"2015-12-29\", \"2015-08-26\", \"2015-01-09\", \"2014-10-28\", \"2014-02-10\", \"2018-10-09\", \"2018-10-01\", \"2018-01-29\", \"2018-01-25\"], \"xaxis\": \"x\", \"y\": [\"<30%\", \"30-65%\", \"30-65%\", \"30-65%\", \"30-65%\", \"64-84%\", \"64-84%\", \"64-84%\", \"64-84%\", \"64-84%\", \"85-94%\", \"85-94%\", \"85-94%\", \"85-94%\", \"85-94%\", \"85-94%\", \"85-94%\", \"95-100%\", \"95-100%\", \"95-100%\", \"95-100%\"], \"yaxis\": \"y\"}, {\"hoverlabel\": {\"namelength\": 0}, \"hovertemplate\": \"qualitative_result=si<br>survey_date=%{x}<br>quantitative_result=%{y}\", \"legendgroup\": \"qualitative_result=si\", \"marker\": {\"color\": \"#EF553B\", \"symbol\": \"circle\"}, \"mode\": \"markers\", \"name\": \"qualitative_result=si\", \"showlegend\": true, \"type\": \"scatter\", \"x\": [\"2016-03-23\", \"2019-08-27\", \"2019-05-24\", \"2018-11-14\", \"2013-04-15\", \"2017-12-05\", \"2017-08-30\", \"2017-05-18\", \"2017-07-28\", \"2016-02-29\", \"2017-05-10\", \"2017-03-01\", \"2017-02-27\", \"2016-11-11\", \"2019-10-25\", \"2014-09-19\", \"2015-09-11\", \"2015-12-07\", \"2017-08-15\", \"2020-03-31\"], \"xaxis\": \"x\", \"y\": [\"95-100%\", \"95-100%\", \"95-100%\", \"95-100%\", \"95-100%\", \"95-100%\", \"95-100%\", \"95-100%\", \"95-100%\", \"95-100%\", \"95-100%\", \"95-100%\", \"95-100%\", \"95-100%\", \"95-100%\", \"95-100%\", \"95-100%\", \"95-100%\", \"95-100%\", \"95-100%\"], \"yaxis\": \"y\"}],\n",
       "                        {\"height\": 600, \"legend\": {\"tracegroupgap\": 0}, \"margin\": {\"t\": 60}, \"template\": {\"data\": {\"bar\": [{\"error_x\": {\"color\": \"#2a3f5f\"}, \"error_y\": {\"color\": \"#2a3f5f\"}, \"marker\": {\"line\": {\"color\": \"#E5ECF6\", \"width\": 0.5}}, \"type\": \"bar\"}], \"barpolar\": [{\"marker\": {\"line\": {\"color\": \"#E5ECF6\", \"width\": 0.5}}, \"type\": \"barpolar\"}], \"carpet\": [{\"aaxis\": {\"endlinecolor\": \"#2a3f5f\", \"gridcolor\": \"white\", \"linecolor\": \"white\", \"minorgridcolor\": \"white\", \"startlinecolor\": \"#2a3f5f\"}, \"baxis\": {\"endlinecolor\": \"#2a3f5f\", \"gridcolor\": \"white\", \"linecolor\": \"white\", \"minorgridcolor\": \"white\", \"startlinecolor\": \"#2a3f5f\"}, \"type\": \"carpet\"}], \"choropleth\": [{\"colorbar\": {\"outlinewidth\": 0, \"ticks\": \"\"}, \"type\": \"choropleth\"}], \"contour\": [{\"colorbar\": {\"outlinewidth\": 0, \"ticks\": \"\"}, \"colorscale\": [[0.0, \"#0d0887\"], [0.1111111111111111, \"#46039f\"], [0.2222222222222222, \"#7201a8\"], [0.3333333333333333, \"#9c179e\"], [0.4444444444444444, \"#bd3786\"], [0.5555555555555556, \"#d8576b\"], [0.6666666666666666, \"#ed7953\"], [0.7777777777777778, \"#fb9f3a\"], [0.8888888888888888, \"#fdca26\"], [1.0, \"#f0f921\"]], \"type\": \"contour\"}], \"contourcarpet\": [{\"colorbar\": {\"outlinewidth\": 0, \"ticks\": \"\"}, \"type\": \"contourcarpet\"}], \"heatmap\": [{\"colorbar\": {\"outlinewidth\": 0, \"ticks\": \"\"}, \"colorscale\": [[0.0, \"#0d0887\"], [0.1111111111111111, \"#46039f\"], [0.2222222222222222, \"#7201a8\"], [0.3333333333333333, \"#9c179e\"], [0.4444444444444444, \"#bd3786\"], [0.5555555555555556, \"#d8576b\"], [0.6666666666666666, \"#ed7953\"], [0.7777777777777778, \"#fb9f3a\"], [0.8888888888888888, \"#fdca26\"], [1.0, \"#f0f921\"]], \"type\": \"heatmap\"}], \"heatmapgl\": [{\"colorbar\": {\"outlinewidth\": 0, \"ticks\": \"\"}, \"colorscale\": [[0.0, \"#0d0887\"], [0.1111111111111111, \"#46039f\"], [0.2222222222222222, \"#7201a8\"], [0.3333333333333333, \"#9c179e\"], [0.4444444444444444, \"#bd3786\"], [0.5555555555555556, \"#d8576b\"], [0.6666666666666666, \"#ed7953\"], [0.7777777777777778, \"#fb9f3a\"], [0.8888888888888888, \"#fdca26\"], [1.0, \"#f0f921\"]], \"type\": \"heatmapgl\"}], \"histogram\": [{\"marker\": {\"colorbar\": {\"outlinewidth\": 0, \"ticks\": \"\"}}, \"type\": \"histogram\"}], \"histogram2d\": [{\"colorbar\": {\"outlinewidth\": 0, \"ticks\": \"\"}, \"colorscale\": [[0.0, \"#0d0887\"], [0.1111111111111111, \"#46039f\"], [0.2222222222222222, \"#7201a8\"], [0.3333333333333333, \"#9c179e\"], [0.4444444444444444, \"#bd3786\"], [0.5555555555555556, \"#d8576b\"], [0.6666666666666666, \"#ed7953\"], [0.7777777777777778, \"#fb9f3a\"], [0.8888888888888888, \"#fdca26\"], [1.0, \"#f0f921\"]], \"type\": \"histogram2d\"}], \"histogram2dcontour\": [{\"colorbar\": {\"outlinewidth\": 0, \"ticks\": \"\"}, \"colorscale\": [[0.0, \"#0d0887\"], [0.1111111111111111, \"#46039f\"], [0.2222222222222222, \"#7201a8\"], [0.3333333333333333, \"#9c179e\"], [0.4444444444444444, \"#bd3786\"], [0.5555555555555556, \"#d8576b\"], [0.6666666666666666, \"#ed7953\"], [0.7777777777777778, \"#fb9f3a\"], [0.8888888888888888, \"#fdca26\"], [1.0, \"#f0f921\"]], \"type\": \"histogram2dcontour\"}], \"mesh3d\": [{\"colorbar\": {\"outlinewidth\": 0, \"ticks\": \"\"}, \"type\": \"mesh3d\"}], \"parcoords\": [{\"line\": {\"colorbar\": {\"outlinewidth\": 0, \"ticks\": \"\"}}, \"type\": \"parcoords\"}], \"scatter\": [{\"marker\": {\"colorbar\": {\"outlinewidth\": 0, \"ticks\": \"\"}}, \"type\": \"scatter\"}], \"scatter3d\": [{\"line\": {\"colorbar\": {\"outlinewidth\": 0, \"ticks\": \"\"}}, \"marker\": {\"colorbar\": {\"outlinewidth\": 0, \"ticks\": \"\"}}, \"type\": \"scatter3d\"}], \"scattercarpet\": [{\"marker\": {\"colorbar\": {\"outlinewidth\": 0, \"ticks\": \"\"}}, \"type\": \"scattercarpet\"}], \"scattergeo\": [{\"marker\": {\"colorbar\": {\"outlinewidth\": 0, \"ticks\": \"\"}}, \"type\": \"scattergeo\"}], \"scattergl\": [{\"marker\": {\"colorbar\": {\"outlinewidth\": 0, \"ticks\": \"\"}}, \"type\": \"scattergl\"}], \"scattermapbox\": [{\"marker\": {\"colorbar\": {\"outlinewidth\": 0, \"ticks\": \"\"}}, \"type\": \"scattermapbox\"}], \"scatterpolar\": [{\"marker\": {\"colorbar\": {\"outlinewidth\": 0, \"ticks\": \"\"}}, \"type\": \"scatterpolar\"}], \"scatterpolargl\": [{\"marker\": {\"colorbar\": {\"outlinewidth\": 0, \"ticks\": \"\"}}, \"type\": \"scatterpolargl\"}], \"scatterternary\": [{\"marker\": {\"colorbar\": {\"outlinewidth\": 0, \"ticks\": \"\"}}, \"type\": \"scatterternary\"}], \"surface\": [{\"colorbar\": {\"outlinewidth\": 0, \"ticks\": \"\"}, \"colorscale\": [[0.0, \"#0d0887\"], [0.1111111111111111, \"#46039f\"], [0.2222222222222222, \"#7201a8\"], [0.3333333333333333, \"#9c179e\"], [0.4444444444444444, \"#bd3786\"], [0.5555555555555556, \"#d8576b\"], [0.6666666666666666, \"#ed7953\"], [0.7777777777777778, \"#fb9f3a\"], [0.8888888888888888, \"#fdca26\"], [1.0, \"#f0f921\"]], \"type\": \"surface\"}], \"table\": [{\"cells\": {\"fill\": {\"color\": \"#EBF0F8\"}, \"line\": {\"color\": \"white\"}}, \"header\": {\"fill\": {\"color\": \"#C8D4E3\"}, \"line\": {\"color\": \"white\"}}, \"type\": \"table\"}]}, \"layout\": {\"annotationdefaults\": {\"arrowcolor\": \"#2a3f5f\", \"arrowhead\": 0, \"arrowwidth\": 1}, \"colorscale\": {\"diverging\": [[0, \"#8e0152\"], [0.1, \"#c51b7d\"], [0.2, \"#de77ae\"], [0.3, \"#f1b6da\"], [0.4, \"#fde0ef\"], [0.5, \"#f7f7f7\"], [0.6, \"#e6f5d0\"], [0.7, \"#b8e186\"], [0.8, \"#7fbc41\"], [0.9, \"#4d9221\"], [1, \"#276419\"]], \"sequential\": [[0.0, \"#0d0887\"], [0.1111111111111111, \"#46039f\"], [0.2222222222222222, \"#7201a8\"], [0.3333333333333333, \"#9c179e\"], [0.4444444444444444, \"#bd3786\"], [0.5555555555555556, \"#d8576b\"], [0.6666666666666666, \"#ed7953\"], [0.7777777777777778, \"#fb9f3a\"], [0.8888888888888888, \"#fdca26\"], [1.0, \"#f0f921\"]], \"sequentialminus\": [[0.0, \"#0d0887\"], [0.1111111111111111, \"#46039f\"], [0.2222222222222222, \"#7201a8\"], [0.3333333333333333, \"#9c179e\"], [0.4444444444444444, \"#bd3786\"], [0.5555555555555556, \"#d8576b\"], [0.6666666666666666, \"#ed7953\"], [0.7777777777777778, \"#fb9f3a\"], [0.8888888888888888, \"#fdca26\"], [1.0, \"#f0f921\"]]}, \"colorway\": [\"#636efa\", \"#EF553B\", \"#00cc96\", \"#ab63fa\", \"#FFA15A\", \"#19d3f3\", \"#FF6692\", \"#B6E880\", \"#FF97FF\", \"#FECB52\"], \"font\": {\"color\": \"#2a3f5f\"}, \"geo\": {\"bgcolor\": \"white\", \"lakecolor\": \"white\", \"landcolor\": \"#E5ECF6\", \"showlakes\": true, \"showland\": true, \"subunitcolor\": \"white\"}, \"hoverlabel\": {\"align\": \"left\"}, \"hovermode\": \"closest\", \"mapbox\": {\"style\": \"light\"}, \"paper_bgcolor\": \"white\", \"plot_bgcolor\": \"#E5ECF6\", \"polar\": {\"angularaxis\": {\"gridcolor\": \"white\", \"linecolor\": \"white\", \"ticks\": \"\"}, \"bgcolor\": \"#E5ECF6\", \"radialaxis\": {\"gridcolor\": \"white\", \"linecolor\": \"white\", \"ticks\": \"\"}}, \"scene\": {\"xaxis\": {\"backgroundcolor\": \"#E5ECF6\", \"gridcolor\": \"white\", \"gridwidth\": 2, \"linecolor\": \"white\", \"showbackground\": true, \"ticks\": \"\", \"zerolinecolor\": \"white\"}, \"yaxis\": {\"backgroundcolor\": \"#E5ECF6\", \"gridcolor\": \"white\", \"gridwidth\": 2, \"linecolor\": \"white\", \"showbackground\": true, \"ticks\": \"\", \"zerolinecolor\": \"white\"}, \"zaxis\": {\"backgroundcolor\": \"#E5ECF6\", \"gridcolor\": \"white\", \"gridwidth\": 2, \"linecolor\": \"white\", \"showbackground\": true, \"ticks\": \"\", \"zerolinecolor\": \"white\"}}, \"shapedefaults\": {\"line\": {\"color\": \"#2a3f5f\"}}, \"ternary\": {\"aaxis\": {\"gridcolor\": \"white\", \"linecolor\": \"white\", \"ticks\": \"\"}, \"baxis\": {\"gridcolor\": \"white\", \"linecolor\": \"white\", \"ticks\": \"\"}, \"bgcolor\": \"#E5ECF6\", \"caxis\": {\"gridcolor\": \"white\", \"linecolor\": \"white\", \"ticks\": \"\"}}, \"title\": {\"x\": 0.05}, \"xaxis\": {\"automargin\": true, \"gridcolor\": \"white\", \"linecolor\": \"white\", \"ticks\": \"\", \"zerolinecolor\": \"white\", \"zerolinewidth\": 2}, \"yaxis\": {\"automargin\": true, \"gridcolor\": \"white\", \"linecolor\": \"white\", \"ticks\": \"\", \"zerolinecolor\": \"white\", \"zerolinewidth\": 2}}}, \"title\": {\"text\": \"Bar chart with categorical axes\"}, \"xaxis\": {\"anchor\": \"y\", \"domain\": [0.0, 0.98], \"title\": {\"text\": \"survey_date\"}}, \"yaxis\": {\"anchor\": \"x\", \"domain\": [0.0, 1.0], \"title\": {\"text\": \"quantitative_result\"}, \"type\": \"category\"}},\n",
       "                        {\"responsive\": true}\n",
       "                    ).then(function(){\n",
       "                            \n",
       "var gd = document.getElementById('285cd183-e276-469d-95f8-bed0d3107d75');\n",
       "var x = new MutationObserver(function (mutations, observer) {{\n",
       "        var display = window.getComputedStyle(gd).display;\n",
       "        if (!display || display === 'none') {{\n",
       "            console.log([gd, 'removed!']);\n",
       "            Plotly.purge(gd);\n",
       "            observer.disconnect();\n",
       "        }}\n",
       "}});\n",
       "\n",
       "// Listen for the removal of the full notebook cells\n",
       "var notebookContainer = gd.closest('#notebook-container');\n",
       "if (notebookContainer) {{\n",
       "    x.observe(notebookContainer, {childList: true});\n",
       "}}\n",
       "\n",
       "// Listen for the clearing of the current output cell\n",
       "var outputEl = gd.closest('.output');\n",
       "if (outputEl) {{\n",
       "    x.observe(outputEl, {childList: true});\n",
       "}}\n",
       "\n",
       "                        })\n",
       "                };\n",
       "                });\n",
       "            </script>\n",
       "        </div>"
      ]
     },
     "metadata": {},
     "output_type": "display_data"
    }
   ],
   "source": [
    "import plotly.express as px\n",
    "#df = px.data.iris()\n",
    "fig = px.scatter(df_0.sort_values('quantitative_result'), \n",
    "                 x=\"survey_date\", \n",
    "                 y=\"quantitative_result\", \n",
    "                 color=\"qualitative_result\")\n",
    "fig.update_layout(yaxis_type='category',\n",
    "                  title_text='Bar chart with categorical axes')\n",
    "fig.show()"
   ]
  },
  {
   "cell_type": "code",
   "execution_count": 348,
   "metadata": {},
   "outputs": [],
   "source": [
    "#Dataset de hábitos Habitos.xlsx\n",
    "hab_df = pd.read_csv('habits.csv')"
   ]
  },
  {
   "cell_type": "code",
   "execution_count": 349,
   "metadata": {},
   "outputs": [
    {
     "data": {
      "text/plain": [
       "Index(['Unnamed: 0', 'id_patient', 'registration_date', 'habit_one',\n",
       "       'habit_two'],\n",
       "      dtype='object')"
      ]
     },
     "execution_count": 349,
     "metadata": {},
     "output_type": "execute_result"
    }
   ],
   "source": [
    "hab_df.head().columns"
   ]
  },
  {
   "cell_type": "code",
   "execution_count": 350,
   "metadata": {},
   "outputs": [
    {
     "data": {
      "text/plain": [
       "(1931, 5)"
      ]
     },
     "execution_count": 350,
     "metadata": {},
     "output_type": "execute_result"
    }
   ],
   "source": [
    "hab_df.shape"
   ]
  },
  {
   "cell_type": "code",
   "execution_count": 351,
   "metadata": {},
   "outputs": [
    {
     "data": {
      "text/html": [
       "<div>\n",
       "<style scoped>\n",
       "    .dataframe tbody tr th:only-of-type {\n",
       "        vertical-align: middle;\n",
       "    }\n",
       "\n",
       "    .dataframe tbody tr th {\n",
       "        vertical-align: top;\n",
       "    }\n",
       "\n",
       "    .dataframe thead th {\n",
       "        text-align: right;\n",
       "    }\n",
       "</style>\n",
       "<table border=\"1\" class=\"dataframe\">\n",
       "  <thead>\n",
       "    <tr style=\"text-align: right;\">\n",
       "      <th>habit_one</th>\n",
       "      <th>ALCOHOL</th>\n",
       "      <th>ALIMENTACION</th>\n",
       "      <th>CIGARRILLO</th>\n",
       "      <th>CONSUMO DE CAFE</th>\n",
       "      <th>EJERCICIO</th>\n",
       "      <th>ESTADO ANÍMICO</th>\n",
       "      <th>MASCOTAS</th>\n",
       "      <th>METODO DE PLANIFICACION</th>\n",
       "      <th>SUSTANCIAS PSICOACTIVAS</th>\n",
       "      <th>id_patient</th>\n",
       "      <th>registration_date</th>\n",
       "    </tr>\n",
       "  </thead>\n",
       "  <tbody>\n",
       "    <tr>\n",
       "      <th>0</th>\n",
       "      <td>NaN</td>\n",
       "      <td>NaN</td>\n",
       "      <td>NaN</td>\n",
       "      <td>NaN</td>\n",
       "      <td>NaN</td>\n",
       "      <td>NaN</td>\n",
       "      <td>NaN</td>\n",
       "      <td>IMPLANTE SUBDERMICO</td>\n",
       "      <td>NaN</td>\n",
       "      <td>1001619</td>\n",
       "      <td>2011-11-01</td>\n",
       "    </tr>\n",
       "    <tr>\n",
       "      <th>1</th>\n",
       "      <td>BEBEDOR EXCEPCIONAL</td>\n",
       "      <td>BUENA ALIMENTACION</td>\n",
       "      <td>NO</td>\n",
       "      <td>NaN</td>\n",
       "      <td>1 VEZ POR SEMANA</td>\n",
       "      <td>NaN</td>\n",
       "      <td>NO</td>\n",
       "      <td>NaN</td>\n",
       "      <td>NaN</td>\n",
       "      <td>1001619</td>\n",
       "      <td>2012-07-12</td>\n",
       "    </tr>\n",
       "    <tr>\n",
       "      <th>2</th>\n",
       "      <td>ABSTEMIO</td>\n",
       "      <td>BUENA ALIMENTACION</td>\n",
       "      <td>NO</td>\n",
       "      <td>NaN</td>\n",
       "      <td>3 VECES POR SEMANA</td>\n",
       "      <td>NaN</td>\n",
       "      <td>NaN</td>\n",
       "      <td>NaN</td>\n",
       "      <td>NaN</td>\n",
       "      <td>1004538</td>\n",
       "      <td>2015-08-25</td>\n",
       "    </tr>\n",
       "    <tr>\n",
       "      <th>3</th>\n",
       "      <td>NaN</td>\n",
       "      <td>NaN</td>\n",
       "      <td>NaN</td>\n",
       "      <td>NaN</td>\n",
       "      <td>NaN</td>\n",
       "      <td>NaN</td>\n",
       "      <td>NaN</td>\n",
       "      <td>HISTERECTOMIA</td>\n",
       "      <td>NaN</td>\n",
       "      <td>1004538</td>\n",
       "      <td>2017-09-07</td>\n",
       "    </tr>\n",
       "    <tr>\n",
       "      <th>4</th>\n",
       "      <td>NaN</td>\n",
       "      <td>REGULAR ALIMENTACION</td>\n",
       "      <td>NaN</td>\n",
       "      <td>NaN</td>\n",
       "      <td>NO REALIZA EJERCICIO</td>\n",
       "      <td>ANIMICAMENTE ESTABLE</td>\n",
       "      <td>NO</td>\n",
       "      <td>NaN</td>\n",
       "      <td>NaN</td>\n",
       "      <td>1008837</td>\n",
       "      <td>2011-03-18</td>\n",
       "    </tr>\n",
       "  </tbody>\n",
       "</table>\n",
       "</div>"
      ],
      "text/plain": [
       "habit_one              ALCOHOL          ALIMENTACION CIGARRILLO  \\\n",
       "0                          NaN                   NaN        NaN   \n",
       "1          BEBEDOR EXCEPCIONAL    BUENA ALIMENTACION         NO   \n",
       "2                     ABSTEMIO    BUENA ALIMENTACION         NO   \n",
       "3                          NaN                   NaN        NaN   \n",
       "4                          NaN  REGULAR ALIMENTACION        NaN   \n",
       "\n",
       "habit_one CONSUMO DE CAFE             EJERCICIO        ESTADO ANÍMICO  \\\n",
       "0                     NaN                   NaN                   NaN   \n",
       "1                     NaN      1 VEZ POR SEMANA                   NaN   \n",
       "2                     NaN    3 VECES POR SEMANA                   NaN   \n",
       "3                     NaN                   NaN                   NaN   \n",
       "4                     NaN  NO REALIZA EJERCICIO  ANIMICAMENTE ESTABLE   \n",
       "\n",
       "habit_one MASCOTAS METODO DE PLANIFICACION SUSTANCIAS PSICOACTIVAS  \\\n",
       "0              NaN     IMPLANTE SUBDERMICO                     NaN   \n",
       "1               NO                     NaN                     NaN   \n",
       "2              NaN                     NaN                     NaN   \n",
       "3              NaN           HISTERECTOMIA                     NaN   \n",
       "4               NO                     NaN                     NaN   \n",
       "\n",
       "habit_one  id_patient registration_date  \n",
       "0             1001619        2011-11-01  \n",
       "1             1001619        2012-07-12  \n",
       "2             1004538        2015-08-25  \n",
       "3             1004538        2017-09-07  \n",
       "4             1008837        2011-03-18  "
      ]
     },
     "execution_count": 351,
     "metadata": {},
     "output_type": "execute_result"
    }
   ],
   "source": [
    "temp_df = hab_df[['id_patient', 'registration_date',  'habit_one', 'habit_two']].groupby(by = ['id_patient', 'registration_date', 'habit_one'], as_index = False).agg('first')\n",
    "temp_df['new_id'] = temp_df['id_patient'].apply(lambda x: str(x)) +\"|\"+ temp_df['registration_date'].apply(lambda x: str(x))\n",
    "temp_df = temp_df.pivot(index = 'new_id', columns=\"habit_one\",values=\"habit_two\").reset_index()\n",
    "temp_df['id_patient'] = temp_df['new_id'].str.split(\"|\").apply(lambda x: int(x[0]))                                                             \n",
    "temp_df['registration_date'] = temp_df['new_id'].str.split(\"|\").apply(lambda x: x[1])\n",
    "#temp_df['registration_date'] = pd.to_datetime(temp_df['registration_date'])\n",
    "temp_df = temp_df.drop('new_id', axis = 1)\n",
    "temp_df.head()\n",
    "#temp_df.set_index(['id_patient', 'registration_date']).pivot( columns=\"habit_one\",values=\"habit_two\")"
   ]
  },
  {
   "cell_type": "code",
   "execution_count": 352,
   "metadata": {},
   "outputs": [
    {
     "name": "stdout",
     "output_type": "stream",
     "text": [
      "(856, 5)\n",
      "<class 'pandas.core.frame.DataFrame'>\n",
      "RangeIndex: 856 entries, 0 to 855\n",
      "Data columns (total 5 columns):\n",
      "id_patient             856 non-null int64\n",
      "r_date                 856 non-null object\n",
      "quantitative_result    0 non-null float64\n",
      "qualitative_result     0 non-null float64\n",
      "source                 856 non-null object\n",
      "dtypes: float64(2), int64(1), object(2)\n",
      "memory usage: 33.5+ KB\n",
      "None\n"
     ]
    },
    {
     "data": {
      "text/html": [
       "<div>\n",
       "<style scoped>\n",
       "    .dataframe tbody tr th:only-of-type {\n",
       "        vertical-align: middle;\n",
       "    }\n",
       "\n",
       "    .dataframe tbody tr th {\n",
       "        vertical-align: top;\n",
       "    }\n",
       "\n",
       "    .dataframe thead th {\n",
       "        text-align: right;\n",
       "    }\n",
       "</style>\n",
       "<table border=\"1\" class=\"dataframe\">\n",
       "  <thead>\n",
       "    <tr style=\"text-align: right;\">\n",
       "      <th>habit_one</th>\n",
       "      <th>id_patient</th>\n",
       "      <th>r_date</th>\n",
       "      <th>quantitative_result</th>\n",
       "      <th>qualitative_result</th>\n",
       "      <th>source</th>\n",
       "    </tr>\n",
       "  </thead>\n",
       "  <tbody>\n",
       "    <tr>\n",
       "      <th>0</th>\n",
       "      <td>1001619</td>\n",
       "      <td>2011-11-01</td>\n",
       "      <td>NaN</td>\n",
       "      <td>NaN</td>\n",
       "      <td>habits</td>\n",
       "    </tr>\n",
       "    <tr>\n",
       "      <th>1</th>\n",
       "      <td>1001619</td>\n",
       "      <td>2012-07-12</td>\n",
       "      <td>NaN</td>\n",
       "      <td>NaN</td>\n",
       "      <td>habits</td>\n",
       "    </tr>\n",
       "    <tr>\n",
       "      <th>2</th>\n",
       "      <td>1004538</td>\n",
       "      <td>2015-08-25</td>\n",
       "      <td>NaN</td>\n",
       "      <td>NaN</td>\n",
       "      <td>habits</td>\n",
       "    </tr>\n",
       "    <tr>\n",
       "      <th>3</th>\n",
       "      <td>1004538</td>\n",
       "      <td>2017-09-07</td>\n",
       "      <td>NaN</td>\n",
       "      <td>NaN</td>\n",
       "      <td>habits</td>\n",
       "    </tr>\n",
       "    <tr>\n",
       "      <th>4</th>\n",
       "      <td>1008837</td>\n",
       "      <td>2011-03-18</td>\n",
       "      <td>NaN</td>\n",
       "      <td>NaN</td>\n",
       "      <td>habits</td>\n",
       "    </tr>\n",
       "  </tbody>\n",
       "</table>\n",
       "</div>"
      ],
      "text/plain": [
       "habit_one  id_patient      r_date  quantitative_result  qualitative_result  \\\n",
       "0             1001619  2011-11-01                  NaN                 NaN   \n",
       "1             1001619  2012-07-12                  NaN                 NaN   \n",
       "2             1004538  2015-08-25                  NaN                 NaN   \n",
       "3             1004538  2017-09-07                  NaN                 NaN   \n",
       "4             1008837  2011-03-18                  NaN                 NaN   \n",
       "\n",
       "habit_one  source  \n",
       "0          habits  \n",
       "1          habits  \n",
       "2          habits  \n",
       "3          habits  \n",
       "4          habits  "
      ]
     },
     "execution_count": 352,
     "metadata": {},
     "output_type": "execute_result"
    }
   ],
   "source": [
    "hab_df = temp_df\n",
    "df_1 = hab_df[['id_patient', 'registration_date']].rename(columns = {'registration_date':'r_date'}).copy()\n",
    "df_1['quantitative_result'] = np.nan #qualitative_result\n",
    "df_1['qualitative_result'] = np.nan\n",
    "df_1['source'] = 'habits'\n",
    "print(df_1.shape)\n",
    "print(df_1.info())\n",
    "df_1.head()"
   ]
  },
  {
   "cell_type": "code",
   "execution_count": 353,
   "metadata": {},
   "outputs": [
    {
     "name": "stdout",
     "output_type": "stream",
     "text": [
      "(4773, 5)\n",
      "<class 'pandas.core.frame.DataFrame'>\n",
      "RangeIndex: 4773 entries, 0 to 4772\n",
      "Data columns (total 5 columns):\n",
      "id_patient             4773 non-null int64\n",
      "r_date                 4773 non-null object\n",
      "quantitative_result    4773 non-null category\n",
      "qualitative_result     4773 non-null object\n",
      "source                 4773 non-null object\n",
      "dtypes: category(1), int64(1), object(3)\n",
      "memory usage: 154.1+ KB\n",
      "None\n"
     ]
    },
    {
     "data": {
      "text/html": [
       "<div>\n",
       "<style scoped>\n",
       "    .dataframe tbody tr th:only-of-type {\n",
       "        vertical-align: middle;\n",
       "    }\n",
       "\n",
       "    .dataframe tbody tr th {\n",
       "        vertical-align: top;\n",
       "    }\n",
       "\n",
       "    .dataframe thead th {\n",
       "        text-align: right;\n",
       "    }\n",
       "</style>\n",
       "<table border=\"1\" class=\"dataframe\">\n",
       "  <thead>\n",
       "    <tr style=\"text-align: right;\">\n",
       "      <th></th>\n",
       "      <th>id_patient</th>\n",
       "      <th>r_date</th>\n",
       "      <th>quantitative_result</th>\n",
       "      <th>qualitative_result</th>\n",
       "      <th>source</th>\n",
       "    </tr>\n",
       "  </thead>\n",
       "  <tbody>\n",
       "    <tr>\n",
       "      <th>0</th>\n",
       "      <td>529410</td>\n",
       "      <td>2012-04-19</td>\n",
       "      <td>95-100%</td>\n",
       "      <td>no</td>\n",
       "      <td>adherence</td>\n",
       "    </tr>\n",
       "    <tr>\n",
       "      <th>1</th>\n",
       "      <td>1101180</td>\n",
       "      <td>2012-04-24</td>\n",
       "      <td>95-100%</td>\n",
       "      <td>no</td>\n",
       "      <td>adherence</td>\n",
       "    </tr>\n",
       "    <tr>\n",
       "      <th>2</th>\n",
       "      <td>1053118</td>\n",
       "      <td>2012-05-03</td>\n",
       "      <td>95-100%</td>\n",
       "      <td>no</td>\n",
       "      <td>adherence</td>\n",
       "    </tr>\n",
       "    <tr>\n",
       "      <th>3</th>\n",
       "      <td>1198956</td>\n",
       "      <td>2012-05-16</td>\n",
       "      <td>95-100%</td>\n",
       "      <td>no</td>\n",
       "      <td>adherence</td>\n",
       "    </tr>\n",
       "    <tr>\n",
       "      <th>4</th>\n",
       "      <td>605968</td>\n",
       "      <td>2012-05-17</td>\n",
       "      <td>95-100%</td>\n",
       "      <td>no</td>\n",
       "      <td>adherence</td>\n",
       "    </tr>\n",
       "  </tbody>\n",
       "</table>\n",
       "</div>"
      ],
      "text/plain": [
       "   id_patient      r_date quantitative_result qualitative_result     source\n",
       "0      529410  2012-04-19             95-100%                 no  adherence\n",
       "1     1101180  2012-04-24             95-100%                 no  adherence\n",
       "2     1053118  2012-05-03             95-100%                 no  adherence\n",
       "3     1198956  2012-05-16             95-100%                 no  adherence\n",
       "4      605968  2012-05-17             95-100%                 no  adherence"
      ]
     },
     "execution_count": 353,
     "metadata": {},
     "output_type": "execute_result"
    }
   ],
   "source": [
    "df_2 = adh_df[['id_patient', 'survey_date', 'quantitative_result', 'qualitative_result']].rename(columns = {'survey_date':'r_date'}).copy()\n",
    "df_2['source'] = 'adherence'\n",
    "print(df_2.shape)\n",
    "print(df_2.info())\n",
    "df_2.head()"
   ]
  },
  {
   "cell_type": "code",
   "execution_count": 354,
   "metadata": {},
   "outputs": [
    {
     "name": "stdout",
     "output_type": "stream",
     "text": [
      "(5629, 5)\n"
     ]
    },
    {
     "data": {
      "text/plain": [
       "1769865    44\n",
       "979605     33\n",
       "1132214    31\n",
       "622031     30\n",
       "692765     29\n",
       "1676414    28\n",
       "1196034    27\n",
       "916510     26\n",
       "1437443    26\n",
       "1536265    26\n",
       "832593     25\n",
       "1764814    25\n",
       "1828862    25\n",
       "871633     25\n",
       "1399081    25\n",
       "1199605    24\n",
       "747471     24\n",
       "813655     23\n",
       "1715065    23\n",
       "801004     22\n",
       "Name: id_patient, dtype: int64"
      ]
     },
     "execution_count": 354,
     "metadata": {},
     "output_type": "execute_result"
    }
   ],
   "source": [
    "df_3 = df_1.append(df_2)\n",
    "print(df_3.shape)\n",
    "df_3['id_patient'].value_counts().head(20)"
   ]
  },
  {
   "cell_type": "code",
   "execution_count": 355,
   "metadata": {},
   "outputs": [
    {
     "data": {
      "text/html": [
       "<div>\n",
       "<style scoped>\n",
       "    .dataframe tbody tr th:only-of-type {\n",
       "        vertical-align: middle;\n",
       "    }\n",
       "\n",
       "    .dataframe tbody tr th {\n",
       "        vertical-align: top;\n",
       "    }\n",
       "\n",
       "    .dataframe thead th {\n",
       "        text-align: right;\n",
       "    }\n",
       "</style>\n",
       "<table border=\"1\" class=\"dataframe\">\n",
       "  <thead>\n",
       "    <tr style=\"text-align: right;\">\n",
       "      <th>habit_one</th>\n",
       "      <th>id_patient</th>\n",
       "      <th>r_date</th>\n",
       "      <th>quantitative_result</th>\n",
       "      <th>qualitative_result</th>\n",
       "      <th>source</th>\n",
       "    </tr>\n",
       "  </thead>\n",
       "  <tbody>\n",
       "    <tr>\n",
       "      <th>468</th>\n",
       "      <td>1769865</td>\n",
       "      <td>2012-10-18</td>\n",
       "      <td>NaN</td>\n",
       "      <td>NaN</td>\n",
       "      <td>habits</td>\n",
       "    </tr>\n",
       "    <tr>\n",
       "      <th>31</th>\n",
       "      <td>1769865</td>\n",
       "      <td>2012-10-18</td>\n",
       "      <td>85-94%</td>\n",
       "      <td>no</td>\n",
       "      <td>adherence</td>\n",
       "    </tr>\n",
       "    <tr>\n",
       "      <th>469</th>\n",
       "      <td>1769865</td>\n",
       "      <td>2013-03-15</td>\n",
       "      <td>NaN</td>\n",
       "      <td>NaN</td>\n",
       "      <td>habits</td>\n",
       "    </tr>\n",
       "    <tr>\n",
       "      <th>88</th>\n",
       "      <td>1769865</td>\n",
       "      <td>2013-04-15</td>\n",
       "      <td>95-100%</td>\n",
       "      <td>si</td>\n",
       "      <td>adherence</td>\n",
       "    </tr>\n",
       "    <tr>\n",
       "      <th>292</th>\n",
       "      <td>1769865</td>\n",
       "      <td>2014-02-10</td>\n",
       "      <td>85-94%</td>\n",
       "      <td>no</td>\n",
       "      <td>adherence</td>\n",
       "    </tr>\n",
       "    <tr>\n",
       "      <th>477</th>\n",
       "      <td>1769865</td>\n",
       "      <td>2014-09-19</td>\n",
       "      <td>95-100%</td>\n",
       "      <td>si</td>\n",
       "      <td>adherence</td>\n",
       "    </tr>\n",
       "    <tr>\n",
       "      <th>553</th>\n",
       "      <td>1769865</td>\n",
       "      <td>2014-10-28</td>\n",
       "      <td>85-94%</td>\n",
       "      <td>no</td>\n",
       "      <td>adherence</td>\n",
       "    </tr>\n",
       "    <tr>\n",
       "      <th>616</th>\n",
       "      <td>1769865</td>\n",
       "      <td>2015-01-09</td>\n",
       "      <td>85-94%</td>\n",
       "      <td>no</td>\n",
       "      <td>adherence</td>\n",
       "    </tr>\n",
       "    <tr>\n",
       "      <th>778</th>\n",
       "      <td>1769865</td>\n",
       "      <td>2015-08-26</td>\n",
       "      <td>85-94%</td>\n",
       "      <td>no</td>\n",
       "      <td>adherence</td>\n",
       "    </tr>\n",
       "    <tr>\n",
       "      <th>810</th>\n",
       "      <td>1769865</td>\n",
       "      <td>2015-09-11</td>\n",
       "      <td>95-100%</td>\n",
       "      <td>si</td>\n",
       "      <td>adherence</td>\n",
       "    </tr>\n",
       "    <tr>\n",
       "      <th>833</th>\n",
       "      <td>1769865</td>\n",
       "      <td>2015-09-29</td>\n",
       "      <td>64-84%</td>\n",
       "      <td>no</td>\n",
       "      <td>adherence</td>\n",
       "    </tr>\n",
       "    <tr>\n",
       "      <th>946</th>\n",
       "      <td>1769865</td>\n",
       "      <td>2015-12-07</td>\n",
       "      <td>95-100%</td>\n",
       "      <td>si</td>\n",
       "      <td>adherence</td>\n",
       "    </tr>\n",
       "    <tr>\n",
       "      <th>983</th>\n",
       "      <td>1769865</td>\n",
       "      <td>2015-12-29</td>\n",
       "      <td>85-94%</td>\n",
       "      <td>no</td>\n",
       "      <td>adherence</td>\n",
       "    </tr>\n",
       "    <tr>\n",
       "      <th>1108</th>\n",
       "      <td>1769865</td>\n",
       "      <td>2016-02-29</td>\n",
       "      <td>95-100%</td>\n",
       "      <td>si</td>\n",
       "      <td>adherence</td>\n",
       "    </tr>\n",
       "    <tr>\n",
       "      <th>1135</th>\n",
       "      <td>1769865</td>\n",
       "      <td>2016-03-23</td>\n",
       "      <td>95-100%</td>\n",
       "      <td>si</td>\n",
       "      <td>adherence</td>\n",
       "    </tr>\n",
       "    <tr>\n",
       "      <th>1247</th>\n",
       "      <td>1769865</td>\n",
       "      <td>2016-07-05</td>\n",
       "      <td>&lt;30%</td>\n",
       "      <td>no</td>\n",
       "      <td>adherence</td>\n",
       "    </tr>\n",
       "    <tr>\n",
       "      <th>1250</th>\n",
       "      <td>1769865</td>\n",
       "      <td>2016-07-08</td>\n",
       "      <td>64-84%</td>\n",
       "      <td>no</td>\n",
       "      <td>adherence</td>\n",
       "    </tr>\n",
       "    <tr>\n",
       "      <th>1262</th>\n",
       "      <td>1769865</td>\n",
       "      <td>2016-07-26</td>\n",
       "      <td>30-65%</td>\n",
       "      <td>no</td>\n",
       "      <td>adherence</td>\n",
       "    </tr>\n",
       "    <tr>\n",
       "      <th>1287</th>\n",
       "      <td>1769865</td>\n",
       "      <td>2016-08-10</td>\n",
       "      <td>64-84%</td>\n",
       "      <td>no</td>\n",
       "      <td>adherence</td>\n",
       "    </tr>\n",
       "    <tr>\n",
       "      <th>1321</th>\n",
       "      <td>1769865</td>\n",
       "      <td>2016-09-01</td>\n",
       "      <td>64-84%</td>\n",
       "      <td>no</td>\n",
       "      <td>adherence</td>\n",
       "    </tr>\n",
       "    <tr>\n",
       "      <th>1337</th>\n",
       "      <td>1769865</td>\n",
       "      <td>2016-09-06</td>\n",
       "      <td>30-65%</td>\n",
       "      <td>no</td>\n",
       "      <td>adherence</td>\n",
       "    </tr>\n",
       "    <tr>\n",
       "      <th>1437</th>\n",
       "      <td>1769865</td>\n",
       "      <td>2016-10-11</td>\n",
       "      <td>30-65%</td>\n",
       "      <td>no</td>\n",
       "      <td>adherence</td>\n",
       "    </tr>\n",
       "    <tr>\n",
       "      <th>1470</th>\n",
       "      <td>1769865</td>\n",
       "      <td>2016-10-26</td>\n",
       "      <td>30-65%</td>\n",
       "      <td>no</td>\n",
       "      <td>adherence</td>\n",
       "    </tr>\n",
       "    <tr>\n",
       "      <th>1523</th>\n",
       "      <td>1769865</td>\n",
       "      <td>2016-11-11</td>\n",
       "      <td>95-100%</td>\n",
       "      <td>si</td>\n",
       "      <td>adherence</td>\n",
       "    </tr>\n",
       "    <tr>\n",
       "      <th>1743</th>\n",
       "      <td>1769865</td>\n",
       "      <td>2017-02-27</td>\n",
       "      <td>95-100%</td>\n",
       "      <td>si</td>\n",
       "      <td>adherence</td>\n",
       "    </tr>\n",
       "    <tr>\n",
       "      <th>1754</th>\n",
       "      <td>1769865</td>\n",
       "      <td>2017-03-01</td>\n",
       "      <td>95-100%</td>\n",
       "      <td>si</td>\n",
       "      <td>adherence</td>\n",
       "    </tr>\n",
       "    <tr>\n",
       "      <th>1833</th>\n",
       "      <td>1769865</td>\n",
       "      <td>2017-03-27</td>\n",
       "      <td>64-84%</td>\n",
       "      <td>no</td>\n",
       "      <td>adherence</td>\n",
       "    </tr>\n",
       "    <tr>\n",
       "      <th>1921</th>\n",
       "      <td>1769865</td>\n",
       "      <td>2017-05-10</td>\n",
       "      <td>95-100%</td>\n",
       "      <td>si</td>\n",
       "      <td>adherence</td>\n",
       "    </tr>\n",
       "    <tr>\n",
       "      <th>1960</th>\n",
       "      <td>1769865</td>\n",
       "      <td>2017-05-18</td>\n",
       "      <td>95-100%</td>\n",
       "      <td>si</td>\n",
       "      <td>adherence</td>\n",
       "    </tr>\n",
       "    <tr>\n",
       "      <th>2097</th>\n",
       "      <td>1769865</td>\n",
       "      <td>2017-07-28</td>\n",
       "      <td>95-100%</td>\n",
       "      <td>si</td>\n",
       "      <td>adherence</td>\n",
       "    </tr>\n",
       "    <tr>\n",
       "      <th>2151</th>\n",
       "      <td>1769865</td>\n",
       "      <td>2017-08-15</td>\n",
       "      <td>95-100%</td>\n",
       "      <td>si</td>\n",
       "      <td>adherence</td>\n",
       "    </tr>\n",
       "    <tr>\n",
       "      <th>470</th>\n",
       "      <td>1769865</td>\n",
       "      <td>2017-08-24</td>\n",
       "      <td>NaN</td>\n",
       "      <td>NaN</td>\n",
       "      <td>habits</td>\n",
       "    </tr>\n",
       "    <tr>\n",
       "      <th>2185</th>\n",
       "      <td>1769865</td>\n",
       "      <td>2017-08-30</td>\n",
       "      <td>95-100%</td>\n",
       "      <td>si</td>\n",
       "      <td>adherence</td>\n",
       "    </tr>\n",
       "    <tr>\n",
       "      <th>2352</th>\n",
       "      <td>1769865</td>\n",
       "      <td>2017-12-05</td>\n",
       "      <td>95-100%</td>\n",
       "      <td>si</td>\n",
       "      <td>adherence</td>\n",
       "    </tr>\n",
       "    <tr>\n",
       "      <th>2437</th>\n",
       "      <td>1769865</td>\n",
       "      <td>2018-01-25</td>\n",
       "      <td>95-100%</td>\n",
       "      <td>no</td>\n",
       "      <td>adherence</td>\n",
       "    </tr>\n",
       "    <tr>\n",
       "      <th>2470</th>\n",
       "      <td>1769865</td>\n",
       "      <td>2018-01-29</td>\n",
       "      <td>95-100%</td>\n",
       "      <td>no</td>\n",
       "      <td>adherence</td>\n",
       "    </tr>\n",
       "    <tr>\n",
       "      <th>2646</th>\n",
       "      <td>1769865</td>\n",
       "      <td>2018-03-13</td>\n",
       "      <td>85-94%</td>\n",
       "      <td>no</td>\n",
       "      <td>adherence</td>\n",
       "    </tr>\n",
       "    <tr>\n",
       "      <th>3038</th>\n",
       "      <td>1769865</td>\n",
       "      <td>2018-10-01</td>\n",
       "      <td>95-100%</td>\n",
       "      <td>no</td>\n",
       "      <td>adherence</td>\n",
       "    </tr>\n",
       "    <tr>\n",
       "      <th>3143</th>\n",
       "      <td>1769865</td>\n",
       "      <td>2018-10-09</td>\n",
       "      <td>95-100%</td>\n",
       "      <td>no</td>\n",
       "      <td>adherence</td>\n",
       "    </tr>\n",
       "    <tr>\n",
       "      <th>3262</th>\n",
       "      <td>1769865</td>\n",
       "      <td>2018-11-14</td>\n",
       "      <td>95-100%</td>\n",
       "      <td>si</td>\n",
       "      <td>adherence</td>\n",
       "    </tr>\n",
       "    <tr>\n",
       "      <th>3832</th>\n",
       "      <td>1769865</td>\n",
       "      <td>2019-05-24</td>\n",
       "      <td>95-100%</td>\n",
       "      <td>si</td>\n",
       "      <td>adherence</td>\n",
       "    </tr>\n",
       "    <tr>\n",
       "      <th>4127</th>\n",
       "      <td>1769865</td>\n",
       "      <td>2019-08-27</td>\n",
       "      <td>95-100%</td>\n",
       "      <td>si</td>\n",
       "      <td>adherence</td>\n",
       "    </tr>\n",
       "    <tr>\n",
       "      <th>4254</th>\n",
       "      <td>1769865</td>\n",
       "      <td>2019-10-25</td>\n",
       "      <td>95-100%</td>\n",
       "      <td>si</td>\n",
       "      <td>adherence</td>\n",
       "    </tr>\n",
       "    <tr>\n",
       "      <th>4594</th>\n",
       "      <td>1769865</td>\n",
       "      <td>2020-03-31</td>\n",
       "      <td>95-100%</td>\n",
       "      <td>si</td>\n",
       "      <td>adherence</td>\n",
       "    </tr>\n",
       "  </tbody>\n",
       "</table>\n",
       "</div>"
      ],
      "text/plain": [
       "habit_one  id_patient      r_date quantitative_result qualitative_result  \\\n",
       "468           1769865  2012-10-18                 NaN                NaN   \n",
       "31            1769865  2012-10-18              85-94%                 no   \n",
       "469           1769865  2013-03-15                 NaN                NaN   \n",
       "88            1769865  2013-04-15             95-100%                 si   \n",
       "292           1769865  2014-02-10              85-94%                 no   \n",
       "477           1769865  2014-09-19             95-100%                 si   \n",
       "553           1769865  2014-10-28              85-94%                 no   \n",
       "616           1769865  2015-01-09              85-94%                 no   \n",
       "778           1769865  2015-08-26              85-94%                 no   \n",
       "810           1769865  2015-09-11             95-100%                 si   \n",
       "833           1769865  2015-09-29              64-84%                 no   \n",
       "946           1769865  2015-12-07             95-100%                 si   \n",
       "983           1769865  2015-12-29              85-94%                 no   \n",
       "1108          1769865  2016-02-29             95-100%                 si   \n",
       "1135          1769865  2016-03-23             95-100%                 si   \n",
       "1247          1769865  2016-07-05                <30%                 no   \n",
       "1250          1769865  2016-07-08              64-84%                 no   \n",
       "1262          1769865  2016-07-26              30-65%                 no   \n",
       "1287          1769865  2016-08-10              64-84%                 no   \n",
       "1321          1769865  2016-09-01              64-84%                 no   \n",
       "1337          1769865  2016-09-06              30-65%                 no   \n",
       "1437          1769865  2016-10-11              30-65%                 no   \n",
       "1470          1769865  2016-10-26              30-65%                 no   \n",
       "1523          1769865  2016-11-11             95-100%                 si   \n",
       "1743          1769865  2017-02-27             95-100%                 si   \n",
       "1754          1769865  2017-03-01             95-100%                 si   \n",
       "1833          1769865  2017-03-27              64-84%                 no   \n",
       "1921          1769865  2017-05-10             95-100%                 si   \n",
       "1960          1769865  2017-05-18             95-100%                 si   \n",
       "2097          1769865  2017-07-28             95-100%                 si   \n",
       "2151          1769865  2017-08-15             95-100%                 si   \n",
       "470           1769865  2017-08-24                 NaN                NaN   \n",
       "2185          1769865  2017-08-30             95-100%                 si   \n",
       "2352          1769865  2017-12-05             95-100%                 si   \n",
       "2437          1769865  2018-01-25             95-100%                 no   \n",
       "2470          1769865  2018-01-29             95-100%                 no   \n",
       "2646          1769865  2018-03-13              85-94%                 no   \n",
       "3038          1769865  2018-10-01             95-100%                 no   \n",
       "3143          1769865  2018-10-09             95-100%                 no   \n",
       "3262          1769865  2018-11-14             95-100%                 si   \n",
       "3832          1769865  2019-05-24             95-100%                 si   \n",
       "4127          1769865  2019-08-27             95-100%                 si   \n",
       "4254          1769865  2019-10-25             95-100%                 si   \n",
       "4594          1769865  2020-03-31             95-100%                 si   \n",
       "\n",
       "habit_one     source  \n",
       "468           habits  \n",
       "31         adherence  \n",
       "469           habits  \n",
       "88         adherence  \n",
       "292        adherence  \n",
       "477        adherence  \n",
       "553        adherence  \n",
       "616        adherence  \n",
       "778        adherence  \n",
       "810        adherence  \n",
       "833        adherence  \n",
       "946        adherence  \n",
       "983        adherence  \n",
       "1108       adherence  \n",
       "1135       adherence  \n",
       "1247       adherence  \n",
       "1250       adherence  \n",
       "1262       adherence  \n",
       "1287       adherence  \n",
       "1321       adherence  \n",
       "1337       adherence  \n",
       "1437       adherence  \n",
       "1470       adherence  \n",
       "1523       adherence  \n",
       "1743       adherence  \n",
       "1754       adherence  \n",
       "1833       adherence  \n",
       "1921       adherence  \n",
       "1960       adherence  \n",
       "2097       adherence  \n",
       "2151       adherence  \n",
       "470           habits  \n",
       "2185       adherence  \n",
       "2352       adherence  \n",
       "2437       adherence  \n",
       "2470       adherence  \n",
       "2646       adherence  \n",
       "3038       adherence  \n",
       "3143       adherence  \n",
       "3262       adherence  \n",
       "3832       adherence  \n",
       "4127       adherence  \n",
       "4254       adherence  \n",
       "4594       adherence  "
      ]
     },
     "execution_count": 355,
     "metadata": {},
     "output_type": "execute_result"
    }
   ],
   "source": [
    "df_3[df_3['id_patient'] == 1769865].sort_values('r_date')"
   ]
  },
  {
   "cell_type": "code",
   "execution_count": 356,
   "metadata": {},
   "outputs": [
    {
     "data": {
      "application/vnd.plotly.v1+json": {
       "config": {
        "plotlyServerURL": "https://plot.ly"
       },
       "data": [
        {
         "hoverlabel": {
          "namelength": 0
         },
         "hovertemplate": "r_date=%{x}<br>quantitative_result=%{y}",
         "legendgroup": "",
         "marker": {
          "color": "#636efa",
          "symbol": "circle"
         },
         "mode": "markers",
         "name": "",
         "showlegend": false,
         "type": "scatter",
         "x": [
          "2016-10-26",
          "2016-10-11",
          "2016-09-06",
          "2016-07-26",
          "2017-03-27",
          "2016-09-01",
          "2016-08-10",
          "2015-09-29",
          "2016-07-08",
          "2018-03-13",
          "2012-10-18",
          "2015-12-29",
          "2014-02-10",
          "2015-08-26",
          "2015-01-09",
          "2014-10-28",
          "2016-02-29",
          "2017-12-05",
          "2018-01-25",
          "2018-01-29",
          "2018-10-01",
          "2017-08-30",
          "2018-10-09",
          "2018-11-14",
          "2019-05-24",
          "2019-08-27",
          "2013-04-15",
          "2017-08-15",
          "2017-05-10",
          "2017-05-18",
          "2017-03-01",
          "2017-02-27",
          "2016-11-11",
          "2019-10-25",
          "2014-09-19",
          "2015-09-11",
          "2015-12-07",
          "2016-03-23",
          "2017-07-28",
          "2020-03-31",
          "2016-07-05",
          "2012-10-18",
          "2013-03-15",
          "2017-08-24"
         ],
         "xaxis": "x",
         "y": [
          "30-65%",
          "30-65%",
          "30-65%",
          "30-65%",
          "64-84%",
          "64-84%",
          "64-84%",
          "64-84%",
          "64-84%",
          "85-94%",
          "85-94%",
          "85-94%",
          "85-94%",
          "85-94%",
          "85-94%",
          "85-94%",
          "95-100%",
          "95-100%",
          "95-100%",
          "95-100%",
          "95-100%",
          "95-100%",
          "95-100%",
          "95-100%",
          "95-100%",
          "95-100%",
          "95-100%",
          "95-100%",
          "95-100%",
          "95-100%",
          "95-100%",
          "95-100%",
          "95-100%",
          "95-100%",
          "95-100%",
          "95-100%",
          "95-100%",
          "95-100%",
          "95-100%",
          "95-100%",
          "<30%",
          null,
          null,
          null
         ],
         "yaxis": "y"
        }
       ],
       "layout": {
        "height": 600,
        "legend": {
         "tracegroupgap": 0
        },
        "margin": {
         "t": 60
        },
        "template": {
         "data": {
          "bar": [
           {
            "error_x": {
             "color": "#2a3f5f"
            },
            "error_y": {
             "color": "#2a3f5f"
            },
            "marker": {
             "line": {
              "color": "#E5ECF6",
              "width": 0.5
             }
            },
            "type": "bar"
           }
          ],
          "barpolar": [
           {
            "marker": {
             "line": {
              "color": "#E5ECF6",
              "width": 0.5
             }
            },
            "type": "barpolar"
           }
          ],
          "carpet": [
           {
            "aaxis": {
             "endlinecolor": "#2a3f5f",
             "gridcolor": "white",
             "linecolor": "white",
             "minorgridcolor": "white",
             "startlinecolor": "#2a3f5f"
            },
            "baxis": {
             "endlinecolor": "#2a3f5f",
             "gridcolor": "white",
             "linecolor": "white",
             "minorgridcolor": "white",
             "startlinecolor": "#2a3f5f"
            },
            "type": "carpet"
           }
          ],
          "choropleth": [
           {
            "colorbar": {
             "outlinewidth": 0,
             "ticks": ""
            },
            "type": "choropleth"
           }
          ],
          "contour": [
           {
            "colorbar": {
             "outlinewidth": 0,
             "ticks": ""
            },
            "colorscale": [
             [
              0,
              "#0d0887"
             ],
             [
              0.1111111111111111,
              "#46039f"
             ],
             [
              0.2222222222222222,
              "#7201a8"
             ],
             [
              0.3333333333333333,
              "#9c179e"
             ],
             [
              0.4444444444444444,
              "#bd3786"
             ],
             [
              0.5555555555555556,
              "#d8576b"
             ],
             [
              0.6666666666666666,
              "#ed7953"
             ],
             [
              0.7777777777777778,
              "#fb9f3a"
             ],
             [
              0.8888888888888888,
              "#fdca26"
             ],
             [
              1,
              "#f0f921"
             ]
            ],
            "type": "contour"
           }
          ],
          "contourcarpet": [
           {
            "colorbar": {
             "outlinewidth": 0,
             "ticks": ""
            },
            "type": "contourcarpet"
           }
          ],
          "heatmap": [
           {
            "colorbar": {
             "outlinewidth": 0,
             "ticks": ""
            },
            "colorscale": [
             [
              0,
              "#0d0887"
             ],
             [
              0.1111111111111111,
              "#46039f"
             ],
             [
              0.2222222222222222,
              "#7201a8"
             ],
             [
              0.3333333333333333,
              "#9c179e"
             ],
             [
              0.4444444444444444,
              "#bd3786"
             ],
             [
              0.5555555555555556,
              "#d8576b"
             ],
             [
              0.6666666666666666,
              "#ed7953"
             ],
             [
              0.7777777777777778,
              "#fb9f3a"
             ],
             [
              0.8888888888888888,
              "#fdca26"
             ],
             [
              1,
              "#f0f921"
             ]
            ],
            "type": "heatmap"
           }
          ],
          "heatmapgl": [
           {
            "colorbar": {
             "outlinewidth": 0,
             "ticks": ""
            },
            "colorscale": [
             [
              0,
              "#0d0887"
             ],
             [
              0.1111111111111111,
              "#46039f"
             ],
             [
              0.2222222222222222,
              "#7201a8"
             ],
             [
              0.3333333333333333,
              "#9c179e"
             ],
             [
              0.4444444444444444,
              "#bd3786"
             ],
             [
              0.5555555555555556,
              "#d8576b"
             ],
             [
              0.6666666666666666,
              "#ed7953"
             ],
             [
              0.7777777777777778,
              "#fb9f3a"
             ],
             [
              0.8888888888888888,
              "#fdca26"
             ],
             [
              1,
              "#f0f921"
             ]
            ],
            "type": "heatmapgl"
           }
          ],
          "histogram": [
           {
            "marker": {
             "colorbar": {
              "outlinewidth": 0,
              "ticks": ""
             }
            },
            "type": "histogram"
           }
          ],
          "histogram2d": [
           {
            "colorbar": {
             "outlinewidth": 0,
             "ticks": ""
            },
            "colorscale": [
             [
              0,
              "#0d0887"
             ],
             [
              0.1111111111111111,
              "#46039f"
             ],
             [
              0.2222222222222222,
              "#7201a8"
             ],
             [
              0.3333333333333333,
              "#9c179e"
             ],
             [
              0.4444444444444444,
              "#bd3786"
             ],
             [
              0.5555555555555556,
              "#d8576b"
             ],
             [
              0.6666666666666666,
              "#ed7953"
             ],
             [
              0.7777777777777778,
              "#fb9f3a"
             ],
             [
              0.8888888888888888,
              "#fdca26"
             ],
             [
              1,
              "#f0f921"
             ]
            ],
            "type": "histogram2d"
           }
          ],
          "histogram2dcontour": [
           {
            "colorbar": {
             "outlinewidth": 0,
             "ticks": ""
            },
            "colorscale": [
             [
              0,
              "#0d0887"
             ],
             [
              0.1111111111111111,
              "#46039f"
             ],
             [
              0.2222222222222222,
              "#7201a8"
             ],
             [
              0.3333333333333333,
              "#9c179e"
             ],
             [
              0.4444444444444444,
              "#bd3786"
             ],
             [
              0.5555555555555556,
              "#d8576b"
             ],
             [
              0.6666666666666666,
              "#ed7953"
             ],
             [
              0.7777777777777778,
              "#fb9f3a"
             ],
             [
              0.8888888888888888,
              "#fdca26"
             ],
             [
              1,
              "#f0f921"
             ]
            ],
            "type": "histogram2dcontour"
           }
          ],
          "mesh3d": [
           {
            "colorbar": {
             "outlinewidth": 0,
             "ticks": ""
            },
            "type": "mesh3d"
           }
          ],
          "parcoords": [
           {
            "line": {
             "colorbar": {
              "outlinewidth": 0,
              "ticks": ""
             }
            },
            "type": "parcoords"
           }
          ],
          "scatter": [
           {
            "marker": {
             "colorbar": {
              "outlinewidth": 0,
              "ticks": ""
             }
            },
            "type": "scatter"
           }
          ],
          "scatter3d": [
           {
            "line": {
             "colorbar": {
              "outlinewidth": 0,
              "ticks": ""
             }
            },
            "marker": {
             "colorbar": {
              "outlinewidth": 0,
              "ticks": ""
             }
            },
            "type": "scatter3d"
           }
          ],
          "scattercarpet": [
           {
            "marker": {
             "colorbar": {
              "outlinewidth": 0,
              "ticks": ""
             }
            },
            "type": "scattercarpet"
           }
          ],
          "scattergeo": [
           {
            "marker": {
             "colorbar": {
              "outlinewidth": 0,
              "ticks": ""
             }
            },
            "type": "scattergeo"
           }
          ],
          "scattergl": [
           {
            "marker": {
             "colorbar": {
              "outlinewidth": 0,
              "ticks": ""
             }
            },
            "type": "scattergl"
           }
          ],
          "scattermapbox": [
           {
            "marker": {
             "colorbar": {
              "outlinewidth": 0,
              "ticks": ""
             }
            },
            "type": "scattermapbox"
           }
          ],
          "scatterpolar": [
           {
            "marker": {
             "colorbar": {
              "outlinewidth": 0,
              "ticks": ""
             }
            },
            "type": "scatterpolar"
           }
          ],
          "scatterpolargl": [
           {
            "marker": {
             "colorbar": {
              "outlinewidth": 0,
              "ticks": ""
             }
            },
            "type": "scatterpolargl"
           }
          ],
          "scatterternary": [
           {
            "marker": {
             "colorbar": {
              "outlinewidth": 0,
              "ticks": ""
             }
            },
            "type": "scatterternary"
           }
          ],
          "surface": [
           {
            "colorbar": {
             "outlinewidth": 0,
             "ticks": ""
            },
            "colorscale": [
             [
              0,
              "#0d0887"
             ],
             [
              0.1111111111111111,
              "#46039f"
             ],
             [
              0.2222222222222222,
              "#7201a8"
             ],
             [
              0.3333333333333333,
              "#9c179e"
             ],
             [
              0.4444444444444444,
              "#bd3786"
             ],
             [
              0.5555555555555556,
              "#d8576b"
             ],
             [
              0.6666666666666666,
              "#ed7953"
             ],
             [
              0.7777777777777778,
              "#fb9f3a"
             ],
             [
              0.8888888888888888,
              "#fdca26"
             ],
             [
              1,
              "#f0f921"
             ]
            ],
            "type": "surface"
           }
          ],
          "table": [
           {
            "cells": {
             "fill": {
              "color": "#EBF0F8"
             },
             "line": {
              "color": "white"
             }
            },
            "header": {
             "fill": {
              "color": "#C8D4E3"
             },
             "line": {
              "color": "white"
             }
            },
            "type": "table"
           }
          ]
         },
         "layout": {
          "annotationdefaults": {
           "arrowcolor": "#2a3f5f",
           "arrowhead": 0,
           "arrowwidth": 1
          },
          "colorscale": {
           "diverging": [
            [
             0,
             "#8e0152"
            ],
            [
             0.1,
             "#c51b7d"
            ],
            [
             0.2,
             "#de77ae"
            ],
            [
             0.3,
             "#f1b6da"
            ],
            [
             0.4,
             "#fde0ef"
            ],
            [
             0.5,
             "#f7f7f7"
            ],
            [
             0.6,
             "#e6f5d0"
            ],
            [
             0.7,
             "#b8e186"
            ],
            [
             0.8,
             "#7fbc41"
            ],
            [
             0.9,
             "#4d9221"
            ],
            [
             1,
             "#276419"
            ]
           ],
           "sequential": [
            [
             0,
             "#0d0887"
            ],
            [
             0.1111111111111111,
             "#46039f"
            ],
            [
             0.2222222222222222,
             "#7201a8"
            ],
            [
             0.3333333333333333,
             "#9c179e"
            ],
            [
             0.4444444444444444,
             "#bd3786"
            ],
            [
             0.5555555555555556,
             "#d8576b"
            ],
            [
             0.6666666666666666,
             "#ed7953"
            ],
            [
             0.7777777777777778,
             "#fb9f3a"
            ],
            [
             0.8888888888888888,
             "#fdca26"
            ],
            [
             1,
             "#f0f921"
            ]
           ],
           "sequentialminus": [
            [
             0,
             "#0d0887"
            ],
            [
             0.1111111111111111,
             "#46039f"
            ],
            [
             0.2222222222222222,
             "#7201a8"
            ],
            [
             0.3333333333333333,
             "#9c179e"
            ],
            [
             0.4444444444444444,
             "#bd3786"
            ],
            [
             0.5555555555555556,
             "#d8576b"
            ],
            [
             0.6666666666666666,
             "#ed7953"
            ],
            [
             0.7777777777777778,
             "#fb9f3a"
            ],
            [
             0.8888888888888888,
             "#fdca26"
            ],
            [
             1,
             "#f0f921"
            ]
           ]
          },
          "colorway": [
           "#636efa",
           "#EF553B",
           "#00cc96",
           "#ab63fa",
           "#FFA15A",
           "#19d3f3",
           "#FF6692",
           "#B6E880",
           "#FF97FF",
           "#FECB52"
          ],
          "font": {
           "color": "#2a3f5f"
          },
          "geo": {
           "bgcolor": "white",
           "lakecolor": "white",
           "landcolor": "#E5ECF6",
           "showlakes": true,
           "showland": true,
           "subunitcolor": "white"
          },
          "hoverlabel": {
           "align": "left"
          },
          "hovermode": "closest",
          "mapbox": {
           "style": "light"
          },
          "paper_bgcolor": "white",
          "plot_bgcolor": "#E5ECF6",
          "polar": {
           "angularaxis": {
            "gridcolor": "white",
            "linecolor": "white",
            "ticks": ""
           },
           "bgcolor": "#E5ECF6",
           "radialaxis": {
            "gridcolor": "white",
            "linecolor": "white",
            "ticks": ""
           }
          },
          "scene": {
           "xaxis": {
            "backgroundcolor": "#E5ECF6",
            "gridcolor": "white",
            "gridwidth": 2,
            "linecolor": "white",
            "showbackground": true,
            "ticks": "",
            "zerolinecolor": "white"
           },
           "yaxis": {
            "backgroundcolor": "#E5ECF6",
            "gridcolor": "white",
            "gridwidth": 2,
            "linecolor": "white",
            "showbackground": true,
            "ticks": "",
            "zerolinecolor": "white"
           },
           "zaxis": {
            "backgroundcolor": "#E5ECF6",
            "gridcolor": "white",
            "gridwidth": 2,
            "linecolor": "white",
            "showbackground": true,
            "ticks": "",
            "zerolinecolor": "white"
           }
          },
          "shapedefaults": {
           "line": {
            "color": "#2a3f5f"
           }
          },
          "ternary": {
           "aaxis": {
            "gridcolor": "white",
            "linecolor": "white",
            "ticks": ""
           },
           "baxis": {
            "gridcolor": "white",
            "linecolor": "white",
            "ticks": ""
           },
           "bgcolor": "#E5ECF6",
           "caxis": {
            "gridcolor": "white",
            "linecolor": "white",
            "ticks": ""
           }
          },
          "title": {
           "x": 0.05
          },
          "xaxis": {
           "automargin": true,
           "gridcolor": "white",
           "linecolor": "white",
           "ticks": "",
           "zerolinecolor": "white",
           "zerolinewidth": 2
          },
          "yaxis": {
           "automargin": true,
           "gridcolor": "white",
           "linecolor": "white",
           "ticks": "",
           "zerolinecolor": "white",
           "zerolinewidth": 2
          }
         }
        },
        "title": {
         "text": "Bar chart with categorical axes"
        },
        "xaxis": {
         "anchor": "y",
         "domain": [
          0,
          0.98
         ],
         "title": {
          "text": "r_date"
         }
        },
        "yaxis": {
         "anchor": "x",
         "domain": [
          0,
          1
         ],
         "title": {
          "text": "quantitative_result"
         },
         "type": "category"
        }
       }
      },
      "text/html": [
       "<div>\n",
       "        \n",
       "        \n",
       "            <div id=\"3e2f1684-8a9a-44b8-b509-cb25fb98a716\" class=\"plotly-graph-div\" style=\"height:600px; width:100%;\"></div>\n",
       "            <script type=\"text/javascript\">\n",
       "                require([\"plotly\"], function(Plotly) {\n",
       "                    window.PLOTLYENV=window.PLOTLYENV || {};\n",
       "                    \n",
       "                if (document.getElementById(\"3e2f1684-8a9a-44b8-b509-cb25fb98a716\")) {\n",
       "                    Plotly.newPlot(\n",
       "                        '3e2f1684-8a9a-44b8-b509-cb25fb98a716',\n",
       "                        [{\"hoverlabel\": {\"namelength\": 0}, \"hovertemplate\": \"r_date=%{x}<br>quantitative_result=%{y}\", \"legendgroup\": \"\", \"marker\": {\"color\": \"#636efa\", \"symbol\": \"circle\"}, \"mode\": \"markers\", \"name\": \"\", \"showlegend\": false, \"type\": \"scatter\", \"x\": [\"2016-10-26\", \"2016-10-11\", \"2016-09-06\", \"2016-07-26\", \"2017-03-27\", \"2016-09-01\", \"2016-08-10\", \"2015-09-29\", \"2016-07-08\", \"2018-03-13\", \"2012-10-18\", \"2015-12-29\", \"2014-02-10\", \"2015-08-26\", \"2015-01-09\", \"2014-10-28\", \"2016-02-29\", \"2017-12-05\", \"2018-01-25\", \"2018-01-29\", \"2018-10-01\", \"2017-08-30\", \"2018-10-09\", \"2018-11-14\", \"2019-05-24\", \"2019-08-27\", \"2013-04-15\", \"2017-08-15\", \"2017-05-10\", \"2017-05-18\", \"2017-03-01\", \"2017-02-27\", \"2016-11-11\", \"2019-10-25\", \"2014-09-19\", \"2015-09-11\", \"2015-12-07\", \"2016-03-23\", \"2017-07-28\", \"2020-03-31\", \"2016-07-05\", \"2012-10-18\", \"2013-03-15\", \"2017-08-24\"], \"xaxis\": \"x\", \"y\": [\"30-65%\", \"30-65%\", \"30-65%\", \"30-65%\", \"64-84%\", \"64-84%\", \"64-84%\", \"64-84%\", \"64-84%\", \"85-94%\", \"85-94%\", \"85-94%\", \"85-94%\", \"85-94%\", \"85-94%\", \"85-94%\", \"95-100%\", \"95-100%\", \"95-100%\", \"95-100%\", \"95-100%\", \"95-100%\", \"95-100%\", \"95-100%\", \"95-100%\", \"95-100%\", \"95-100%\", \"95-100%\", \"95-100%\", \"95-100%\", \"95-100%\", \"95-100%\", \"95-100%\", \"95-100%\", \"95-100%\", \"95-100%\", \"95-100%\", \"95-100%\", \"95-100%\", \"95-100%\", \"<30%\", null, null, null], \"yaxis\": \"y\"}],\n",
       "                        {\"height\": 600, \"legend\": {\"tracegroupgap\": 0}, \"margin\": {\"t\": 60}, \"template\": {\"data\": {\"bar\": [{\"error_x\": {\"color\": \"#2a3f5f\"}, \"error_y\": {\"color\": \"#2a3f5f\"}, \"marker\": {\"line\": {\"color\": \"#E5ECF6\", \"width\": 0.5}}, \"type\": \"bar\"}], \"barpolar\": [{\"marker\": {\"line\": {\"color\": \"#E5ECF6\", \"width\": 0.5}}, \"type\": \"barpolar\"}], \"carpet\": [{\"aaxis\": {\"endlinecolor\": \"#2a3f5f\", \"gridcolor\": \"white\", \"linecolor\": \"white\", \"minorgridcolor\": \"white\", \"startlinecolor\": \"#2a3f5f\"}, \"baxis\": {\"endlinecolor\": \"#2a3f5f\", \"gridcolor\": \"white\", \"linecolor\": \"white\", \"minorgridcolor\": \"white\", \"startlinecolor\": \"#2a3f5f\"}, \"type\": \"carpet\"}], \"choropleth\": [{\"colorbar\": {\"outlinewidth\": 0, \"ticks\": \"\"}, \"type\": \"choropleth\"}], \"contour\": [{\"colorbar\": {\"outlinewidth\": 0, \"ticks\": \"\"}, \"colorscale\": [[0.0, \"#0d0887\"], [0.1111111111111111, \"#46039f\"], [0.2222222222222222, \"#7201a8\"], [0.3333333333333333, \"#9c179e\"], [0.4444444444444444, \"#bd3786\"], [0.5555555555555556, \"#d8576b\"], [0.6666666666666666, \"#ed7953\"], [0.7777777777777778, \"#fb9f3a\"], [0.8888888888888888, \"#fdca26\"], [1.0, \"#f0f921\"]], \"type\": \"contour\"}], \"contourcarpet\": [{\"colorbar\": {\"outlinewidth\": 0, \"ticks\": \"\"}, \"type\": \"contourcarpet\"}], \"heatmap\": [{\"colorbar\": {\"outlinewidth\": 0, \"ticks\": \"\"}, \"colorscale\": [[0.0, \"#0d0887\"], [0.1111111111111111, \"#46039f\"], [0.2222222222222222, \"#7201a8\"], [0.3333333333333333, \"#9c179e\"], [0.4444444444444444, \"#bd3786\"], [0.5555555555555556, \"#d8576b\"], [0.6666666666666666, \"#ed7953\"], [0.7777777777777778, \"#fb9f3a\"], [0.8888888888888888, \"#fdca26\"], [1.0, \"#f0f921\"]], \"type\": \"heatmap\"}], \"heatmapgl\": [{\"colorbar\": {\"outlinewidth\": 0, \"ticks\": \"\"}, \"colorscale\": [[0.0, \"#0d0887\"], [0.1111111111111111, \"#46039f\"], [0.2222222222222222, \"#7201a8\"], [0.3333333333333333, \"#9c179e\"], [0.4444444444444444, \"#bd3786\"], [0.5555555555555556, \"#d8576b\"], [0.6666666666666666, \"#ed7953\"], [0.7777777777777778, \"#fb9f3a\"], [0.8888888888888888, \"#fdca26\"], [1.0, \"#f0f921\"]], \"type\": \"heatmapgl\"}], \"histogram\": [{\"marker\": {\"colorbar\": {\"outlinewidth\": 0, \"ticks\": \"\"}}, \"type\": \"histogram\"}], \"histogram2d\": [{\"colorbar\": {\"outlinewidth\": 0, \"ticks\": \"\"}, \"colorscale\": [[0.0, \"#0d0887\"], [0.1111111111111111, \"#46039f\"], [0.2222222222222222, \"#7201a8\"], [0.3333333333333333, \"#9c179e\"], [0.4444444444444444, \"#bd3786\"], [0.5555555555555556, \"#d8576b\"], [0.6666666666666666, \"#ed7953\"], [0.7777777777777778, \"#fb9f3a\"], [0.8888888888888888, \"#fdca26\"], [1.0, \"#f0f921\"]], \"type\": \"histogram2d\"}], \"histogram2dcontour\": [{\"colorbar\": {\"outlinewidth\": 0, \"ticks\": \"\"}, \"colorscale\": [[0.0, \"#0d0887\"], [0.1111111111111111, \"#46039f\"], [0.2222222222222222, \"#7201a8\"], [0.3333333333333333, \"#9c179e\"], [0.4444444444444444, \"#bd3786\"], [0.5555555555555556, \"#d8576b\"], [0.6666666666666666, \"#ed7953\"], [0.7777777777777778, \"#fb9f3a\"], [0.8888888888888888, \"#fdca26\"], [1.0, \"#f0f921\"]], \"type\": \"histogram2dcontour\"}], \"mesh3d\": [{\"colorbar\": {\"outlinewidth\": 0, \"ticks\": \"\"}, \"type\": \"mesh3d\"}], \"parcoords\": [{\"line\": {\"colorbar\": {\"outlinewidth\": 0, \"ticks\": \"\"}}, \"type\": \"parcoords\"}], \"scatter\": [{\"marker\": {\"colorbar\": {\"outlinewidth\": 0, \"ticks\": \"\"}}, \"type\": \"scatter\"}], \"scatter3d\": [{\"line\": {\"colorbar\": {\"outlinewidth\": 0, \"ticks\": \"\"}}, \"marker\": {\"colorbar\": {\"outlinewidth\": 0, \"ticks\": \"\"}}, \"type\": \"scatter3d\"}], \"scattercarpet\": [{\"marker\": {\"colorbar\": {\"outlinewidth\": 0, \"ticks\": \"\"}}, \"type\": \"scattercarpet\"}], \"scattergeo\": [{\"marker\": {\"colorbar\": {\"outlinewidth\": 0, \"ticks\": \"\"}}, \"type\": \"scattergeo\"}], \"scattergl\": [{\"marker\": {\"colorbar\": {\"outlinewidth\": 0, \"ticks\": \"\"}}, \"type\": \"scattergl\"}], \"scattermapbox\": [{\"marker\": {\"colorbar\": {\"outlinewidth\": 0, \"ticks\": \"\"}}, \"type\": \"scattermapbox\"}], \"scatterpolar\": [{\"marker\": {\"colorbar\": {\"outlinewidth\": 0, \"ticks\": \"\"}}, \"type\": \"scatterpolar\"}], \"scatterpolargl\": [{\"marker\": {\"colorbar\": {\"outlinewidth\": 0, \"ticks\": \"\"}}, \"type\": \"scatterpolargl\"}], \"scatterternary\": [{\"marker\": {\"colorbar\": {\"outlinewidth\": 0, \"ticks\": \"\"}}, \"type\": \"scatterternary\"}], \"surface\": [{\"colorbar\": {\"outlinewidth\": 0, \"ticks\": \"\"}, \"colorscale\": [[0.0, \"#0d0887\"], [0.1111111111111111, \"#46039f\"], [0.2222222222222222, \"#7201a8\"], [0.3333333333333333, \"#9c179e\"], [0.4444444444444444, \"#bd3786\"], [0.5555555555555556, \"#d8576b\"], [0.6666666666666666, \"#ed7953\"], [0.7777777777777778, \"#fb9f3a\"], [0.8888888888888888, \"#fdca26\"], [1.0, \"#f0f921\"]], \"type\": \"surface\"}], \"table\": [{\"cells\": {\"fill\": {\"color\": \"#EBF0F8\"}, \"line\": {\"color\": \"white\"}}, \"header\": {\"fill\": {\"color\": \"#C8D4E3\"}, \"line\": {\"color\": \"white\"}}, \"type\": \"table\"}]}, \"layout\": {\"annotationdefaults\": {\"arrowcolor\": \"#2a3f5f\", \"arrowhead\": 0, \"arrowwidth\": 1}, \"colorscale\": {\"diverging\": [[0, \"#8e0152\"], [0.1, \"#c51b7d\"], [0.2, \"#de77ae\"], [0.3, \"#f1b6da\"], [0.4, \"#fde0ef\"], [0.5, \"#f7f7f7\"], [0.6, \"#e6f5d0\"], [0.7, \"#b8e186\"], [0.8, \"#7fbc41\"], [0.9, \"#4d9221\"], [1, \"#276419\"]], \"sequential\": [[0.0, \"#0d0887\"], [0.1111111111111111, \"#46039f\"], [0.2222222222222222, \"#7201a8\"], [0.3333333333333333, \"#9c179e\"], [0.4444444444444444, \"#bd3786\"], [0.5555555555555556, \"#d8576b\"], [0.6666666666666666, \"#ed7953\"], [0.7777777777777778, \"#fb9f3a\"], [0.8888888888888888, \"#fdca26\"], [1.0, \"#f0f921\"]], \"sequentialminus\": [[0.0, \"#0d0887\"], [0.1111111111111111, \"#46039f\"], [0.2222222222222222, \"#7201a8\"], [0.3333333333333333, \"#9c179e\"], [0.4444444444444444, \"#bd3786\"], [0.5555555555555556, \"#d8576b\"], [0.6666666666666666, \"#ed7953\"], [0.7777777777777778, \"#fb9f3a\"], [0.8888888888888888, \"#fdca26\"], [1.0, \"#f0f921\"]]}, \"colorway\": [\"#636efa\", \"#EF553B\", \"#00cc96\", \"#ab63fa\", \"#FFA15A\", \"#19d3f3\", \"#FF6692\", \"#B6E880\", \"#FF97FF\", \"#FECB52\"], \"font\": {\"color\": \"#2a3f5f\"}, \"geo\": {\"bgcolor\": \"white\", \"lakecolor\": \"white\", \"landcolor\": \"#E5ECF6\", \"showlakes\": true, \"showland\": true, \"subunitcolor\": \"white\"}, \"hoverlabel\": {\"align\": \"left\"}, \"hovermode\": \"closest\", \"mapbox\": {\"style\": \"light\"}, \"paper_bgcolor\": \"white\", \"plot_bgcolor\": \"#E5ECF6\", \"polar\": {\"angularaxis\": {\"gridcolor\": \"white\", \"linecolor\": \"white\", \"ticks\": \"\"}, \"bgcolor\": \"#E5ECF6\", \"radialaxis\": {\"gridcolor\": \"white\", \"linecolor\": \"white\", \"ticks\": \"\"}}, \"scene\": {\"xaxis\": {\"backgroundcolor\": \"#E5ECF6\", \"gridcolor\": \"white\", \"gridwidth\": 2, \"linecolor\": \"white\", \"showbackground\": true, \"ticks\": \"\", \"zerolinecolor\": \"white\"}, \"yaxis\": {\"backgroundcolor\": \"#E5ECF6\", \"gridcolor\": \"white\", \"gridwidth\": 2, \"linecolor\": \"white\", \"showbackground\": true, \"ticks\": \"\", \"zerolinecolor\": \"white\"}, \"zaxis\": {\"backgroundcolor\": \"#E5ECF6\", \"gridcolor\": \"white\", \"gridwidth\": 2, \"linecolor\": \"white\", \"showbackground\": true, \"ticks\": \"\", \"zerolinecolor\": \"white\"}}, \"shapedefaults\": {\"line\": {\"color\": \"#2a3f5f\"}}, \"ternary\": {\"aaxis\": {\"gridcolor\": \"white\", \"linecolor\": \"white\", \"ticks\": \"\"}, \"baxis\": {\"gridcolor\": \"white\", \"linecolor\": \"white\", \"ticks\": \"\"}, \"bgcolor\": \"#E5ECF6\", \"caxis\": {\"gridcolor\": \"white\", \"linecolor\": \"white\", \"ticks\": \"\"}}, \"title\": {\"x\": 0.05}, \"xaxis\": {\"automargin\": true, \"gridcolor\": \"white\", \"linecolor\": \"white\", \"ticks\": \"\", \"zerolinecolor\": \"white\", \"zerolinewidth\": 2}, \"yaxis\": {\"automargin\": true, \"gridcolor\": \"white\", \"linecolor\": \"white\", \"ticks\": \"\", \"zerolinecolor\": \"white\", \"zerolinewidth\": 2}}}, \"title\": {\"text\": \"Bar chart with categorical axes\"}, \"xaxis\": {\"anchor\": \"y\", \"domain\": [0.0, 0.98], \"title\": {\"text\": \"r_date\"}}, \"yaxis\": {\"anchor\": \"x\", \"domain\": [0.0, 1.0], \"title\": {\"text\": \"quantitative_result\"}, \"type\": \"category\"}},\n",
       "                        {\"responsive\": true}\n",
       "                    ).then(function(){\n",
       "                            \n",
       "var gd = document.getElementById('3e2f1684-8a9a-44b8-b509-cb25fb98a716');\n",
       "var x = new MutationObserver(function (mutations, observer) {{\n",
       "        var display = window.getComputedStyle(gd).display;\n",
       "        if (!display || display === 'none') {{\n",
       "            console.log([gd, 'removed!']);\n",
       "            Plotly.purge(gd);\n",
       "            observer.disconnect();\n",
       "        }}\n",
       "}});\n",
       "\n",
       "// Listen for the removal of the full notebook cells\n",
       "var notebookContainer = gd.closest('#notebook-container');\n",
       "if (notebookContainer) {{\n",
       "    x.observe(notebookContainer, {childList: true});\n",
       "}}\n",
       "\n",
       "// Listen for the clearing of the current output cell\n",
       "var outputEl = gd.closest('.output');\n",
       "if (outputEl) {{\n",
       "    x.observe(outputEl, {childList: true});\n",
       "}}\n",
       "\n",
       "                        })\n",
       "                };\n",
       "                });\n",
       "            </script>\n",
       "        </div>"
      ]
     },
     "metadata": {},
     "output_type": "display_data"
    }
   ],
   "source": [
    "import plotly.express as px\n",
    "#df = px.data.iris()\n",
    "fig = px.scatter(df_3[df_3['id_patient'] == 1769865].sort_values('quantitative_result'), x=\"r_date\", y=\"quantitative_result\")\n",
    "fig.update_layout(yaxis_type='category',\n",
    "                  title_text='Bar chart with categorical axes')\n",
    "fig.show()"
   ]
  },
  {
   "cell_type": "code",
   "execution_count": 357,
   "metadata": {},
   "outputs": [
    {
     "data": {
      "text/html": [
       "<div>\n",
       "<style scoped>\n",
       "    .dataframe tbody tr th:only-of-type {\n",
       "        vertical-align: middle;\n",
       "    }\n",
       "\n",
       "    .dataframe tbody tr th {\n",
       "        vertical-align: top;\n",
       "    }\n",
       "\n",
       "    .dataframe thead th {\n",
       "        text-align: right;\n",
       "    }\n",
       "</style>\n",
       "<table border=\"1\" class=\"dataframe\">\n",
       "  <thead>\n",
       "    <tr style=\"text-align: right;\">\n",
       "      <th>habit_one</th>\n",
       "      <th>id_patient</th>\n",
       "      <th>r_date</th>\n",
       "      <th>quantitative_result</th>\n",
       "      <th>qualitative_result</th>\n",
       "      <th>source</th>\n",
       "    </tr>\n",
       "  </thead>\n",
       "  <tbody>\n",
       "    <tr>\n",
       "      <th>0</th>\n",
       "      <td>1001619</td>\n",
       "      <td>2011-11-01</td>\n",
       "      <td>NaN</td>\n",
       "      <td>NaN</td>\n",
       "      <td>habits</td>\n",
       "    </tr>\n",
       "    <tr>\n",
       "      <th>1</th>\n",
       "      <td>1001619</td>\n",
       "      <td>2012-07-12</td>\n",
       "      <td>NaN</td>\n",
       "      <td>NaN</td>\n",
       "      <td>habits</td>\n",
       "    </tr>\n",
       "    <tr>\n",
       "      <th>2</th>\n",
       "      <td>1004538</td>\n",
       "      <td>2015-08-25</td>\n",
       "      <td>NaN</td>\n",
       "      <td>NaN</td>\n",
       "      <td>habits</td>\n",
       "    </tr>\n",
       "    <tr>\n",
       "      <th>3</th>\n",
       "      <td>1004538</td>\n",
       "      <td>2017-09-07</td>\n",
       "      <td>NaN</td>\n",
       "      <td>NaN</td>\n",
       "      <td>habits</td>\n",
       "    </tr>\n",
       "    <tr>\n",
       "      <th>4</th>\n",
       "      <td>1008837</td>\n",
       "      <td>2011-03-18</td>\n",
       "      <td>NaN</td>\n",
       "      <td>NaN</td>\n",
       "      <td>habits</td>\n",
       "    </tr>\n",
       "  </tbody>\n",
       "</table>\n",
       "</div>"
      ],
      "text/plain": [
       "habit_one  id_patient      r_date quantitative_result qualitative_result  \\\n",
       "0             1001619  2011-11-01                 NaN                NaN   \n",
       "1             1001619  2012-07-12                 NaN                NaN   \n",
       "2             1004538  2015-08-25                 NaN                NaN   \n",
       "3             1004538  2017-09-07                 NaN                NaN   \n",
       "4             1008837  2011-03-18                 NaN                NaN   \n",
       "\n",
       "habit_one  source  \n",
       "0          habits  \n",
       "1          habits  \n",
       "2          habits  \n",
       "3          habits  \n",
       "4          habits  "
      ]
     },
     "execution_count": 357,
     "metadata": {},
     "output_type": "execute_result"
    }
   ],
   "source": [
    "df_3.head()"
   ]
  },
  {
   "cell_type": "code",
   "execution_count": 358,
   "metadata": {},
   "outputs": [
    {
     "data": {
      "text/plain": [
       "habit_one\n",
       "id_patient              int64\n",
       "r_date                 object\n",
       "quantitative_result    object\n",
       "qualitative_result     object\n",
       "source                 object\n",
       "dtype: object"
      ]
     },
     "execution_count": 358,
     "metadata": {},
     "output_type": "execute_result"
    }
   ],
   "source": [
    "df_3.dtypes"
   ]
  },
  {
   "cell_type": "code",
   "execution_count": 359,
   "metadata": {},
   "outputs": [],
   "source": [
    "cat_type = CategoricalDtype(categories=['NO APLICA', \n",
    "                                        '<30%',\n",
    "                                        '30-65%',\n",
    "                                        '64-84%',\n",
    "                                        '85-94%',                                       \n",
    "                                        '95-100%'], ordered=True)\n",
    "df_3['quantitative_result'] = df_3['quantitative_result'].astype(cat_type)"
   ]
  },
  {
   "cell_type": "code",
   "execution_count": 360,
   "metadata": {},
   "outputs": [],
   "source": [
    "#qualitative_result\n",
    "df_3['qualitative_result'].value_counts()\n",
    "\n",
    "cat_type = CategoricalDtype(categories=['si', \n",
    "                                        'no'], ordered=True)\n",
    "df_3['qualitative_result'] = df_3['qualitative_result'].astype(cat_type)"
   ]
  },
  {
   "cell_type": "code",
   "execution_count": 361,
   "metadata": {},
   "outputs": [
    {
     "name": "stdout",
     "output_type": "stream",
     "text": [
      "<class 'pandas.core.frame.DataFrame'>\n",
      "Int64Index: 5629 entries, 1253 to 3100\n",
      "Data columns (total 5 columns):\n",
      "id_patient             5629 non-null int64\n",
      "r_date                 5629 non-null object\n",
      "quantitative_result    4773 non-null category\n",
      "qualitative_result     4773 non-null category\n",
      "source                 5629 non-null object\n",
      "dtypes: category(2), int64(1), object(2)\n",
      "memory usage: 187.2+ KB\n",
      "None\n",
      "habit_one  id_patient      r_date quantitative_result qualitative_result  \\\n",
      "692            684112  2017-11-08                 NaN                NaN   \n",
      "\n",
      "habit_one  source  \n",
      "692        habits  \n",
      "habit_one  id_patient      r_date quantitative_result qualitative_result  \\\n",
      "300           1487899  2016-01-29                 NaN                NaN   \n",
      "\n",
      "habit_one  source  \n",
      "300        habits  \n",
      "habit_one  id_patient      r_date quantitative_result qualitative_result  \\\n",
      "403           1671238  2017-09-13                 NaN                NaN   \n",
      "\n",
      "habit_one  source  \n",
      "403        habits  \n",
      "habit_one  id_patient      r_date quantitative_result qualitative_result  \\\n",
      "420           1702411  2012-04-16                 NaN                NaN   \n",
      "421           1702411  2012-07-16                 NaN                NaN   \n",
      "422           1702411  2015-05-21                 NaN                NaN   \n",
      "\n",
      "habit_one  source  \n",
      "420        habits  \n",
      "421        habits  \n",
      "422        habits  \n",
      "habit_one  id_patient      r_date quantitative_result qualitative_result  \\\n",
      "546           1938138  2018-01-23                 NaN                NaN   \n",
      "\n",
      "habit_one  source  \n",
      "546        habits  \n"
     ]
    },
    {
     "data": {
      "text/html": [
       "<div>\n",
       "<style scoped>\n",
       "    .dataframe tbody tr th:only-of-type {\n",
       "        vertical-align: middle;\n",
       "    }\n",
       "\n",
       "    .dataframe tbody tr th {\n",
       "        vertical-align: top;\n",
       "    }\n",
       "\n",
       "    .dataframe thead th {\n",
       "        text-align: right;\n",
       "    }\n",
       "</style>\n",
       "<table border=\"1\" class=\"dataframe\">\n",
       "  <thead>\n",
       "    <tr style=\"text-align: right;\">\n",
       "      <th>habit_one</th>\n",
       "      <th>id_patient</th>\n",
       "      <th>r_date</th>\n",
       "      <th>quantitative_result</th>\n",
       "      <th>qualitative_result</th>\n",
       "      <th>source</th>\n",
       "    </tr>\n",
       "  </thead>\n",
       "  <tbody>\n",
       "    <tr>\n",
       "      <th>1253</th>\n",
       "      <td>500547</td>\n",
       "      <td>2016-07-11</td>\n",
       "      <td>95-100%</td>\n",
       "      <td>si</td>\n",
       "      <td>adherence</td>\n",
       "    </tr>\n",
       "    <tr>\n",
       "      <th>3621</th>\n",
       "      <td>500547</td>\n",
       "      <td>2019-03-14</td>\n",
       "      <td>95-100%</td>\n",
       "      <td>si</td>\n",
       "      <td>adherence</td>\n",
       "    </tr>\n",
       "    <tr>\n",
       "      <th>4227</th>\n",
       "      <td>500547</td>\n",
       "      <td>2019-10-11</td>\n",
       "      <td>95-100%</td>\n",
       "      <td>si</td>\n",
       "      <td>adherence</td>\n",
       "    </tr>\n",
       "    <tr>\n",
       "      <th>4361</th>\n",
       "      <td>500547</td>\n",
       "      <td>2019-12-09</td>\n",
       "      <td>95-100%</td>\n",
       "      <td>si</td>\n",
       "      <td>adherence</td>\n",
       "    </tr>\n",
       "    <tr>\n",
       "      <th>4413</th>\n",
       "      <td>500547</td>\n",
       "      <td>2020-01-16</td>\n",
       "      <td>95-100%</td>\n",
       "      <td>si</td>\n",
       "      <td>adherence</td>\n",
       "    </tr>\n",
       "    <tr>\n",
       "      <th>4564</th>\n",
       "      <td>500547</td>\n",
       "      <td>2020-03-25</td>\n",
       "      <td>95-100%</td>\n",
       "      <td>si</td>\n",
       "      <td>adherence</td>\n",
       "    </tr>\n",
       "    <tr>\n",
       "      <th>4729</th>\n",
       "      <td>500547</td>\n",
       "      <td>2020-05-08</td>\n",
       "      <td>95-100%</td>\n",
       "      <td>si</td>\n",
       "      <td>adherence</td>\n",
       "    </tr>\n",
       "    <tr>\n",
       "      <th>590</th>\n",
       "      <td>500588</td>\n",
       "      <td>2017-09-13</td>\n",
       "      <td>95-100%</td>\n",
       "      <td>si</td>\n",
       "      <td>habits</td>\n",
       "    </tr>\n",
       "    <tr>\n",
       "      <th>3691</th>\n",
       "      <td>500588</td>\n",
       "      <td>2019-04-26</td>\n",
       "      <td>95-100%</td>\n",
       "      <td>si</td>\n",
       "      <td>adherence</td>\n",
       "    </tr>\n",
       "    <tr>\n",
       "      <th>445</th>\n",
       "      <td>502989</td>\n",
       "      <td>2014-08-22</td>\n",
       "      <td>64-84%</td>\n",
       "      <td>no</td>\n",
       "      <td>adherence</td>\n",
       "    </tr>\n",
       "    <tr>\n",
       "      <th>552</th>\n",
       "      <td>502989</td>\n",
       "      <td>2014-10-28</td>\n",
       "      <td>64-84%</td>\n",
       "      <td>no</td>\n",
       "      <td>adherence</td>\n",
       "    </tr>\n",
       "    <tr>\n",
       "      <th>572</th>\n",
       "      <td>502989</td>\n",
       "      <td>2014-11-21</td>\n",
       "      <td>95-100%</td>\n",
       "      <td>no</td>\n",
       "      <td>adherence</td>\n",
       "    </tr>\n",
       "    <tr>\n",
       "      <th>611</th>\n",
       "      <td>502989</td>\n",
       "      <td>2015-01-07</td>\n",
       "      <td>85-94%</td>\n",
       "      <td>no</td>\n",
       "      <td>adherence</td>\n",
       "    </tr>\n",
       "    <tr>\n",
       "      <th>618</th>\n",
       "      <td>502989</td>\n",
       "      <td>2015-01-14</td>\n",
       "      <td>85-94%</td>\n",
       "      <td>no</td>\n",
       "      <td>adherence</td>\n",
       "    </tr>\n",
       "    <tr>\n",
       "      <th>713</th>\n",
       "      <td>502989</td>\n",
       "      <td>2015-06-25</td>\n",
       "      <td>95-100%</td>\n",
       "      <td>si</td>\n",
       "      <td>adherence</td>\n",
       "    </tr>\n",
       "    <tr>\n",
       "      <th>1012</th>\n",
       "      <td>502989</td>\n",
       "      <td>2016-01-12</td>\n",
       "      <td>85-94%</td>\n",
       "      <td>no</td>\n",
       "      <td>adherence</td>\n",
       "    </tr>\n",
       "    <tr>\n",
       "      <th>1023</th>\n",
       "      <td>502989</td>\n",
       "      <td>2016-01-15</td>\n",
       "      <td>95-100%</td>\n",
       "      <td>si</td>\n",
       "      <td>adherence</td>\n",
       "    </tr>\n",
       "    <tr>\n",
       "      <th>1616</th>\n",
       "      <td>502989</td>\n",
       "      <td>2017-01-03</td>\n",
       "      <td>85-94%</td>\n",
       "      <td>no</td>\n",
       "      <td>adherence</td>\n",
       "    </tr>\n",
       "    <tr>\n",
       "      <th>1819</th>\n",
       "      <td>502989</td>\n",
       "      <td>2017-03-21</td>\n",
       "      <td>95-100%</td>\n",
       "      <td>si</td>\n",
       "      <td>adherence</td>\n",
       "    </tr>\n",
       "    <tr>\n",
       "      <th>2064</th>\n",
       "      <td>502989</td>\n",
       "      <td>2017-07-10</td>\n",
       "      <td>95-100%</td>\n",
       "      <td>si</td>\n",
       "      <td>adherence</td>\n",
       "    </tr>\n",
       "    <tr>\n",
       "      <th>2119</th>\n",
       "      <td>502989</td>\n",
       "      <td>2017-08-08</td>\n",
       "      <td>95-100%</td>\n",
       "      <td>si</td>\n",
       "      <td>adherence</td>\n",
       "    </tr>\n",
       "    <tr>\n",
       "      <th>591</th>\n",
       "      <td>502989</td>\n",
       "      <td>2017-08-31</td>\n",
       "      <td>95-100%</td>\n",
       "      <td>no</td>\n",
       "      <td>habits</td>\n",
       "    </tr>\n",
       "    <tr>\n",
       "      <th>3069</th>\n",
       "      <td>502989</td>\n",
       "      <td>2018-10-03</td>\n",
       "      <td>95-100%</td>\n",
       "      <td>no</td>\n",
       "      <td>adherence</td>\n",
       "    </tr>\n",
       "    <tr>\n",
       "      <th>3503</th>\n",
       "      <td>502989</td>\n",
       "      <td>2019-02-08</td>\n",
       "      <td>95-100%</td>\n",
       "      <td>si</td>\n",
       "      <td>adherence</td>\n",
       "    </tr>\n",
       "    <tr>\n",
       "      <th>113</th>\n",
       "      <td>506808</td>\n",
       "      <td>2013-05-08</td>\n",
       "      <td>95-100%</td>\n",
       "      <td>no</td>\n",
       "      <td>adherence</td>\n",
       "    </tr>\n",
       "    <tr>\n",
       "      <th>126</th>\n",
       "      <td>506808</td>\n",
       "      <td>2013-05-24</td>\n",
       "      <td>95-100%</td>\n",
       "      <td>si</td>\n",
       "      <td>adherence</td>\n",
       "    </tr>\n",
       "    <tr>\n",
       "      <th>195</th>\n",
       "      <td>506808</td>\n",
       "      <td>2013-09-11</td>\n",
       "      <td>95-100%</td>\n",
       "      <td>si</td>\n",
       "      <td>adherence</td>\n",
       "    </tr>\n",
       "    <tr>\n",
       "      <th>210</th>\n",
       "      <td>506808</td>\n",
       "      <td>2013-10-02</td>\n",
       "      <td>95-100%</td>\n",
       "      <td>si</td>\n",
       "      <td>adherence</td>\n",
       "    </tr>\n",
       "    <tr>\n",
       "      <th>505</th>\n",
       "      <td>506808</td>\n",
       "      <td>2014-09-30</td>\n",
       "      <td>95-100%</td>\n",
       "      <td>si</td>\n",
       "      <td>adherence</td>\n",
       "    </tr>\n",
       "    <tr>\n",
       "      <th>592</th>\n",
       "      <td>506808</td>\n",
       "      <td>2014-12-16</td>\n",
       "      <td>95-100%</td>\n",
       "      <td>si</td>\n",
       "      <td>habits</td>\n",
       "    </tr>\n",
       "    <tr>\n",
       "      <th>...</th>\n",
       "      <td>...</td>\n",
       "      <td>...</td>\n",
       "      <td>...</td>\n",
       "      <td>...</td>\n",
       "      <td>...</td>\n",
       "    </tr>\n",
       "    <tr>\n",
       "      <th>1798</th>\n",
       "      <td>1997065</td>\n",
       "      <td>2017-03-13</td>\n",
       "      <td>95-100%</td>\n",
       "      <td>si</td>\n",
       "      <td>adherence</td>\n",
       "    </tr>\n",
       "    <tr>\n",
       "      <th>1971</th>\n",
       "      <td>1997065</td>\n",
       "      <td>2017-05-23</td>\n",
       "      <td>95-100%</td>\n",
       "      <td>si</td>\n",
       "      <td>adherence</td>\n",
       "    </tr>\n",
       "    <tr>\n",
       "      <th>585</th>\n",
       "      <td>1997065</td>\n",
       "      <td>2017-09-07</td>\n",
       "      <td>95-100%</td>\n",
       "      <td>si</td>\n",
       "      <td>habits</td>\n",
       "    </tr>\n",
       "    <tr>\n",
       "      <th>2603</th>\n",
       "      <td>1997065</td>\n",
       "      <td>2018-02-23</td>\n",
       "      <td>95-100%</td>\n",
       "      <td>si</td>\n",
       "      <td>adherence</td>\n",
       "    </tr>\n",
       "    <tr>\n",
       "      <th>3115</th>\n",
       "      <td>1997065</td>\n",
       "      <td>2018-10-09</td>\n",
       "      <td>95-100%</td>\n",
       "      <td>si</td>\n",
       "      <td>adherence</td>\n",
       "    </tr>\n",
       "    <tr>\n",
       "      <th>4462</th>\n",
       "      <td>1997065</td>\n",
       "      <td>2020-02-19</td>\n",
       "      <td>95-100%</td>\n",
       "      <td>si</td>\n",
       "      <td>adherence</td>\n",
       "    </tr>\n",
       "    <tr>\n",
       "      <th>586</th>\n",
       "      <td>1997825</td>\n",
       "      <td>2018-05-25</td>\n",
       "      <td>95-100%</td>\n",
       "      <td>si</td>\n",
       "      <td>habits</td>\n",
       "    </tr>\n",
       "    <tr>\n",
       "      <th>2866</th>\n",
       "      <td>1997825</td>\n",
       "      <td>2018-07-04</td>\n",
       "      <td>95-100%</td>\n",
       "      <td>si</td>\n",
       "      <td>adherence</td>\n",
       "    </tr>\n",
       "    <tr>\n",
       "      <th>4077</th>\n",
       "      <td>1997825</td>\n",
       "      <td>2019-08-01</td>\n",
       "      <td>85-94%</td>\n",
       "      <td>no</td>\n",
       "      <td>adherence</td>\n",
       "    </tr>\n",
       "    <tr>\n",
       "      <th>4416</th>\n",
       "      <td>1997825</td>\n",
       "      <td>2020-01-16</td>\n",
       "      <td>95-100%</td>\n",
       "      <td>si</td>\n",
       "      <td>adherence</td>\n",
       "    </tr>\n",
       "    <tr>\n",
       "      <th>587</th>\n",
       "      <td>1998401</td>\n",
       "      <td>2013-01-17</td>\n",
       "      <td>95-100%</td>\n",
       "      <td>si</td>\n",
       "      <td>habits</td>\n",
       "    </tr>\n",
       "    <tr>\n",
       "      <th>55</th>\n",
       "      <td>1998401</td>\n",
       "      <td>2013-01-17</td>\n",
       "      <td>95-100%</td>\n",
       "      <td>si</td>\n",
       "      <td>adherence</td>\n",
       "    </tr>\n",
       "    <tr>\n",
       "      <th>156</th>\n",
       "      <td>1998401</td>\n",
       "      <td>2013-07-18</td>\n",
       "      <td>95-100%</td>\n",
       "      <td>si</td>\n",
       "      <td>adherence</td>\n",
       "    </tr>\n",
       "    <tr>\n",
       "      <th>277</th>\n",
       "      <td>1998401</td>\n",
       "      <td>2014-01-30</td>\n",
       "      <td>95-100%</td>\n",
       "      <td>si</td>\n",
       "      <td>adherence</td>\n",
       "    </tr>\n",
       "    <tr>\n",
       "      <th>296</th>\n",
       "      <td>1998401</td>\n",
       "      <td>2014-02-12</td>\n",
       "      <td>95-100%</td>\n",
       "      <td>si</td>\n",
       "      <td>adherence</td>\n",
       "    </tr>\n",
       "    <tr>\n",
       "      <th>331</th>\n",
       "      <td>1998401</td>\n",
       "      <td>2014-03-05</td>\n",
       "      <td>85-94%</td>\n",
       "      <td>no</td>\n",
       "      <td>adherence</td>\n",
       "    </tr>\n",
       "    <tr>\n",
       "      <th>521</th>\n",
       "      <td>1998401</td>\n",
       "      <td>2014-10-03</td>\n",
       "      <td>95-100%</td>\n",
       "      <td>si</td>\n",
       "      <td>adherence</td>\n",
       "    </tr>\n",
       "    <tr>\n",
       "      <th>842</th>\n",
       "      <td>1998401</td>\n",
       "      <td>2015-10-06</td>\n",
       "      <td>95-100%</td>\n",
       "      <td>si</td>\n",
       "      <td>adherence</td>\n",
       "    </tr>\n",
       "    <tr>\n",
       "      <th>1016</th>\n",
       "      <td>1998401</td>\n",
       "      <td>2016-01-13</td>\n",
       "      <td>95-100%</td>\n",
       "      <td>si</td>\n",
       "      <td>adherence</td>\n",
       "    </tr>\n",
       "    <tr>\n",
       "      <th>1048</th>\n",
       "      <td>1998401</td>\n",
       "      <td>2016-01-25</td>\n",
       "      <td>85-94%</td>\n",
       "      <td>no</td>\n",
       "      <td>adherence</td>\n",
       "    </tr>\n",
       "    <tr>\n",
       "      <th>1211</th>\n",
       "      <td>1998401</td>\n",
       "      <td>2016-06-02</td>\n",
       "      <td>95-100%</td>\n",
       "      <td>no</td>\n",
       "      <td>adherence</td>\n",
       "    </tr>\n",
       "    <tr>\n",
       "      <th>1350</th>\n",
       "      <td>1998401</td>\n",
       "      <td>2016-09-12</td>\n",
       "      <td>95-100%</td>\n",
       "      <td>no</td>\n",
       "      <td>adherence</td>\n",
       "    </tr>\n",
       "    <tr>\n",
       "      <th>588</th>\n",
       "      <td>1998401</td>\n",
       "      <td>2017-09-13</td>\n",
       "      <td>95-100%</td>\n",
       "      <td>si</td>\n",
       "      <td>habits</td>\n",
       "    </tr>\n",
       "    <tr>\n",
       "      <th>2485</th>\n",
       "      <td>1998401</td>\n",
       "      <td>2018-01-29</td>\n",
       "      <td>95-100%</td>\n",
       "      <td>si</td>\n",
       "      <td>adherence</td>\n",
       "    </tr>\n",
       "    <tr>\n",
       "      <th>2919</th>\n",
       "      <td>1999536</td>\n",
       "      <td>2018-08-08</td>\n",
       "      <td>95-100%</td>\n",
       "      <td>si</td>\n",
       "      <td>adherence</td>\n",
       "    </tr>\n",
       "    <tr>\n",
       "      <th>4481</th>\n",
       "      <td>1999536</td>\n",
       "      <td>2020-02-22</td>\n",
       "      <td>95-100%</td>\n",
       "      <td>si</td>\n",
       "      <td>adherence</td>\n",
       "    </tr>\n",
       "    <tr>\n",
       "      <th>589</th>\n",
       "      <td>1999629</td>\n",
       "      <td>2010-12-02</td>\n",
       "      <td>95-100%</td>\n",
       "      <td>si</td>\n",
       "      <td>habits</td>\n",
       "    </tr>\n",
       "    <tr>\n",
       "      <th>2696</th>\n",
       "      <td>1999629</td>\n",
       "      <td>2018-04-06</td>\n",
       "      <td>95-100%</td>\n",
       "      <td>si</td>\n",
       "      <td>adherence</td>\n",
       "    </tr>\n",
       "    <tr>\n",
       "      <th>2748</th>\n",
       "      <td>1999629</td>\n",
       "      <td>2018-05-04</td>\n",
       "      <td>95-100%</td>\n",
       "      <td>si</td>\n",
       "      <td>adherence</td>\n",
       "    </tr>\n",
       "    <tr>\n",
       "      <th>3100</th>\n",
       "      <td>1999629</td>\n",
       "      <td>2018-10-08</td>\n",
       "      <td>95-100%</td>\n",
       "      <td>si</td>\n",
       "      <td>adherence</td>\n",
       "    </tr>\n",
       "  </tbody>\n",
       "</table>\n",
       "<p>5629 rows × 5 columns</p>\n",
       "</div>"
      ],
      "text/plain": [
       "habit_one  id_patient      r_date quantitative_result qualitative_result  \\\n",
       "1253           500547  2016-07-11             95-100%                 si   \n",
       "3621           500547  2019-03-14             95-100%                 si   \n",
       "4227           500547  2019-10-11             95-100%                 si   \n",
       "4361           500547  2019-12-09             95-100%                 si   \n",
       "4413           500547  2020-01-16             95-100%                 si   \n",
       "4564           500547  2020-03-25             95-100%                 si   \n",
       "4729           500547  2020-05-08             95-100%                 si   \n",
       "590            500588  2017-09-13             95-100%                 si   \n",
       "3691           500588  2019-04-26             95-100%                 si   \n",
       "445            502989  2014-08-22              64-84%                 no   \n",
       "552            502989  2014-10-28              64-84%                 no   \n",
       "572            502989  2014-11-21             95-100%                 no   \n",
       "611            502989  2015-01-07              85-94%                 no   \n",
       "618            502989  2015-01-14              85-94%                 no   \n",
       "713            502989  2015-06-25             95-100%                 si   \n",
       "1012           502989  2016-01-12              85-94%                 no   \n",
       "1023           502989  2016-01-15             95-100%                 si   \n",
       "1616           502989  2017-01-03              85-94%                 no   \n",
       "1819           502989  2017-03-21             95-100%                 si   \n",
       "2064           502989  2017-07-10             95-100%                 si   \n",
       "2119           502989  2017-08-08             95-100%                 si   \n",
       "591            502989  2017-08-31             95-100%                 no   \n",
       "3069           502989  2018-10-03             95-100%                 no   \n",
       "3503           502989  2019-02-08             95-100%                 si   \n",
       "113            506808  2013-05-08             95-100%                 no   \n",
       "126            506808  2013-05-24             95-100%                 si   \n",
       "195            506808  2013-09-11             95-100%                 si   \n",
       "210            506808  2013-10-02             95-100%                 si   \n",
       "505            506808  2014-09-30             95-100%                 si   \n",
       "592            506808  2014-12-16             95-100%                 si   \n",
       "...               ...         ...                 ...                ...   \n",
       "1798          1997065  2017-03-13             95-100%                 si   \n",
       "1971          1997065  2017-05-23             95-100%                 si   \n",
       "585           1997065  2017-09-07             95-100%                 si   \n",
       "2603          1997065  2018-02-23             95-100%                 si   \n",
       "3115          1997065  2018-10-09             95-100%                 si   \n",
       "4462          1997065  2020-02-19             95-100%                 si   \n",
       "586           1997825  2018-05-25             95-100%                 si   \n",
       "2866          1997825  2018-07-04             95-100%                 si   \n",
       "4077          1997825  2019-08-01              85-94%                 no   \n",
       "4416          1997825  2020-01-16             95-100%                 si   \n",
       "587           1998401  2013-01-17             95-100%                 si   \n",
       "55            1998401  2013-01-17             95-100%                 si   \n",
       "156           1998401  2013-07-18             95-100%                 si   \n",
       "277           1998401  2014-01-30             95-100%                 si   \n",
       "296           1998401  2014-02-12             95-100%                 si   \n",
       "331           1998401  2014-03-05              85-94%                 no   \n",
       "521           1998401  2014-10-03             95-100%                 si   \n",
       "842           1998401  2015-10-06             95-100%                 si   \n",
       "1016          1998401  2016-01-13             95-100%                 si   \n",
       "1048          1998401  2016-01-25              85-94%                 no   \n",
       "1211          1998401  2016-06-02             95-100%                 no   \n",
       "1350          1998401  2016-09-12             95-100%                 no   \n",
       "588           1998401  2017-09-13             95-100%                 si   \n",
       "2485          1998401  2018-01-29             95-100%                 si   \n",
       "2919          1999536  2018-08-08             95-100%                 si   \n",
       "4481          1999536  2020-02-22             95-100%                 si   \n",
       "589           1999629  2010-12-02             95-100%                 si   \n",
       "2696          1999629  2018-04-06             95-100%                 si   \n",
       "2748          1999629  2018-05-04             95-100%                 si   \n",
       "3100          1999629  2018-10-08             95-100%                 si   \n",
       "\n",
       "habit_one     source  \n",
       "1253       adherence  \n",
       "3621       adherence  \n",
       "4227       adherence  \n",
       "4361       adherence  \n",
       "4413       adherence  \n",
       "4564       adherence  \n",
       "4729       adherence  \n",
       "590           habits  \n",
       "3691       adherence  \n",
       "445        adherence  \n",
       "552        adherence  \n",
       "572        adherence  \n",
       "611        adherence  \n",
       "618        adherence  \n",
       "713        adherence  \n",
       "1012       adherence  \n",
       "1023       adherence  \n",
       "1616       adherence  \n",
       "1819       adherence  \n",
       "2064       adherence  \n",
       "2119       adherence  \n",
       "591           habits  \n",
       "3069       adherence  \n",
       "3503       adherence  \n",
       "113        adherence  \n",
       "126        adherence  \n",
       "195        adherence  \n",
       "210        adherence  \n",
       "505        adherence  \n",
       "592           habits  \n",
       "...              ...  \n",
       "1798       adherence  \n",
       "1971       adherence  \n",
       "585           habits  \n",
       "2603       adherence  \n",
       "3115       adherence  \n",
       "4462       adherence  \n",
       "586           habits  \n",
       "2866       adherence  \n",
       "4077       adherence  \n",
       "4416       adherence  \n",
       "587           habits  \n",
       "55         adherence  \n",
       "156        adherence  \n",
       "277        adherence  \n",
       "296        adherence  \n",
       "331        adherence  \n",
       "521        adherence  \n",
       "842        adherence  \n",
       "1016       adherence  \n",
       "1048       adherence  \n",
       "1211       adherence  \n",
       "1350       adherence  \n",
       "588           habits  \n",
       "2485       adherence  \n",
       "2919       adherence  \n",
       "4481       adherence  \n",
       "589           habits  \n",
       "2696       adherence  \n",
       "2748       adherence  \n",
       "3100       adherence  \n",
       "\n",
       "[5629 rows x 5 columns]"
      ]
     },
     "execution_count": 361,
     "metadata": {},
     "output_type": "execute_result"
    }
   ],
   "source": [
    "def fill_nas(g):\n",
    "    if sum(g['quantitative_result'].notna()) > 0:\n",
    "        #Backward\n",
    "        g['quantitative_result'] = g['quantitative_result'].fillna(method='bfill')\n",
    "        g['qualitative_result'] = g['qualitative_result'].fillna(method='bfill')\n",
    "        #Forward\n",
    "        g['quantitative_result'] = g['quantitative_result'].interpolate(method='pad')\n",
    "        g['qualitative_result'] = g['qualitative_result'].interpolate(method='pad')\n",
    "    if sum(g['quantitative_result'].isna()) > 0:\n",
    "        print(g)\n",
    "    return g\n",
    "\n",
    "#g['quantitative_result'].interpolate(method='pad', limit_direction = 'backward')\n",
    "print(df_3.sort_values(by = ['id_patient', 'r_date']).groupby('id_patient').apply(lambda x:x).info())\n",
    "df_4 = df_3.sort_values(by = ['id_patient', 'r_date']).groupby('id_patient').apply(lambda x:fill_nas(x))\n",
    "df_4"
   ]
  },
  {
   "cell_type": "code",
   "execution_count": 362,
   "metadata": {},
   "outputs": [
    {
     "data": {
      "application/vnd.plotly.v1+json": {
       "config": {
        "plotlyServerURL": "https://plot.ly"
       },
       "data": [
        {
         "hoverlabel": {
          "namelength": 0
         },
         "hovertemplate": "source=habits<br>r_date=%{x}<br>quantitative_result=%{y}",
         "legendgroup": "source=habits",
         "marker": {
          "color": "#636efa",
          "symbol": "circle"
         },
         "mode": "markers",
         "name": "source=habits",
         "showlegend": true,
         "type": "scatter",
         "x": [
          "2011-08-25",
          "2017-09-07",
          "2015-10-09",
          "2013-05-15"
         ],
         "xaxis": "x",
         "y": [
          "95-100%",
          "95-100%",
          "95-100%",
          "95-100%"
         ],
         "yaxis": "y"
        },
        {
         "hoverlabel": {
          "namelength": 0
         },
         "hovertemplate": "source=adherence<br>r_date=%{x}<br>quantitative_result=%{y}",
         "legendgroup": "source=adherence",
         "marker": {
          "color": "#EF553B",
          "symbol": "circle"
         },
         "mode": "markers",
         "name": "source=adherence",
         "showlegend": true,
         "type": "scatter",
         "x": [
          "2018-03-23",
          "2017-06-09",
          "2017-06-08",
          "2017-05-10",
          "2017-04-26",
          "2017-02-27",
          "2016-08-08",
          "2016-06-09",
          "2016-05-27",
          "2018-05-18",
          "2016-03-02",
          "2015-09-22",
          "2015-05-07",
          "2014-02-03",
          "2013-12-26",
          "2013-08-12",
          "2013-06-26",
          "2013-05-15",
          "2012-09-28",
          "2015-10-09",
          "2018-10-22"
         ],
         "xaxis": "x",
         "y": [
          "95-100%",
          "95-100%",
          "95-100%",
          "95-100%",
          "95-100%",
          "95-100%",
          "95-100%",
          "95-100%",
          "95-100%",
          "95-100%",
          "95-100%",
          "95-100%",
          "95-100%",
          "95-100%",
          "95-100%",
          "95-100%",
          "95-100%",
          "95-100%",
          "95-100%",
          "95-100%",
          "95-100%"
         ],
         "yaxis": "y"
        }
       ],
       "layout": {
        "height": 600,
        "legend": {
         "tracegroupgap": 0
        },
        "margin": {
         "t": 60
        },
        "template": {
         "data": {
          "bar": [
           {
            "error_x": {
             "color": "#2a3f5f"
            },
            "error_y": {
             "color": "#2a3f5f"
            },
            "marker": {
             "line": {
              "color": "#E5ECF6",
              "width": 0.5
             }
            },
            "type": "bar"
           }
          ],
          "barpolar": [
           {
            "marker": {
             "line": {
              "color": "#E5ECF6",
              "width": 0.5
             }
            },
            "type": "barpolar"
           }
          ],
          "carpet": [
           {
            "aaxis": {
             "endlinecolor": "#2a3f5f",
             "gridcolor": "white",
             "linecolor": "white",
             "minorgridcolor": "white",
             "startlinecolor": "#2a3f5f"
            },
            "baxis": {
             "endlinecolor": "#2a3f5f",
             "gridcolor": "white",
             "linecolor": "white",
             "minorgridcolor": "white",
             "startlinecolor": "#2a3f5f"
            },
            "type": "carpet"
           }
          ],
          "choropleth": [
           {
            "colorbar": {
             "outlinewidth": 0,
             "ticks": ""
            },
            "type": "choropleth"
           }
          ],
          "contour": [
           {
            "colorbar": {
             "outlinewidth": 0,
             "ticks": ""
            },
            "colorscale": [
             [
              0,
              "#0d0887"
             ],
             [
              0.1111111111111111,
              "#46039f"
             ],
             [
              0.2222222222222222,
              "#7201a8"
             ],
             [
              0.3333333333333333,
              "#9c179e"
             ],
             [
              0.4444444444444444,
              "#bd3786"
             ],
             [
              0.5555555555555556,
              "#d8576b"
             ],
             [
              0.6666666666666666,
              "#ed7953"
             ],
             [
              0.7777777777777778,
              "#fb9f3a"
             ],
             [
              0.8888888888888888,
              "#fdca26"
             ],
             [
              1,
              "#f0f921"
             ]
            ],
            "type": "contour"
           }
          ],
          "contourcarpet": [
           {
            "colorbar": {
             "outlinewidth": 0,
             "ticks": ""
            },
            "type": "contourcarpet"
           }
          ],
          "heatmap": [
           {
            "colorbar": {
             "outlinewidth": 0,
             "ticks": ""
            },
            "colorscale": [
             [
              0,
              "#0d0887"
             ],
             [
              0.1111111111111111,
              "#46039f"
             ],
             [
              0.2222222222222222,
              "#7201a8"
             ],
             [
              0.3333333333333333,
              "#9c179e"
             ],
             [
              0.4444444444444444,
              "#bd3786"
             ],
             [
              0.5555555555555556,
              "#d8576b"
             ],
             [
              0.6666666666666666,
              "#ed7953"
             ],
             [
              0.7777777777777778,
              "#fb9f3a"
             ],
             [
              0.8888888888888888,
              "#fdca26"
             ],
             [
              1,
              "#f0f921"
             ]
            ],
            "type": "heatmap"
           }
          ],
          "heatmapgl": [
           {
            "colorbar": {
             "outlinewidth": 0,
             "ticks": ""
            },
            "colorscale": [
             [
              0,
              "#0d0887"
             ],
             [
              0.1111111111111111,
              "#46039f"
             ],
             [
              0.2222222222222222,
              "#7201a8"
             ],
             [
              0.3333333333333333,
              "#9c179e"
             ],
             [
              0.4444444444444444,
              "#bd3786"
             ],
             [
              0.5555555555555556,
              "#d8576b"
             ],
             [
              0.6666666666666666,
              "#ed7953"
             ],
             [
              0.7777777777777778,
              "#fb9f3a"
             ],
             [
              0.8888888888888888,
              "#fdca26"
             ],
             [
              1,
              "#f0f921"
             ]
            ],
            "type": "heatmapgl"
           }
          ],
          "histogram": [
           {
            "marker": {
             "colorbar": {
              "outlinewidth": 0,
              "ticks": ""
             }
            },
            "type": "histogram"
           }
          ],
          "histogram2d": [
           {
            "colorbar": {
             "outlinewidth": 0,
             "ticks": ""
            },
            "colorscale": [
             [
              0,
              "#0d0887"
             ],
             [
              0.1111111111111111,
              "#46039f"
             ],
             [
              0.2222222222222222,
              "#7201a8"
             ],
             [
              0.3333333333333333,
              "#9c179e"
             ],
             [
              0.4444444444444444,
              "#bd3786"
             ],
             [
              0.5555555555555556,
              "#d8576b"
             ],
             [
              0.6666666666666666,
              "#ed7953"
             ],
             [
              0.7777777777777778,
              "#fb9f3a"
             ],
             [
              0.8888888888888888,
              "#fdca26"
             ],
             [
              1,
              "#f0f921"
             ]
            ],
            "type": "histogram2d"
           }
          ],
          "histogram2dcontour": [
           {
            "colorbar": {
             "outlinewidth": 0,
             "ticks": ""
            },
            "colorscale": [
             [
              0,
              "#0d0887"
             ],
             [
              0.1111111111111111,
              "#46039f"
             ],
             [
              0.2222222222222222,
              "#7201a8"
             ],
             [
              0.3333333333333333,
              "#9c179e"
             ],
             [
              0.4444444444444444,
              "#bd3786"
             ],
             [
              0.5555555555555556,
              "#d8576b"
             ],
             [
              0.6666666666666666,
              "#ed7953"
             ],
             [
              0.7777777777777778,
              "#fb9f3a"
             ],
             [
              0.8888888888888888,
              "#fdca26"
             ],
             [
              1,
              "#f0f921"
             ]
            ],
            "type": "histogram2dcontour"
           }
          ],
          "mesh3d": [
           {
            "colorbar": {
             "outlinewidth": 0,
             "ticks": ""
            },
            "type": "mesh3d"
           }
          ],
          "parcoords": [
           {
            "line": {
             "colorbar": {
              "outlinewidth": 0,
              "ticks": ""
             }
            },
            "type": "parcoords"
           }
          ],
          "scatter": [
           {
            "marker": {
             "colorbar": {
              "outlinewidth": 0,
              "ticks": ""
             }
            },
            "type": "scatter"
           }
          ],
          "scatter3d": [
           {
            "line": {
             "colorbar": {
              "outlinewidth": 0,
              "ticks": ""
             }
            },
            "marker": {
             "colorbar": {
              "outlinewidth": 0,
              "ticks": ""
             }
            },
            "type": "scatter3d"
           }
          ],
          "scattercarpet": [
           {
            "marker": {
             "colorbar": {
              "outlinewidth": 0,
              "ticks": ""
             }
            },
            "type": "scattercarpet"
           }
          ],
          "scattergeo": [
           {
            "marker": {
             "colorbar": {
              "outlinewidth": 0,
              "ticks": ""
             }
            },
            "type": "scattergeo"
           }
          ],
          "scattergl": [
           {
            "marker": {
             "colorbar": {
              "outlinewidth": 0,
              "ticks": ""
             }
            },
            "type": "scattergl"
           }
          ],
          "scattermapbox": [
           {
            "marker": {
             "colorbar": {
              "outlinewidth": 0,
              "ticks": ""
             }
            },
            "type": "scattermapbox"
           }
          ],
          "scatterpolar": [
           {
            "marker": {
             "colorbar": {
              "outlinewidth": 0,
              "ticks": ""
             }
            },
            "type": "scatterpolar"
           }
          ],
          "scatterpolargl": [
           {
            "marker": {
             "colorbar": {
              "outlinewidth": 0,
              "ticks": ""
             }
            },
            "type": "scatterpolargl"
           }
          ],
          "scatterternary": [
           {
            "marker": {
             "colorbar": {
              "outlinewidth": 0,
              "ticks": ""
             }
            },
            "type": "scatterternary"
           }
          ],
          "surface": [
           {
            "colorbar": {
             "outlinewidth": 0,
             "ticks": ""
            },
            "colorscale": [
             [
              0,
              "#0d0887"
             ],
             [
              0.1111111111111111,
              "#46039f"
             ],
             [
              0.2222222222222222,
              "#7201a8"
             ],
             [
              0.3333333333333333,
              "#9c179e"
             ],
             [
              0.4444444444444444,
              "#bd3786"
             ],
             [
              0.5555555555555556,
              "#d8576b"
             ],
             [
              0.6666666666666666,
              "#ed7953"
             ],
             [
              0.7777777777777778,
              "#fb9f3a"
             ],
             [
              0.8888888888888888,
              "#fdca26"
             ],
             [
              1,
              "#f0f921"
             ]
            ],
            "type": "surface"
           }
          ],
          "table": [
           {
            "cells": {
             "fill": {
              "color": "#EBF0F8"
             },
             "line": {
              "color": "white"
             }
            },
            "header": {
             "fill": {
              "color": "#C8D4E3"
             },
             "line": {
              "color": "white"
             }
            },
            "type": "table"
           }
          ]
         },
         "layout": {
          "annotationdefaults": {
           "arrowcolor": "#2a3f5f",
           "arrowhead": 0,
           "arrowwidth": 1
          },
          "colorscale": {
           "diverging": [
            [
             0,
             "#8e0152"
            ],
            [
             0.1,
             "#c51b7d"
            ],
            [
             0.2,
             "#de77ae"
            ],
            [
             0.3,
             "#f1b6da"
            ],
            [
             0.4,
             "#fde0ef"
            ],
            [
             0.5,
             "#f7f7f7"
            ],
            [
             0.6,
             "#e6f5d0"
            ],
            [
             0.7,
             "#b8e186"
            ],
            [
             0.8,
             "#7fbc41"
            ],
            [
             0.9,
             "#4d9221"
            ],
            [
             1,
             "#276419"
            ]
           ],
           "sequential": [
            [
             0,
             "#0d0887"
            ],
            [
             0.1111111111111111,
             "#46039f"
            ],
            [
             0.2222222222222222,
             "#7201a8"
            ],
            [
             0.3333333333333333,
             "#9c179e"
            ],
            [
             0.4444444444444444,
             "#bd3786"
            ],
            [
             0.5555555555555556,
             "#d8576b"
            ],
            [
             0.6666666666666666,
             "#ed7953"
            ],
            [
             0.7777777777777778,
             "#fb9f3a"
            ],
            [
             0.8888888888888888,
             "#fdca26"
            ],
            [
             1,
             "#f0f921"
            ]
           ],
           "sequentialminus": [
            [
             0,
             "#0d0887"
            ],
            [
             0.1111111111111111,
             "#46039f"
            ],
            [
             0.2222222222222222,
             "#7201a8"
            ],
            [
             0.3333333333333333,
             "#9c179e"
            ],
            [
             0.4444444444444444,
             "#bd3786"
            ],
            [
             0.5555555555555556,
             "#d8576b"
            ],
            [
             0.6666666666666666,
             "#ed7953"
            ],
            [
             0.7777777777777778,
             "#fb9f3a"
            ],
            [
             0.8888888888888888,
             "#fdca26"
            ],
            [
             1,
             "#f0f921"
            ]
           ]
          },
          "colorway": [
           "#636efa",
           "#EF553B",
           "#00cc96",
           "#ab63fa",
           "#FFA15A",
           "#19d3f3",
           "#FF6692",
           "#B6E880",
           "#FF97FF",
           "#FECB52"
          ],
          "font": {
           "color": "#2a3f5f"
          },
          "geo": {
           "bgcolor": "white",
           "lakecolor": "white",
           "landcolor": "#E5ECF6",
           "showlakes": true,
           "showland": true,
           "subunitcolor": "white"
          },
          "hoverlabel": {
           "align": "left"
          },
          "hovermode": "closest",
          "mapbox": {
           "style": "light"
          },
          "paper_bgcolor": "white",
          "plot_bgcolor": "#E5ECF6",
          "polar": {
           "angularaxis": {
            "gridcolor": "white",
            "linecolor": "white",
            "ticks": ""
           },
           "bgcolor": "#E5ECF6",
           "radialaxis": {
            "gridcolor": "white",
            "linecolor": "white",
            "ticks": ""
           }
          },
          "scene": {
           "xaxis": {
            "backgroundcolor": "#E5ECF6",
            "gridcolor": "white",
            "gridwidth": 2,
            "linecolor": "white",
            "showbackground": true,
            "ticks": "",
            "zerolinecolor": "white"
           },
           "yaxis": {
            "backgroundcolor": "#E5ECF6",
            "gridcolor": "white",
            "gridwidth": 2,
            "linecolor": "white",
            "showbackground": true,
            "ticks": "",
            "zerolinecolor": "white"
           },
           "zaxis": {
            "backgroundcolor": "#E5ECF6",
            "gridcolor": "white",
            "gridwidth": 2,
            "linecolor": "white",
            "showbackground": true,
            "ticks": "",
            "zerolinecolor": "white"
           }
          },
          "shapedefaults": {
           "line": {
            "color": "#2a3f5f"
           }
          },
          "ternary": {
           "aaxis": {
            "gridcolor": "white",
            "linecolor": "white",
            "ticks": ""
           },
           "baxis": {
            "gridcolor": "white",
            "linecolor": "white",
            "ticks": ""
           },
           "bgcolor": "#E5ECF6",
           "caxis": {
            "gridcolor": "white",
            "linecolor": "white",
            "ticks": ""
           }
          },
          "title": {
           "x": 0.05
          },
          "xaxis": {
           "automargin": true,
           "gridcolor": "white",
           "linecolor": "white",
           "ticks": "",
           "zerolinecolor": "white",
           "zerolinewidth": 2
          },
          "yaxis": {
           "automargin": true,
           "gridcolor": "white",
           "linecolor": "white",
           "ticks": "",
           "zerolinecolor": "white",
           "zerolinewidth": 2
          }
         }
        },
        "title": {
         "text": "Bar chart with categorical axes"
        },
        "xaxis": {
         "anchor": "y",
         "domain": [
          0,
          0.98
         ],
         "title": {
          "text": "r_date"
         }
        },
        "yaxis": {
         "anchor": "x",
         "domain": [
          0,
          1
         ],
         "title": {
          "text": "quantitative_result"
         },
         "type": "category"
        }
       }
      },
      "text/html": [
       "<div>\n",
       "        \n",
       "        \n",
       "            <div id=\"75f46362-4ae1-4cfd-b2e8-3961b9aa0ece\" class=\"plotly-graph-div\" style=\"height:600px; width:100%;\"></div>\n",
       "            <script type=\"text/javascript\">\n",
       "                require([\"plotly\"], function(Plotly) {\n",
       "                    window.PLOTLYENV=window.PLOTLYENV || {};\n",
       "                    \n",
       "                if (document.getElementById(\"75f46362-4ae1-4cfd-b2e8-3961b9aa0ece\")) {\n",
       "                    Plotly.newPlot(\n",
       "                        '75f46362-4ae1-4cfd-b2e8-3961b9aa0ece',\n",
       "                        [{\"hoverlabel\": {\"namelength\": 0}, \"hovertemplate\": \"source=habits<br>r_date=%{x}<br>quantitative_result=%{y}\", \"legendgroup\": \"source=habits\", \"marker\": {\"color\": \"#636efa\", \"symbol\": \"circle\"}, \"mode\": \"markers\", \"name\": \"source=habits\", \"showlegend\": true, \"type\": \"scatter\", \"x\": [\"2011-08-25\", \"2017-09-07\", \"2015-10-09\", \"2013-05-15\"], \"xaxis\": \"x\", \"y\": [\"95-100%\", \"95-100%\", \"95-100%\", \"95-100%\"], \"yaxis\": \"y\"}, {\"hoverlabel\": {\"namelength\": 0}, \"hovertemplate\": \"source=adherence<br>r_date=%{x}<br>quantitative_result=%{y}\", \"legendgroup\": \"source=adherence\", \"marker\": {\"color\": \"#EF553B\", \"symbol\": \"circle\"}, \"mode\": \"markers\", \"name\": \"source=adherence\", \"showlegend\": true, \"type\": \"scatter\", \"x\": [\"2018-03-23\", \"2017-06-09\", \"2017-06-08\", \"2017-05-10\", \"2017-04-26\", \"2017-02-27\", \"2016-08-08\", \"2016-06-09\", \"2016-05-27\", \"2018-05-18\", \"2016-03-02\", \"2015-09-22\", \"2015-05-07\", \"2014-02-03\", \"2013-12-26\", \"2013-08-12\", \"2013-06-26\", \"2013-05-15\", \"2012-09-28\", \"2015-10-09\", \"2018-10-22\"], \"xaxis\": \"x\", \"y\": [\"95-100%\", \"95-100%\", \"95-100%\", \"95-100%\", \"95-100%\", \"95-100%\", \"95-100%\", \"95-100%\", \"95-100%\", \"95-100%\", \"95-100%\", \"95-100%\", \"95-100%\", \"95-100%\", \"95-100%\", \"95-100%\", \"95-100%\", \"95-100%\", \"95-100%\", \"95-100%\", \"95-100%\"], \"yaxis\": \"y\"}],\n",
       "                        {\"height\": 600, \"legend\": {\"tracegroupgap\": 0}, \"margin\": {\"t\": 60}, \"template\": {\"data\": {\"bar\": [{\"error_x\": {\"color\": \"#2a3f5f\"}, \"error_y\": {\"color\": \"#2a3f5f\"}, \"marker\": {\"line\": {\"color\": \"#E5ECF6\", \"width\": 0.5}}, \"type\": \"bar\"}], \"barpolar\": [{\"marker\": {\"line\": {\"color\": \"#E5ECF6\", \"width\": 0.5}}, \"type\": \"barpolar\"}], \"carpet\": [{\"aaxis\": {\"endlinecolor\": \"#2a3f5f\", \"gridcolor\": \"white\", \"linecolor\": \"white\", \"minorgridcolor\": \"white\", \"startlinecolor\": \"#2a3f5f\"}, \"baxis\": {\"endlinecolor\": \"#2a3f5f\", \"gridcolor\": \"white\", \"linecolor\": \"white\", \"minorgridcolor\": \"white\", \"startlinecolor\": \"#2a3f5f\"}, \"type\": \"carpet\"}], \"choropleth\": [{\"colorbar\": {\"outlinewidth\": 0, \"ticks\": \"\"}, \"type\": \"choropleth\"}], \"contour\": [{\"colorbar\": {\"outlinewidth\": 0, \"ticks\": \"\"}, \"colorscale\": [[0.0, \"#0d0887\"], [0.1111111111111111, \"#46039f\"], [0.2222222222222222, \"#7201a8\"], [0.3333333333333333, \"#9c179e\"], [0.4444444444444444, \"#bd3786\"], [0.5555555555555556, \"#d8576b\"], [0.6666666666666666, \"#ed7953\"], [0.7777777777777778, \"#fb9f3a\"], [0.8888888888888888, \"#fdca26\"], [1.0, \"#f0f921\"]], \"type\": \"contour\"}], \"contourcarpet\": [{\"colorbar\": {\"outlinewidth\": 0, \"ticks\": \"\"}, \"type\": \"contourcarpet\"}], \"heatmap\": [{\"colorbar\": {\"outlinewidth\": 0, \"ticks\": \"\"}, \"colorscale\": [[0.0, \"#0d0887\"], [0.1111111111111111, \"#46039f\"], [0.2222222222222222, \"#7201a8\"], [0.3333333333333333, \"#9c179e\"], [0.4444444444444444, \"#bd3786\"], [0.5555555555555556, \"#d8576b\"], [0.6666666666666666, \"#ed7953\"], [0.7777777777777778, \"#fb9f3a\"], [0.8888888888888888, \"#fdca26\"], [1.0, \"#f0f921\"]], \"type\": \"heatmap\"}], \"heatmapgl\": [{\"colorbar\": {\"outlinewidth\": 0, \"ticks\": \"\"}, \"colorscale\": [[0.0, \"#0d0887\"], [0.1111111111111111, \"#46039f\"], [0.2222222222222222, \"#7201a8\"], [0.3333333333333333, \"#9c179e\"], [0.4444444444444444, \"#bd3786\"], [0.5555555555555556, \"#d8576b\"], [0.6666666666666666, \"#ed7953\"], [0.7777777777777778, \"#fb9f3a\"], [0.8888888888888888, \"#fdca26\"], [1.0, \"#f0f921\"]], \"type\": \"heatmapgl\"}], \"histogram\": [{\"marker\": {\"colorbar\": {\"outlinewidth\": 0, \"ticks\": \"\"}}, \"type\": \"histogram\"}], \"histogram2d\": [{\"colorbar\": {\"outlinewidth\": 0, \"ticks\": \"\"}, \"colorscale\": [[0.0, \"#0d0887\"], [0.1111111111111111, \"#46039f\"], [0.2222222222222222, \"#7201a8\"], [0.3333333333333333, \"#9c179e\"], [0.4444444444444444, \"#bd3786\"], [0.5555555555555556, \"#d8576b\"], [0.6666666666666666, \"#ed7953\"], [0.7777777777777778, \"#fb9f3a\"], [0.8888888888888888, \"#fdca26\"], [1.0, \"#f0f921\"]], \"type\": \"histogram2d\"}], \"histogram2dcontour\": [{\"colorbar\": {\"outlinewidth\": 0, \"ticks\": \"\"}, \"colorscale\": [[0.0, \"#0d0887\"], [0.1111111111111111, \"#46039f\"], [0.2222222222222222, \"#7201a8\"], [0.3333333333333333, \"#9c179e\"], [0.4444444444444444, \"#bd3786\"], [0.5555555555555556, \"#d8576b\"], [0.6666666666666666, \"#ed7953\"], [0.7777777777777778, \"#fb9f3a\"], [0.8888888888888888, \"#fdca26\"], [1.0, \"#f0f921\"]], \"type\": \"histogram2dcontour\"}], \"mesh3d\": [{\"colorbar\": {\"outlinewidth\": 0, \"ticks\": \"\"}, \"type\": \"mesh3d\"}], \"parcoords\": [{\"line\": {\"colorbar\": {\"outlinewidth\": 0, \"ticks\": \"\"}}, \"type\": \"parcoords\"}], \"scatter\": [{\"marker\": {\"colorbar\": {\"outlinewidth\": 0, \"ticks\": \"\"}}, \"type\": \"scatter\"}], \"scatter3d\": [{\"line\": {\"colorbar\": {\"outlinewidth\": 0, \"ticks\": \"\"}}, \"marker\": {\"colorbar\": {\"outlinewidth\": 0, \"ticks\": \"\"}}, \"type\": \"scatter3d\"}], \"scattercarpet\": [{\"marker\": {\"colorbar\": {\"outlinewidth\": 0, \"ticks\": \"\"}}, \"type\": \"scattercarpet\"}], \"scattergeo\": [{\"marker\": {\"colorbar\": {\"outlinewidth\": 0, \"ticks\": \"\"}}, \"type\": \"scattergeo\"}], \"scattergl\": [{\"marker\": {\"colorbar\": {\"outlinewidth\": 0, \"ticks\": \"\"}}, \"type\": \"scattergl\"}], \"scattermapbox\": [{\"marker\": {\"colorbar\": {\"outlinewidth\": 0, \"ticks\": \"\"}}, \"type\": \"scattermapbox\"}], \"scatterpolar\": [{\"marker\": {\"colorbar\": {\"outlinewidth\": 0, \"ticks\": \"\"}}, \"type\": \"scatterpolar\"}], \"scatterpolargl\": [{\"marker\": {\"colorbar\": {\"outlinewidth\": 0, \"ticks\": \"\"}}, \"type\": \"scatterpolargl\"}], \"scatterternary\": [{\"marker\": {\"colorbar\": {\"outlinewidth\": 0, \"ticks\": \"\"}}, \"type\": \"scatterternary\"}], \"surface\": [{\"colorbar\": {\"outlinewidth\": 0, \"ticks\": \"\"}, \"colorscale\": [[0.0, \"#0d0887\"], [0.1111111111111111, \"#46039f\"], [0.2222222222222222, \"#7201a8\"], [0.3333333333333333, \"#9c179e\"], [0.4444444444444444, \"#bd3786\"], [0.5555555555555556, \"#d8576b\"], [0.6666666666666666, \"#ed7953\"], [0.7777777777777778, \"#fb9f3a\"], [0.8888888888888888, \"#fdca26\"], [1.0, \"#f0f921\"]], \"type\": \"surface\"}], \"table\": [{\"cells\": {\"fill\": {\"color\": \"#EBF0F8\"}, \"line\": {\"color\": \"white\"}}, \"header\": {\"fill\": {\"color\": \"#C8D4E3\"}, \"line\": {\"color\": \"white\"}}, \"type\": \"table\"}]}, \"layout\": {\"annotationdefaults\": {\"arrowcolor\": \"#2a3f5f\", \"arrowhead\": 0, \"arrowwidth\": 1}, \"colorscale\": {\"diverging\": [[0, \"#8e0152\"], [0.1, \"#c51b7d\"], [0.2, \"#de77ae\"], [0.3, \"#f1b6da\"], [0.4, \"#fde0ef\"], [0.5, \"#f7f7f7\"], [0.6, \"#e6f5d0\"], [0.7, \"#b8e186\"], [0.8, \"#7fbc41\"], [0.9, \"#4d9221\"], [1, \"#276419\"]], \"sequential\": [[0.0, \"#0d0887\"], [0.1111111111111111, \"#46039f\"], [0.2222222222222222, \"#7201a8\"], [0.3333333333333333, \"#9c179e\"], [0.4444444444444444, \"#bd3786\"], [0.5555555555555556, \"#d8576b\"], [0.6666666666666666, \"#ed7953\"], [0.7777777777777778, \"#fb9f3a\"], [0.8888888888888888, \"#fdca26\"], [1.0, \"#f0f921\"]], \"sequentialminus\": [[0.0, \"#0d0887\"], [0.1111111111111111, \"#46039f\"], [0.2222222222222222, \"#7201a8\"], [0.3333333333333333, \"#9c179e\"], [0.4444444444444444, \"#bd3786\"], [0.5555555555555556, \"#d8576b\"], [0.6666666666666666, \"#ed7953\"], [0.7777777777777778, \"#fb9f3a\"], [0.8888888888888888, \"#fdca26\"], [1.0, \"#f0f921\"]]}, \"colorway\": [\"#636efa\", \"#EF553B\", \"#00cc96\", \"#ab63fa\", \"#FFA15A\", \"#19d3f3\", \"#FF6692\", \"#B6E880\", \"#FF97FF\", \"#FECB52\"], \"font\": {\"color\": \"#2a3f5f\"}, \"geo\": {\"bgcolor\": \"white\", \"lakecolor\": \"white\", \"landcolor\": \"#E5ECF6\", \"showlakes\": true, \"showland\": true, \"subunitcolor\": \"white\"}, \"hoverlabel\": {\"align\": \"left\"}, \"hovermode\": \"closest\", \"mapbox\": {\"style\": \"light\"}, \"paper_bgcolor\": \"white\", \"plot_bgcolor\": \"#E5ECF6\", \"polar\": {\"angularaxis\": {\"gridcolor\": \"white\", \"linecolor\": \"white\", \"ticks\": \"\"}, \"bgcolor\": \"#E5ECF6\", \"radialaxis\": {\"gridcolor\": \"white\", \"linecolor\": \"white\", \"ticks\": \"\"}}, \"scene\": {\"xaxis\": {\"backgroundcolor\": \"#E5ECF6\", \"gridcolor\": \"white\", \"gridwidth\": 2, \"linecolor\": \"white\", \"showbackground\": true, \"ticks\": \"\", \"zerolinecolor\": \"white\"}, \"yaxis\": {\"backgroundcolor\": \"#E5ECF6\", \"gridcolor\": \"white\", \"gridwidth\": 2, \"linecolor\": \"white\", \"showbackground\": true, \"ticks\": \"\", \"zerolinecolor\": \"white\"}, \"zaxis\": {\"backgroundcolor\": \"#E5ECF6\", \"gridcolor\": \"white\", \"gridwidth\": 2, \"linecolor\": \"white\", \"showbackground\": true, \"ticks\": \"\", \"zerolinecolor\": \"white\"}}, \"shapedefaults\": {\"line\": {\"color\": \"#2a3f5f\"}}, \"ternary\": {\"aaxis\": {\"gridcolor\": \"white\", \"linecolor\": \"white\", \"ticks\": \"\"}, \"baxis\": {\"gridcolor\": \"white\", \"linecolor\": \"white\", \"ticks\": \"\"}, \"bgcolor\": \"#E5ECF6\", \"caxis\": {\"gridcolor\": \"white\", \"linecolor\": \"white\", \"ticks\": \"\"}}, \"title\": {\"x\": 0.05}, \"xaxis\": {\"automargin\": true, \"gridcolor\": \"white\", \"linecolor\": \"white\", \"ticks\": \"\", \"zerolinecolor\": \"white\", \"zerolinewidth\": 2}, \"yaxis\": {\"automargin\": true, \"gridcolor\": \"white\", \"linecolor\": \"white\", \"ticks\": \"\", \"zerolinecolor\": \"white\", \"zerolinewidth\": 2}}}, \"title\": {\"text\": \"Bar chart with categorical axes\"}, \"xaxis\": {\"anchor\": \"y\", \"domain\": [0.0, 0.98], \"title\": {\"text\": \"r_date\"}}, \"yaxis\": {\"anchor\": \"x\", \"domain\": [0.0, 1.0], \"title\": {\"text\": \"quantitative_result\"}, \"type\": \"category\"}},\n",
       "                        {\"responsive\": true}\n",
       "                    ).then(function(){\n",
       "                            \n",
       "var gd = document.getElementById('75f46362-4ae1-4cfd-b2e8-3961b9aa0ece');\n",
       "var x = new MutationObserver(function (mutations, observer) {{\n",
       "        var display = window.getComputedStyle(gd).display;\n",
       "        if (!display || display === 'none') {{\n",
       "            console.log([gd, 'removed!']);\n",
       "            Plotly.purge(gd);\n",
       "            observer.disconnect();\n",
       "        }}\n",
       "}});\n",
       "\n",
       "// Listen for the removal of the full notebook cells\n",
       "var notebookContainer = gd.closest('#notebook-container');\n",
       "if (notebookContainer) {{\n",
       "    x.observe(notebookContainer, {childList: true});\n",
       "}}\n",
       "\n",
       "// Listen for the clearing of the current output cell\n",
       "var outputEl = gd.closest('.output');\n",
       "if (outputEl) {{\n",
       "    x.observe(outputEl, {childList: true});\n",
       "}}\n",
       "\n",
       "                        })\n",
       "                };\n",
       "                });\n",
       "            </script>\n",
       "        </div>"
      ]
     },
     "metadata": {},
     "output_type": "display_data"
    },
    {
     "name": "stdout",
     "output_type": "stream",
     "text": [
      "habit_one  id_patient      r_date quantitative_result qualitative_result  \\\n",
      "462           1764814  2011-08-25             95-100%                 si   \n",
      "24            1764814  2012-09-28             95-100%                 si   \n",
      "463           1764814  2013-05-15             95-100%                 si   \n",
      "116           1764814  2013-05-15             95-100%                 si   \n",
      "143           1764814  2013-06-26             95-100%                 si   \n",
      "178           1764814  2013-08-12             95-100%                 si   \n",
      "253           1764814  2013-12-26             95-100%                 si   \n",
      "281           1764814  2014-02-03             95-100%                 si   \n",
      "686           1764814  2015-05-07             95-100%                 si   \n",
      "826           1764814  2015-09-22             95-100%                 no   \n",
      "464           1764814  2015-10-09             95-100%                 si   \n",
      "852           1764814  2015-10-09             95-100%                 si   \n",
      "1114          1764814  2016-03-02             95-100%                 si   \n",
      "1203          1764814  2016-05-27             95-100%                 si   \n",
      "1220          1764814  2016-06-09             95-100%                 si   \n",
      "1273          1764814  2016-08-08             95-100%                 si   \n",
      "1744          1764814  2017-02-27             95-100%                 si   \n",
      "1891          1764814  2017-04-26             95-100%                 si   \n",
      "1927          1764814  2017-05-10             95-100%                 si   \n",
      "2005          1764814  2017-06-08             95-100%                 no   \n",
      "2012          1764814  2017-06-09             95-100%                 si   \n",
      "465           1764814  2017-09-07             95-100%                 si   \n",
      "2662          1764814  2018-03-23             95-100%                 si   \n",
      "2789          1764814  2018-05-18             95-100%                 si   \n",
      "3218          1764814  2018-10-22             95-100%                 si   \n",
      "\n",
      "habit_one     source  \n",
      "462           habits  \n",
      "24         adherence  \n",
      "463           habits  \n",
      "116        adherence  \n",
      "143        adherence  \n",
      "178        adherence  \n",
      "253        adherence  \n",
      "281        adherence  \n",
      "686        adherence  \n",
      "826        adherence  \n",
      "464           habits  \n",
      "852        adherence  \n",
      "1114       adherence  \n",
      "1203       adherence  \n",
      "1220       adherence  \n",
      "1273       adherence  \n",
      "1744       adherence  \n",
      "1891       adherence  \n",
      "1927       adherence  \n",
      "2005       adherence  \n",
      "2012       adherence  \n",
      "465           habits  \n",
      "2662       adherence  \n",
      "2789       adherence  \n",
      "3218       adherence  \n"
     ]
    }
   ],
   "source": [
    "user = 1764814\n",
    "fig = px.scatter(df_4[df_4['id_patient'] == user].sort_values('quantitative_result'), \n",
    "                 x=\"r_date\", \n",
    "                 y=\"quantitative_result\",\n",
    "                color=\"source\")\n",
    "fig.update_layout(yaxis_type='category',\n",
    "                  title_text='Bar chart with categorical axes')\n",
    "fig.show()\n",
    "\n",
    "print(df_4[df_4['id_patient'] == user])"
   ]
  },
  {
   "cell_type": "code",
   "execution_count": 363,
   "metadata": {},
   "outputs": [
    {
     "data": {
      "text/html": [
       "<div>\n",
       "<style scoped>\n",
       "    .dataframe tbody tr th:only-of-type {\n",
       "        vertical-align: middle;\n",
       "    }\n",
       "\n",
       "    .dataframe tbody tr th {\n",
       "        vertical-align: top;\n",
       "    }\n",
       "\n",
       "    .dataframe thead th {\n",
       "        text-align: right;\n",
       "    }\n",
       "</style>\n",
       "<table border=\"1\" class=\"dataframe\">\n",
       "  <thead>\n",
       "    <tr style=\"text-align: right;\">\n",
       "      <th>habit_one</th>\n",
       "      <th>id_patient</th>\n",
       "      <th>r_date</th>\n",
       "      <th>quantitative_result</th>\n",
       "      <th>qualitative_result</th>\n",
       "      <th>source</th>\n",
       "    </tr>\n",
       "  </thead>\n",
       "  <tbody>\n",
       "    <tr>\n",
       "      <th>590</th>\n",
       "      <td>500588</td>\n",
       "      <td>2017-09-13</td>\n",
       "      <td>95-100%</td>\n",
       "      <td>si</td>\n",
       "      <td>habits</td>\n",
       "    </tr>\n",
       "    <tr>\n",
       "      <th>591</th>\n",
       "      <td>502989</td>\n",
       "      <td>2017-08-31</td>\n",
       "      <td>95-100%</td>\n",
       "      <td>no</td>\n",
       "      <td>habits</td>\n",
       "    </tr>\n",
       "    <tr>\n",
       "      <th>592</th>\n",
       "      <td>506808</td>\n",
       "      <td>2014-12-16</td>\n",
       "      <td>95-100%</td>\n",
       "      <td>si</td>\n",
       "      <td>habits</td>\n",
       "    </tr>\n",
       "    <tr>\n",
       "      <th>593</th>\n",
       "      <td>506808</td>\n",
       "      <td>2017-09-07</td>\n",
       "      <td>95-100%</td>\n",
       "      <td>si</td>\n",
       "      <td>habits</td>\n",
       "    </tr>\n",
       "    <tr>\n",
       "      <th>594</th>\n",
       "      <td>512938</td>\n",
       "      <td>2017-09-12</td>\n",
       "      <td>95-100%</td>\n",
       "      <td>si</td>\n",
       "      <td>habits</td>\n",
       "    </tr>\n",
       "  </tbody>\n",
       "</table>\n",
       "</div>"
      ],
      "text/plain": [
       "habit_one  id_patient      r_date quantitative_result qualitative_result  \\\n",
       "590            500588  2017-09-13             95-100%                 si   \n",
       "591            502989  2017-08-31             95-100%                 no   \n",
       "592            506808  2014-12-16             95-100%                 si   \n",
       "593            506808  2017-09-07             95-100%                 si   \n",
       "594            512938  2017-09-12             95-100%                 si   \n",
       "\n",
       "habit_one  source  \n",
       "590        habits  \n",
       "591        habits  \n",
       "592        habits  \n",
       "593        habits  \n",
       "594        habits  "
      ]
     },
     "execution_count": 363,
     "metadata": {},
     "output_type": "execute_result"
    }
   ],
   "source": [
    "df_4[df_4['source']=='habits'].head()"
   ]
  },
  {
   "cell_type": "code",
   "execution_count": 364,
   "metadata": {},
   "outputs": [
    {
     "data": {
      "text/plain": [
       "Index(['id_patient', 'r_date', 'quantitative_result', 'qualitative_result',\n",
       "       'source'],\n",
       "      dtype='object', name='habit_one')"
      ]
     },
     "execution_count": 364,
     "metadata": {},
     "output_type": "execute_result"
    }
   ],
   "source": [
    "df_4.columns"
   ]
  },
  {
   "cell_type": "code",
   "execution_count": 367,
   "metadata": {},
   "outputs": [
    {
     "data": {
      "text/plain": [
       "(856, 11)"
      ]
     },
     "execution_count": 367,
     "metadata": {},
     "output_type": "execute_result"
    }
   ],
   "source": [
    "hab_df.drop_duplicates().shape"
   ]
  },
  {
   "cell_type": "code",
   "execution_count": 368,
   "metadata": {},
   "outputs": [
    {
     "data": {
      "text/html": [
       "<div>\n",
       "<style scoped>\n",
       "    .dataframe tbody tr th:only-of-type {\n",
       "        vertical-align: middle;\n",
       "    }\n",
       "\n",
       "    .dataframe tbody tr th {\n",
       "        vertical-align: top;\n",
       "    }\n",
       "\n",
       "    .dataframe thead th {\n",
       "        text-align: right;\n",
       "    }\n",
       "</style>\n",
       "<table border=\"1\" class=\"dataframe\">\n",
       "  <thead>\n",
       "    <tr style=\"text-align: right;\">\n",
       "      <th>habit_one</th>\n",
       "      <th>ALCOHOL</th>\n",
       "      <th>ALIMENTACION</th>\n",
       "      <th>CIGARRILLO</th>\n",
       "      <th>CONSUMO DE CAFE</th>\n",
       "      <th>EJERCICIO</th>\n",
       "      <th>ESTADO ANÍMICO</th>\n",
       "      <th>MASCOTAS</th>\n",
       "      <th>METODO DE PLANIFICACION</th>\n",
       "      <th>SUSTANCIAS PSICOACTIVAS</th>\n",
       "      <th>id_patient</th>\n",
       "      <th>registration_date</th>\n",
       "    </tr>\n",
       "  </thead>\n",
       "  <tbody>\n",
       "    <tr>\n",
       "      <th>0</th>\n",
       "      <td>NaN</td>\n",
       "      <td>NaN</td>\n",
       "      <td>NaN</td>\n",
       "      <td>NaN</td>\n",
       "      <td>NaN</td>\n",
       "      <td>NaN</td>\n",
       "      <td>NaN</td>\n",
       "      <td>IMPLANTE SUBDERMICO</td>\n",
       "      <td>NaN</td>\n",
       "      <td>1001619</td>\n",
       "      <td>2011-11-01</td>\n",
       "    </tr>\n",
       "    <tr>\n",
       "      <th>1</th>\n",
       "      <td>BEBEDOR EXCEPCIONAL</td>\n",
       "      <td>BUENA ALIMENTACION</td>\n",
       "      <td>NO</td>\n",
       "      <td>NaN</td>\n",
       "      <td>1 VEZ POR SEMANA</td>\n",
       "      <td>NaN</td>\n",
       "      <td>NO</td>\n",
       "      <td>NaN</td>\n",
       "      <td>NaN</td>\n",
       "      <td>1001619</td>\n",
       "      <td>2012-07-12</td>\n",
       "    </tr>\n",
       "    <tr>\n",
       "      <th>2</th>\n",
       "      <td>ABSTEMIO</td>\n",
       "      <td>BUENA ALIMENTACION</td>\n",
       "      <td>NO</td>\n",
       "      <td>NaN</td>\n",
       "      <td>3 VECES POR SEMANA</td>\n",
       "      <td>NaN</td>\n",
       "      <td>NaN</td>\n",
       "      <td>NaN</td>\n",
       "      <td>NaN</td>\n",
       "      <td>1004538</td>\n",
       "      <td>2015-08-25</td>\n",
       "    </tr>\n",
       "    <tr>\n",
       "      <th>3</th>\n",
       "      <td>NaN</td>\n",
       "      <td>NaN</td>\n",
       "      <td>NaN</td>\n",
       "      <td>NaN</td>\n",
       "      <td>NaN</td>\n",
       "      <td>NaN</td>\n",
       "      <td>NaN</td>\n",
       "      <td>HISTERECTOMIA</td>\n",
       "      <td>NaN</td>\n",
       "      <td>1004538</td>\n",
       "      <td>2017-09-07</td>\n",
       "    </tr>\n",
       "    <tr>\n",
       "      <th>4</th>\n",
       "      <td>NaN</td>\n",
       "      <td>REGULAR ALIMENTACION</td>\n",
       "      <td>NaN</td>\n",
       "      <td>NaN</td>\n",
       "      <td>NO REALIZA EJERCICIO</td>\n",
       "      <td>ANIMICAMENTE ESTABLE</td>\n",
       "      <td>NO</td>\n",
       "      <td>NaN</td>\n",
       "      <td>NaN</td>\n",
       "      <td>1008837</td>\n",
       "      <td>2011-03-18</td>\n",
       "    </tr>\n",
       "  </tbody>\n",
       "</table>\n",
       "</div>"
      ],
      "text/plain": [
       "habit_one              ALCOHOL          ALIMENTACION CIGARRILLO  \\\n",
       "0                          NaN                   NaN        NaN   \n",
       "1          BEBEDOR EXCEPCIONAL    BUENA ALIMENTACION         NO   \n",
       "2                     ABSTEMIO    BUENA ALIMENTACION         NO   \n",
       "3                          NaN                   NaN        NaN   \n",
       "4                          NaN  REGULAR ALIMENTACION        NaN   \n",
       "\n",
       "habit_one CONSUMO DE CAFE             EJERCICIO        ESTADO ANÍMICO  \\\n",
       "0                     NaN                   NaN                   NaN   \n",
       "1                     NaN      1 VEZ POR SEMANA                   NaN   \n",
       "2                     NaN    3 VECES POR SEMANA                   NaN   \n",
       "3                     NaN                   NaN                   NaN   \n",
       "4                     NaN  NO REALIZA EJERCICIO  ANIMICAMENTE ESTABLE   \n",
       "\n",
       "habit_one MASCOTAS METODO DE PLANIFICACION SUSTANCIAS PSICOACTIVAS  \\\n",
       "0              NaN     IMPLANTE SUBDERMICO                     NaN   \n",
       "1               NO                     NaN                     NaN   \n",
       "2              NaN                     NaN                     NaN   \n",
       "3              NaN           HISTERECTOMIA                     NaN   \n",
       "4               NO                     NaN                     NaN   \n",
       "\n",
       "habit_one  id_patient registration_date  \n",
       "0             1001619        2011-11-01  \n",
       "1             1001619        2012-07-12  \n",
       "2             1004538        2015-08-25  \n",
       "3             1004538        2017-09-07  \n",
       "4             1008837        2011-03-18  "
      ]
     },
     "execution_count": 368,
     "metadata": {},
     "output_type": "execute_result"
    }
   ],
   "source": [
    "hab_df.head()"
   ]
  },
  {
   "cell_type": "code",
   "execution_count": 370,
   "metadata": {},
   "outputs": [
    {
     "data": {
      "text/html": [
       "<div>\n",
       "<style scoped>\n",
       "    .dataframe tbody tr th:only-of-type {\n",
       "        vertical-align: middle;\n",
       "    }\n",
       "\n",
       "    .dataframe tbody tr th {\n",
       "        vertical-align: top;\n",
       "    }\n",
       "\n",
       "    .dataframe thead th {\n",
       "        text-align: right;\n",
       "    }\n",
       "</style>\n",
       "<table border=\"1\" class=\"dataframe\">\n",
       "  <thead>\n",
       "    <tr style=\"text-align: right;\">\n",
       "      <th>habit_one</th>\n",
       "      <th>ALCOHOL</th>\n",
       "      <th>ALIMENTACION</th>\n",
       "      <th>CIGARRILLO</th>\n",
       "      <th>CONSUMO DE CAFE</th>\n",
       "      <th>EJERCICIO</th>\n",
       "      <th>ESTADO ANÍMICO</th>\n",
       "      <th>MASCOTAS</th>\n",
       "      <th>METODO DE PLANIFICACION</th>\n",
       "      <th>SUSTANCIAS PSICOACTIVAS</th>\n",
       "      <th>id_patient</th>\n",
       "      <th>registration_date</th>\n",
       "      <th>quantitative_result</th>\n",
       "      <th>qualitative_result</th>\n",
       "    </tr>\n",
       "  </thead>\n",
       "  <tbody>\n",
       "    <tr>\n",
       "      <th>0</th>\n",
       "      <td>NaN</td>\n",
       "      <td>NaN</td>\n",
       "      <td>NaN</td>\n",
       "      <td>NaN</td>\n",
       "      <td>NaN</td>\n",
       "      <td>NaN</td>\n",
       "      <td>NaN</td>\n",
       "      <td>IMPLANTE SUBDERMICO</td>\n",
       "      <td>NaN</td>\n",
       "      <td>1001619</td>\n",
       "      <td>2011-11-01</td>\n",
       "      <td>&lt;30%</td>\n",
       "      <td>no</td>\n",
       "    </tr>\n",
       "    <tr>\n",
       "      <th>1</th>\n",
       "      <td>BEBEDOR EXCEPCIONAL</td>\n",
       "      <td>BUENA ALIMENTACION</td>\n",
       "      <td>NO</td>\n",
       "      <td>NaN</td>\n",
       "      <td>1 VEZ POR SEMANA</td>\n",
       "      <td>NaN</td>\n",
       "      <td>NO</td>\n",
       "      <td>NaN</td>\n",
       "      <td>NaN</td>\n",
       "      <td>1001619</td>\n",
       "      <td>2012-07-12</td>\n",
       "      <td>&lt;30%</td>\n",
       "      <td>no</td>\n",
       "    </tr>\n",
       "    <tr>\n",
       "      <th>2</th>\n",
       "      <td>ABSTEMIO</td>\n",
       "      <td>BUENA ALIMENTACION</td>\n",
       "      <td>NO</td>\n",
       "      <td>NaN</td>\n",
       "      <td>3 VECES POR SEMANA</td>\n",
       "      <td>NaN</td>\n",
       "      <td>NaN</td>\n",
       "      <td>NaN</td>\n",
       "      <td>NaN</td>\n",
       "      <td>1004538</td>\n",
       "      <td>2015-08-25</td>\n",
       "      <td>95-100%</td>\n",
       "      <td>si</td>\n",
       "    </tr>\n",
       "    <tr>\n",
       "      <th>3</th>\n",
       "      <td>NaN</td>\n",
       "      <td>NaN</td>\n",
       "      <td>NaN</td>\n",
       "      <td>NaN</td>\n",
       "      <td>NaN</td>\n",
       "      <td>NaN</td>\n",
       "      <td>NaN</td>\n",
       "      <td>HISTERECTOMIA</td>\n",
       "      <td>NaN</td>\n",
       "      <td>1004538</td>\n",
       "      <td>2017-09-07</td>\n",
       "      <td>95-100%</td>\n",
       "      <td>si</td>\n",
       "    </tr>\n",
       "    <tr>\n",
       "      <th>4</th>\n",
       "      <td>NaN</td>\n",
       "      <td>REGULAR ALIMENTACION</td>\n",
       "      <td>NaN</td>\n",
       "      <td>NaN</td>\n",
       "      <td>NO REALIZA EJERCICIO</td>\n",
       "      <td>ANIMICAMENTE ESTABLE</td>\n",
       "      <td>NO</td>\n",
       "      <td>NaN</td>\n",
       "      <td>NaN</td>\n",
       "      <td>1008837</td>\n",
       "      <td>2011-03-18</td>\n",
       "      <td>95-100%</td>\n",
       "      <td>si</td>\n",
       "    </tr>\n",
       "  </tbody>\n",
       "</table>\n",
       "</div>"
      ],
      "text/plain": [
       "habit_one              ALCOHOL          ALIMENTACION CIGARRILLO  \\\n",
       "0                          NaN                   NaN        NaN   \n",
       "1          BEBEDOR EXCEPCIONAL    BUENA ALIMENTACION         NO   \n",
       "2                     ABSTEMIO    BUENA ALIMENTACION         NO   \n",
       "3                          NaN                   NaN        NaN   \n",
       "4                          NaN  REGULAR ALIMENTACION        NaN   \n",
       "\n",
       "habit_one CONSUMO DE CAFE             EJERCICIO        ESTADO ANÍMICO  \\\n",
       "0                     NaN                   NaN                   NaN   \n",
       "1                     NaN      1 VEZ POR SEMANA                   NaN   \n",
       "2                     NaN    3 VECES POR SEMANA                   NaN   \n",
       "3                     NaN                   NaN                   NaN   \n",
       "4                     NaN  NO REALIZA EJERCICIO  ANIMICAMENTE ESTABLE   \n",
       "\n",
       "habit_one MASCOTAS METODO DE PLANIFICACION SUSTANCIAS PSICOACTIVAS  \\\n",
       "0              NaN     IMPLANTE SUBDERMICO                     NaN   \n",
       "1               NO                     NaN                     NaN   \n",
       "2              NaN                     NaN                     NaN   \n",
       "3              NaN           HISTERECTOMIA                     NaN   \n",
       "4               NO                     NaN                     NaN   \n",
       "\n",
       "habit_one  id_patient registration_date quantitative_result qualitative_result  \n",
       "0             1001619        2011-11-01                <30%                 no  \n",
       "1             1001619        2012-07-12                <30%                 no  \n",
       "2             1004538        2015-08-25             95-100%                 si  \n",
       "3             1004538        2017-09-07             95-100%                 si  \n",
       "4             1008837        2011-03-18             95-100%                 si  "
      ]
     },
     "execution_count": 370,
     "metadata": {},
     "output_type": "execute_result"
    }
   ],
   "source": [
    "df_5 = hab_df.join(df_4[df_4['source']=='habits'][['quantitative_result', 'qualitative_result']])\n",
    "df_5.head()"
   ]
  },
  {
   "cell_type": "code",
   "execution_count": 371,
   "metadata": {},
   "outputs": [
    {
     "data": {
      "text/plain": [
       "Index(['ALCOHOL', 'ALIMENTACION', 'CIGARRILLO', 'CONSUMO DE CAFE', 'EJERCICIO',\n",
       "       'ESTADO ANÍMICO', 'MASCOTAS', 'METODO DE PLANIFICACION',\n",
       "       'SUSTANCIAS PSICOACTIVAS', 'id_patient', 'registration_date',\n",
       "       'quantitative_result', 'qualitative_result'],\n",
       "      dtype='object', name='habit_one')"
      ]
     },
     "execution_count": 371,
     "metadata": {},
     "output_type": "execute_result"
    }
   ],
   "source": [
    "df_5.columns"
   ]
  },
  {
   "cell_type": "code",
   "execution_count": 372,
   "metadata": {},
   "outputs": [],
   "source": [
    "selected_features = ['ALCOHOL', 'ALIMENTACION', 'CIGARRILLO', 'CONSUMO DE CAFE', 'EJERCICIO',\n",
    "       'ESTADO ANÍMICO', 'MASCOTAS', 'METODO DE PLANIFICACION',\n",
    "       'SUSTANCIAS PSICOACTIVAS']\n",
    "\n",
    "df_5['registration_date'] = pd.to_datetime(df_5['registration_date'])\n",
    "\n",
    "for column in selected_features:\n",
    "  df_5[column] = df_5[column].astype('category')"
   ]
  },
  {
   "cell_type": "code",
   "execution_count": 373,
   "metadata": {},
   "outputs": [
    {
     "data": {
      "text/plain": [
       "habit_one\n",
       "ALCOHOL                          category\n",
       "ALIMENTACION                     category\n",
       "CIGARRILLO                       category\n",
       "CONSUMO DE CAFE                  category\n",
       "EJERCICIO                        category\n",
       "ESTADO ANÍMICO                   category\n",
       "MASCOTAS                         category\n",
       "METODO DE PLANIFICACION          category\n",
       "SUSTANCIAS PSICOACTIVAS          category\n",
       "id_patient                          int64\n",
       "registration_date          datetime64[ns]\n",
       "quantitative_result              category\n",
       "qualitative_result               category\n",
       "dtype: object"
      ]
     },
     "execution_count": 373,
     "metadata": {},
     "output_type": "execute_result"
    }
   ],
   "source": [
    "df_5.dtypes"
   ]
  },
  {
   "cell_type": "markdown",
   "metadata": {},
   "source": [
    "# Regresión logistica para cada variable"
   ]
  },
  {
   "cell_type": "code",
   "execution_count": 374,
   "metadata": {},
   "outputs": [
    {
     "name": "stdout",
     "output_type": "stream",
     "text": [
      "(849, 13)\n",
      "Warning: Maximum number of iterations has been exceeded.\n",
      "         Current function value: 0.587246\n",
      "         Iterations: 35\n"
     ]
    },
    {
     "name": "stderr",
     "output_type": "stream",
     "text": [
      "/Users/luisrojas/anaconda3/lib/python3.7/site-packages/statsmodels/base/model.py:512: ConvergenceWarning:\n",
      "\n",
      "Maximum Likelihood optimization failed to converge. Check mle_retvals\n",
      "\n"
     ]
    },
    {
     "name": "stdout",
     "output_type": "stream",
     "text": [
      "                           Logit Regression Results                           \n",
      "==============================================================================\n",
      "Dep. Variable:                      y   No. Observations:                  849\n",
      "Model:                          Logit   Df Residuals:                      844\n",
      "Method:                           MLE   Df Model:                            4\n",
      "Date:                Fri, 31 Jul 2020   Pseudo R-squ.:                0.006402\n",
      "Time:                        11:57:02   Log-Likelihood:                -498.57\n",
      "converged:                      False   LL-Null:                       -501.78\n",
      "Covariance Type:            nonrobust   LLR p-value:                    0.1696\n",
      "===========================================================================================================\n",
      "                                              coef    std err          z      P>|z|      [0.025      0.975]\n",
      "-----------------------------------------------------------------------------------------------------------\n",
      "ALCOHOL_BEBEDOR ABUSIVO SIN DEPENDENCIA   -21.6194   5.52e+04     -0.000      1.000   -1.08e+05    1.08e+05\n",
      "ALCOHOL_BEBEDOR EXCEPCIONAL                -0.3137      0.515     -0.609      0.542      -1.323       0.695\n",
      "ALCOHOL_BEBEDOR MODERADO                   -0.3427      0.806     -0.425      0.671      -1.922       1.236\n",
      "ALCOHOL_BEBEDOR SOCIAL                     -1.0359      0.540     -1.917      0.055      -2.095       0.023\n",
      "Intercept                                  -0.9100      0.079    -11.527      0.000      -1.065      -0.755\n",
      "===========================================================================================================\n"
     ]
    },
    {
     "data": {
      "image/png": "[encoded data removed]",
      "text/plain": [
       "<Figure size 432x288 with 1 Axes>"
      ]
     },
     "metadata": {
      "needs_background": "light"
     },
     "output_type": "display_data"
    },
    {
     "name": "stdout",
     "output_type": "stream",
     "text": [
      "Warning: Maximum number of iterations has been exceeded.\n",
      "         Current function value: 0.583315\n",
      "         Iterations: 35\n",
      "                           Logit Regression Results                           \n",
      "==============================================================================\n",
      "Dep. Variable:                      y   No. Observations:                  849\n",
      "Model:                          Logit   Df Residuals:                      844\n",
      "Method:                           MLE   Df Model:                            4\n",
      "Date:                Fri, 31 Jul 2020   Pseudo R-squ.:                 0.01305\n",
      "Time:                        11:57:04   Log-Likelihood:                -495.23\n",
      "converged:                      False   LL-Null:                       -501.78\n",
      "Covariance Type:            nonrobust   LLR p-value:                   0.01080\n",
      "==============================================================================================================\n",
      "                                                 coef    std err          z      P>|z|      [0.025      0.975]\n",
      "--------------------------------------------------------------------------------------------------------------\n",
      "ALIMENTACION_DIETA ESPECIAL                   -1.3393      0.747     -1.792      0.073      -2.804       0.126\n",
      "ALIMENTACION_MUY BAJO CONSUMO DE ALIMENTOS   -18.2360   1.44e+04     -0.001      0.999   -2.82e+04    2.82e+04\n",
      "ALIMENTACION_MUY BUENA ALIMENTACION            1.6051      1.227      1.308      0.191      -0.800       4.010\n",
      "ALIMENTACION_REGULAR ALIMENTACION             -1.9213      1.032     -1.862      0.063      -3.944       0.101\n",
      "Intercept                                     -0.9120      0.078    -11.707      0.000      -1.065      -0.759\n",
      "==============================================================================================================\n"
     ]
    },
    {
     "name": "stderr",
     "output_type": "stream",
     "text": [
      "/Users/luisrojas/anaconda3/lib/python3.7/site-packages/statsmodels/base/model.py:512: ConvergenceWarning:\n",
      "\n",
      "Maximum Likelihood optimization failed to converge. Check mle_retvals\n",
      "\n"
     ]
    },
    {
     "data": {
      "image/png": "[encoded data removed]",
      "text/plain": [
       "<Figure size 432x288 with 1 Axes>"
      ]
     },
     "metadata": {
      "needs_background": "light"
     },
     "output_type": "display_data"
    },
    {
     "name": "stdout",
     "output_type": "stream",
     "text": [
      "Warning: Maximum number of iterations has been exceeded.\n",
      "         Current function value: 0.571950\n",
      "         Iterations: 35\n",
      "                           Logit Regression Results                           \n",
      "==============================================================================\n",
      "Dep. Variable:                      y   No. Observations:                  849\n",
      "Model:                          Logit   Df Residuals:                      844\n",
      "Method:                           MLE   Df Model:                            4\n",
      "Date:                Fri, 31 Jul 2020   Pseudo R-squ.:                 0.03228\n",
      "Time:                        11:57:04   Log-Likelihood:                -485.59\n",
      "converged:                      False   LL-Null:                       -501.78\n",
      "Covariance Type:            nonrobust   LLR p-value:                 1.587e-06\n",
      "==============================================================================================================================\n",
      "                                                                 coef    std err          z      P>|z|      [0.025      0.975]\n",
      "------------------------------------------------------------------------------------------------------------------------------\n",
      "CIGARRILLO_B. ENTRE 6 Y 15 CIGARRILLOS EN PROMEDIO POR DIA    -0.7160      0.796     -0.900      0.368      -2.276       0.844\n",
      "CIGARRILLO_C. MAS DE 16 CIGARRILLOS EN PROMEDIO POR DIA      -33.7735   1.51e+07  -2.24e-06      1.000   -2.96e+07    2.96e+07\n",
      "CIGARRILLO_FUMADOR PASIVO                                    -27.1852   3.23e+05  -8.42e-05      1.000   -6.33e+05    6.33e+05\n",
      "CIGARRILLO_NO                                                 -0.7797      0.174     -4.487      0.000      -1.120      -0.439\n",
      "Intercept                                                     -0.6703      0.092     -7.253      0.000      -0.851      -0.489\n",
      "==============================================================================================================================\n"
     ]
    },
    {
     "name": "stderr",
     "output_type": "stream",
     "text": [
      "/Users/luisrojas/anaconda3/lib/python3.7/site-packages/statsmodels/base/model.py:512: ConvergenceWarning:\n",
      "\n",
      "Maximum Likelihood optimization failed to converge. Check mle_retvals\n",
      "\n"
     ]
    },
    {
     "data": {
      "image/png": "[encoded data removed]",
      "text/plain": [
       "<Figure size 432x288 with 1 Axes>"
      ]
     },
     "metadata": {
      "needs_background": "light"
     },
     "output_type": "display_data"
    },
    {
     "name": "stdout",
     "output_type": "stream",
     "text": [
      "Warning: Maximum number of iterations has been exceeded.\n",
      "         Current function value: 0.586832\n",
      "         Iterations: 35\n",
      "                           Logit Regression Results                           \n",
      "==============================================================================\n",
      "Dep. Variable:                      y   No. Observations:                  849\n",
      "Model:                          Logit   Df Residuals:                      845\n",
      "Method:                           MLE   Df Model:                            3\n",
      "Date:                Fri, 31 Jul 2020   Pseudo R-squ.:                0.007103\n",
      "Time:                        11:57:05   Log-Likelihood:                -498.22\n",
      "converged:                      False   LL-Null:                       -501.78\n",
      "Covariance Type:            nonrobust   LLR p-value:                   0.06793\n",
      "======================================================================================================\n",
      "                                         coef    std err          z      P>|z|      [0.025      0.975]\n",
      "------------------------------------------------------------------------------------------------------\n",
      "CONSUMO DE CAFE_4 a 6 tazas/dia       -1.0476      1.072     -0.977      0.328      -3.149       1.053\n",
      "CONSUMO DE CAFE_NO                    -0.6928      0.340     -2.037      0.042      -1.360      -0.026\n",
      "CONSUMO DE CAFE_mas de 6 tazas/dia   -21.6322   5.52e+04     -0.000      1.000   -1.08e+05    1.08e+05\n",
      "Intercept                             -0.8983      0.079    -11.333      0.000      -1.054      -0.743\n",
      "======================================================================================================\n"
     ]
    },
    {
     "name": "stderr",
     "output_type": "stream",
     "text": [
      "/Users/luisrojas/anaconda3/lib/python3.7/site-packages/statsmodels/base/model.py:512: ConvergenceWarning:\n",
      "\n",
      "Maximum Likelihood optimization failed to converge. Check mle_retvals\n",
      "\n"
     ]
    },
    {
     "data": {
      "image/png": "[encoded data removed]",
      "text/plain": [
       "<Figure size 432x288 with 1 Axes>"
      ]
     },
     "metadata": {
      "needs_background": "light"
     },
     "output_type": "display_data"
    },
    {
     "name": "stdout",
     "output_type": "stream",
     "text": [
      "Warning: Maximum number of iterations has been exceeded.\n",
      "         Current function value: 0.572896\n",
      "         Iterations: 35\n",
      "                           Logit Regression Results                           \n",
      "==============================================================================\n",
      "Dep. Variable:                      y   No. Observations:                  849\n",
      "Model:                          Logit   Df Residuals:                      842\n",
      "Method:                           MLE   Df Model:                            6\n",
      "Date:                Fri, 31 Jul 2020   Pseudo R-squ.:                 0.03068\n",
      "Time:                        11:57:06   Log-Likelihood:                -486.39\n",
      "converged:                      False   LL-Null:                       -501.78\n",
      "Covariance Type:            nonrobust   LLR p-value:                 2.780e-05\n",
      "===============================================================================================================\n",
      "                                                  coef    std err          z      P>|z|      [0.025      0.975]\n",
      "---------------------------------------------------------------------------------------------------------------\n",
      "EJERCICIO_2 VECES POR SEMANA                   -0.4470      0.516     -0.866      0.386      -1.458       0.564\n",
      "EJERCICIO_3 VECES POR SEMANA                   -2.5906      1.021     -2.538      0.011      -4.591      -0.590\n",
      "EJERCICIO_4 VECES POR SEMANA                  -19.6896   1.24e+04     -0.002      0.999   -2.44e+04    2.44e+04\n",
      "EJERCICIO_DIARIO                                0.0836      0.364      0.230      0.818      -0.630       0.797\n",
      "EJERCICIO_GIMNASIO VARIAS VECES A LA SEMANA   -21.7637   5.55e+04     -0.000      1.000   -1.09e+05    1.09e+05\n",
      "EJERCICIO_NO REALIZA EJERCICIO                 -0.8063      0.245     -3.295      0.001      -1.286      -0.327\n",
      "Intercept                                      -0.7767      0.087     -8.977      0.000      -0.946      -0.607\n",
      "===============================================================================================================\n"
     ]
    },
    {
     "name": "stderr",
     "output_type": "stream",
     "text": [
      "/Users/luisrojas/anaconda3/lib/python3.7/site-packages/statsmodels/base/model.py:512: ConvergenceWarning:\n",
      "\n",
      "Maximum Likelihood optimization failed to converge. Check mle_retvals\n",
      "\n"
     ]
    },
    {
     "data": {
      "image/png": "[encoded data removed]",
      "text/plain": [
       "<Figure size 432x288 with 1 Axes>"
      ]
     },
     "metadata": {
      "needs_background": "light"
     },
     "output_type": "display_data"
    },
    {
     "name": "stdout",
     "output_type": "stream",
     "text": [
      "Optimization terminated successfully.\n",
      "         Current function value: 0.590996\n",
      "         Iterations 5\n",
      "                           Logit Regression Results                           \n",
      "==============================================================================\n",
      "Dep. Variable:                      y   No. Observations:                  849\n",
      "Model:                          Logit   Df Residuals:                      847\n",
      "Method:                           MLE   Df Model:                            1\n",
      "Date:                Fri, 31 Jul 2020   Pseudo R-squ.:               5.672e-05\n",
      "Time:                        11:57:06   Log-Likelihood:                -501.76\n",
      "converged:                       True   LL-Null:                       -501.78\n",
      "Covariance Type:            nonrobust   LLR p-value:                    0.8114\n",
      "=========================================================================================================\n",
      "                                            coef    std err          z      P>|z|      [0.025      0.975]\n",
      "---------------------------------------------------------------------------------------------------------\n",
      "ESTADO ANÍMICO_ANIMICAMENTE INESTABLE     0.1459      0.606      0.241      0.810      -1.042       1.333\n",
      "Intercept                                -0.9568      0.077    -12.388      0.000      -1.108      -0.805\n",
      "=========================================================================================================\n"
     ]
    },
    {
     "data": {
      "image/png": "[encoded data removed]",
      "text/plain": [
       "<Figure size 432x288 with 1 Axes>"
      ]
     },
     "metadata": {
      "needs_background": "light"
     },
     "output_type": "display_data"
    },
    {
     "name": "stdout",
     "output_type": "stream",
     "text": [
      "Warning: Maximum number of iterations has been exceeded.\n",
      "         Current function value: 0.583406\n",
      "         Iterations: 35\n",
      "                           Logit Regression Results                           \n",
      "==============================================================================\n",
      "Dep. Variable:                      y   No. Observations:                  849\n",
      "Model:                          Logit   Df Residuals:                      843\n",
      "Method:                           MLE   Df Model:                            5\n",
      "Date:                Fri, 31 Jul 2020   Pseudo R-squ.:                 0.01290\n",
      "Time:                        11:57:07   Log-Likelihood:                -495.31\n",
      "converged:                      False   LL-Null:                       -501.78\n",
      "Covariance Type:            nonrobust   LLR p-value:                   0.02390\n",
      "========================================================================================\n",
      "                           coef    std err          z      P>|z|      [0.025      0.975]\n",
      "----------------------------------------------------------------------------------------\n",
      "MASCOTAS_GATO           -1.0952      1.072     -1.021      0.307      -3.197       1.006\n",
      "MASCOTAS_NO             -0.5475      0.257     -2.129      0.033      -1.052      -0.043\n",
      "MASCOTAS_PECES         -21.6839   5.53e+04     -0.000      1.000   -1.08e+05    1.08e+05\n",
      "MASCOTAS_PERRO          -1.1862      0.619     -1.915      0.055      -2.400       0.028\n",
      "MASCOTAS_SIN DEFINIR   -21.6839   5.53e+04     -0.000      1.000   -1.08e+05    1.08e+05\n",
      "Intercept               -0.8507      0.082    -10.344      0.000      -1.012      -0.689\n",
      "========================================================================================\n"
     ]
    },
    {
     "name": "stderr",
     "output_type": "stream",
     "text": [
      "/Users/luisrojas/anaconda3/lib/python3.7/site-packages/statsmodels/base/model.py:512: ConvergenceWarning:\n",
      "\n",
      "Maximum Likelihood optimization failed to converge. Check mle_retvals\n",
      "\n"
     ]
    },
    {
     "data": {
      "image/png": "[encoded data removed]",
      "text/plain": [
       "<Figure size 432x288 with 1 Axes>"
      ]
     },
     "metadata": {
      "needs_background": "light"
     },
     "output_type": "display_data"
    },
    {
     "name": "stdout",
     "output_type": "stream",
     "text": [
      "Optimization terminated successfully.\n",
      "         Current function value: 0.573711\n",
      "         Iterations 5\n",
      "                           Logit Regression Results                           \n",
      "==============================================================================\n",
      "Dep. Variable:                      y   No. Observations:                  849\n",
      "Model:                          Logit   Df Residuals:                      838\n",
      "Method:                           MLE   Df Model:                           10\n",
      "Date:                Fri, 31 Jul 2020   Pseudo R-squ.:                 0.02930\n",
      "Time:                        11:57:07   Log-Likelihood:                -487.08\n",
      "converged:                       True   LL-Null:                       -501.78\n",
      "Covariance Type:            nonrobust   LLR p-value:                  0.001070\n",
      "=====================================================================================================================================\n",
      "                                                                        coef    std err          z      P>|z|      [0.025      0.975]\n",
      "-------------------------------------------------------------------------------------------------------------------------------------\n",
      "METODO DE PLANIFICACION_EL CONDON                                     1.1815      0.277      4.269      0.000       0.639       1.724\n",
      "METODO DE PLANIFICACION_HISTERECTOMIA                                 2.0288      1.231      1.648      0.099      -0.383       4.441\n",
      "METODO DE PLANIFICACION_IMPLANTE SUBDERMICO                           1.3356      1.419      0.941      0.347      -1.446       4.118\n",
      "METODO DE PLANIFICACION_INYECTABLE                                    2.0288      1.231      1.648      0.099      -0.383       4.441\n",
      "METODO DE PLANIFICACION_LIGADURA DE TROMPAS                           0.8761      0.388      2.257      0.024       0.115       1.637\n",
      "METODO DE PLANIFICACION_NO APLICA                                     0.5348      0.218      2.451      0.014       0.107       0.963\n",
      "METODO DE PLANIFICACION_NO PLANIFICA                                  0.4541      0.222      2.048      0.041       0.019       0.889\n",
      "METODO DE PLANIFICACION_PILDORAS ANTICONCEPTIVAS                      0.7760      0.336      2.309      0.021       0.117       1.435\n",
      "METODO DE PLANIFICACION_T DE COBRE O DISPOSITIVO INTRAUTERINO DIU     0.2370      1.161      0.204      0.838      -2.039       2.513\n",
      "METODO DE PLANIFICACION_VASECTOMIA                                    1.3356      1.419      0.941      0.347      -1.446       4.118\n",
      "Intercept                                                            -1.3356      0.121    -11.021      0.000      -1.573      -1.098\n",
      "=====================================================================================================================================\n"
     ]
    },
    {
     "data": {
      "image/png": "[encoded data removed]",
      "text/plain": [
       "<Figure size 432x288 with 1 Axes>"
      ]
     },
     "metadata": {
      "needs_background": "light"
     },
     "output_type": "display_data"
    },
    {
     "name": "stdout",
     "output_type": "stream",
     "text": [
      "Warning: Maximum number of iterations has been exceeded.\n",
      "         Current function value: 0.590646\n",
      "         Iterations: 35\n",
      "                           Logit Regression Results                           \n",
      "==============================================================================\n",
      "Dep. Variable:                      y   No. Observations:                  849\n",
      "Model:                          Logit   Df Residuals:                      847\n",
      "Method:                           MLE   Df Model:                            1\n",
      "Date:                Fri, 31 Jul 2020   Pseudo R-squ.:               0.0006495\n",
      "Time:                        11:57:07   Log-Likelihood:                -501.46\n",
      "converged:                      False   LL-Null:                       -501.78\n",
      "Covariance Type:            nonrobust   LLR p-value:                    0.4195\n",
      "==================================================================================================\n",
      "                                     coef    std err          z      P>|z|      [0.025      0.975]\n",
      "--------------------------------------------------------------------------------------------------\n",
      "SUSTANCIAS PSICOACTIVAS_ADICTO   -18.1950   1.44e+04     -0.001      0.999   -2.82e+04    2.82e+04\n",
      "Intercept                         -0.9529      0.077    -12.436      0.000      -1.103      -0.803\n",
      "==================================================================================================\n"
     ]
    },
    {
     "name": "stderr",
     "output_type": "stream",
     "text": [
      "/Users/luisrojas/anaconda3/lib/python3.7/site-packages/statsmodels/base/model.py:512: ConvergenceWarning:\n",
      "\n",
      "Maximum Likelihood optimization failed to converge. Check mle_retvals\n",
      "\n"
     ]
    },
    {
     "data": {
      "image/png": "[encoded data removed]",
      "text/plain": [
       "<Figure size 432x288 with 1 Axes>"
      ]
     },
     "metadata": {
      "needs_background": "light"
     },
     "output_type": "display_data"
    }
   ],
   "source": [
    "#%%time\n",
    "vars_to_see_0 = ['ALCOHOL', 'ALIMENTACION', 'CIGARRILLO', 'CONSUMO DE CAFE', 'EJERCICIO',\n",
    "       'ESTADO ANÍMICO', 'MASCOTAS', 'METODO DE PLANIFICACION',\n",
    "       'SUSTANCIAS PSICOACTIVAS'                 \n",
    "               ]\n",
    "df = df_5[df_5['qualitative_result'].notna()]\n",
    "print(df.shape)\n",
    "for c in vars_to_see_0:\n",
    "    vars_to_see = [c]\n",
    "    dfs = []\n",
    "    for column in vars_to_see:\n",
    "      dfs.append(pd.get_dummies(df[column], prefix=column, drop_first=True))\n",
    "\n",
    "    df_log_x = pd.concat(dfs, axis=1)\n",
    "    df_log_x['Intercept'] = 1\n",
    "\n",
    "    logit_full1 = sm.Logit(df['qualitative_result'].cat.codes, df_log_x)\n",
    "    logit_full1_res = logit_full1.fit()\n",
    "    predict_withvs = logit_full1_res.predict(df_log_x)\n",
    "    print(logit_full1_res.summary())\n",
    "\n",
    "    #%matplotlib inline\n",
    "\n",
    "    #Next we plot the ROC curve:\n",
    "    roc_vs = roc_curve(df['qualitative_result'].astype('category').cat.codes, predict_withvs)\n",
    "    auc_vs = auc( roc_vs[0], roc_vs[1] )\n",
    "\n",
    "    plt.figure()\n",
    "    line_width = 2\n",
    "    plt.plot(roc_vs[0], roc_vs[1], color='darkorange', lw=line_width,\n",
    "             label=f\"ROC based on training data (AUC = {auc_vs:0.2f})\")\n",
    "    plt.plot([0, 1], [0, 1], color='navy', lw=line_width, linestyle='--', label='Random guess')\n",
    "    plt.xlim([0.0, 1.0])\n",
    "    plt.ylim([0.0, 1.05])\n",
    "    plt.xlabel('False Positive Rate')\n",
    "    plt.ylabel('True Positive Rate')\n",
    "    plt.title('Classification of Defaulters')\n",
    "    plt.legend(loc='lower right')\n",
    "    plt.show()"
   ]
  },
  {
   "cell_type": "markdown",
   "metadata": {},
   "source": [
    "# Regresión logistica para varias variables"
   ]
  },
  {
   "cell_type": "code",
   "execution_count": 477,
   "metadata": {},
   "outputs": [
    {
     "name": "stdout",
     "output_type": "stream",
     "text": [
      "CPU times: user 17.6 ms, sys: 9.4 ms, total: 27 ms\n",
      "Wall time: 25.6 ms\n"
     ]
    }
   ],
   "source": [
    "%%time\n",
    "vars_to_see = ['ALCOHOL', \n",
    "               'ALIMENTACION', \n",
    "               'CIGARRILLO', \n",
    "               #'CONSUMO DE CAFE', \n",
    "               'EJERCICIO',\n",
    "               #'ESTADO ANÍMICO', \n",
    "               'MASCOTAS', \n",
    "               'METODO DE PLANIFICACION',\n",
    "               #'SUSTANCIAS PSICOACTIVAS'                 \n",
    "               ]\n",
    "\n",
    "df = df_5[df_5['qualitative_result'].notna()]\n",
    "\n",
    "dfs = []\n",
    "for column in vars_to_see:\n",
    "  dfs.append(pd.get_dummies(df[column], prefix=column, drop_first=True))\n",
    "\n",
    "df_log_x = pd.concat(dfs, axis=1)"
   ]
  },
  {
   "cell_type": "code",
   "execution_count": 478,
   "metadata": {},
   "outputs": [
    {
     "name": "stdout",
     "output_type": "stream",
     "text": [
      "                                                level_0  \\\n",
      "380                                       CIGARRILLO_NO   \n",
      "572                      EJERCICIO_NO REALIZA EJERCICIO   \n",
      "9               ALCOHOL_BEBEDOR ABUSIVO SIN DEPENDENCIA   \n",
      "297   CIGARRILLO_C. MAS DE 16 CIGARRILLOS EN PROMEDI...   \n",
      "263                   ALIMENTACION_REGULAR ALIMENTACION   \n",
      "1063                 METODO DE PLANIFICACION_VASECTOMIA   \n",
      "638                                         MASCOTAS_NO   \n",
      "382                                       CIGARRILLO_NO   \n",
      "98                             ALCOHOL_BEBEDOR MODERADO   \n",
      "1058                 METODO DE PLANIFICACION_VASECTOMIA   \n",
      "\n",
      "                                                level_1         0  \n",
      "380                      EJERCICIO_NO REALIZA EJERCICIO  0.379340  \n",
      "572                                       CIGARRILLO_NO  0.379340  \n",
      "9     CIGARRILLO_C. MAS DE 16 CIGARRILLOS EN PROMEDI...  0.351464  \n",
      "297             ALCOHOL_BEBEDOR ABUSIVO SIN DEPENDENCIA  0.351464  \n",
      "263                  METODO DE PLANIFICACION_VASECTOMIA  0.330170  \n",
      "1063                  ALIMENTACION_REGULAR ALIMENTACION  0.330170  \n",
      "638                                       CIGARRILLO_NO  0.250052  \n",
      "382                                         MASCOTAS_NO  0.250052  \n",
      "98                   METODO DE PLANIFICACION_VASECTOMIA  0.232211  \n",
      "1058                           ALCOHOL_BEBEDOR MODERADO  0.232211  \n"
     ]
    },
    {
     "data": {
      "text/plain": [
       "<matplotlib.axes._subplots.AxesSubplot at 0x7f94b6c462e8>"
      ]
     },
     "execution_count": 478,
     "metadata": {},
     "output_type": "execute_result"
    },
    {
     "data": {
      "image/png": "[encoded data removed]",
      "text/plain": [
       "<Figure size 432x288 with 2 Axes>"
      ]
     },
     "metadata": {
      "needs_background": "light"
     },
     "output_type": "display_data"
    }
   ],
   "source": [
    "#Validación de colinealidad (correlación)\n",
    "temp_df = df_log_x.corr().stack().reset_index().sort_values(by = 0, ascending = False)\n",
    "print(temp_df[temp_df['level_0'] != temp_df['level_1']].head(10))\n",
    "sns.heatmap(df_log_x.corr())"
   ]
  },
  {
   "cell_type": "code",
   "execution_count": 482,
   "metadata": {},
   "outputs": [
    {
     "name": "stdout",
     "output_type": "stream",
     "text": [
      "Warning: Maximum number of iterations has been exceeded.\n",
      "         Current function value: 0.542520\n",
      "         Iterations: 35\n",
      "                           Logit Regression Results                           \n",
      "==============================================================================\n",
      "Dep. Variable:                      y   No. Observations:                  849\n",
      "Model:                          Logit   Df Residuals:                      816\n",
      "Method:                           MLE   Df Model:                           32\n",
      "Date:                Fri, 31 Jul 2020   Pseudo R-squ.:                 0.08208\n",
      "Time:                        12:29:07   Log-Likelihood:                -460.60\n",
      "converged:                      False   LL-Null:                       -501.78\n",
      "Covariance Type:            nonrobust   LLR p-value:                 2.550e-06\n",
      "=====================================================================================================================================\n",
      "                                                                        coef    std err          z      P>|z|      [0.025      0.975]\n",
      "-------------------------------------------------------------------------------------------------------------------------------------\n",
      "ALCOHOL_BEBEDOR ABUSIVO SIN DEPENDENCIA                             -27.3077   1.34e+06  -2.03e-05      1.000   -2.63e+06    2.63e+06\n",
      "ALCOHOL_BEBEDOR EXCEPCIONAL                                           0.5336      0.569      0.938      0.348      -0.582       1.649\n",
      "ALCOHOL_BEBEDOR MODERADO                                             -0.2842      0.925     -0.307      0.759      -2.097       1.528\n",
      "ALCOHOL_BEBEDOR SOCIAL                                               -0.2793      0.575     -0.486      0.627      -1.406       0.848\n",
      "ALIMENTACION_DIETA ESPECIAL                                          -1.1178      0.783     -1.428      0.153      -2.651       0.416\n",
      "ALIMENTACION_MUY BAJO CONSUMO DE ALIMENTOS                          -18.3926   1.44e+04     -0.001      0.999   -2.82e+04    2.82e+04\n",
      "ALIMENTACION_MUY BUENA ALIMENTACION                                   2.9185      1.589      1.837      0.066      -0.195       6.032\n",
      "ALIMENTACION_REGULAR ALIMENTACION                                   -13.9906    509.503     -0.027      0.978   -1012.597     984.616\n",
      "CIGARRILLO_B. ENTRE 6 Y 15 CIGARRILLOS EN PROMEDIO POR DIA           -0.6389      0.835     -0.765      0.444      -2.276       0.998\n",
      "CIGARRILLO_C. MAS DE 16 CIGARRILLOS EN PROMEDIO POR DIA             -19.0315   1.23e+04     -0.002      0.999   -2.41e+04     2.4e+04\n",
      "CIGARRILLO_FUMADOR PASIVO                                           -21.5777   2.09e+04     -0.001      0.999    -4.1e+04    4.09e+04\n",
      "CIGARRILLO_NO                                                        -0.5874      0.270     -2.176      0.030      -1.116      -0.058\n",
      "EJERCICIO_2 VECES POR SEMANA                                         -0.0721      0.570     -0.126      0.899      -1.189       1.045\n",
      "EJERCICIO_3 VECES POR SEMANA                                         -2.5753      1.135     -2.269      0.023      -4.800      -0.351\n",
      "EJERCICIO_4 VECES POR SEMANA                                        -18.2327   8315.758     -0.002      0.998   -1.63e+04    1.63e+04\n",
      "EJERCICIO_DIARIO                                                      0.6264      0.428      1.464      0.143      -0.212       1.465\n",
      "EJERCICIO_NO REALIZA EJERCICIO                                       -0.2718      0.297     -0.915      0.360      -0.854       0.310\n",
      "MASCOTAS_GATO                                                        -0.6656      1.147     -0.580      0.562      -2.913       1.582\n",
      "MASCOTAS_NO                                                          -0.0410      0.297     -0.138      0.890      -0.624       0.542\n",
      "MASCOTAS_PECES                                                      -14.1723   1648.514     -0.009      0.993   -3245.200    3216.855\n",
      "MASCOTAS_PERRO                                                       -0.9547      0.690     -1.384      0.166      -2.307       0.397\n",
      "MASCOTAS_SIN DEFINIR                                                -45.6296   8.95e+09   -5.1e-09      1.000   -1.75e+10    1.75e+10\n",
      "METODO DE PLANIFICACION_EL CONDON                                     0.5271      0.351      1.500      0.134      -0.162       1.216\n",
      "METODO DE PLANIFICACION_HISTERECTOMIA                                 1.3361      1.250      1.069      0.285      -1.114       3.786\n",
      "METODO DE PLANIFICACION_IMPLANTE SUBDERMICO                           0.6429      1.436      0.448      0.654      -2.172       3.458\n",
      "METODO DE PLANIFICACION_INYECTABLE                                    1.3361      1.250      1.069      0.285      -1.114       3.786\n",
      "METODO DE PLANIFICACION_LIGADURA DE TROMPAS                           0.4186      0.450      0.931      0.352      -0.463       1.300\n",
      "METODO DE PLANIFICACION_NO APLICA                                    -0.1542      0.308     -0.501      0.617      -0.758       0.449\n",
      "METODO DE PLANIFICACION_NO PLANIFICA                                 -0.1300      0.306     -0.424      0.671      -0.731       0.471\n",
      "METODO DE PLANIFICACION_PILDORAS ANTICONCEPTIVAS                      0.1321      0.401      0.330      0.742      -0.653       0.917\n",
      "METODO DE PLANIFICACION_T DE COBRE O DISPOSITIVO INTRAUTERINO DIU    -0.2761      1.186     -0.233      0.816      -2.600       2.048\n",
      "METODO DE PLANIFICACION_VASECTOMIA                                   15.8969    509.505      0.031      0.975    -982.714    1014.508\n",
      "Intercept                                                            -0.6429      0.250     -2.575      0.010      -1.132      -0.154\n",
      "=====================================================================================================================================\n"
     ]
    },
    {
     "name": "stderr",
     "output_type": "stream",
     "text": [
      "/Users/luisrojas/anaconda3/lib/python3.7/site-packages/statsmodels/base/model.py:512: ConvergenceWarning:\n",
      "\n",
      "Maximum Likelihood optimization failed to converge. Check mle_retvals\n",
      "\n"
     ]
    },
    {
     "data": {
      "image/png": "[encoded data removed]",
      "text/plain": [
       "<Figure size 432x288 with 1 Axes>"
      ]
     },
     "metadata": {
      "needs_background": "light"
     },
     "output_type": "display_data"
    }
   ],
   "source": [
    "# En esta parte puede eliminar algunos dummies\n",
    "#df_log_x.drop(['EJERCICIO_GIMNASIO VARIAS VECES A LA SEMANA'], axis='columns', inplace=True)\n",
    "\n",
    "#Configura intercepto\n",
    "df_log_x['Intercept'] = 1\n",
    "\n",
    "logit_full1 = sm.Logit(df['qualitative_result'].astype('category').cat.codes, df_log_x)\n",
    "logit_full1_res = logit_full1.fit()\n",
    "predict_withvs = logit_full1_res.predict(df_log_x)\n",
    "print(logit_full1_res.summary())\n",
    "\n",
    "#%matplotlib inline\n",
    "\n",
    "#Next we plot the ROC curve:\n",
    "roc_vs = roc_curve(df['qualitative_result'].astype('category').cat.codes, predict_withvs)\n",
    "auc_vs = auc( roc_vs[0], roc_vs[1] )\n",
    "\n",
    "plt.figure()\n",
    "line_width = 2\n",
    "plt.plot(roc_vs[0], roc_vs[1], color='darkorange', lw=line_width,\n",
    "         label=f\"ROC based on training data (AUC = {auc_vs:0.2f})\")\n",
    "plt.plot([0, 1], [0, 1], color='navy', lw=line_width, linestyle='--', label='Random guess')\n",
    "plt.xlim([0.0, 1.0])\n",
    "plt.ylim([0.0, 1.05])\n",
    "plt.xlabel('False Positive Rate')\n",
    "plt.ylabel('True Positive Rate')\n",
    "plt.title('Classification of Defaulters')\n",
    "plt.legend(loc='lower right')\n",
    "plt.show()"
   ]
  },
  {
   "cell_type": "code",
   "execution_count": null,
   "metadata": {},
   "outputs": [],
   "source": []
  },
  {
   "cell_type": "code",
   "execution_count": null,
   "metadata": {},
   "outputs": [],
   "source": []
  }
 ],
 "metadata": {
  "colab": {
   "authorship_tag": "ABX9TyOZftWfgBzCjSUvh/+BniDs",
   "name": "Predicción.ipynb",
   "provenance": []
  },
  "kernelspec": {
   "display_name": "Python 3",
   "language": "python",
   "name": "python3"
  },
  "language_info": {
   "codemirror_mode": {
    "name": "ipython",
    "version": 3
   },
   "file_extension": ".py",
   "mimetype": "text/x-python",
   "name": "python",
   "nbconvert_exporter": "python",
   "pygments_lexer": "ipython3",
   "version": "3.6.7"
  }
 },
 "nbformat": 4,
 "nbformat_minor": 1
}
