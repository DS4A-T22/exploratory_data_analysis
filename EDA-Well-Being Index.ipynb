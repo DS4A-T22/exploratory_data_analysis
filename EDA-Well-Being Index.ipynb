{
 "cells": [
  {
   "cell_type": "code",
   "execution_count": 2,
   "metadata": {},
   "outputs": [],
   "source": [
    "import pandas as pd\n",
    "import numpy as np\n",
    "import missingno as msno\n",
    "import matplotlib.pyplot as plt\n",
    "import seaborn as sns\n",
    "import folium\n",
    "import json\n",
    "import requests\n",
    "import geopandas as gpd\n",
    "%matplotlib inline"
   ]
  },
  {
   "cell_type": "markdown",
   "metadata": {},
   "source": [
    "### Let's start by loading the Excel spreadsheets into pandas DataFrames. "
   ]
  },
  {
   "cell_type": "code",
   "execution_count": 3,
   "metadata": {},
   "outputs": [],
   "source": [
    "data_path = './data'\n",
    "#act = pd.read_excel(f'{data_path}/ACT.xlsx')\n",
    "#act_disag = pd.read_excel(f'{data_path}/ACT_DESAGREGADO.xlsx')\n",
    "#adherence = pd.read_excel(f'{data_path}/Adherencia.xlsx')\n",
    "#familiar_records = pd.read_excel(f'{data_path}/Antecedentes_familiares.xlsx')\n",
    "#pathological_records = pd.read_excel(f'{data_path}/Antecedentes_patologicos.xlsx')\n",
    "#diagnostics_aids = pd.read_excel(f'{data_path}/Ayudas_diagnosticas.xlsx')\n",
    "#biologics_asthma = pd.read_excel(f'{data_path}/Biologicos Asma.xlsx')\n",
    "life_quality = pd.read_excel(f'{data_path}/Calidad de vida relacioada en salud.xlsx')\n",
    "#basic_info = pd.read_excel(f'{data_path}/Datos basicos.xlsx')\n",
    "#dyspnea = pd.read_excel(f'{data_path}/Disnea.xlsx')\n",
    "#ram_pharmacovigilance = pd.read_excel(f'{data_path}/Farmacovigilancia RAM.xlsx')\n",
    "#habits = pd.read_excel(f'{data_path}/Habitos.xlsx')\n",
    "#hospitalizations = pd.read_excel(f'{data_path}/Hospitalizaciones.xlsx')\n",
    "#collecting_issues = pd.read_excel(f'{data_path}/Incosistencias en reclamacion.xlsx')\n",
    "#medicines = pd.read_excel(f'{data_path}/Medicamentos.xlsx')\n",
    "#height_weight = pd.read_excel(f'{data_path}/Mediciones de peso y talla.xlsx')\n",
    "#emergencies = pd.read_excel(f'{data_path}/Urgencias.xlsx')\n",
    "#vaccines = pd.read_excel(f'{data_path}/Vacunacion.xlsx')"
   ]
  },
  {
   "cell_type": "markdown",
   "metadata": {},
   "source": [
    "### Calidad de vida"
   ]
  },
  {
   "cell_type": "code",
   "execution_count": 4,
   "metadata": {
    "scrolled": true
   },
   "outputs": [
    {
     "data": {
      "text/html": [
       "<div>\n",
       "<style scoped>\n",
       "    .dataframe tbody tr th:only-of-type {\n",
       "        vertical-align: middle;\n",
       "    }\n",
       "\n",
       "    .dataframe tbody tr th {\n",
       "        vertical-align: top;\n",
       "    }\n",
       "\n",
       "    .dataframe thead th {\n",
       "        text-align: right;\n",
       "    }\n",
       "</style>\n",
       "<table border=\"1\" class=\"dataframe\">\n",
       "  <thead>\n",
       "    <tr style=\"text-align: right;\">\n",
       "      <th></th>\n",
       "      <th>Identificacion</th>\n",
       "      <th>FE_ALTA</th>\n",
       "      <th>Dimensiones</th>\n",
       "      <th>0_100</th>\n",
       "    </tr>\n",
       "  </thead>\n",
       "  <tbody>\n",
       "    <tr>\n",
       "      <th>0</th>\n",
       "      <td>1645342</td>\n",
       "      <td>2016-09-27</td>\n",
       "      <td>Entorno</td>\n",
       "      <td>75.0</td>\n",
       "    </tr>\n",
       "    <tr>\n",
       "      <th>1</th>\n",
       "      <td>1645342</td>\n",
       "      <td>2016-09-27</td>\n",
       "      <td>Psicologico</td>\n",
       "      <td>81.0</td>\n",
       "    </tr>\n",
       "    <tr>\n",
       "      <th>2</th>\n",
       "      <td>1645342</td>\n",
       "      <td>2016-09-27</td>\n",
       "      <td>Relaciones interpersonales</td>\n",
       "      <td>100.0</td>\n",
       "    </tr>\n",
       "    <tr>\n",
       "      <th>3</th>\n",
       "      <td>1645342</td>\n",
       "      <td>2016-09-27</td>\n",
       "      <td>Salud fisica</td>\n",
       "      <td>25.0</td>\n",
       "    </tr>\n",
       "    <tr>\n",
       "      <th>4</th>\n",
       "      <td>1645342</td>\n",
       "      <td>2017-12-21</td>\n",
       "      <td>Entorno</td>\n",
       "      <td>63.0</td>\n",
       "    </tr>\n",
       "  </tbody>\n",
       "</table>\n",
       "</div>"
      ],
      "text/plain": [
       "   Identificacion    FE_ALTA                 Dimensiones  0_100\n",
       "0         1645342 2016-09-27                     Entorno   75.0\n",
       "1         1645342 2016-09-27                 Psicologico   81.0\n",
       "2         1645342 2016-09-27  Relaciones interpersonales  100.0\n",
       "3         1645342 2016-09-27                Salud fisica   25.0\n",
       "4         1645342 2017-12-21                     Entorno   63.0"
      ]
     },
     "execution_count": 4,
     "metadata": {},
     "output_type": "execute_result"
    }
   ],
   "source": [
    "life_quality.head()"
   ]
  },
  {
   "cell_type": "code",
   "execution_count": 5,
   "metadata": {
    "scrolled": false
   },
   "outputs": [
    {
     "data": {
      "text/html": [
       "<div>\n",
       "<style scoped>\n",
       "    .dataframe tbody tr th:only-of-type {\n",
       "        vertical-align: middle;\n",
       "    }\n",
       "\n",
       "    .dataframe tbody tr th {\n",
       "        vertical-align: top;\n",
       "    }\n",
       "\n",
       "    .dataframe thead th {\n",
       "        text-align: right;\n",
       "    }\n",
       "</style>\n",
       "<table border=\"1\" class=\"dataframe\">\n",
       "  <thead>\n",
       "    <tr style=\"text-align: right;\">\n",
       "      <th></th>\n",
       "      <th>id_paciente</th>\n",
       "      <th>fecha_alta</th>\n",
       "      <th>dimensiones</th>\n",
       "      <th>calificacion</th>\n",
       "    </tr>\n",
       "  </thead>\n",
       "  <tbody>\n",
       "    <tr>\n",
       "      <th>0</th>\n",
       "      <td>1645342</td>\n",
       "      <td>2016-09-27</td>\n",
       "      <td>Entorno</td>\n",
       "      <td>75.0</td>\n",
       "    </tr>\n",
       "    <tr>\n",
       "      <th>1</th>\n",
       "      <td>1645342</td>\n",
       "      <td>2016-09-27</td>\n",
       "      <td>Psicologico</td>\n",
       "      <td>81.0</td>\n",
       "    </tr>\n",
       "    <tr>\n",
       "      <th>2</th>\n",
       "      <td>1645342</td>\n",
       "      <td>2016-09-27</td>\n",
       "      <td>Relaciones interpersonales</td>\n",
       "      <td>100.0</td>\n",
       "    </tr>\n",
       "    <tr>\n",
       "      <th>3</th>\n",
       "      <td>1645342</td>\n",
       "      <td>2016-09-27</td>\n",
       "      <td>Salud fisica</td>\n",
       "      <td>25.0</td>\n",
       "    </tr>\n",
       "    <tr>\n",
       "      <th>4</th>\n",
       "      <td>1645342</td>\n",
       "      <td>2017-12-21</td>\n",
       "      <td>Entorno</td>\n",
       "      <td>63.0</td>\n",
       "    </tr>\n",
       "  </tbody>\n",
       "</table>\n",
       "</div>"
      ],
      "text/plain": [
       "   id_paciente fecha_alta                 dimensiones  calificacion\n",
       "0      1645342 2016-09-27                     Entorno          75.0\n",
       "1      1645342 2016-09-27                 Psicologico          81.0\n",
       "2      1645342 2016-09-27  Relaciones interpersonales         100.0\n",
       "3      1645342 2016-09-27                Salud fisica          25.0\n",
       "4      1645342 2017-12-21                     Entorno          63.0"
      ]
     },
     "execution_count": 5,
     "metadata": {},
     "output_type": "execute_result"
    }
   ],
   "source": [
    "life_quality.columns = [col.lower() for col in life_quality.columns]\n",
    "life_quality.rename(columns={\n",
    "    'identificacion': 'id_paciente',\n",
    "    'fe_alta': 'fecha_alta',\n",
    "    '0_100': 'calificacion'    \n",
    "}, inplace=True)\n",
    "life_quality.head()"
   ]
  },
  {
   "cell_type": "code",
   "execution_count": 6,
   "metadata": {},
   "outputs": [
    {
     "data": {
      "text/plain": [
       "array(['Entorno', 'Psicologico', 'Relaciones interpersonales',\n",
       "       'Salud fisica'], dtype=object)"
      ]
     },
     "execution_count": 6,
     "metadata": {},
     "output_type": "execute_result"
    }
   ],
   "source": [
    "life_quality['dimensiones'].unique()"
   ]
  },
  {
   "cell_type": "code",
   "execution_count": 7,
   "metadata": {},
   "outputs": [],
   "source": [
    "life_quality['dimensiones'] = life_quality['dimensiones'].astype('category')"
   ]
  },
  {
   "cell_type": "code",
   "execution_count": 8,
   "metadata": {},
   "outputs": [
    {
     "name": "stdout",
     "output_type": "stream",
     "text": [
      "<class 'pandas.core.frame.DataFrame'>\n",
      "RangeIndex: 1016 entries, 0 to 1015\n",
      "Data columns (total 4 columns):\n",
      "id_paciente     1016 non-null int64\n",
      "fecha_alta      1016 non-null datetime64[ns]\n",
      "dimensiones     1016 non-null category\n",
      "calificacion    1012 non-null float64\n",
      "dtypes: category(1), datetime64[ns](1), float64(1), int64(1)\n",
      "memory usage: 25.1 KB\n"
     ]
    }
   ],
   "source": [
    "life_quality.info()"
   ]
  },
  {
   "cell_type": "code",
   "execution_count": 9,
   "metadata": {},
   "outputs": [
    {
     "data": {
      "text/html": [
       "<div>\n",
       "<style scoped>\n",
       "    .dataframe tbody tr th:only-of-type {\n",
       "        vertical-align: middle;\n",
       "    }\n",
       "\n",
       "    .dataframe tbody tr th {\n",
       "        vertical-align: top;\n",
       "    }\n",
       "\n",
       "    .dataframe thead th {\n",
       "        text-align: right;\n",
       "    }\n",
       "</style>\n",
       "<table border=\"1\" class=\"dataframe\">\n",
       "  <thead>\n",
       "    <tr style=\"text-align: right;\">\n",
       "      <th></th>\n",
       "      <th>id_paciente</th>\n",
       "      <th>fecha_alta</th>\n",
       "      <th>dimensiones</th>\n",
       "      <th>calificacion</th>\n",
       "    </tr>\n",
       "  </thead>\n",
       "  <tbody>\n",
       "    <tr>\n",
       "      <th>count</th>\n",
       "      <td>1.016000e+03</td>\n",
       "      <td>1016</td>\n",
       "      <td>1016</td>\n",
       "      <td>1012.000000</td>\n",
       "    </tr>\n",
       "    <tr>\n",
       "      <th>unique</th>\n",
       "      <td>NaN</td>\n",
       "      <td>175</td>\n",
       "      <td>4</td>\n",
       "      <td>NaN</td>\n",
       "    </tr>\n",
       "    <tr>\n",
       "      <th>top</th>\n",
       "      <td>NaN</td>\n",
       "      <td>2017-03-06 00:00:00</td>\n",
       "      <td>Salud fisica</td>\n",
       "      <td>NaN</td>\n",
       "    </tr>\n",
       "    <tr>\n",
       "      <th>freq</th>\n",
       "      <td>NaN</td>\n",
       "      <td>32</td>\n",
       "      <td>254</td>\n",
       "      <td>NaN</td>\n",
       "    </tr>\n",
       "    <tr>\n",
       "      <th>first</th>\n",
       "      <td>NaN</td>\n",
       "      <td>2014-11-04 00:00:00</td>\n",
       "      <td>NaN</td>\n",
       "      <td>NaN</td>\n",
       "    </tr>\n",
       "    <tr>\n",
       "      <th>last</th>\n",
       "      <td>NaN</td>\n",
       "      <td>2019-02-21 00:00:00</td>\n",
       "      <td>NaN</td>\n",
       "      <td>NaN</td>\n",
       "    </tr>\n",
       "    <tr>\n",
       "      <th>mean</th>\n",
       "      <td>1.258658e+06</td>\n",
       "      <td>NaN</td>\n",
       "      <td>NaN</td>\n",
       "      <td>67.318182</td>\n",
       "    </tr>\n",
       "    <tr>\n",
       "      <th>std</th>\n",
       "      <td>4.093158e+05</td>\n",
       "      <td>NaN</td>\n",
       "      <td>NaN</td>\n",
       "      <td>18.585210</td>\n",
       "    </tr>\n",
       "    <tr>\n",
       "      <th>min</th>\n",
       "      <td>5.029890e+05</td>\n",
       "      <td>NaN</td>\n",
       "      <td>NaN</td>\n",
       "      <td>6.000000</td>\n",
       "    </tr>\n",
       "    <tr>\n",
       "      <th>25%</th>\n",
       "      <td>9.165100e+05</td>\n",
       "      <td>NaN</td>\n",
       "      <td>NaN</td>\n",
       "      <td>56.000000</td>\n",
       "    </tr>\n",
       "    <tr>\n",
       "      <th>50%</th>\n",
       "      <td>1.333454e+06</td>\n",
       "      <td>NaN</td>\n",
       "      <td>NaN</td>\n",
       "      <td>69.000000</td>\n",
       "    </tr>\n",
       "    <tr>\n",
       "      <th>75%</th>\n",
       "      <td>1.617372e+06</td>\n",
       "      <td>NaN</td>\n",
       "      <td>NaN</td>\n",
       "      <td>81.000000</td>\n",
       "    </tr>\n",
       "    <tr>\n",
       "      <th>max</th>\n",
       "      <td>1.997065e+06</td>\n",
       "      <td>NaN</td>\n",
       "      <td>NaN</td>\n",
       "      <td>100.000000</td>\n",
       "    </tr>\n",
       "  </tbody>\n",
       "</table>\n",
       "</div>"
      ],
      "text/plain": [
       "         id_paciente           fecha_alta   dimensiones  calificacion\n",
       "count   1.016000e+03                 1016          1016   1012.000000\n",
       "unique           NaN                  175             4           NaN\n",
       "top              NaN  2017-03-06 00:00:00  Salud fisica           NaN\n",
       "freq             NaN                   32           254           NaN\n",
       "first            NaN  2014-11-04 00:00:00           NaN           NaN\n",
       "last             NaN  2019-02-21 00:00:00           NaN           NaN\n",
       "mean    1.258658e+06                  NaN           NaN     67.318182\n",
       "std     4.093158e+05                  NaN           NaN     18.585210\n",
       "min     5.029890e+05                  NaN           NaN      6.000000\n",
       "25%     9.165100e+05                  NaN           NaN     56.000000\n",
       "50%     1.333454e+06                  NaN           NaN     69.000000\n",
       "75%     1.617372e+06                  NaN           NaN     81.000000\n",
       "max     1.997065e+06                  NaN           NaN    100.000000"
      ]
     },
     "execution_count": 9,
     "metadata": {},
     "output_type": "execute_result"
    }
   ],
   "source": [
    "life_quality.describe(include='all')"
   ]
  },
  {
   "cell_type": "code",
   "execution_count": 10,
   "metadata": {},
   "outputs": [],
   "source": [
    "life_quality.drop_duplicates(inplace=True)"
   ]
  },
  {
   "cell_type": "code",
   "execution_count": 11,
   "metadata": {},
   "outputs": [
    {
     "data": {
      "text/plain": [
       "<matplotlib.axes._subplots.AxesSubplot at 0x7f1b1d2c9ba8>"
      ]
     },
     "execution_count": 11,
     "metadata": {},
     "output_type": "execute_result"
    },
    {
     "data": {
      "image/png": "[encoded data removed]",
      "text/plain": [
       "<Figure size 1800x720 with 2 Axes>"
      ]
     },
     "metadata": {
      "needs_background": "light"
     },
     "output_type": "display_data"
    }
   ],
   "source": [
    "msno.matrix(msno.nullity_sort(life_quality, sort='descending'))"
   ]
  },
  {
   "cell_type": "code",
   "execution_count": 12,
   "metadata": {},
   "outputs": [
    {
     "data": {
      "text/plain": [
       "<matplotlib.axes._subplots.AxesSubplot at 0x7f1b1d26a588>"
      ]
     },
     "execution_count": 12,
     "metadata": {},
     "output_type": "execute_result"
    },
    {
     "data": {
      "image/png": "[encoded data removed]",
      "text/plain": [
       "<Figure size 1800x720 with 1 Axes>"
      ]
     },
     "metadata": {
      "needs_background": "light"
     },
     "output_type": "display_data"
    }
   ],
   "source": [
    "msno.dendrogram(life_quality)"
   ]
  },
  {
   "cell_type": "code",
   "execution_count": 13,
   "metadata": {},
   "outputs": [
    {
     "data": {
      "text/html": [
       "<div>\n",
       "<style scoped>\n",
       "    .dataframe tbody tr th:only-of-type {\n",
       "        vertical-align: middle;\n",
       "    }\n",
       "\n",
       "    .dataframe tbody tr th {\n",
       "        vertical-align: top;\n",
       "    }\n",
       "\n",
       "    .dataframe thead th {\n",
       "        text-align: right;\n",
       "    }\n",
       "</style>\n",
       "<table border=\"1\" class=\"dataframe\">\n",
       "  <thead>\n",
       "    <tr style=\"text-align: right;\">\n",
       "      <th></th>\n",
       "      <th>id_paciente</th>\n",
       "      <th>fecha_alta</th>\n",
       "      <th>calificacion</th>\n",
       "    </tr>\n",
       "    <tr>\n",
       "      <th>dimensiones</th>\n",
       "      <th></th>\n",
       "      <th></th>\n",
       "      <th></th>\n",
       "    </tr>\n",
       "  </thead>\n",
       "  <tbody>\n",
       "    <tr>\n",
       "      <th>Entorno</th>\n",
       "      <td>254</td>\n",
       "      <td>254</td>\n",
       "      <td>253</td>\n",
       "    </tr>\n",
       "    <tr>\n",
       "      <th>Psicologico</th>\n",
       "      <td>254</td>\n",
       "      <td>254</td>\n",
       "      <td>253</td>\n",
       "    </tr>\n",
       "    <tr>\n",
       "      <th>Relaciones interpersonales</th>\n",
       "      <td>254</td>\n",
       "      <td>254</td>\n",
       "      <td>253</td>\n",
       "    </tr>\n",
       "    <tr>\n",
       "      <th>Salud fisica</th>\n",
       "      <td>254</td>\n",
       "      <td>254</td>\n",
       "      <td>253</td>\n",
       "    </tr>\n",
       "  </tbody>\n",
       "</table>\n",
       "</div>"
      ],
      "text/plain": [
       "                            id_paciente  fecha_alta  calificacion\n",
       "dimensiones                                                      \n",
       "Entorno                             254         254           253\n",
       "Psicologico                         254         254           253\n",
       "Relaciones interpersonales          254         254           253\n",
       "Salud fisica                        254         254           253"
      ]
     },
     "execution_count": 13,
     "metadata": {},
     "output_type": "execute_result"
    }
   ],
   "source": [
    "life_quality.groupby('dimensiones').count()"
   ]
  },
  {
   "cell_type": "code",
   "execution_count": 14,
   "metadata": {},
   "outputs": [
    {
     "data": {
      "text/html": [
       "<div>\n",
       "<style scoped>\n",
       "    .dataframe tbody tr th:only-of-type {\n",
       "        vertical-align: middle;\n",
       "    }\n",
       "\n",
       "    .dataframe tbody tr th {\n",
       "        vertical-align: top;\n",
       "    }\n",
       "\n",
       "    .dataframe thead th {\n",
       "        text-align: right;\n",
       "    }\n",
       "</style>\n",
       "<table border=\"1\" class=\"dataframe\">\n",
       "  <thead>\n",
       "    <tr style=\"text-align: right;\">\n",
       "      <th></th>\n",
       "      <th>id_paciente</th>\n",
       "      <th>fecha_alta</th>\n",
       "      <th>dimensiones</th>\n",
       "      <th>calificacion</th>\n",
       "    </tr>\n",
       "  </thead>\n",
       "  <tbody>\n",
       "    <tr>\n",
       "      <th>84</th>\n",
       "      <td>1971217</td>\n",
       "      <td>2017-07-25</td>\n",
       "      <td>Entorno</td>\n",
       "      <td>NaN</td>\n",
       "    </tr>\n",
       "    <tr>\n",
       "      <th>85</th>\n",
       "      <td>1971217</td>\n",
       "      <td>2017-07-25</td>\n",
       "      <td>Psicologico</td>\n",
       "      <td>NaN</td>\n",
       "    </tr>\n",
       "    <tr>\n",
       "      <th>86</th>\n",
       "      <td>1971217</td>\n",
       "      <td>2017-07-25</td>\n",
       "      <td>Relaciones interpersonales</td>\n",
       "      <td>NaN</td>\n",
       "    </tr>\n",
       "    <tr>\n",
       "      <th>87</th>\n",
       "      <td>1971217</td>\n",
       "      <td>2017-07-25</td>\n",
       "      <td>Salud fisica</td>\n",
       "      <td>NaN</td>\n",
       "    </tr>\n",
       "  </tbody>\n",
       "</table>\n",
       "</div>"
      ],
      "text/plain": [
       "    id_paciente fecha_alta                 dimensiones  calificacion\n",
       "84      1971217 2017-07-25                     Entorno           NaN\n",
       "85      1971217 2017-07-25                 Psicologico           NaN\n",
       "86      1971217 2017-07-25  Relaciones interpersonales           NaN\n",
       "87      1971217 2017-07-25                Salud fisica           NaN"
      ]
     },
     "execution_count": 14,
     "metadata": {},
     "output_type": "execute_result"
    }
   ],
   "source": [
    "life_quality[life_quality['calificacion'].isna()]"
   ]
  },
  {
   "cell_type": "code",
   "execution_count": 15,
   "metadata": {},
   "outputs": [],
   "source": [
    "life_quality.dropna(inplace=True)"
   ]
  },
  {
   "cell_type": "code",
   "execution_count": 16,
   "metadata": {},
   "outputs": [
    {
     "data": {
      "image/png": "[encoded data removed]",
      "text/plain": [
       "<Figure size 864x720 with 4 Axes>"
      ]
     },
     "metadata": {
      "needs_background": "light"
     },
     "output_type": "display_data"
    }
   ],
   "source": [
    "plt.figure(figsize=(12,10))\n",
    "\n",
    "for i, dim in enumerate(life_quality['dimensiones'].cat.categories):\n",
    "    plt.subplot(2,2,i+1)\n",
    "    sns.distplot(life_quality.loc[(life_quality['dimensiones'] == dim),'calificacion'], label=dim)\n",
    "    plt.title(\"Score distribution \\nfor dimension = \" + str(dim));\n",
    "\n",
    "plt.tight_layout()"
   ]
  },
  {
   "cell_type": "code",
   "execution_count": 17,
   "metadata": {},
   "outputs": [
    {
     "data": {
      "text/html": [
       "<div>\n",
       "<style scoped>\n",
       "    .dataframe tbody tr th:only-of-type {\n",
       "        vertical-align: middle;\n",
       "    }\n",
       "\n",
       "    .dataframe tbody tr th {\n",
       "        vertical-align: top;\n",
       "    }\n",
       "\n",
       "    .dataframe thead th {\n",
       "        text-align: right;\n",
       "    }\n",
       "</style>\n",
       "<table border=\"1\" class=\"dataframe\">\n",
       "  <thead>\n",
       "    <tr style=\"text-align: right;\">\n",
       "      <th></th>\n",
       "      <th>id_paciente</th>\n",
       "      <th>fecha_alta</th>\n",
       "      <th>dimensiones</th>\n",
       "      <th>calificacion</th>\n",
       "    </tr>\n",
       "  </thead>\n",
       "  <tbody>\n",
       "    <tr>\n",
       "      <th>988</th>\n",
       "      <td>502989</td>\n",
       "      <td>2017-01-03</td>\n",
       "      <td>Entorno</td>\n",
       "      <td>63.0</td>\n",
       "    </tr>\n",
       "    <tr>\n",
       "      <th>989</th>\n",
       "      <td>502989</td>\n",
       "      <td>2017-01-03</td>\n",
       "      <td>Psicologico</td>\n",
       "      <td>69.0</td>\n",
       "    </tr>\n",
       "    <tr>\n",
       "      <th>990</th>\n",
       "      <td>502989</td>\n",
       "      <td>2017-01-03</td>\n",
       "      <td>Relaciones interpersonales</td>\n",
       "      <td>50.0</td>\n",
       "    </tr>\n",
       "    <tr>\n",
       "      <th>991</th>\n",
       "      <td>502989</td>\n",
       "      <td>2017-01-03</td>\n",
       "      <td>Salud fisica</td>\n",
       "      <td>63.0</td>\n",
       "    </tr>\n",
       "    <tr>\n",
       "      <th>640</th>\n",
       "      <td>524006</td>\n",
       "      <td>2015-09-10</td>\n",
       "      <td>Entorno</td>\n",
       "      <td>56.0</td>\n",
       "    </tr>\n",
       "    <tr>\n",
       "      <th>641</th>\n",
       "      <td>524006</td>\n",
       "      <td>2015-09-10</td>\n",
       "      <td>Psicologico</td>\n",
       "      <td>69.0</td>\n",
       "    </tr>\n",
       "    <tr>\n",
       "      <th>642</th>\n",
       "      <td>524006</td>\n",
       "      <td>2015-09-10</td>\n",
       "      <td>Relaciones interpersonales</td>\n",
       "      <td>44.0</td>\n",
       "    </tr>\n",
       "    <tr>\n",
       "      <th>643</th>\n",
       "      <td>524006</td>\n",
       "      <td>2015-09-10</td>\n",
       "      <td>Salud fisica</td>\n",
       "      <td>44.0</td>\n",
       "    </tr>\n",
       "    <tr>\n",
       "      <th>644</th>\n",
       "      <td>524006</td>\n",
       "      <td>2015-11-18</td>\n",
       "      <td>Entorno</td>\n",
       "      <td>100.0</td>\n",
       "    </tr>\n",
       "    <tr>\n",
       "      <th>645</th>\n",
       "      <td>524006</td>\n",
       "      <td>2015-11-18</td>\n",
       "      <td>Psicologico</td>\n",
       "      <td>94.0</td>\n",
       "    </tr>\n",
       "    <tr>\n",
       "      <th>646</th>\n",
       "      <td>524006</td>\n",
       "      <td>2015-11-18</td>\n",
       "      <td>Relaciones interpersonales</td>\n",
       "      <td>75.0</td>\n",
       "    </tr>\n",
       "    <tr>\n",
       "      <th>647</th>\n",
       "      <td>524006</td>\n",
       "      <td>2015-11-18</td>\n",
       "      <td>Salud fisica</td>\n",
       "      <td>94.0</td>\n",
       "    </tr>\n",
       "    <tr>\n",
       "      <th>648</th>\n",
       "      <td>524006</td>\n",
       "      <td>2016-03-18</td>\n",
       "      <td>Entorno</td>\n",
       "      <td>100.0</td>\n",
       "    </tr>\n",
       "    <tr>\n",
       "      <th>649</th>\n",
       "      <td>524006</td>\n",
       "      <td>2016-03-18</td>\n",
       "      <td>Psicologico</td>\n",
       "      <td>94.0</td>\n",
       "    </tr>\n",
       "    <tr>\n",
       "      <th>650</th>\n",
       "      <td>524006</td>\n",
       "      <td>2016-03-18</td>\n",
       "      <td>Relaciones interpersonales</td>\n",
       "      <td>94.0</td>\n",
       "    </tr>\n",
       "    <tr>\n",
       "      <th>651</th>\n",
       "      <td>524006</td>\n",
       "      <td>2016-03-18</td>\n",
       "      <td>Salud fisica</td>\n",
       "      <td>100.0</td>\n",
       "    </tr>\n",
       "    <tr>\n",
       "      <th>652</th>\n",
       "      <td>524006</td>\n",
       "      <td>2016-08-08</td>\n",
       "      <td>Entorno</td>\n",
       "      <td>100.0</td>\n",
       "    </tr>\n",
       "    <tr>\n",
       "      <th>653</th>\n",
       "      <td>524006</td>\n",
       "      <td>2016-08-08</td>\n",
       "      <td>Psicologico</td>\n",
       "      <td>94.0</td>\n",
       "    </tr>\n",
       "    <tr>\n",
       "      <th>654</th>\n",
       "      <td>524006</td>\n",
       "      <td>2016-08-08</td>\n",
       "      <td>Relaciones interpersonales</td>\n",
       "      <td>94.0</td>\n",
       "    </tr>\n",
       "    <tr>\n",
       "      <th>655</th>\n",
       "      <td>524006</td>\n",
       "      <td>2016-08-08</td>\n",
       "      <td>Salud fisica</td>\n",
       "      <td>100.0</td>\n",
       "    </tr>\n",
       "  </tbody>\n",
       "</table>\n",
       "</div>"
      ],
      "text/plain": [
       "     id_paciente fecha_alta                 dimensiones  calificacion\n",
       "988       502989 2017-01-03                     Entorno          63.0\n",
       "989       502989 2017-01-03                 Psicologico          69.0\n",
       "990       502989 2017-01-03  Relaciones interpersonales          50.0\n",
       "991       502989 2017-01-03                Salud fisica          63.0\n",
       "640       524006 2015-09-10                     Entorno          56.0\n",
       "641       524006 2015-09-10                 Psicologico          69.0\n",
       "642       524006 2015-09-10  Relaciones interpersonales          44.0\n",
       "643       524006 2015-09-10                Salud fisica          44.0\n",
       "644       524006 2015-11-18                     Entorno         100.0\n",
       "645       524006 2015-11-18                 Psicologico          94.0\n",
       "646       524006 2015-11-18  Relaciones interpersonales          75.0\n",
       "647       524006 2015-11-18                Salud fisica          94.0\n",
       "648       524006 2016-03-18                     Entorno         100.0\n",
       "649       524006 2016-03-18                 Psicologico          94.0\n",
       "650       524006 2016-03-18  Relaciones interpersonales          94.0\n",
       "651       524006 2016-03-18                Salud fisica         100.0\n",
       "652       524006 2016-08-08                     Entorno         100.0\n",
       "653       524006 2016-08-08                 Psicologico          94.0\n",
       "654       524006 2016-08-08  Relaciones interpersonales          94.0\n",
       "655       524006 2016-08-08                Salud fisica         100.0"
      ]
     },
     "execution_count": 17,
     "metadata": {},
     "output_type": "execute_result"
    }
   ],
   "source": [
    "life_quality.sort_values(by=['id_paciente', 'fecha_alta']).head(20)"
   ]
  },
  {
   "cell_type": "code",
   "execution_count": 18,
   "metadata": {},
   "outputs": [
    {
     "data": {
      "text/plain": [
       "145"
      ]
     },
     "execution_count": 18,
     "metadata": {},
     "output_type": "execute_result"
    }
   ],
   "source": [
    "len(life_quality['id_paciente'].unique())"
   ]
  },
  {
   "cell_type": "code",
   "execution_count": 19,
   "metadata": {},
   "outputs": [
    {
     "data": {
      "text/html": [
       "<div>\n",
       "<style scoped>\n",
       "    .dataframe tbody tr th:only-of-type {\n",
       "        vertical-align: middle;\n",
       "    }\n",
       "\n",
       "    .dataframe tbody tr th {\n",
       "        vertical-align: top;\n",
       "    }\n",
       "\n",
       "    .dataframe thead th {\n",
       "        text-align: right;\n",
       "    }\n",
       "</style>\n",
       "<table border=\"1\" class=\"dataframe\">\n",
       "  <thead>\n",
       "    <tr style=\"text-align: right;\">\n",
       "      <th></th>\n",
       "      <th>id_paciente</th>\n",
       "      <th>count</th>\n",
       "    </tr>\n",
       "  </thead>\n",
       "  <tbody>\n",
       "    <tr>\n",
       "      <th>0</th>\n",
       "      <td>739693</td>\n",
       "      <td>9</td>\n",
       "    </tr>\n",
       "    <tr>\n",
       "      <th>1</th>\n",
       "      <td>1617372</td>\n",
       "      <td>8</td>\n",
       "    </tr>\n",
       "    <tr>\n",
       "      <th>2</th>\n",
       "      <td>1427481</td>\n",
       "      <td>7</td>\n",
       "    </tr>\n",
       "    <tr>\n",
       "      <th>3</th>\n",
       "      <td>1690591</td>\n",
       "      <td>6</td>\n",
       "    </tr>\n",
       "    <tr>\n",
       "      <th>4</th>\n",
       "      <td>1764814</td>\n",
       "      <td>6</td>\n",
       "    </tr>\n",
       "  </tbody>\n",
       "</table>\n",
       "</div>"
      ],
      "text/plain": [
       "   id_paciente  count\n",
       "0       739693      9\n",
       "1      1617372      8\n",
       "2      1427481      7\n",
       "3      1690591      6\n",
       "4      1764814      6"
      ]
     },
     "metadata": {},
     "output_type": "display_data"
    },
    {
     "name": "stdout",
     "output_type": "stream",
     "text": [
      "253\n"
     ]
    },
    {
     "data": {
      "text/plain": [
       "<matplotlib.legend.Legend at 0x7f1b13fca6d8>"
      ]
     },
     "execution_count": 19,
     "metadata": {},
     "output_type": "execute_result"
    },
    {
     "data": {
      "image/png": "[encoded data removed]",
      "text/plain": [
       "<Figure size 432x288 with 1 Axes>"
      ]
     },
     "metadata": {
      "needs_background": "light"
     },
     "output_type": "display_data"
    }
   ],
   "source": [
    "num_surveys_per_patient = life_quality[life_quality['dimensiones']=='Entorno'].groupby('id_paciente').size().sort_values(ascending=False).reset_index(name='count')\n",
    "display(num_surveys_per_patient.head())\n",
    "print(sum(num_surveys_per_patient['count']))\n",
    "num_surveys_per_patient.hist('count', bins=20)\n",
    "plt.xlabel('# surveys')\n",
    "plt.title('Number of times a Well-being \\nsurvey has been taken per patient')\n",
    "plt.legend(['patient count'])"
   ]
  },
  {
   "cell_type": "code",
   "execution_count": 22,
   "metadata": {},
   "outputs": [
    {
     "data": {
      "text/plain": [
       "anio_alta\n",
       "2014      1\n",
       "2015     25\n",
       "2016     58\n",
       "2017    146\n",
       "2018     22\n",
       "2019      1\n",
       "dtype: int64"
      ]
     },
     "execution_count": 22,
     "metadata": {},
     "output_type": "execute_result"
    }
   ],
   "source": [
    "life_quality[life_quality['dimensiones']=='Entorno'][['anio_alta', 'id_paciente']].groupby('anio_alta').size()"
   ]
  },
  {
   "cell_type": "code",
   "execution_count": 21,
   "metadata": {},
   "outputs": [
    {
     "data": {
      "text/plain": [
       "Text(0.5,0,'Year')"
      ]
     },
     "execution_count": 21,
     "metadata": {},
     "output_type": "execute_result"
    },
    {
     "data": {
      "image/png": "[encoded data removed]",
      "text/plain": [
       "<Figure size 432x288 with 1 Axes>"
      ]
     },
     "metadata": {
      "needs_background": "light"
     },
     "output_type": "display_data"
    }
   ],
   "source": [
    "life_quality['anio_alta'] = life_quality['fecha_alta'].dt.year\n",
    "ax = life_quality[life_quality['dimensiones']=='Entorno'][['anio_alta', 'id_paciente']].groupby('anio_alta').size().plot(kind='bar', color='#367588')\n",
    "ax.legend(['record count'])\n",
    "ax.set_xlabel('Year')"
   ]
  },
  {
   "cell_type": "markdown",
   "metadata": {},
   "source": [
    "### Cleansed dataset:"
   ]
  },
  {
   "cell_type": "code",
   "execution_count": 76,
   "metadata": {},
   "outputs": [],
   "source": [
    "life_quality.to_csv('./data/cleansed/calidad_de_vida.csv', sep='|')"
   ]
  },
  {
   "cell_type": "code",
   "execution_count": null,
   "metadata": {},
   "outputs": [],
   "source": []
  }
 ],
 "metadata": {
  "kernelspec": {
   "display_name": "Python 3",
   "language": "python",
   "name": "python3"
  },
  "language_info": {
   "codemirror_mode": {
    "name": "ipython",
    "version": 3
   },
   "file_extension": ".py",
   "mimetype": "text/x-python",
   "name": "python",
   "nbconvert_exporter": "python",
   "pygments_lexer": "ipython3",
   "version": "3.7.6"
  }
 },
 "nbformat": 4,
 "nbformat_minor": 2
}
