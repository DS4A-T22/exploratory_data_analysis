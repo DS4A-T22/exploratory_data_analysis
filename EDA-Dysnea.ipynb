{
 "cells": [
  {
   "cell_type": "markdown",
   "metadata": {},
   "source": [
    "# Exploratory Data Analysis - Dyspnea dataset"
   ]
  },
  {
   "cell_type": "code",
   "execution_count": 1,
   "metadata": {},
   "outputs": [],
   "source": [
    "import pandas as pd\n",
    "import numpy as np\n",
    "import missingno as msno\n",
    "import matplotlib.pyplot as plt\n",
    "import seaborn as sns\n",
    "import folium\n",
    "import json\n",
    "import requests\n",
    "import geopandas as gpd\n",
    "%matplotlib inline"
   ]
  },
  {
   "cell_type": "markdown",
   "metadata": {},
   "source": [
    "## Dyspnea scale\n",
    "This dataset contains the information of 137 patients, where their id, date test and dyspnea scale is stored. "
   ]
  },
  {
   "cell_type": "code",
   "execution_count": 17,
   "metadata": {},
   "outputs": [
    {
     "data": {
      "text/html": [
       "<div>\n",
       "<style scoped>\n",
       "    .dataframe tbody tr th:only-of-type {\n",
       "        vertical-align: middle;\n",
       "    }\n",
       "\n",
       "    .dataframe tbody tr th {\n",
       "        vertical-align: top;\n",
       "    }\n",
       "\n",
       "    .dataframe thead th {\n",
       "        text-align: right;\n",
       "    }\n",
       "</style>\n",
       "<table border=\"1\" class=\"dataframe\">\n",
       "  <thead>\n",
       "    <tr style=\"text-align: right;\">\n",
       "      <th></th>\n",
       "      <th>id_paciente</th>\n",
       "      <th>fe_alta</th>\n",
       "      <th>examen</th>\n",
       "    </tr>\n",
       "  </thead>\n",
       "  <tbody>\n",
       "    <tr>\n",
       "      <th>0</th>\n",
       "      <td>1998401</td>\n",
       "      <td>2016-06-02</td>\n",
       "      <td>ESCALA DE DISNEA mMRC EPOC 0</td>\n",
       "    </tr>\n",
       "    <tr>\n",
       "      <th>1</th>\n",
       "      <td>1491934</td>\n",
       "      <td>2016-06-10</td>\n",
       "      <td>ESCALA DE DISNEA mMRC EPOC 0</td>\n",
       "    </tr>\n",
       "    <tr>\n",
       "      <th>2</th>\n",
       "      <td>801004</td>\n",
       "      <td>2019-07-12</td>\n",
       "      <td>ESCALA DE DISNEA mMRC EPOC 0</td>\n",
       "    </tr>\n",
       "    <tr>\n",
       "      <th>3</th>\n",
       "      <td>1226479</td>\n",
       "      <td>2019-07-26</td>\n",
       "      <td>ESCALA DE DISNEA mMRC EPOC 0</td>\n",
       "    </tr>\n",
       "    <tr>\n",
       "      <th>4</th>\n",
       "      <td>1241688</td>\n",
       "      <td>2016-09-01</td>\n",
       "      <td>ESCALA DE DISNEA mMRC EPOC 0</td>\n",
       "    </tr>\n",
       "    <tr>\n",
       "      <th>...</th>\n",
       "      <td>...</td>\n",
       "      <td>...</td>\n",
       "      <td>...</td>\n",
       "    </tr>\n",
       "    <tr>\n",
       "      <th>132</th>\n",
       "      <td>1690591</td>\n",
       "      <td>2016-03-08</td>\n",
       "      <td>ESCALA DE DISNEA mMRC EPOC 4</td>\n",
       "    </tr>\n",
       "    <tr>\n",
       "      <th>133</th>\n",
       "      <td>1690591</td>\n",
       "      <td>2016-06-01</td>\n",
       "      <td>ESCALA DE DISNEA mMRC EPOC 4</td>\n",
       "    </tr>\n",
       "    <tr>\n",
       "      <th>134</th>\n",
       "      <td>1718360</td>\n",
       "      <td>2016-12-13</td>\n",
       "      <td>ESCALA DE DISNEA mMRC EPOC 4</td>\n",
       "    </tr>\n",
       "    <tr>\n",
       "      <th>135</th>\n",
       "      <td>1718360</td>\n",
       "      <td>2018-03-20</td>\n",
       "      <td>ESCALA DE DISNEA mMRC EPOC 4</td>\n",
       "    </tr>\n",
       "    <tr>\n",
       "      <th>136</th>\n",
       "      <td>1460766</td>\n",
       "      <td>2018-05-10</td>\n",
       "      <td>ESCALA DE DISNEA mMRC EPOC 4</td>\n",
       "    </tr>\n",
       "  </tbody>\n",
       "</table>\n",
       "<p>137 rows × 3 columns</p>\n",
       "</div>"
      ],
      "text/plain": [
       "     id_paciente    fe_alta                        examen\n",
       "0        1998401 2016-06-02  ESCALA DE DISNEA mMRC EPOC 0\n",
       "1        1491934 2016-06-10  ESCALA DE DISNEA mMRC EPOC 0\n",
       "2         801004 2019-07-12  ESCALA DE DISNEA mMRC EPOC 0\n",
       "3        1226479 2019-07-26  ESCALA DE DISNEA mMRC EPOC 0\n",
       "4        1241688 2016-09-01  ESCALA DE DISNEA mMRC EPOC 0\n",
       "..           ...        ...                           ...\n",
       "132      1690591 2016-03-08  ESCALA DE DISNEA mMRC EPOC 4\n",
       "133      1690591 2016-06-01  ESCALA DE DISNEA mMRC EPOC 4\n",
       "134      1718360 2016-12-13  ESCALA DE DISNEA mMRC EPOC 4\n",
       "135      1718360 2018-03-20  ESCALA DE DISNEA mMRC EPOC 4\n",
       "136      1460766 2018-05-10  ESCALA DE DISNEA mMRC EPOC 4\n",
       "\n",
       "[137 rows x 3 columns]"
      ]
     },
     "execution_count": 17,
     "metadata": {},
     "output_type": "execute_result"
    }
   ],
   "source": [
    "dyspnea = pd.read_excel(f'./Data/Disnea.xlsx')\n",
    "df_cp = dyspnea.copy()\n",
    "df_cp.rename(columns={\n",
    "    'id':'id_paciente',\n",
    "    'FE_ALTA':'FE_ALTA',\n",
    "    'Examen':'Examen'\n",
    "},inplace = True)\n",
    "\n",
    "# Convert to lowercase \n",
    "df_cp.columns = [col.lower() for col in df_cp.columns]\n",
    "df_cp"
   ]
  },
  {
   "cell_type": "code",
   "execution_count": 19,
   "metadata": {},
   "outputs": [
    {
     "data": {
      "text/html": [
       "<div>\n",
       "<style scoped>\n",
       "    .dataframe tbody tr th:only-of-type {\n",
       "        vertical-align: middle;\n",
       "    }\n",
       "\n",
       "    .dataframe tbody tr th {\n",
       "        vertical-align: top;\n",
       "    }\n",
       "\n",
       "    .dataframe thead th {\n",
       "        text-align: right;\n",
       "    }\n",
       "</style>\n",
       "<table border=\"1\" class=\"dataframe\">\n",
       "  <thead>\n",
       "    <tr style=\"text-align: right;\">\n",
       "      <th></th>\n",
       "      <th></th>\n",
       "      <th>id_paciente</th>\n",
       "    </tr>\n",
       "    <tr>\n",
       "      <th>examen</th>\n",
       "      <th>fe_alta</th>\n",
       "      <th></th>\n",
       "    </tr>\n",
       "  </thead>\n",
       "  <tbody>\n",
       "    <tr>\n",
       "      <th rowspan=\"5\" valign=\"top\">ESCALA DE DISNEA mMRC EPOC 0</th>\n",
       "      <th>2016-06-02</th>\n",
       "      <td>1</td>\n",
       "    </tr>\n",
       "    <tr>\n",
       "      <th>2016-06-10</th>\n",
       "      <td>1</td>\n",
       "    </tr>\n",
       "    <tr>\n",
       "      <th>2016-09-01</th>\n",
       "      <td>1</td>\n",
       "    </tr>\n",
       "    <tr>\n",
       "      <th>2019-07-06</th>\n",
       "      <td>1</td>\n",
       "    </tr>\n",
       "    <tr>\n",
       "      <th>2019-07-12</th>\n",
       "      <td>1</td>\n",
       "    </tr>\n",
       "    <tr>\n",
       "      <th>...</th>\n",
       "      <th>...</th>\n",
       "      <td>...</td>\n",
       "    </tr>\n",
       "    <tr>\n",
       "      <th rowspan=\"5\" valign=\"top\">ESCALA DE DISNEA mMRC EPOC 4</th>\n",
       "      <th>2018-02-26</th>\n",
       "      <td>1</td>\n",
       "    </tr>\n",
       "    <tr>\n",
       "      <th>2018-03-20</th>\n",
       "      <td>1</td>\n",
       "    </tr>\n",
       "    <tr>\n",
       "      <th>2018-04-09</th>\n",
       "      <td>1</td>\n",
       "    </tr>\n",
       "    <tr>\n",
       "      <th>2018-05-10</th>\n",
       "      <td>1</td>\n",
       "    </tr>\n",
       "    <tr>\n",
       "      <th>2019-07-12</th>\n",
       "      <td>1</td>\n",
       "    </tr>\n",
       "  </tbody>\n",
       "</table>\n",
       "<p>125 rows × 1 columns</p>\n",
       "</div>"
      ],
      "text/plain": [
       "                                         id_paciente\n",
       "examen                       fe_alta                \n",
       "ESCALA DE DISNEA mMRC EPOC 0 2016-06-02            1\n",
       "                             2016-06-10            1\n",
       "                             2016-09-01            1\n",
       "                             2019-07-06            1\n",
       "                             2019-07-12            1\n",
       "...                                              ...\n",
       "ESCALA DE DISNEA mMRC EPOC 4 2018-02-26            1\n",
       "                             2018-03-20            1\n",
       "                             2018-04-09            1\n",
       "                             2018-05-10            1\n",
       "                             2019-07-12            1\n",
       "\n",
       "[125 rows x 1 columns]"
      ]
     },
     "execution_count": 19,
     "metadata": {},
     "output_type": "execute_result"
    }
   ],
   "source": [
    "df_cp.groupby(['examen','fe_alta']).count()"
   ]
  },
  {
   "cell_type": "markdown",
   "metadata": {},
   "source": [
    "There are 4 different categories, therefore we can convert them to categorical type for the final dataset"
   ]
  },
  {
   "cell_type": "code",
   "execution_count": 48,
   "metadata": {},
   "outputs": [
    {
     "data": {
      "text/plain": [
       "[0, 1, 2, 3, 4]\n",
       "Categories (5, object): [0, 1, 2, 3, 4]"
      ]
     },
     "execution_count": 48,
     "metadata": {},
     "output_type": "execute_result"
    }
   ],
   "source": [
    "df_cp['examen'].replace(\"ESCALA DE DISNEA mMRC EPOC 0\",\"0\",inplace=True)\n",
    "\n",
    "df_cp['examen'].replace(\"ESCALA DE DISNEA mMRC EPOC 1\",\"1\",inplace=True)\n",
    "\n",
    "df_cp['examen'].replace(\"ESCALA DE DISNEA mMRC EPOC 2\",\"2\",inplace=True)\n",
    "\n",
    "df_cp['examen'].replace(\"ESCALA DE DISNEA mMRC EPOC 3\",\"3\",inplace=True)\n",
    "\n",
    "df_cp['examen'].replace(\"ESCALA DE DISNEA mMRC EPOC 4\",\"4\",inplace=True)\n",
    "\n",
    "# Conver to categorical data (scale 0-4)\n",
    "\n",
    "df_cp['examen'] = df_cp['examen'].astype('category')\n",
    "\n",
    "df_cp.groupby('examen').count()\n",
    "df_cp['examen'].unique()"
   ]
  },
  {
   "cell_type": "code",
   "execution_count": 8,
   "metadata": {},
   "outputs": [
    {
     "name": "stdout",
     "output_type": "stream",
     "text": [
      "2019-07-26 00:00:00\n",
      "2015-06-13 00:00:00\n"
     ]
    }
   ],
   "source": [
    "print(max(dyspnea_copy['FE_ALTA']))\n",
    "print(min(dyspnea_copy['FE_ALTA']))"
   ]
  },
  {
   "cell_type": "code",
   "execution_count": 23,
   "metadata": {},
   "outputs": [
    {
     "data": {
      "text/plain": [
       "Index(['id_paciente', 'fe_alta', 'examen'], dtype='object')"
      ]
     },
     "execution_count": 23,
     "metadata": {},
     "output_type": "execute_result"
    }
   ],
   "source": [
    "a = df_cp.groupby(['id_paciente']).count()\n",
    "df_cp.columns"
   ]
  },
  {
   "cell_type": "code",
   "execution_count": 26,
   "metadata": {},
   "outputs": [
    {
     "data": {
      "text/html": [
       "<div>\n",
       "<style scoped>\n",
       "    .dataframe tbody tr th:only-of-type {\n",
       "        vertical-align: middle;\n",
       "    }\n",
       "\n",
       "    .dataframe tbody tr th {\n",
       "        vertical-align: top;\n",
       "    }\n",
       "\n",
       "    .dataframe thead th {\n",
       "        text-align: right;\n",
       "    }\n",
       "</style>\n",
       "<table border=\"1\" class=\"dataframe\">\n",
       "  <thead>\n",
       "    <tr style=\"text-align: right;\">\n",
       "      <th></th>\n",
       "      <th>id_paciente</th>\n",
       "      <th>fe_alta</th>\n",
       "      <th>examen</th>\n",
       "    </tr>\n",
       "  </thead>\n",
       "  <tbody>\n",
       "    <tr>\n",
       "      <th>0</th>\n",
       "      <td>1998401</td>\n",
       "      <td>2016-06-02</td>\n",
       "      <td>0</td>\n",
       "    </tr>\n",
       "    <tr>\n",
       "      <th>1</th>\n",
       "      <td>1491934</td>\n",
       "      <td>2016-06-10</td>\n",
       "      <td>0</td>\n",
       "    </tr>\n",
       "    <tr>\n",
       "      <th>2</th>\n",
       "      <td>801004</td>\n",
       "      <td>2019-07-12</td>\n",
       "      <td>0</td>\n",
       "    </tr>\n",
       "    <tr>\n",
       "      <th>3</th>\n",
       "      <td>1226479</td>\n",
       "      <td>2019-07-26</td>\n",
       "      <td>0</td>\n",
       "    </tr>\n",
       "    <tr>\n",
       "      <th>4</th>\n",
       "      <td>1241688</td>\n",
       "      <td>2016-09-01</td>\n",
       "      <td>0</td>\n",
       "    </tr>\n",
       "    <tr>\n",
       "      <th>...</th>\n",
       "      <td>...</td>\n",
       "      <td>...</td>\n",
       "      <td>...</td>\n",
       "    </tr>\n",
       "    <tr>\n",
       "      <th>132</th>\n",
       "      <td>1690591</td>\n",
       "      <td>2016-03-08</td>\n",
       "      <td>4</td>\n",
       "    </tr>\n",
       "    <tr>\n",
       "      <th>133</th>\n",
       "      <td>1690591</td>\n",
       "      <td>2016-06-01</td>\n",
       "      <td>4</td>\n",
       "    </tr>\n",
       "    <tr>\n",
       "      <th>134</th>\n",
       "      <td>1718360</td>\n",
       "      <td>2016-12-13</td>\n",
       "      <td>4</td>\n",
       "    </tr>\n",
       "    <tr>\n",
       "      <th>135</th>\n",
       "      <td>1718360</td>\n",
       "      <td>2018-03-20</td>\n",
       "      <td>4</td>\n",
       "    </tr>\n",
       "    <tr>\n",
       "      <th>136</th>\n",
       "      <td>1460766</td>\n",
       "      <td>2018-05-10</td>\n",
       "      <td>4</td>\n",
       "    </tr>\n",
       "  </tbody>\n",
       "</table>\n",
       "<p>137 rows × 3 columns</p>\n",
       "</div>"
      ],
      "text/plain": [
       "     id_paciente    fe_alta examen\n",
       "0        1998401 2016-06-02      0\n",
       "1        1491934 2016-06-10      0\n",
       "2         801004 2019-07-12      0\n",
       "3        1226479 2019-07-26      0\n",
       "4        1241688 2016-09-01      0\n",
       "..           ...        ...    ...\n",
       "132      1690591 2016-03-08      4\n",
       "133      1690591 2016-06-01      4\n",
       "134      1718360 2016-12-13      4\n",
       "135      1718360 2018-03-20      4\n",
       "136      1460766 2018-05-10      4\n",
       "\n",
       "[137 rows x 3 columns]"
      ]
     },
     "execution_count": 26,
     "metadata": {},
     "output_type": "execute_result"
    }
   ],
   "source": [
    "df_cp"
   ]
  },
  {
   "cell_type": "code",
   "execution_count": 44,
   "metadata": {},
   "outputs": [
    {
     "data": {
      "text/plain": [
       "Text(0, 0.5, 'Number of patients')"
      ]
     },
     "execution_count": 44,
     "metadata": {},
     "output_type": "execute_result"
    },
    {
     "data": {
      "image/png": "[encoded data removed]",
      "text/plain": [
       "<Figure size 432x288 with 1 Axes>"
      ]
     },
     "metadata": {
      "needs_background": "light"
     },
     "output_type": "display_data"
    }
   ],
   "source": [
    "ax = df_cp[[\"id_paciente\", 'examen']].groupby('examen').size().plot(kind='bar', color='#324518')\n",
    "ax.set_title(\"Number of patients in the dyspnea scale\")\n",
    "ax.set_xlabel('Dyspnea test')\n",
    "ax.set_ylabel('Number of patients')\n",
    "\n",
    "\n"
   ]
  },
  {
   "cell_type": "code",
   "execution_count": 32,
   "metadata": {},
   "outputs": [
    {
     "name": "stdout",
     "output_type": "stream",
     "text": [
      "Number of records : (137, 3)\n"
     ]
    }
   ],
   "source": [
    "print(\"Number of records : {0}\".format(df_cp.shape))\n",
    "print(\"N\")"
   ]
  },
  {
   "cell_type": "code",
   "execution_count": 93,
   "metadata": {},
   "outputs": [
    {
     "data": {
      "text/plain": [
       "[6, 34, 52, 25, 20]"
      ]
     },
     "execution_count": 93,
     "metadata": {},
     "output_type": "execute_result"
    }
   ],
   "source": [
    "\n",
    "zero_scale = df_cp[df_cp['examen']=='0'].count()\n",
    "zero_scale1 = df_cp[df_cp['examen']=='1'].count()\n",
    "zero_scale2 = df_cp[df_cp['examen']=='2'].count()\n",
    "zero_scale3 = df_cp[df_cp['examen']=='3'].count()\n",
    "zero_scale4 = df_cp[df_cp['examen']=='4'].count()\n",
    "frame = [zero_scale[0],zero_scale1[0],zero_scale2[0],zero_scale3[0],zero_scale4[0]]\n",
    "frame"
   ]
  },
  {
   "cell_type": "code",
   "execution_count": 120,
   "metadata": {},
   "outputs": [
    {
     "data": {
      "image/png": "[encoded data removed]",
      "text/plain": [
       "<Figure size 432x288 with 1 Axes>"
      ]
     },
     "metadata": {},
     "output_type": "display_data"
    }
   ],
   "source": [
    "import matplotlib.pyplot as plt\n",
    "\n",
    "labels = ['0', '1', '2', '3','4']\n",
    "labels2 = 'EPOC 0', 'EPOC 1 ', 'EPOC 2', 'EPOC 3','EPOC 4'\n",
    "sizes = frame\n",
    "colors = ['yellowgreen', 'gold', 'lightskyblue', 'lightcoral','forestgreen']\n",
    "explode = (0.1, 0, 0, 0,0)  # explode 1st slice\n",
    "\n",
    "patches, texts = plt.pie(sizes,  explode=explode, labels=labels, colors=colors,  shadow=True, startangle=500)\n",
    "plt.legend(patches, labels2, loc=\"best\")\n",
    "plt.title(\"Pie diagram for Dyspnea scoring\")\n",
    "plt.axis('equal')\n",
    "plt.tight_layout()\n",
    "plt.show()"
   ]
  },
  {
   "cell_type": "code",
   "execution_count": 121,
   "metadata": {},
   "outputs": [],
   "source": [
    "df_cp.to_csv('./data/cleansed/disnea.csv', sep='|')"
   ]
  },
  {
   "cell_type": "code",
   "execution_count": null,
   "metadata": {},
   "outputs": [],
   "source": []
  }
 ],
 "metadata": {
  "kernelspec": {
   "display_name": "Python 3",
   "language": "python",
   "name": "python3"
  },
  "language_info": {
   "codemirror_mode": {
    "name": "ipython",
    "version": 3
   },
   "file_extension": ".py",
   "mimetype": "text/x-python",
   "name": "python",
   "nbconvert_exporter": "python",
   "pygments_lexer": "ipython3",
   "version": "3.7.6"
  }
 },
 "nbformat": 4,
 "nbformat_minor": 4
}
