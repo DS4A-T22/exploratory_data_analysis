{
 "cells": [
  {
   "cell_type": "code",
   "execution_count": 1,
   "metadata": {},
   "outputs": [],
   "source": [
    "import omnivida_loader as ov\n",
    "import copy\n",
    "import pandas as pd\n",
    "import numpy as np"
   ]
  },
  {
   "cell_type": "code",
   "execution_count": 2,
   "metadata": {},
   "outputs": [],
   "source": [
    "adherence, adherence_change = ov.get_adherence_dataset() \n",
    "ad=copy.deepcopy(adherence) \n",
    "Adher = copy.deepcopy(adherence) \n",
    "Adher.set_index(['id', 'fe_entrevista'], inplace=True)\n",
    "Adher.sort_index(inplace=True)"
   ]
  },
  {
   "cell_type": "code",
   "execution_count": 3,
   "metadata": {},
   "outputs": [],
   "source": [
    "adherence_s= adherence[adherence.cuantitativo_ponderado.isin([3,2,1,0])]\n",
    "adherence_n= adherence[adherence.cuantitativo_ponderado.isin([4])]"
   ]
  },
  {
   "cell_type": "code",
   "execution_count": 4,
   "metadata": {},
   "outputs": [],
   "source": [
    "Todos=ad['id'].unique()                  #List of all of the ids.\n",
    "\n",
    "id_list_s_not=adherence_s['id'].unique() #List of id's that are not 'siempre'\n",
    "ads = ad[~ad['id'].isin(id_list_s_not)]  #ads : Dataframe of id's that are always adherent.\n",
    "\n",
    "id_list_n_not=adherence_n['id'].unique() #List of id's that are not 'nunca'\n",
    "adn = ad[~ad['id'].isin(id_list_n_not)]  #adn : Dataframe of id's that never were adherent.\n",
    "\n",
    "Siempre_ad=ads['id'].unique()            #List of id's that are 'siempre'\n",
    "Nunca_ad=adn['id'].unique()              #List of id's that are 'nunca'\n",
    "\n",
    "Intermitentes = [x for x in Todos if x not in Siempre_ad]\n",
    "Intermitentes = [x for x in Intermitentes if x not in Nunca_ad]\n",
    "Intermitentes = np.array(Intermitentes)  #Intermitentes: list of id's that are 'Intermitent'\n",
    "\n",
    "Todosmenosint=[x for x in Todos if x not in Intermitentes] \n",
    "Todosmenosint = np.array(Todosmenosint)  #List of id's that are 'Intermitent'\n",
    "\n",
    "adi = ad[~ad['id'].isin(Todosmenosint)]  #adi: Dataframe of id's that has intermitent adherence.\n",
    "# zzz=adi['id'].unique()                 #list of id's that are 'Intermitent' == Intermitentes."
   ]
  },
  {
   "cell_type": "code",
   "execution_count": 5,
   "metadata": {},
   "outputs": [],
   "source": [
    "Nunca_ad;  #Lista de ids que nucna fueron adherentes.\n",
    "Siempre_ad; #Lista de ids que siempre fueron adherentes.\n",
    "Intermitentes; #LIsta de los ids que estan intermitentes."
   ]
  },
  {
   "cell_type": "code",
   "execution_count": 6,
   "metadata": {},
   "outputs": [],
   "source": [
    "ads; #ads : Dataframe of id's that are always adherent.\n",
    "adn; #adn : Dataframe of id's that never were adherent.\n",
    "adi; #adi: Dataframe of id's that has intermitent adherence."
   ]
  },
  {
   "cell_type": "code",
   "execution_count": 7,
   "metadata": {},
   "outputs": [
    {
     "data": {
      "text/html": [
       "<div>\n",
       "<style scoped>\n",
       "    .dataframe tbody tr th:only-of-type {\n",
       "        vertical-align: middle;\n",
       "    }\n",
       "\n",
       "    .dataframe tbody tr th {\n",
       "        vertical-align: top;\n",
       "    }\n",
       "\n",
       "    .dataframe thead th {\n",
       "        text-align: right;\n",
       "    }\n",
       "</style>\n",
       "<table border=\"1\" class=\"dataframe\">\n",
       "  <thead>\n",
       "    <tr style=\"text-align: right;\">\n",
       "      <th></th>\n",
       "      <th>morisky_green</th>\n",
       "      <th>smaq1</th>\n",
       "      <th>smaq2</th>\n",
       "      <th>espa</th>\n",
       "      <th>nm_espa</th>\n",
       "      <th>cualitativo_ponderado</th>\n",
       "      <th>cuantitativo_ponderado</th>\n",
       "    </tr>\n",
       "    <tr>\n",
       "      <th>fe_entrevista</th>\n",
       "      <th></th>\n",
       "      <th></th>\n",
       "      <th></th>\n",
       "      <th></th>\n",
       "      <th></th>\n",
       "      <th></th>\n",
       "      <th></th>\n",
       "    </tr>\n",
       "  </thead>\n",
       "  <tbody>\n",
       "    <tr>\n",
       "      <th>2015-01-05</th>\n",
       "      <td>1</td>\n",
       "      <td>1</td>\n",
       "      <td>4</td>\n",
       "      <td>1</td>\n",
       "      <td>6.0</td>\n",
       "      <td>1</td>\n",
       "      <td>4</td>\n",
       "    </tr>\n",
       "    <tr>\n",
       "      <th>2015-09-10</th>\n",
       "      <td>1</td>\n",
       "      <td>1</td>\n",
       "      <td>4</td>\n",
       "      <td>1</td>\n",
       "      <td>6.0</td>\n",
       "      <td>1</td>\n",
       "      <td>4</td>\n",
       "    </tr>\n",
       "    <tr>\n",
       "      <th>2015-10-13</th>\n",
       "      <td>0</td>\n",
       "      <td>0</td>\n",
       "      <td>4</td>\n",
       "      <td>0</td>\n",
       "      <td>4.0</td>\n",
       "      <td>0</td>\n",
       "      <td>4</td>\n",
       "    </tr>\n",
       "    <tr>\n",
       "      <th>2015-11-09</th>\n",
       "      <td>0</td>\n",
       "      <td>0</td>\n",
       "      <td>4</td>\n",
       "      <td>1</td>\n",
       "      <td>6.0</td>\n",
       "      <td>0</td>\n",
       "      <td>4</td>\n",
       "    </tr>\n",
       "    <tr>\n",
       "      <th>2016-06-02</th>\n",
       "      <td>1</td>\n",
       "      <td>1</td>\n",
       "      <td>4</td>\n",
       "      <td>1</td>\n",
       "      <td>6.0</td>\n",
       "      <td>1</td>\n",
       "      <td>4</td>\n",
       "    </tr>\n",
       "    <tr>\n",
       "      <th>2016-10-07</th>\n",
       "      <td>1</td>\n",
       "      <td>1</td>\n",
       "      <td>4</td>\n",
       "      <td>1</td>\n",
       "      <td>6.0</td>\n",
       "      <td>1</td>\n",
       "      <td>4</td>\n",
       "    </tr>\n",
       "    <tr>\n",
       "      <th>2016-11-08</th>\n",
       "      <td>1</td>\n",
       "      <td>1</td>\n",
       "      <td>4</td>\n",
       "      <td>1</td>\n",
       "      <td>6.0</td>\n",
       "      <td>1</td>\n",
       "      <td>4</td>\n",
       "    </tr>\n",
       "    <tr>\n",
       "      <th>2017-01-27</th>\n",
       "      <td>1</td>\n",
       "      <td>1</td>\n",
       "      <td>4</td>\n",
       "      <td>1</td>\n",
       "      <td>6.0</td>\n",
       "      <td>1</td>\n",
       "      <td>4</td>\n",
       "    </tr>\n",
       "    <tr>\n",
       "      <th>2017-04-12</th>\n",
       "      <td>1</td>\n",
       "      <td>1</td>\n",
       "      <td>4</td>\n",
       "      <td>1</td>\n",
       "      <td>6.0</td>\n",
       "      <td>1</td>\n",
       "      <td>4</td>\n",
       "    </tr>\n",
       "    <tr>\n",
       "      <th>2017-05-10</th>\n",
       "      <td>0</td>\n",
       "      <td>0</td>\n",
       "      <td>3</td>\n",
       "      <td>1</td>\n",
       "      <td>6.0</td>\n",
       "      <td>0</td>\n",
       "      <td>3</td>\n",
       "    </tr>\n",
       "    <tr>\n",
       "      <th>2017-07-28</th>\n",
       "      <td>1</td>\n",
       "      <td>1</td>\n",
       "      <td>4</td>\n",
       "      <td>1</td>\n",
       "      <td>6.0</td>\n",
       "      <td>1</td>\n",
       "      <td>4</td>\n",
       "    </tr>\n",
       "    <tr>\n",
       "      <th>2017-08-25</th>\n",
       "      <td>1</td>\n",
       "      <td>1</td>\n",
       "      <td>4</td>\n",
       "      <td>1</td>\n",
       "      <td>6.0</td>\n",
       "      <td>1</td>\n",
       "      <td>4</td>\n",
       "    </tr>\n",
       "    <tr>\n",
       "      <th>2018-10-03</th>\n",
       "      <td>1</td>\n",
       "      <td>1</td>\n",
       "      <td>4</td>\n",
       "      <td>1</td>\n",
       "      <td>6.0</td>\n",
       "      <td>1</td>\n",
       "      <td>4</td>\n",
       "    </tr>\n",
       "    <tr>\n",
       "      <th>2019-05-28</th>\n",
       "      <td>1</td>\n",
       "      <td>1</td>\n",
       "      <td>4</td>\n",
       "      <td>1</td>\n",
       "      <td>6.0</td>\n",
       "      <td>1</td>\n",
       "      <td>4</td>\n",
       "    </tr>\n",
       "  </tbody>\n",
       "</table>\n",
       "</div>"
      ],
      "text/plain": [
       "              morisky_green smaq1 smaq2 espa  nm_espa cualitativo_ponderado  \\\n",
       "fe_entrevista                                                                 \n",
       "2015-01-05                1     1     4    1      6.0                     1   \n",
       "2015-09-10                1     1     4    1      6.0                     1   \n",
       "2015-10-13                0     0     4    0      4.0                     0   \n",
       "2015-11-09                0     0     4    1      6.0                     0   \n",
       "2016-06-02                1     1     4    1      6.0                     1   \n",
       "2016-10-07                1     1     4    1      6.0                     1   \n",
       "2016-11-08                1     1     4    1      6.0                     1   \n",
       "2017-01-27                1     1     4    1      6.0                     1   \n",
       "2017-04-12                1     1     4    1      6.0                     1   \n",
       "2017-05-10                0     0     3    1      6.0                     0   \n",
       "2017-07-28                1     1     4    1      6.0                     1   \n",
       "2017-08-25                1     1     4    1      6.0                     1   \n",
       "2018-10-03                1     1     4    1      6.0                     1   \n",
       "2019-05-28                1     1     4    1      6.0                     1   \n",
       "\n",
       "              cuantitativo_ponderado  \n",
       "fe_entrevista                         \n",
       "2015-01-05                         4  \n",
       "2015-09-10                         4  \n",
       "2015-10-13                         4  \n",
       "2015-11-09                         4  \n",
       "2016-06-02                         4  \n",
       "2016-10-07                         4  \n",
       "2016-11-08                         4  \n",
       "2017-01-27                         4  \n",
       "2017-04-12                         4  \n",
       "2017-05-10                         3  \n",
       "2017-07-28                         4  \n",
       "2017-08-25                         4  \n",
       "2018-10-03                         4  \n",
       "2019-05-28                         4  "
      ]
     },
     "execution_count": 7,
     "metadata": {},
     "output_type": "execute_result"
    }
   ],
   "source": [
    "first = Adher.loc[524006]  #Para mirara el id especifico en el dataframe original.\n",
    "first.head(40)"
   ]
  },
  {
   "cell_type": "code",
   "execution_count": 8,
   "metadata": {},
   "outputs": [],
   "source": [
    "adi=copy.deepcopy(adi) \n",
    "adi['cuantitativo_ponderado'] = adi['cuantitativo_ponderado'].astype('int64')\n",
    "second = adi.groupby('id').cuantitativo_ponderado.mean()  #Sortearlo por el promedio.\n",
    "second = pd.DataFrame(data=second)"
   ]
  },
  {
   "cell_type": "code",
   "execution_count": 9,
   "metadata": {},
   "outputs": [
    {
     "data": {
      "text/html": [
       "<div>\n",
       "<style scoped>\n",
       "    .dataframe tbody tr th:only-of-type {\n",
       "        vertical-align: middle;\n",
       "    }\n",
       "\n",
       "    .dataframe tbody tr th {\n",
       "        vertical-align: top;\n",
       "    }\n",
       "\n",
       "    .dataframe thead th {\n",
       "        text-align: right;\n",
       "    }\n",
       "</style>\n",
       "<table border=\"1\" class=\"dataframe\">\n",
       "  <thead>\n",
       "    <tr style=\"text-align: right;\">\n",
       "      <th></th>\n",
       "      <th>cuantitativo_ponderado</th>\n",
       "    </tr>\n",
       "    <tr>\n",
       "      <th>id</th>\n",
       "      <th></th>\n",
       "    </tr>\n",
       "  </thead>\n",
       "  <tbody>\n",
       "    <tr>\n",
       "      <th>1696323</th>\n",
       "      <td>2.250000</td>\n",
       "    </tr>\n",
       "    <tr>\n",
       "      <th>916864</th>\n",
       "      <td>2.250000</td>\n",
       "    </tr>\n",
       "    <tr>\n",
       "      <th>724929</th>\n",
       "      <td>2.500000</td>\n",
       "    </tr>\n",
       "    <tr>\n",
       "      <th>782720</th>\n",
       "      <td>2.500000</td>\n",
       "    </tr>\n",
       "    <tr>\n",
       "      <th>1940079</th>\n",
       "      <td>2.500000</td>\n",
       "    </tr>\n",
       "    <tr>\n",
       "      <th>...</th>\n",
       "      <td>...</td>\n",
       "    </tr>\n",
       "    <tr>\n",
       "      <th>524006</th>\n",
       "      <td>3.928571</td>\n",
       "    </tr>\n",
       "    <tr>\n",
       "      <th>715676</th>\n",
       "      <td>3.928571</td>\n",
       "    </tr>\n",
       "    <tr>\n",
       "      <th>1263349</th>\n",
       "      <td>3.933333</td>\n",
       "    </tr>\n",
       "    <tr>\n",
       "      <th>1394607</th>\n",
       "      <td>3.944444</td>\n",
       "    </tr>\n",
       "    <tr>\n",
       "      <th>1132214</th>\n",
       "      <td>3.964286</td>\n",
       "    </tr>\n",
       "  </tbody>\n",
       "</table>\n",
       "<p>261 rows × 1 columns</p>\n",
       "</div>"
      ],
      "text/plain": [
       "         cuantitativo_ponderado\n",
       "id                             \n",
       "1696323                2.250000\n",
       "916864                 2.250000\n",
       "724929                 2.500000\n",
       "782720                 2.500000\n",
       "1940079                2.500000\n",
       "...                         ...\n",
       "524006                 3.928571\n",
       "715676                 3.928571\n",
       "1263349                3.933333\n",
       "1394607                3.944444\n",
       "1132214                3.964286\n",
       "\n",
       "[261 rows x 1 columns]"
      ]
     },
     "execution_count": 9,
     "metadata": {},
     "output_type": "execute_result"
    }
   ],
   "source": [
    "#Aqui faltaria segmentar los ids por el top25% el bottom25% y los del medio.\n",
    "#Asignar a cada id las categorias nuevas: siempre adherente, adherente(-) , medio, no adherente(+), Nunca adherente.\n",
    "second[['cuantitativo_ponderado']].sort_values(by = 'cuantitativo_ponderado', ascending=True)\n",
    "#top25 = a+\n",
    "#medio = M\n",
    "#bottom25 = n+"
   ]
  },
  {
   "cell_type": "code",
   "execution_count": null,
   "metadata": {},
   "outputs": [],
   "source": []
  },
  {
   "cell_type": "code",
   "execution_count": null,
   "metadata": {},
   "outputs": [],
   "source": []
  },
  {
   "cell_type": "code",
   "execution_count": null,
   "metadata": {},
   "outputs": [],
   "source": []
  },
  {
   "cell_type": "code",
   "execution_count": null,
   "metadata": {},
   "outputs": [],
   "source": []
  },
  {
   "cell_type": "code",
   "execution_count": 10,
   "metadata": {},
   "outputs": [],
   "source": [
    "#Adher1=Adher1[Adher1.cuantitativo_ponderado.isin([3,2,1,0])]"
   ]
  },
  {
   "cell_type": "code",
   "execution_count": null,
   "metadata": {},
   "outputs": [],
   "source": []
  },
  {
   "cell_type": "code",
   "execution_count": 11,
   "metadata": {},
   "outputs": [],
   "source": [
    "#Adher1.drop(Adher1[Adher1['cuantitativo_ponderado'] == 4 ].index, inplace = True) \n",
    "#Adher1.drop('500588', level='id')"
   ]
  },
  {
   "cell_type": "code",
   "execution_count": 12,
   "metadata": {},
   "outputs": [],
   "source": [
    "#adherence = adherence.drop(adherence[adherence.cuantitativo_ponderado < 3.1].index, inplace = True)"
   ]
  },
  {
   "cell_type": "code",
   "execution_count": 13,
   "metadata": {},
   "outputs": [],
   "source": [
    "#adherence"
   ]
  },
  {
   "cell_type": "code",
   "execution_count": null,
   "metadata": {},
   "outputs": [],
   "source": []
  },
  {
   "cell_type": "code",
   "execution_count": 14,
   "metadata": {
    "scrolled": true
   },
   "outputs": [],
   "source": [
    "#sec = Adher1.loc[1995390] \n",
    "#sec"
   ]
  },
  {
   "cell_type": "code",
   "execution_count": 15,
   "metadata": {},
   "outputs": [],
   "source": [
    "#adherence['cuantitativo_ponderado'] = adherence['cuantitativo_ponderado'].astype('int64')\n"
   ]
  },
  {
   "cell_type": "code",
   "execution_count": 16,
   "metadata": {},
   "outputs": [],
   "source": [
    "#Adher1['cuantitativo_ponderado'].mean()"
   ]
  },
  {
   "cell_type": "code",
   "execution_count": 17,
   "metadata": {},
   "outputs": [],
   "source": [
    "#Adher1"
   ]
  },
  {
   "cell_type": "code",
   "execution_count": 18,
   "metadata": {},
   "outputs": [],
   "source": [
    "#adherence['cuantitativo_ponderado'].unique()"
   ]
  },
  {
   "cell_type": "code",
   "execution_count": null,
   "metadata": {},
   "outputs": [],
   "source": []
  },
  {
   "cell_type": "code",
   "execution_count": 19,
   "metadata": {},
   "outputs": [],
   "source": [
    "#adherence.groupby('id').cuantitativo_ponderado.sum()"
   ]
  },
  {
   "cell_type": "code",
   "execution_count": 20,
   "metadata": {},
   "outputs": [],
   "source": [
    "#adherence[adherence.id==1995390].cuantitativo_ponderado.count()"
   ]
  },
  {
   "cell_type": "code",
   "execution_count": null,
   "metadata": {},
   "outputs": [],
   "source": []
  },
  {
   "cell_type": "code",
   "execution_count": null,
   "metadata": {},
   "outputs": [],
   "source": []
  },
  {
   "cell_type": "code",
   "execution_count": null,
   "metadata": {},
   "outputs": [],
   "source": []
  },
  {
   "cell_type": "code",
   "execution_count": null,
   "metadata": {},
   "outputs": [],
   "source": []
  }
 ],
 "metadata": {
  "kernelspec": {
   "display_name": "Python 3",
   "language": "python",
   "name": "python3"
  },
  "language_info": {
   "codemirror_mode": {
    "name": "ipython",
    "version": 3
   },
   "file_extension": ".py",
   "mimetype": "text/x-python",
   "name": "python",
   "nbconvert_exporter": "python",
   "pygments_lexer": "ipython3",
   "version": "3.7.6"
  }
 },
 "nbformat": 4,
 "nbformat_minor": 4
}
