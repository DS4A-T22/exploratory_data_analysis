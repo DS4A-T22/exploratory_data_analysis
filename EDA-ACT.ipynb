{
 "metadata": {
  "language_info": {
   "codemirror_mode": {
    "name": "ipython",
    "version": 3
   },
   "file_extension": ".py",
   "mimetype": "text/x-python",
   "name": "python",
   "nbconvert_exporter": "python",
   "pygments_lexer": "ipython3",
   "version": "3.7.6-final"
  },
  "orig_nbformat": 2,
  "kernelspec": {
   "name": "python_defaultSpec_1596231928914",
   "display_name": "Python 3.7.6 64-bit ('base': conda)"
  }
 },
 "nbformat": 4,
 "nbformat_minor": 2,
 "cells": [
  {
   "cell_type": "markdown",
   "metadata": {},
   "source": [
    "# Exploratory Data Analysis (EDA) for dataset Act_Disaggregated"
   ]
  },
  {
   "cell_type": "code",
   "execution_count": 10,
   "metadata": {},
   "outputs": [],
   "source": [
    "import pandas as pd\n",
    "import numpy as np\n",
    "import missingno as msno\n",
    "import matplotlib.pyplot as plt\n",
    "import seaborn as sns\n",
    "import folium\n",
    "import json\n",
    "import requests\n",
    "#import geopandas as gpd\n",
    "%matplotlib inline"
   ]
  },
  {
   "cell_type": "code",
   "execution_count": 11,
   "metadata": {},
   "outputs": [],
   "source": [
    "act = pd.read_excel(f'../Data/ACT.xlsx')"
   ]
  },
  {
   "cell_type": "code",
   "execution_count": 12,
   "metadata": {},
   "outputs": [
    {
     "output_type": "execute_result",
     "data": {
      "text/plain": "Index(['ID', 'DS_NOMBRE', 'NM_PUNTAJE', 'DS_RESULTADO', 'FE_RESULTADO'], dtype='object')"
     },
     "metadata": {},
     "execution_count": 12
    }
   ],
   "source": [
    "act_cp = act.copy()\n",
    "act_cp.columns"
   ]
  },
  {
   "cell_type": "code",
   "execution_count": 13,
   "metadata": {},
   "outputs": [
    {
     "output_type": "execute_result",
     "data": {
      "text/plain": "            ID                       DS_NOMBRE  NM_PUNTAJE  \\\n0       502989  Prueba de control del Asma ACT          24   \n1       502989  Prueba de control del Asma ACT          24   \n2       502989  Prueba de control del Asma ACT          24   \n3       502989  Prueba de control del Asma ACT          24   \n4       502989  Prueba de control del Asma ACT          24   \n...        ...                             ...         ...   \n15085  1999629  Prueba de control del Asma ACT          24   \n15086  1999629  Prueba de control del Asma ACT          24   \n15087  1999629  Prueba de control del Asma ACT          24   \n15088  1999629  Prueba de control del Asma ACT          24   \n15089  1999629  Prueba de control del Asma ACT          24   \n\n                   DS_RESULTADO        FE_RESULTADO  \n0      NO totalmente controlada 2014-10-28 13:24:49  \n1      NO totalmente controlada 2014-10-28 13:24:49  \n2      NO totalmente controlada 2014-10-28 13:24:49  \n3      NO totalmente controlada 2014-10-28 13:24:49  \n4      NO totalmente controlada 2014-10-28 13:24:49  \n...                         ...                 ...  \n15085  NO totalmente controlada 2018-09-25 13:58:35  \n15086  NO totalmente controlada 2018-09-25 13:58:35  \n15087  NO totalmente controlada 2018-09-25 13:58:35  \n15088  NO totalmente controlada 2018-09-25 13:58:35  \n15089  NO totalmente controlada 2018-09-25 13:58:35  \n\n[15090 rows x 5 columns]",
      "text/html": "<div>\n<style scoped>\n    .dataframe tbody tr th:only-of-type {\n        vertical-align: middle;\n    }\n\n    .dataframe tbody tr th {\n        vertical-align: top;\n    }\n\n    .dataframe thead th {\n        text-align: right;\n    }\n</style>\n<table border=\"1\" class=\"dataframe\">\n  <thead>\n    <tr style=\"text-align: right;\">\n      <th></th>\n      <th>ID</th>\n      <th>DS_NOMBRE</th>\n      <th>NM_PUNTAJE</th>\n      <th>DS_RESULTADO</th>\n      <th>FE_RESULTADO</th>\n    </tr>\n  </thead>\n  <tbody>\n    <tr>\n      <th>0</th>\n      <td>502989</td>\n      <td>Prueba de control del Asma ACT</td>\n      <td>24</td>\n      <td>NO totalmente controlada</td>\n      <td>2014-10-28 13:24:49</td>\n    </tr>\n    <tr>\n      <th>1</th>\n      <td>502989</td>\n      <td>Prueba de control del Asma ACT</td>\n      <td>24</td>\n      <td>NO totalmente controlada</td>\n      <td>2014-10-28 13:24:49</td>\n    </tr>\n    <tr>\n      <th>2</th>\n      <td>502989</td>\n      <td>Prueba de control del Asma ACT</td>\n      <td>24</td>\n      <td>NO totalmente controlada</td>\n      <td>2014-10-28 13:24:49</td>\n    </tr>\n    <tr>\n      <th>3</th>\n      <td>502989</td>\n      <td>Prueba de control del Asma ACT</td>\n      <td>24</td>\n      <td>NO totalmente controlada</td>\n      <td>2014-10-28 13:24:49</td>\n    </tr>\n    <tr>\n      <th>4</th>\n      <td>502989</td>\n      <td>Prueba de control del Asma ACT</td>\n      <td>24</td>\n      <td>NO totalmente controlada</td>\n      <td>2014-10-28 13:24:49</td>\n    </tr>\n    <tr>\n      <th>...</th>\n      <td>...</td>\n      <td>...</td>\n      <td>...</td>\n      <td>...</td>\n      <td>...</td>\n    </tr>\n    <tr>\n      <th>15085</th>\n      <td>1999629</td>\n      <td>Prueba de control del Asma ACT</td>\n      <td>24</td>\n      <td>NO totalmente controlada</td>\n      <td>2018-09-25 13:58:35</td>\n    </tr>\n    <tr>\n      <th>15086</th>\n      <td>1999629</td>\n      <td>Prueba de control del Asma ACT</td>\n      <td>24</td>\n      <td>NO totalmente controlada</td>\n      <td>2018-09-25 13:58:35</td>\n    </tr>\n    <tr>\n      <th>15087</th>\n      <td>1999629</td>\n      <td>Prueba de control del Asma ACT</td>\n      <td>24</td>\n      <td>NO totalmente controlada</td>\n      <td>2018-09-25 13:58:35</td>\n    </tr>\n    <tr>\n      <th>15088</th>\n      <td>1999629</td>\n      <td>Prueba de control del Asma ACT</td>\n      <td>24</td>\n      <td>NO totalmente controlada</td>\n      <td>2018-09-25 13:58:35</td>\n    </tr>\n    <tr>\n      <th>15089</th>\n      <td>1999629</td>\n      <td>Prueba de control del Asma ACT</td>\n      <td>24</td>\n      <td>NO totalmente controlada</td>\n      <td>2018-09-25 13:58:35</td>\n    </tr>\n  </tbody>\n</table>\n<p>15090 rows × 5 columns</p>\n</div>"
     },
     "metadata": {},
     "execution_count": 13
    }
   ],
   "source": [
    "act_cp"
   ]
  },
  {
   "cell_type": "code",
   "execution_count": 14,
   "metadata": {},
   "outputs": [
    {
     "output_type": "execute_result",
     "data": {
      "text/plain": "                          id_patient  test_name  act_score  date_result\nresult                                                                 \nNO totalmente controlada        6442       6442       6442         6442\nTotalmente controlada           1722       1722       1722         1722\nno esta controlada              6926       6926       6926         6926",
      "text/html": "<div>\n<style scoped>\n    .dataframe tbody tr th:only-of-type {\n        vertical-align: middle;\n    }\n\n    .dataframe tbody tr th {\n        vertical-align: top;\n    }\n\n    .dataframe thead th {\n        text-align: right;\n    }\n</style>\n<table border=\"1\" class=\"dataframe\">\n  <thead>\n    <tr style=\"text-align: right;\">\n      <th></th>\n      <th>id_patient</th>\n      <th>test_name</th>\n      <th>act_score</th>\n      <th>date_result</th>\n    </tr>\n    <tr>\n      <th>result</th>\n      <th></th>\n      <th></th>\n      <th></th>\n      <th></th>\n    </tr>\n  </thead>\n  <tbody>\n    <tr>\n      <th>NO totalmente controlada</th>\n      <td>6442</td>\n      <td>6442</td>\n      <td>6442</td>\n      <td>6442</td>\n    </tr>\n    <tr>\n      <th>Totalmente controlada</th>\n      <td>1722</td>\n      <td>1722</td>\n      <td>1722</td>\n      <td>1722</td>\n    </tr>\n    <tr>\n      <th>no esta controlada</th>\n      <td>6926</td>\n      <td>6926</td>\n      <td>6926</td>\n      <td>6926</td>\n    </tr>\n  </tbody>\n</table>\n</div>"
     },
     "metadata": {},
     "execution_count": 14
    }
   ],
   "source": [
    "act_cp.rename(columns={\n",
    "    'ID':'id_patient',\n",
    "    'DS_NOMBRE':'test_name',\n",
    "    'NM_PUNTAJE':'act_score',\n",
    "    'DS_RESULTADO':'result',\n",
    "    'FE_RESULTADO':'date_result'\n",
    "}, inplace = True)\n",
    "act_cp.groupby('result').count()"
   ]
  },
  {
   "cell_type": "code",
   "execution_count": 15,
   "metadata": {},
   "outputs": [
    {
     "output_type": "execute_result",
     "data": {
      "text/plain": "       id_patient  act_score result         date_result\n0          502989         24      1 2014-10-28 13:24:49\n1          502989         24      1 2014-10-28 13:24:49\n2          502989         24      1 2014-10-28 13:24:49\n3          502989         24      1 2014-10-28 13:24:49\n4          502989         24      1 2014-10-28 13:24:49\n...           ...        ...    ...                 ...\n15085     1999629         24      1 2018-09-25 13:58:35\n15086     1999629         24      1 2018-09-25 13:58:35\n15087     1999629         24      1 2018-09-25 13:58:35\n15088     1999629         24      1 2018-09-25 13:58:35\n15089     1999629         24      1 2018-09-25 13:58:35\n\n[15090 rows x 4 columns]",
      "text/html": "<div>\n<style scoped>\n    .dataframe tbody tr th:only-of-type {\n        vertical-align: middle;\n    }\n\n    .dataframe tbody tr th {\n        vertical-align: top;\n    }\n\n    .dataframe thead th {\n        text-align: right;\n    }\n</style>\n<table border=\"1\" class=\"dataframe\">\n  <thead>\n    <tr style=\"text-align: right;\">\n      <th></th>\n      <th>id_patient</th>\n      <th>act_score</th>\n      <th>result</th>\n      <th>date_result</th>\n    </tr>\n  </thead>\n  <tbody>\n    <tr>\n      <th>0</th>\n      <td>502989</td>\n      <td>24</td>\n      <td>1</td>\n      <td>2014-10-28 13:24:49</td>\n    </tr>\n    <tr>\n      <th>1</th>\n      <td>502989</td>\n      <td>24</td>\n      <td>1</td>\n      <td>2014-10-28 13:24:49</td>\n    </tr>\n    <tr>\n      <th>2</th>\n      <td>502989</td>\n      <td>24</td>\n      <td>1</td>\n      <td>2014-10-28 13:24:49</td>\n    </tr>\n    <tr>\n      <th>3</th>\n      <td>502989</td>\n      <td>24</td>\n      <td>1</td>\n      <td>2014-10-28 13:24:49</td>\n    </tr>\n    <tr>\n      <th>4</th>\n      <td>502989</td>\n      <td>24</td>\n      <td>1</td>\n      <td>2014-10-28 13:24:49</td>\n    </tr>\n    <tr>\n      <th>...</th>\n      <td>...</td>\n      <td>...</td>\n      <td>...</td>\n      <td>...</td>\n    </tr>\n    <tr>\n      <th>15085</th>\n      <td>1999629</td>\n      <td>24</td>\n      <td>1</td>\n      <td>2018-09-25 13:58:35</td>\n    </tr>\n    <tr>\n      <th>15086</th>\n      <td>1999629</td>\n      <td>24</td>\n      <td>1</td>\n      <td>2018-09-25 13:58:35</td>\n    </tr>\n    <tr>\n      <th>15087</th>\n      <td>1999629</td>\n      <td>24</td>\n      <td>1</td>\n      <td>2018-09-25 13:58:35</td>\n    </tr>\n    <tr>\n      <th>15088</th>\n      <td>1999629</td>\n      <td>24</td>\n      <td>1</td>\n      <td>2018-09-25 13:58:35</td>\n    </tr>\n    <tr>\n      <th>15089</th>\n      <td>1999629</td>\n      <td>24</td>\n      <td>1</td>\n      <td>2018-09-25 13:58:35</td>\n    </tr>\n  </tbody>\n</table>\n<p>15090 rows × 4 columns</p>\n</div>"
     },
     "metadata": {},
     "execution_count": 15
    }
   ],
   "source": [
    "act_cp.loc[act_cp['result']==\"no esta controlada\",\"result\"]=0\n",
    "act_cp.loc[act_cp['result']==\"NO totalmente controlada\",\"result\"]=1\n",
    "act_cp.loc[act_cp['result']==\"Totalmente controlada\",\"result\"]=2\n",
    "act_cp_final = act_cp.drop(columns=\"test_name\",axis=1)\n",
    "act_cp_final"
   ]
  },
  {
   "cell_type": "code",
   "execution_count": 16,
   "metadata": {},
   "outputs": [
    {
     "output_type": "execute_result",
     "data": {
      "text/plain": "id_patient      458\nact_score        21\nresult            3\ndate_result    1710\ndtype: int64"
     },
     "metadata": {},
     "execution_count": 16
    }
   ],
   "source": [
    "act_cp_final.nunique()"
   ]
  },
  {
   "cell_type": "markdown",
   "metadata": {},
   "source": [
    "Therefore we have 458 patients and 15090 records."
   ]
  },
  {
   "cell_type": "code",
   "execution_count": 17,
   "metadata": {},
   "outputs": [],
   "source": [
    "act_cp_final.to_csv('./data/cleansed/act.csv', sep=',')"
   ]
  },
  {
   "cell_type": "code",
   "execution_count": null,
   "metadata": {},
   "outputs": [],
   "source": []
  }
 ]
}