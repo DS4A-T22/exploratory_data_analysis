{
 "cells": [
  {
   "cell_type": "markdown",
   "metadata": {},
   "source": [
    "# Exploratory Data Analysis (EDA) for dataset  `Act_Disaggregated`"
   ]
  },
  {
   "cell_type": "code",
   "execution_count": null,
   "metadata": {},
   "outputs": [],
   "source": [
    "import pandas as pd\n",
    "import numpy as np\n",
    "import missingno as msno\n",
    "import matplotlib.pyplot as plt\n",
    "import seaborn as sns\n",
    "import folium\n",
    "import json\n",
    "import requests\n",
    "import geopandas as gpd\n",
    "%matplotlib inline"
   ]
  },
  {
   "cell_type": "markdown",
   "metadata": {},
   "source": [
    "# Data Cleaning & Feature Engineering \n",
    "1. Visualizing a preview of the data of each table to get an idea of the information they contain."
   ]
  },
  {
   "cell_type": "code",
   "execution_count": 65,
   "metadata": {},
   "outputs": [
    {
     "output_type": "error",
     "ename": "NameError",
     "evalue": "name 'pd' is not defined",
     "traceback": [
      "\u001b[0;31m---------------------------------------------------------------------------\u001b[0m",
      "\u001b[0;31mNameError\u001b[0m                                 Traceback (most recent call last)",
      "\u001b[0;32m<ipython-input-65-9f967f94c27f>\u001b[0m in \u001b[0;36m<module>\u001b[0;34m\u001b[0m\n\u001b[0;32m----> 1\u001b[0;31m \u001b[0mact_disag\u001b[0m \u001b[0;34m=\u001b[0m \u001b[0mpd\u001b[0m\u001b[0;34m.\u001b[0m\u001b[0mread_excel\u001b[0m\u001b[0;34m(\u001b[0m\u001b[0;34mf'./Data/ACT_DESAGREGADO.xlsx'\u001b[0m\u001b[0;34m)\u001b[0m\u001b[0;34m\u001b[0m\u001b[0;34m\u001b[0m\u001b[0m\n\u001b[0m\u001b[1;32m      2\u001b[0m \u001b[0mdf_cp\u001b[0m \u001b[0;34m=\u001b[0m \u001b[0mact_disag\u001b[0m\u001b[0;34m.\u001b[0m\u001b[0mcopy\u001b[0m\u001b[0;34m(\u001b[0m\u001b[0;34m)\u001b[0m\u001b[0;34m\u001b[0m\u001b[0;34m\u001b[0m\u001b[0m\n\u001b[1;32m      3\u001b[0m \u001b[0mdf_cp\u001b[0m\u001b[0;34m\u001b[0m\u001b[0;34m\u001b[0m\u001b[0m\n",
      "\u001b[0;31mNameError\u001b[0m: name 'pd' is not defined"
     ]
    }
   ],
   "source": [
    "act_disag = pd.read_excel(f'../Data/ACT_DESAGREGADO.xlsx')\n",
    "df_cp = act_disag.copy()\n",
    "df_cp"
   ]
  },
  {
   "cell_type": "markdown",
   "metadata": {},
   "source": [
    "### Analyse null data"
   ]
  },
  {
   "cell_type": "code",
   "execution_count": 42,
   "metadata": {},
   "outputs": [
    {
     "output_type": "error",
     "ename": "NameError",
     "evalue": "name 'msno' is not defined",
     "traceback": [
      "\u001b[0;31m---------------------------------------------------------------------------\u001b[0m",
      "\u001b[0;31mNameError\u001b[0m                                 Traceback (most recent call last)",
      "\u001b[0;32m<ipython-input-42-08ec22efe24c>\u001b[0m in \u001b[0;36m<module>\u001b[0;34m\u001b[0m\n\u001b[0;32m----> 1\u001b[0;31m \u001b[0mmsno\u001b[0m\u001b[0;34m.\u001b[0m\u001b[0mmatrix\u001b[0m\u001b[0;34m(\u001b[0m\u001b[0mmsno\u001b[0m\u001b[0;34m.\u001b[0m\u001b[0mnullity_sort\u001b[0m\u001b[0;34m(\u001b[0m\u001b[0mdf_cp\u001b[0m\u001b[0;34m,\u001b[0m \u001b[0msort\u001b[0m\u001b[0;34m=\u001b[0m\u001b[0;34m'descending'\u001b[0m\u001b[0;34m)\u001b[0m\u001b[0;34m)\u001b[0m\u001b[0;34m\u001b[0m\u001b[0;34m\u001b[0m\u001b[0m\n\u001b[0m",
      "\u001b[0;31mNameError\u001b[0m: name 'msno' is not defined"
     ]
    }
   ],
   "source": [
    "msno.matrix(msno.nullity_sort(df_cp, sort='descending'))"
   ]
  },
  {
   "cell_type": "markdown",
   "metadata": {},
   "source": [
    "## Data description:\n",
    "The ATC_DESAGREGADOS dataset together with the ACT collects information from the Asthma Control test. We have the patients ID, the name of the test taken and the questions as well as the scoring taken. These two datasets differ in that the ATC_DESAGREGADOS has the questions and answers of the test as such. While the ACT has the consolidated table (contains the scoring).\n",
    "\n",
    "### Conclusion: \n",
    "\n",
    "We have 8602 patient records with 5 characteristics or columns\n"
   ]
  },
  {
   "cell_type": "code",
   "execution_count": 43,
   "metadata": {},
   "outputs": [
    {
     "output_type": "error",
     "ename": "NameError",
     "evalue": "name 'df_cp' is not defined",
     "traceback": [
      "\u001b[0;31m---------------------------------------------------------------------------\u001b[0m",
      "\u001b[0;31mNameError\u001b[0m                                 Traceback (most recent call last)",
      "\u001b[0;32m<ipython-input-43-15b438477a23>\u001b[0m in \u001b[0;36m<module>\u001b[0;34m\u001b[0m\n\u001b[0;32m----> 1\u001b[0;31m \u001b[0mact_df\u001b[0m \u001b[0;34m=\u001b[0m \u001b[0mdf_cp\u001b[0m\u001b[0;34m.\u001b[0m\u001b[0mgroupby\u001b[0m\u001b[0;34m(\u001b[0m\u001b[0;34m[\u001b[0m\u001b[0;34m'NUMERO IDENTIFICACION'\u001b[0m\u001b[0;34m]\u001b[0m\u001b[0;34m)\u001b[0m\u001b[0;34m.\u001b[0m\u001b[0mcount\u001b[0m\u001b[0;34m(\u001b[0m\u001b[0;34m)\u001b[0m\u001b[0;34m\u001b[0m\u001b[0;34m\u001b[0m\u001b[0m\n\u001b[0m\u001b[1;32m      2\u001b[0m \u001b[0;31m#act_disag.columns\u001b[0m\u001b[0;34m\u001b[0m\u001b[0;34m\u001b[0m\u001b[0;34m\u001b[0m\u001b[0m\n\u001b[1;32m      3\u001b[0m \u001b[0mprint\u001b[0m\u001b[0;34m(\u001b[0m\u001b[0mdf_cp\u001b[0m\u001b[0;34m.\u001b[0m\u001b[0minfo\u001b[0m\u001b[0;34m(\u001b[0m\u001b[0;34m)\u001b[0m\u001b[0;34m)\u001b[0m\u001b[0;34m\u001b[0m\u001b[0;34m\u001b[0m\u001b[0m\n\u001b[1;32m      4\u001b[0m \u001b[0;31m#print(act_disag.info)\u001b[0m\u001b[0;34m\u001b[0m\u001b[0;34m\u001b[0m\u001b[0;34m\u001b[0m\u001b[0m\n\u001b[1;32m      5\u001b[0m \u001b[0mprint\u001b[0m\u001b[0;34m(\u001b[0m\u001b[0mact_df\u001b[0m\u001b[0;34m)\u001b[0m\u001b[0;34m\u001b[0m\u001b[0;34m\u001b[0m\u001b[0m\n",
      "\u001b[0;31mNameError\u001b[0m: name 'df_cp' is not defined"
     ]
    }
   ],
   "source": [
    "act_df = df_cp.groupby(['NUMERO IDENTIFICACION']).count()\n",
    "#act_disag.columns\n",
    "print(df_cp.info())\n",
    "#print(act_disag.info)\n",
    "print(act_df)\n",
    "df_cp.describe(include='all')\n"
   ]
  },
  {
   "cell_type": "markdown",
   "metadata": {},
   "source": [
    "2. Now we will set a standard format for naming the fields: lowercase and underscore instead of spaces. For this, we will start first with the column `PREGUNTAS` and `RESPUESTA`, since there is a bunch of data mixed all together in this section"
   ]
  },
  {
   "cell_type": "code",
   "execution_count": 44,
   "metadata": {},
   "outputs": [
    {
     "output_type": "error",
     "ename": "NameError",
     "evalue": "name 'df_cp' is not defined",
     "traceback": [
      "\u001b[0;31m---------------------------------------------------------------------------\u001b[0m",
      "\u001b[0;31mNameError\u001b[0m                                 Traceback (most recent call last)",
      "\u001b[0;32m<ipython-input-44-d2197b0e34f9>\u001b[0m in \u001b[0;36m<module>\u001b[0;34m\u001b[0m\n\u001b[0;32m----> 1\u001b[0;31m \u001b[0mdf_cp\u001b[0m\u001b[0;34m.\u001b[0m\u001b[0mcolumns\u001b[0m \u001b[0;34m=\u001b[0m \u001b[0;34m[\u001b[0m\u001b[0mcol\u001b[0m\u001b[0;34m.\u001b[0m\u001b[0mlower\u001b[0m\u001b[0;34m(\u001b[0m\u001b[0;34m)\u001b[0m \u001b[0;32mfor\u001b[0m \u001b[0mcol\u001b[0m \u001b[0;32min\u001b[0m  \u001b[0mdf_cp\u001b[0m\u001b[0;34m.\u001b[0m\u001b[0mcolumns\u001b[0m\u001b[0;34m]\u001b[0m\u001b[0;34m\u001b[0m\u001b[0;34m\u001b[0m\u001b[0m\n\u001b[0m\u001b[1;32m      2\u001b[0m df_cp.rename(columns={\n\u001b[1;32m      3\u001b[0m     \u001b[0;34m'numero identificacion'\u001b[0m\u001b[0;34m:\u001b[0m\u001b[0;34m'id_paciente'\u001b[0m\u001b[0;34m,\u001b[0m\u001b[0;34m\u001b[0m\u001b[0;34m\u001b[0m\u001b[0m\n\u001b[1;32m      4\u001b[0m     \u001b[0;34m'nombre encuesta\\n'\u001b[0m\u001b[0;34m:\u001b[0m\u001b[0;34m'nombre_encuesta'\u001b[0m\u001b[0;34m,\u001b[0m\u001b[0;34m\u001b[0m\u001b[0;34m\u001b[0m\u001b[0m\n\u001b[1;32m      5\u001b[0m     \u001b[0;34m'respuesta'\u001b[0m \u001b[0;34m:\u001b[0m \u001b[0;34m'respuesta'\u001b[0m\u001b[0;34m,\u001b[0m\u001b[0;34m\u001b[0m\u001b[0;34m\u001b[0m\u001b[0m\n",
      "\u001b[0;31mNameError\u001b[0m: name 'df_cp' is not defined"
     ]
    }
   ],
   "source": [
    "df_cp.columns = [col.lower() for col in  df_cp.columns]\n",
    "df_cp.rename(columns={\n",
    "    'numero identificacion':'id_paciente',\n",
    "    'nombre encuesta\\n':'nombre_encuesta',\n",
    "    'respuesta' : 'respuesta',\n",
    "    'fe_resultado': 'fe_resultado'\n",
    "}, inplace = True)\n",
    "df_cp.groupby('id_paciente').count()"
   ]
  },
  {
   "cell_type": "code",
   "execution_count": 46,
   "metadata": {},
   "outputs": [
    {
     "output_type": "error",
     "ename": "NameError",
     "evalue": "name 'df_cp' is not defined",
     "traceback": [
      "\u001b[0;31m---------------------------------------------------------------------------\u001b[0m",
      "\u001b[0;31mNameError\u001b[0m                                 Traceback (most recent call last)",
      "\u001b[0;32m<ipython-input-46-165630aa8745>\u001b[0m in \u001b[0;36m<module>\u001b[0;34m\u001b[0m\n\u001b[0;32m----> 1\u001b[0;31m \u001b[0mdf_cp\u001b[0m\u001b[0;34m.\u001b[0m\u001b[0mcolumns\u001b[0m\u001b[0;34m\u001b[0m\u001b[0;34m\u001b[0m\u001b[0m\n\u001b[0m",
      "\u001b[0;31mNameError\u001b[0m: name 'df_cp' is not defined"
     ]
    }
   ],
   "source": [
    "df_cp.columns"
   ]
  },
  {
   "cell_type": "code",
   "execution_count": 47,
   "metadata": {},
   "outputs": [
    {
     "output_type": "error",
     "ename": "NameError",
     "evalue": "name 'df_cp' is not defined",
     "traceback": [
      "\u001b[0;31m---------------------------------------------------------------------------\u001b[0m",
      "\u001b[0;31mNameError\u001b[0m                                 Traceback (most recent call last)",
      "\u001b[0;32m<ipython-input-47-e6261ea75d30>\u001b[0m in \u001b[0;36m<module>\u001b[0;34m\u001b[0m\n\u001b[0;32m----> 1\u001b[0;31m \u001b[0mdf_cp\u001b[0m\u001b[0;34m.\u001b[0m\u001b[0mrename\u001b[0m\u001b[0;34m(\u001b[0m\u001b[0mcolumns\u001b[0m \u001b[0;34m=\u001b[0m \u001b[0;34m{\u001b[0m\u001b[0;34m'pregunta\\n'\u001b[0m\u001b[0;34m:\u001b[0m\u001b[0;34m'pregunta'\u001b[0m\u001b[0;34m}\u001b[0m\u001b[0;34m,\u001b[0m \u001b[0minplace\u001b[0m \u001b[0;34m=\u001b[0m \u001b[0;32mTrue\u001b[0m\u001b[0;34m)\u001b[0m\u001b[0;34m\u001b[0m\u001b[0;34m\u001b[0m\u001b[0m\n\u001b[0m\u001b[1;32m      2\u001b[0m \u001b[0mdf_cp\u001b[0m\u001b[0;34m.\u001b[0m\u001b[0mcolumns\u001b[0m\u001b[0;34m\u001b[0m\u001b[0;34m\u001b[0m\u001b[0m\n",
      "\u001b[0;31mNameError\u001b[0m: name 'df_cp' is not defined"
     ]
    }
   ],
   "source": [
    "df_cp.rename(columns = {'pregunta\\n':'pregunta'}, inplace = True) \n",
    "df_cp.columns"
   ]
  },
  {
   "cell_type": "markdown",
   "metadata": {},
   "source": [
    "Thus, column names have been fixed to a standard format that can be matched with the resting datasets"
   ]
  },
  {
   "cell_type": "markdown",
   "metadata": {},
   "source": [
    "\n",
    "### Definition: ACT \n",
    "\n",
    "The ACT is a validated tool that consists of five questions that you can ask online and offline. It will provide you with an instant reminder of how well you have controlled your asthma over the past four weeks.\n",
    "\n",
    "The results can help show how much control you really have over your asthma, which may surprise you. It is advisable to perform the test regularly, as asthma symptoms can vary from month to month and depending on the time of year.\n",
    "\n",
    "You may find it helpful to discuss your ACT score with your doctor or nurse the next time you see them. This can help guide your conversation with them and ensure that you get the most out of your visit. \n",
    "\n",
    "### What questions are there in an ACT test \n",
    "\n",
    "<img src=https://4.bp.blogspot.com/-Dk-c_xGGdPE/Wu7gFY7jeiI/AAAAAAAAJMQ/n00Z5IPMvEAvol1PUfkQfY-CQQcR3fMggCLcBGAs/s1600/Control-si%25CC%2581ntomas-asma-gina.png width=\"900\">\n",
    "\n",
    "\n",
    "### Column section called `PREGUNTAS` - in dataset  `ACT_Disaggregated`: \n",
    "The following 4 questions have 1715 records, which means that 1715 patients carried out this survey and therefore we will have 1715 answers. \n",
    "\n",
    "A. DURANTE LAS ULTIMAS 4 SEMANAS ¿CON QUE FRECUENCIA LOS SINTOMAS DE ASMA (SILBIDOS EN EL PECHO, TOS, FALTA DE AIRE, OPRESION O DOLOR EN EL PECHO) LO/LA HICIERON DESPERTAR DURANTE LA NOCHE O MAS TEMPRANO QUE DE COSTUMBRE POR LA MAÑANA?\n",
    "\n",
    "B. DURANTE LAS ULTIMAS 4 SEMANAS ¿CON QUE FRECUENCIA SINTIO FALTA DE AIRE? \t\n",
    "\n",
    "C. DURANTE LAS ULTIMAS 4 SEMANAS ¿CON QUE FRECUENCIA SU ASMA LE IMPIDIO LLEVAR A CABO SUS TAREAS HABITUALES EN EL TRABAJO, EL ESTUDIO O EL HOGAR?\n",
    "\n",
    "D. DURANTE LAS ULTIMAS 4 SEMANAS ¿CON QUE FRECUENCIA USO SU INHALADOR DE EFECTO INMEDIATO O SE HIZO NEBULIZACIONES (POR EJEMPLO, SALBUTAMOL?)\n",
    "\n",
    "E. ¿COMO CALIFICARIA EL CONTROL DE SU ASMA DURANTE LAS ULTIMAS 4 SEMANAS? \n",
    "\n",
    "The question `E` is not part of the ACT test,but it is refered as the feedback question regarding the treatment. Therefore it will be considered within our anaylisis\n",
    "\n",
    "1. CUANTO TIEMPO LLEVA DE TRATAMIENTO PARA SU PATOLOGIA PRINCIPAL? \n",
    "2. ¿COMO PUNTUARIA SU CALIDAD DE VIDA? \n",
    "3. ¿CON QUE FRECUENCIA TIENE SENTIMIENTOS NEGATIVOS, TALES COMO TRISTEZA, DESESPERANZA,    ANSIEDAD, DEPRESION? \t\n",
    "4. ¿CUAL ES SU CAPACIDAD DE CONCENTRACION? \n",
    "5. ¿CUAN SALUDABLE ES EL AMBIENTE FISICO DE SU ALREDEDOR? \n",
    "6. ¿CUAN SATISFECHO ESTA CON EL ACCESO QUE TIENE A LOS SERVICIOS SANITARIOS? \t\n",
    "7. ¿CUAN SATISFECHO ESTA CON EL APOYO QUE TIENE DE SUS AMIGOS? \n",
    "8. ¿CUAN SATISFECHO ESTA CON SU CAPACIDAD DE TRABAJO? \t\n",
    "9. ¿CUAN SATISFECHO ESTA CON SU HABILIDAD PARA REALIZAR SUS ACTIVIDADES DE LA VIDA DIARIA? \n",
    "10. ¿CUAN SATISFECHO ESTA CON SU SUEÑO? \t\n",
    "11. ¿CUAN SATISFECHO ESTA CON SU TRANSPORTE? \t\n",
    "12. ¿CUAN SATISFECHO ESTA CON SU VIDA SEXUAL? \t\n",
    "13. ¿CUAN SATISFECHO ESTA CON SUS RELACIONES PERSONALES? \n",
    "14. ¿CUAN SATISFECHO ESTA DE LAS CONDICIONES DEL LUGAR DONDE VIVE?\n",
    "15. ¿CUAN SATISFECHO ESTA DE SI MISMO? \t\n",
    "16. ¿CUAN SATISFECHO/A ESTA CON SU SALUD?\n",
    "17. ¿CUANTA SEGURIDAD SIENTE EN SU VIDA DIARIA?\n",
    "18. ¿CUANTO DISFRUTA DE LA VIDA?\n",
    "19. ¿CUANTO NECESITA DE CUALQUIER TRATAMIENTO MEDICO PARA FUNCIONAR EN SU VIDA DIARIA? \n",
    "20. ¿EN QUE MEDIDA PIENSA QUE EL DOLOR (FISICO) LE IMPIDE HACER LO QUE NECESITA? \n",
    "21. ¿EN QUE MEDIDA SIENTE QUE SU VIDA TIENE SENTIDO? \t\n",
    "22. ¿ES CAPAZ DE ACEPTAR SU APARIENCIA FISICA? \n",
    "23. ¿ES CAPAZ DE DESPLAZARSE DE UN LUGAR A OTRO?\n",
    "24. ¿HASTA QUE PUNTO TIENE OPORTUNIDAD PARA REALIZAR ACTIVIDADES DE OCIO? \t\n",
    "25. ¿QUE DISPONIBLE TIENE LA INFORMACION QUE NECESITA EN SU VIDA DIARIA? \n",
    "26. ¿TIENE ENERGIA SUFICIENTE PARA LA VIDA DIARIA? \t\n",
    "27. ¿TIENE SUFICIENTE DINERO PARA CUBRIR SUS NECESIDADES?"
   ]
  },
  {
   "cell_type": "markdown",
   "metadata": {},
   "source": [
    "Convert questions to lowercase format"
   ]
  },
  {
   "cell_type": "code",
   "execution_count": 48,
   "metadata": {
    "scrolled": true
   },
   "outputs": [
    {
     "output_type": "error",
     "ename": "NameError",
     "evalue": "name 'pd' is not defined",
     "traceback": [
      "\u001b[0;31m---------------------------------------------------------------------------\u001b[0m",
      "\u001b[0;31mNameError\u001b[0m                                 Traceback (most recent call last)",
      "\u001b[0;32m<ipython-input-48-4b7bb53590b3>\u001b[0m in \u001b[0;36m<module>\u001b[0;34m\u001b[0m\n\u001b[0;32m----> 1\u001b[0;31m \u001b[0mpd\u001b[0m\u001b[0;34m.\u001b[0m\u001b[0mset_option\u001b[0m\u001b[0;34m(\u001b[0m\u001b[0;34m'display.max_colwidth'\u001b[0m\u001b[0;34m,\u001b[0m \u001b[0;34m-\u001b[0m\u001b[0;36m1\u001b[0m\u001b[0;34m)\u001b[0m\u001b[0;34m\u001b[0m\u001b[0;34m\u001b[0m\u001b[0m\n\u001b[0m\u001b[1;32m      2\u001b[0m \u001b[0;31m#df_cp_lower = df_cp['pregunta'].str.lower()\u001b[0m\u001b[0;34m\u001b[0m\u001b[0;34m\u001b[0m\u001b[0;34m\u001b[0m\u001b[0m\n\u001b[1;32m      3\u001b[0m \u001b[0;31m#df_cp['pregunta'] = df_cp_lower\u001b[0m\u001b[0;34m\u001b[0m\u001b[0;34m\u001b[0m\u001b[0;34m\u001b[0m\u001b[0m\n\u001b[1;32m      4\u001b[0m \u001b[0mdf_cp\u001b[0m\u001b[0;34m\u001b[0m\u001b[0;34m\u001b[0m\u001b[0m\n",
      "\u001b[0;31mNameError\u001b[0m: name 'pd' is not defined"
     ]
    }
   ],
   "source": [
    "pd.set_option('display.max_colwidth', -1)\n",
    "#df_cp_lower = df_cp['pregunta'].str.lower()\n",
    "#df_cp['pregunta'] = df_cp_lower\n",
    "df_cp"
   ]
  },
  {
   "cell_type": "code",
   "execution_count": 49,
   "metadata": {},
   "outputs": [
    {
     "output_type": "error",
     "ename": "NameError",
     "evalue": "name 'df_cp' is not defined",
     "traceback": [
      "\u001b[0;31m---------------------------------------------------------------------------\u001b[0m",
      "\u001b[0;31mNameError\u001b[0m                                 Traceback (most recent call last)",
      "\u001b[0;32m<ipython-input-49-254e8b2c2b25>\u001b[0m in \u001b[0;36m<module>\u001b[0;34m\u001b[0m\n\u001b[1;32m      1\u001b[0m \u001b[0;31m#Save data of our interest\u001b[0m\u001b[0;34m\u001b[0m\u001b[0;34m\u001b[0m\u001b[0;34m\u001b[0m\u001b[0m\n\u001b[0;32m----> 2\u001b[0;31m \u001b[0mdf_seg\u001b[0m \u001b[0;34m=\u001b[0m \u001b[0mdf_cp\u001b[0m\u001b[0;34m.\u001b[0m\u001b[0mgroupby\u001b[0m\u001b[0;34m(\u001b[0m\u001b[0;34m[\u001b[0m\u001b[0;34m'respuesta'\u001b[0m\u001b[0;34m,\u001b[0m\u001b[0;34m'pregunta'\u001b[0m\u001b[0;34m]\u001b[0m\u001b[0;34m,\u001b[0m \u001b[0mas_index\u001b[0m\u001b[0;34m=\u001b[0m\u001b[0;32mFalse\u001b[0m\u001b[0;34m)\u001b[0m\u001b[0;34m.\u001b[0m\u001b[0mcount\u001b[0m\u001b[0;34m(\u001b[0m\u001b[0;34m)\u001b[0m\u001b[0;34m\u001b[0m\u001b[0;34m\u001b[0m\u001b[0m\n\u001b[0m\u001b[1;32m      3\u001b[0m \u001b[0mdf1_preg\u001b[0m \u001b[0;34m=\u001b[0m  \u001b[0mdf_seg\u001b[0m\u001b[0;34m.\u001b[0m\u001b[0miloc\u001b[0m\u001b[0;34m[\u001b[0m\u001b[0;34m:\u001b[0m\u001b[0;34m,\u001b[0m\u001b[0;36m0\u001b[0m\u001b[0;34m:\u001b[0m\u001b[0;36m2\u001b[0m\u001b[0;34m]\u001b[0m\u001b[0;34m\u001b[0m\u001b[0;34m\u001b[0m\u001b[0m\n\u001b[1;32m      4\u001b[0m \u001b[0;31m#Work with copy\u001b[0m\u001b[0;34m\u001b[0m\u001b[0;34m\u001b[0m\u001b[0;34m\u001b[0m\u001b[0m\n\u001b[1;32m      5\u001b[0m \u001b[0mdf1_preg\u001b[0m\u001b[0;34m\u001b[0m\u001b[0;34m\u001b[0m\u001b[0m\n",
      "\u001b[0;31mNameError\u001b[0m: name 'df_cp' is not defined"
     ]
    }
   ],
   "source": [
    "#Save data of our interest\n",
    "df_seg = df_cp.groupby(['respuesta','pregunta'], as_index=False).count()\n",
    "df1_preg =  df_seg.iloc[:,0:2]\n",
    "#Work with copy\n",
    "df1_preg\n",
    "#df_copy_2 =act_disag['PREGUNTA\\n'].map(lambda x: x.lstrip(\"CON QUE FRECUENCIA LOS SINTOMAS DE ASMA\"))"
   ]
  },
  {
   "cell_type": "markdown",
   "metadata": {},
   "source": [
    "Simplify questions to ACT items and feedback questions."
   ]
  },
  {
   "cell_type": "code",
   "execution_count": 50,
   "metadata": {},
   "outputs": [
    {
     "output_type": "error",
     "ename": "NameError",
     "evalue": "name 'df_cp' is not defined",
     "traceback": [
      "\u001b[0;31m---------------------------------------------------------------------------\u001b[0m",
      "\u001b[0;31mNameError\u001b[0m                                 Traceback (most recent call last)",
      "\u001b[0;32m<ipython-input-50-ea540b7c3044>\u001b[0m in \u001b[0;36m<module>\u001b[0;34m\u001b[0m\n\u001b[1;32m      1\u001b[0m \u001b[0;31m#A  = act_disag[act_disag['PREGUNTA\\n'].str.contains(\"CON QUE FRECUENCIA LOS SINTOMAS DE ASMA\")].count()\u001b[0m\u001b[0;34m\u001b[0m\u001b[0;34m\u001b[0m\u001b[0;34m\u001b[0m\u001b[0m\n\u001b[1;32m      2\u001b[0m \u001b[0;31m#act_disag.groupby('PREGUNTA\\n').count()\u001b[0m\u001b[0;34m\u001b[0m\u001b[0;34m\u001b[0m\u001b[0;34m\u001b[0m\u001b[0m\n\u001b[0;32m----> 3\u001b[0;31m \u001b[0mdf_cp\u001b[0m\u001b[0;34m[\u001b[0m\u001b[0;34m'pregunta'\u001b[0m\u001b[0;34m]\u001b[0m\u001b[0;34m.\u001b[0m\u001b[0mreplace\u001b[0m\u001b[0;34m(\u001b[0m\u001b[0;34m\"DURANTE LAS ULTIMAS 4 SEMANAS ¿CON QUE FRECUENCIA LOS SINTOMAS DE ASMA (SILBIDOS EN EL PECHO, TOS, FALTA DE AIRE, OPRESION O DOLOR EN EL PECHO) LO/LA HICIERON DESPERTAR DURANTE LA NOCHE O MAS TEMPRANO QUE DE COSTUMBRE POR LA MAÑANA?\"\u001b[0m\u001b[0;34m,\u001b[0m\u001b[0;34m\"A_ACT\"\u001b[0m\u001b[0;34m,\u001b[0m\u001b[0minplace\u001b[0m\u001b[0;34m=\u001b[0m\u001b[0;32mTrue\u001b[0m\u001b[0;34m)\u001b[0m\u001b[0;34m\u001b[0m\u001b[0;34m\u001b[0m\u001b[0m\n\u001b[0m\u001b[1;32m      4\u001b[0m \u001b[0mdf_cp\u001b[0m\u001b[0;34m[\u001b[0m\u001b[0;34m'pregunta'\u001b[0m\u001b[0;34m]\u001b[0m\u001b[0;34m.\u001b[0m\u001b[0mreplace\u001b[0m\u001b[0;34m(\u001b[0m\u001b[0;34m\"DURANTE LAS ULTIMAS 4 SEMANAS ¿CON QUE FRECUENCIA SINTIO FALTA DE AIRE?\"\u001b[0m\u001b[0;34m,\u001b[0m\u001b[0;34m\"B_ACT\"\u001b[0m\u001b[0;34m,\u001b[0m\u001b[0minplace\u001b[0m\u001b[0;34m=\u001b[0m\u001b[0;32mTrue\u001b[0m\u001b[0;34m)\u001b[0m\u001b[0;34m\u001b[0m\u001b[0;34m\u001b[0m\u001b[0m\n\u001b[1;32m      5\u001b[0m \u001b[0mdf_cp\u001b[0m\u001b[0;34m[\u001b[0m\u001b[0;34m'pregunta'\u001b[0m\u001b[0;34m]\u001b[0m\u001b[0;34m.\u001b[0m\u001b[0mreplace\u001b[0m\u001b[0;34m(\u001b[0m\u001b[0;34m\"DURANTE LAS ULTIMAS 4 SEMANAS ¿CON QUE FRECUENCIA SU ASMA LE IMPIDIO LLEVAR A CABO SUS TAREAS HABITUALES EN EL TRABAJO, EL ESTUDIO O EL HOGAR?\"\u001b[0m\u001b[0;34m,\u001b[0m\u001b[0;34m\"C_ACT\"\u001b[0m\u001b[0;34m,\u001b[0m\u001b[0minplace\u001b[0m\u001b[0;34m=\u001b[0m\u001b[0;32mTrue\u001b[0m\u001b[0;34m)\u001b[0m\u001b[0;34m\u001b[0m\u001b[0;34m\u001b[0m\u001b[0m\n",
      "\u001b[0;31mNameError\u001b[0m: name 'df_cp' is not defined"
     ]
    }
   ],
   "source": [
    "#A  = act_disag[act_disag['PREGUNTA\\n'].str.contains(\"CON QUE FRECUENCIA LOS SINTOMAS DE ASMA\")].count()\n",
    "#act_disag.groupby('PREGUNTA\\n').count()\n",
    "df_cp['pregunta'].replace(\"DURANTE LAS ULTIMAS 4 SEMANAS ¿CON QUE FRECUENCIA LOS SINTOMAS DE ASMA (SILBIDOS EN EL PECHO, TOS, FALTA DE AIRE, OPRESION O DOLOR EN EL PECHO) LO/LA HICIERON DESPERTAR DURANTE LA NOCHE O MAS TEMPRANO QUE DE COSTUMBRE POR LA MAÑANA?\",\"A_ACT\",inplace=True)\n",
    "df_cp['pregunta'].replace(\"DURANTE LAS ULTIMAS 4 SEMANAS ¿CON QUE FRECUENCIA SINTIO FALTA DE AIRE?\",\"B_ACT\",inplace=True)\n",
    "df_cp['pregunta'].replace(\"DURANTE LAS ULTIMAS 4 SEMANAS ¿CON QUE FRECUENCIA SU ASMA LE IMPIDIO LLEVAR A CABO SUS TAREAS HABITUALES EN EL TRABAJO, EL ESTUDIO O EL HOGAR?\",\"C_ACT\",inplace=True)\n",
    "df_cp['pregunta'].replace(\"DURANTE LAS ULTIMAS 4 SEMANAS ¿CON QUE FRECUENCIA USO SU INHALADOR DE EFECTO INMEDIATO O SE HIZO NEBULIZACIONES (POR EJEMPLO, SALBUTAMOL?)\",\"D_ACT\",inplace=True)"
   ]
  },
  {
   "cell_type": "markdown",
   "metadata": {},
   "source": [
    "We will add the Feedback question refered as  `How did you qualify the test`, since this is refered as a feedback response that might be useful for our analysis. "
   ]
  },
  {
   "cell_type": "code",
   "execution_count": 51,
   "metadata": {},
   "outputs": [
    {
     "output_type": "error",
     "ename": "NameError",
     "evalue": "name 'df_cp' is not defined",
     "traceback": [
      "\u001b[0;31m---------------------------------------------------------------------------\u001b[0m",
      "\u001b[0;31mNameError\u001b[0m                                 Traceback (most recent call last)",
      "\u001b[0;32m<ipython-input-51-1e361ea6b6a4>\u001b[0m in \u001b[0;36m<module>\u001b[0;34m\u001b[0m\n\u001b[0;32m----> 1\u001b[0;31m \u001b[0mdf_cp\u001b[0m\u001b[0;34m[\u001b[0m\u001b[0;34m'pregunta'\u001b[0m\u001b[0;34m]\u001b[0m\u001b[0;34m.\u001b[0m\u001b[0mreplace\u001b[0m\u001b[0;34m(\u001b[0m\u001b[0;34m\"¿COMO CALIFICARIA EL CONTROL DE SU ASMA DURANTE LAS ULTIMAS 4 SEMANAS?\"\u001b[0m\u001b[0;34m,\u001b[0m\u001b[0;34m\"FEEDBACK\"\u001b[0m\u001b[0;34m,\u001b[0m\u001b[0minplace\u001b[0m\u001b[0;34m=\u001b[0m\u001b[0;32mTrue\u001b[0m\u001b[0;34m)\u001b[0m\u001b[0;34m\u001b[0m\u001b[0;34m\u001b[0m\u001b[0m\n\u001b[0m",
      "\u001b[0;31mNameError\u001b[0m: name 'df_cp' is not defined"
     ]
    }
   ],
   "source": [
    "df_cp['pregunta'].replace(\"¿COMO CALIFICARIA EL CONTROL DE SU ASMA DURANTE LAS ULTIMAS 4 SEMANAS?\",\"FEEDBACK\",inplace=True)"
   ]
  },
  {
   "cell_type": "code",
   "execution_count": 52,
   "metadata": {},
   "outputs": [
    {
     "output_type": "error",
     "ename": "NameError",
     "evalue": "name 'df_cp' is not defined",
     "traceback": [
      "\u001b[0;31m---------------------------------------------------------------------------\u001b[0m",
      "\u001b[0;31mNameError\u001b[0m                                 Traceback (most recent call last)",
      "\u001b[0;32m<ipython-input-52-fa992894fff3>\u001b[0m in \u001b[0;36m<module>\u001b[0;34m\u001b[0m\n\u001b[1;32m      1\u001b[0m \u001b[0;31m#df1 = df1[['RESPUESTA', 'NUMERO IDENTIFICACION', 'NOMBRE ENCUESTA\\n', 'FE_RESULTADO', 'PREGUNTA']]\u001b[0m\u001b[0;34m\u001b[0m\u001b[0;34m\u001b[0m\u001b[0;34m\u001b[0m\u001b[0m\n\u001b[0;32m----> 2\u001b[0;31m \u001b[0mA_ACT\u001b[0m \u001b[0;34m=\u001b[0m \u001b[0mdf_cp\u001b[0m\u001b[0;34m[\u001b[0m\u001b[0mdf_cp\u001b[0m\u001b[0;34m[\u001b[0m\u001b[0;34m'pregunta'\u001b[0m\u001b[0;34m]\u001b[0m\u001b[0;34m==\u001b[0m\u001b[0;34m'A_ACT'\u001b[0m\u001b[0;34m]\u001b[0m\u001b[0;34m\u001b[0m\u001b[0;34m\u001b[0m\u001b[0m\n\u001b[0m\u001b[1;32m      3\u001b[0m \u001b[0mB_ACT\u001b[0m \u001b[0;34m=\u001b[0m \u001b[0mdf_cp\u001b[0m\u001b[0;34m[\u001b[0m\u001b[0mdf_cp\u001b[0m\u001b[0;34m[\u001b[0m\u001b[0;34m'pregunta'\u001b[0m\u001b[0;34m]\u001b[0m\u001b[0;34m==\u001b[0m\u001b[0;34m'B_ACT'\u001b[0m\u001b[0;34m]\u001b[0m\u001b[0;34m\u001b[0m\u001b[0;34m\u001b[0m\u001b[0m\n\u001b[1;32m      4\u001b[0m \u001b[0mC_ACT\u001b[0m \u001b[0;34m=\u001b[0m \u001b[0mdf_cp\u001b[0m\u001b[0;34m[\u001b[0m\u001b[0mdf_cp\u001b[0m\u001b[0;34m[\u001b[0m\u001b[0;34m'pregunta'\u001b[0m\u001b[0;34m]\u001b[0m\u001b[0;34m==\u001b[0m\u001b[0;34m'C_ACT'\u001b[0m\u001b[0;34m]\u001b[0m\u001b[0;34m\u001b[0m\u001b[0;34m\u001b[0m\u001b[0m\n\u001b[1;32m      5\u001b[0m \u001b[0mD_ACT\u001b[0m \u001b[0;34m=\u001b[0m \u001b[0mdf_cp\u001b[0m\u001b[0;34m[\u001b[0m\u001b[0mdf_cp\u001b[0m\u001b[0;34m[\u001b[0m\u001b[0;34m'pregunta'\u001b[0m\u001b[0;34m]\u001b[0m\u001b[0;34m==\u001b[0m\u001b[0;34m'D_ACT'\u001b[0m\u001b[0;34m]\u001b[0m\u001b[0;34m\u001b[0m\u001b[0;34m\u001b[0m\u001b[0m\n",
      "\u001b[0;31mNameError\u001b[0m: name 'df_cp' is not defined"
     ]
    }
   ],
   "source": [
    "#df1 = df1[['RESPUESTA', 'NUMERO IDENTIFICACION', 'NOMBRE ENCUESTA\\n', 'FE_RESULTADO', 'PREGUNTA']]\n",
    "A_ACT = df_cp[df_cp['pregunta']=='A_ACT']\n",
    "B_ACT = df_cp[df_cp['pregunta']=='B_ACT']\n",
    "C_ACT = df_cp[df_cp['pregunta']=='C_ACT']\n",
    "D_ACT = df_cp[df_cp['pregunta']=='D_ACT']\n",
    "A_ACT['pregunta']"
   ]
  },
  {
   "cell_type": "markdown",
   "metadata": {},
   "source": [
    "Delete useless raws. "
   ]
  },
  {
   "cell_type": "code",
   "execution_count": 53,
   "metadata": {},
   "outputs": [
    {
     "output_type": "error",
     "ename": "NameError",
     "evalue": "name 'df_cp' is not defined",
     "traceback": [
      "\u001b[0;31m---------------------------------------------------------------------------\u001b[0m",
      "\u001b[0;31mNameError\u001b[0m                                 Traceback (most recent call last)",
      "\u001b[0;32m<ipython-input-53-26bc09407608>\u001b[0m in \u001b[0;36m<module>\u001b[0;34m\u001b[0m\n\u001b[0;32m----> 1\u001b[0;31m \u001b[0mA_ACT_Rows\u001b[0m \u001b[0;34m=\u001b[0m \u001b[0mdf_cp\u001b[0m\u001b[0;34m[\u001b[0m\u001b[0mdf_cp\u001b[0m\u001b[0;34m[\u001b[0m\u001b[0;34m'pregunta'\u001b[0m\u001b[0;34m]\u001b[0m\u001b[0;34m.\u001b[0m\u001b[0mstr\u001b[0m\u001b[0;34m.\u001b[0m\u001b[0mcontains\u001b[0m\u001b[0;34m(\u001b[0m\u001b[0;34m'A_ACT'\u001b[0m\u001b[0;34m)\u001b[0m\u001b[0;34m]\u001b[0m\u001b[0;34m\u001b[0m\u001b[0;34m\u001b[0m\u001b[0m\n\u001b[0m\u001b[1;32m      2\u001b[0m \u001b[0mB_ACT_Rows\u001b[0m \u001b[0;34m=\u001b[0m \u001b[0mdf_cp\u001b[0m\u001b[0;34m[\u001b[0m\u001b[0mdf_cp\u001b[0m\u001b[0;34m[\u001b[0m\u001b[0;34m'pregunta'\u001b[0m\u001b[0;34m]\u001b[0m\u001b[0;34m.\u001b[0m\u001b[0mstr\u001b[0m\u001b[0;34m.\u001b[0m\u001b[0mcontains\u001b[0m\u001b[0;34m(\u001b[0m\u001b[0;34m'B_ACT'\u001b[0m\u001b[0;34m)\u001b[0m\u001b[0;34m]\u001b[0m\u001b[0;34m\u001b[0m\u001b[0;34m\u001b[0m\u001b[0m\n\u001b[1;32m      3\u001b[0m \u001b[0mC_ACT_Rows\u001b[0m \u001b[0;34m=\u001b[0m \u001b[0mdf_cp\u001b[0m\u001b[0;34m[\u001b[0m\u001b[0mdf_cp\u001b[0m\u001b[0;34m[\u001b[0m\u001b[0;34m'pregunta'\u001b[0m\u001b[0;34m]\u001b[0m\u001b[0;34m.\u001b[0m\u001b[0mstr\u001b[0m\u001b[0;34m.\u001b[0m\u001b[0mcontains\u001b[0m\u001b[0;34m(\u001b[0m\u001b[0;34m'C_ACT'\u001b[0m\u001b[0;34m)\u001b[0m\u001b[0;34m]\u001b[0m\u001b[0;34m\u001b[0m\u001b[0;34m\u001b[0m\u001b[0m\n\u001b[1;32m      4\u001b[0m \u001b[0mD_ACT_Rows\u001b[0m \u001b[0;34m=\u001b[0m \u001b[0mdf_cp\u001b[0m\u001b[0;34m[\u001b[0m\u001b[0mdf_cp\u001b[0m\u001b[0;34m[\u001b[0m\u001b[0;34m'pregunta'\u001b[0m\u001b[0;34m]\u001b[0m\u001b[0;34m.\u001b[0m\u001b[0mstr\u001b[0m\u001b[0;34m.\u001b[0m\u001b[0mcontains\u001b[0m\u001b[0;34m(\u001b[0m\u001b[0;34m'D_ACT'\u001b[0m\u001b[0;34m)\u001b[0m\u001b[0;34m]\u001b[0m\u001b[0;34m\u001b[0m\u001b[0;34m\u001b[0m\u001b[0m\n\u001b[1;32m      5\u001b[0m \u001b[0mFB_ACT_Rows\u001b[0m \u001b[0;34m=\u001b[0m \u001b[0mdf_cp\u001b[0m\u001b[0;34m[\u001b[0m\u001b[0mdf_cp\u001b[0m\u001b[0;34m[\u001b[0m\u001b[0;34m'pregunta'\u001b[0m\u001b[0;34m]\u001b[0m\u001b[0;34m.\u001b[0m\u001b[0mstr\u001b[0m\u001b[0;34m.\u001b[0m\u001b[0mcontains\u001b[0m\u001b[0;34m(\u001b[0m\u001b[0;34m'FEEDBACK'\u001b[0m\u001b[0;34m)\u001b[0m\u001b[0;34m]\u001b[0m\u001b[0;34m\u001b[0m\u001b[0;34m\u001b[0m\u001b[0m\n",
      "\u001b[0;31mNameError\u001b[0m: name 'df_cp' is not defined"
     ]
    }
   ],
   "source": [
    "A_ACT_Rows = df_cp[df_cp['pregunta'].str.contains('A_ACT')]\n",
    "B_ACT_Rows = df_cp[df_cp['pregunta'].str.contains('B_ACT')]\n",
    "C_ACT_Rows = df_cp[df_cp['pregunta'].str.contains('C_ACT')]\n",
    "D_ACT_Rows = df_cp[df_cp['pregunta'].str.contains('D_ACT')]\n",
    "FB_ACT_Rows = df_cp[df_cp['pregunta'].str.contains('FEEDBACK')]\n",
    "frames = [A_ACT_Rows, B_ACT_Rows, C_ACT_Rows, D_ACT_Rows, FB_ACT_Rows]\n",
    "\n",
    "result = pd.concat(frames)\n",
    "N_patients = result.groupby('id_paciente').count().shape\n",
    "print(\"The number if patients is {0}\".format(N_patients))\n",
    "result.groupby(['id_paciente','fe_resultado']).count()"
   ]
  },
  {
   "cell_type": "markdown",
   "metadata": {},
   "source": [
    "Previously we had 8602 and now we have 8575 records, i.e, we have neglected the 27 additional questions due to its lack of relevance and low significance in our population\n",
    "\n",
    "#### The previous result also tell us that we have actually 456 patients in this record, therefore we have a mean of 18 records per patients. It can be seen as well that: each patient took between 5 and 10 tests on 5 different dates. "
   ]
  },
  {
   "cell_type": "code",
   "execution_count": 54,
   "metadata": {},
   "outputs": [
    {
     "output_type": "error",
     "ename": "NameError",
     "evalue": "name 'result' is not defined",
     "traceback": [
      "\u001b[0;31m---------------------------------------------------------------------------\u001b[0m",
      "\u001b[0;31mNameError\u001b[0m                                 Traceback (most recent call last)",
      "\u001b[0;32m<ipython-input-54-056a515c2c5a>\u001b[0m in \u001b[0;36m<module>\u001b[0;34m\u001b[0m\n\u001b[1;32m      1\u001b[0m \u001b[0;31m#df_final = result.pivot(index = \"id_paciente\", columns=\"pregunta\", values=\"fe_resultado\")\u001b[0m\u001b[0;34m\u001b[0m\u001b[0;34m\u001b[0m\u001b[0;34m\u001b[0m\u001b[0m\n\u001b[0;32m----> 2\u001b[0;31m \u001b[0mN\u001b[0m \u001b[0;34m=\u001b[0m \u001b[0mresult\u001b[0m\u001b[0;34m.\u001b[0m\u001b[0mcount\u001b[0m\u001b[0;34m(\u001b[0m\u001b[0;34m)\u001b[0m\u001b[0;34m\u001b[0m\u001b[0;34m\u001b[0m\u001b[0m\n\u001b[0m\u001b[1;32m      3\u001b[0m \u001b[0mduplicate_ids\u001b[0m \u001b[0;34m=\u001b[0m \u001b[0mresult\u001b[0m\u001b[0;34m[\u001b[0m\u001b[0mresult\u001b[0m\u001b[0;34m.\u001b[0m\u001b[0mduplicated\u001b[0m\u001b[0;34m(\u001b[0m\u001b[0;34m'id_paciente'\u001b[0m\u001b[0;34m)\u001b[0m\u001b[0;34m]\u001b[0m\u001b[0;34m[\u001b[0m\u001b[0;34m'id_paciente'\u001b[0m\u001b[0;34m]\u001b[0m\u001b[0;34m\u001b[0m\u001b[0;34m\u001b[0m\u001b[0m\n",
      "\u001b[0;31mNameError\u001b[0m: name 'result' is not defined"
     ]
    }
   ],
   "source": [
    "#df_final = result.pivot(index = \"id_paciente\", columns=\"pregunta\", values=\"fe_resultado\")\n",
    "N = result.count()\n",
    "duplicate_ids = result[result.duplicated('id_paciente')]['id_paciente']"
   ]
  },
  {
   "cell_type": "markdown",
   "metadata": {},
   "source": [
    "## 'ANSWER' column\n",
    "The possible answers are presented below. The objective would be to try to identify which questions identify the 4 ACT questions and which would be those of the other category"
   ]
  },
  {
   "cell_type": "code",
   "execution_count": 55,
   "metadata": {},
   "outputs": [
    {
     "output_type": "error",
     "ename": "NameError",
     "evalue": "name 'pd' is not defined",
     "traceback": [
      "\u001b[0;31m---------------------------------------------------------------------------\u001b[0m",
      "\u001b[0;31mNameError\u001b[0m                                 Traceback (most recent call last)",
      "\u001b[0;32m<ipython-input-55-a551b21758b6>\u001b[0m in \u001b[0;36m<module>\u001b[0;34m\u001b[0m\n\u001b[1;32m      1\u001b[0m \u001b[0;31m#df_final = pd.pivot_table(result, index = [\"id_paciente\"], columns = \"pregunta\", values = \"respuesta\",aggfunc='first')\u001b[0m\u001b[0;34m\u001b[0m\u001b[0;34m\u001b[0m\u001b[0;34m\u001b[0m\u001b[0m\n\u001b[1;32m      2\u001b[0m \u001b[0;34m\u001b[0m\u001b[0m\n\u001b[0;32m----> 3\u001b[0;31m \u001b[0mdf_final\u001b[0m \u001b[0;34m=\u001b[0m \u001b[0mpd\u001b[0m\u001b[0;34m.\u001b[0m\u001b[0mpivot_table\u001b[0m\u001b[0;34m(\u001b[0m\u001b[0mresult\u001b[0m\u001b[0;34m,\u001b[0m \u001b[0mindex\u001b[0m \u001b[0;34m=\u001b[0m \u001b[0;34m[\u001b[0m\u001b[0mresult\u001b[0m\u001b[0;34m.\u001b[0m\u001b[0mindex\u001b[0m\u001b[0;34m.\u001b[0m\u001b[0mvalues\u001b[0m\u001b[0;34m,\u001b[0m\u001b[0;34m\"id_paciente\"\u001b[0m\u001b[0;34m,\u001b[0m\u001b[0;34m\"nombre_encuesta\"\u001b[0m\u001b[0;34m,\u001b[0m\u001b[0;34m\"fe_resultado\"\u001b[0m\u001b[0;34m]\u001b[0m\u001b[0;34m,\u001b[0m \u001b[0mcolumns\u001b[0m \u001b[0;34m=\u001b[0m \u001b[0;34m\"pregunta\"\u001b[0m\u001b[0;34m,\u001b[0m \u001b[0mvalues\u001b[0m \u001b[0;34m=\u001b[0m \u001b[0;34m\"respuesta\"\u001b[0m\u001b[0;34m,\u001b[0m\u001b[0maggfunc\u001b[0m\u001b[0;34m=\u001b[0m\u001b[0;34m'first'\u001b[0m\u001b[0;34m)\u001b[0m\u001b[0;34m.\u001b[0m\u001b[0mreset_index\u001b[0m\u001b[0;34m(\u001b[0m\u001b[0;34m[\u001b[0m\u001b[0;34m'id_paciente'\u001b[0m\u001b[0;34m,\u001b[0m\u001b[0;34m'nombre_encuesta'\u001b[0m\u001b[0;34m,\u001b[0m\u001b[0;34m'fe_resultado'\u001b[0m\u001b[0;34m]\u001b[0m\u001b[0;34m)\u001b[0m\u001b[0;34m\u001b[0m\u001b[0;34m\u001b[0m\u001b[0m\n\u001b[0m\u001b[1;32m      4\u001b[0m \u001b[0mdf_final\u001b[0m \u001b[0;34m=\u001b[0m \u001b[0mpd\u001b[0m\u001b[0;34m.\u001b[0m\u001b[0mpivot_table\u001b[0m\u001b[0;34m(\u001b[0m\u001b[0mresult\u001b[0m\u001b[0;34m,\u001b[0m \u001b[0mindex\u001b[0m \u001b[0;34m=\u001b[0m \u001b[0;34m[\u001b[0m\u001b[0mresult\u001b[0m\u001b[0;34m.\u001b[0m\u001b[0mindex\u001b[0m\u001b[0;34m.\u001b[0m\u001b[0mvalues\u001b[0m\u001b[0;34m,\u001b[0m\u001b[0;34m\"id_paciente\"\u001b[0m\u001b[0;34m,\u001b[0m\u001b[0;34m\"nombre_encuesta\"\u001b[0m\u001b[0;34m,\u001b[0m\u001b[0;34m\"fe_resultado\"\u001b[0m\u001b[0;34m]\u001b[0m\u001b[0;34m,\u001b[0m \u001b[0mcolumns\u001b[0m \u001b[0;34m=\u001b[0m \u001b[0;34m\"pregunta\"\u001b[0m\u001b[0;34m,\u001b[0m \u001b[0mvalues\u001b[0m \u001b[0;34m=\u001b[0m \u001b[0;34m\"respuesta\"\u001b[0m\u001b[0;34m,\u001b[0m\u001b[0maggfunc\u001b[0m\u001b[0;34m=\u001b[0m\u001b[0;34m'first'\u001b[0m\u001b[0;34m)\u001b[0m\u001b[0;34m.\u001b[0m\u001b[0mreset_index\u001b[0m\u001b[0;34m(\u001b[0m\u001b[0;34m[\u001b[0m\u001b[0;34m'id_paciente'\u001b[0m\u001b[0;34m,\u001b[0m\u001b[0;34m'nombre_encuesta'\u001b[0m\u001b[0;34m,\u001b[0m\u001b[0;34m'fe_resultado'\u001b[0m\u001b[0;34m]\u001b[0m\u001b[0;34m)\u001b[0m\u001b[0;34m\u001b[0m\u001b[0;34m\u001b[0m\u001b[0m\n\u001b[1;32m      5\u001b[0m \u001b[0;34m\u001b[0m\u001b[0m\n",
      "\u001b[0;31mNameError\u001b[0m: name 'pd' is not defined"
     ]
    }
   ],
   "source": [
    "#df_final = pd.pivot_table(result, index = [\"id_paciente\"], columns = \"pregunta\", values = \"respuesta\",aggfunc='first')\n",
    "\n",
    "df_final = pd.pivot_table(result, index = [result.index.values,\"id_paciente\",\"nombre_encuesta\",\"fe_resultado\"], columns = \"pregunta\", values = \"respuesta\",aggfunc='first').reset_index(['id_paciente','nombre_encuesta','fe_resultado'])\n",
    "df_final = pd.pivot_table(result, index = [result.index.values,\"id_paciente\",\"nombre_encuesta\",\"fe_resultado\"], columns = \"pregunta\", values = \"respuesta\",aggfunc='first').reset_index(['id_paciente','nombre_encuesta','fe_resultado'])\n",
    "\n",
    "#plt.figure(figsize=(7,4))\n",
    "#df_final['B_ACT'].hist(bins=20)\n",
    "df_final.columns\n",
    "ax = df_final[[\"id_paciente\", 'A_ACT']].groupby('A_ACT').size().plot(kind='bar', color='#367588')\n",
    "ax.legend(['record count'])\n",
    "ax.set_xlabel('Year')"
   ]
  },
  {
   "cell_type": "code",
   "execution_count": 56,
   "metadata": {},
   "outputs": [
    {
     "output_type": "error",
     "ename": "NameError",
     "evalue": "name 'df_final' is not defined",
     "traceback": [
      "\u001b[0;31m---------------------------------------------------------------------------\u001b[0m",
      "\u001b[0;31mNameError\u001b[0m                                 Traceback (most recent call last)",
      "\u001b[0;32m<ipython-input-56-15474dee2d3d>\u001b[0m in \u001b[0;36m<module>\u001b[0;34m\u001b[0m\n\u001b[0;32m----> 1\u001b[0;31m \u001b[0mdf_final\u001b[0m\u001b[0;34m[\u001b[0m\u001b[0;34m'year'\u001b[0m\u001b[0;34m]\u001b[0m \u001b[0;34m=\u001b[0m \u001b[0mdf_final\u001b[0m\u001b[0;34m[\u001b[0m\u001b[0;34m'fe_resultado'\u001b[0m\u001b[0;34m]\u001b[0m\u001b[0;34m.\u001b[0m\u001b[0mdt\u001b[0m\u001b[0;34m.\u001b[0m\u001b[0myear\u001b[0m\u001b[0;34m\u001b[0m\u001b[0;34m\u001b[0m\u001b[0m\n\u001b[0m\u001b[1;32m      2\u001b[0m \u001b[0mdf_final\u001b[0m\u001b[0;34m.\u001b[0m\u001b[0mcolumns\u001b[0m\u001b[0;34m\u001b[0m\u001b[0;34m\u001b[0m\u001b[0m\n\u001b[1;32m      3\u001b[0m \u001b[0max\u001b[0m \u001b[0;34m=\u001b[0m \u001b[0mdf_final\u001b[0m\u001b[0;34m[\u001b[0m\u001b[0;34m[\u001b[0m\u001b[0;34m\"id_paciente\"\u001b[0m\u001b[0;34m,\u001b[0m \u001b[0;34m'year'\u001b[0m\u001b[0;34m]\u001b[0m\u001b[0;34m]\u001b[0m\u001b[0;34m.\u001b[0m\u001b[0mgroupby\u001b[0m\u001b[0;34m(\u001b[0m\u001b[0;34m'year'\u001b[0m\u001b[0;34m)\u001b[0m\u001b[0;34m.\u001b[0m\u001b[0msize\u001b[0m\u001b[0;34m(\u001b[0m\u001b[0;34m)\u001b[0m\u001b[0;34m.\u001b[0m\u001b[0mplot\u001b[0m\u001b[0;34m(\u001b[0m\u001b[0mkind\u001b[0m\u001b[0;34m=\u001b[0m\u001b[0;34m'bar'\u001b[0m\u001b[0;34m,\u001b[0m \u001b[0mcolor\u001b[0m\u001b[0;34m=\u001b[0m\u001b[0;34m'#367558'\u001b[0m\u001b[0;34m)\u001b[0m\u001b[0;34m\u001b[0m\u001b[0;34m\u001b[0m\u001b[0m\n\u001b[1;32m      4\u001b[0m \u001b[0max\u001b[0m\u001b[0;34m.\u001b[0m\u001b[0mlegend\u001b[0m\u001b[0;34m(\u001b[0m\u001b[0;34m[\u001b[0m\u001b[0;34m'record count'\u001b[0m\u001b[0;34m]\u001b[0m\u001b[0;34m)\u001b[0m\u001b[0;34m\u001b[0m\u001b[0;34m\u001b[0m\u001b[0m\n\u001b[1;32m      5\u001b[0m \u001b[0max\u001b[0m\u001b[0;34m.\u001b[0m\u001b[0mset_xlabel\u001b[0m\u001b[0;34m(\u001b[0m\u001b[0;34m'Year'\u001b[0m\u001b[0;34m)\u001b[0m\u001b[0;34m\u001b[0m\u001b[0;34m\u001b[0m\u001b[0m\n",
      "\u001b[0;31mNameError\u001b[0m: name 'df_final' is not defined"
     ]
    }
   ],
   "source": [
    "df_final['year'] = df_final['fe_resultado'].dt.year\n",
    "df_final.columns\n",
    "ax = df_final[[\"id_paciente\", 'year']].groupby('year').size().plot(kind='bar', color='#367558')\n",
    "ax.legend(['record count'])\n",
    "ax.set_xlabel('Year')\n",
    "ax.set_ylabel('Patients')"
   ]
  },
  {
   "cell_type": "code",
   "execution_count": 57,
   "metadata": {},
   "outputs": [
    {
     "output_type": "error",
     "ename": "NameError",
     "evalue": "name 'df_final' is not defined",
     "traceback": [
      "\u001b[0;31m---------------------------------------------------------------------------\u001b[0m",
      "\u001b[0;31mNameError\u001b[0m                                 Traceback (most recent call last)",
      "\u001b[0;32m<ipython-input-57-93ad9769d51b>\u001b[0m in \u001b[0;36m<module>\u001b[0;34m\u001b[0m\n\u001b[0;32m----> 1\u001b[0;31m \u001b[0mdf_final\u001b[0m\u001b[0;34m.\u001b[0m\u001b[0mhead\u001b[0m\u001b[0;34m(\u001b[0m\u001b[0;36m10\u001b[0m\u001b[0;34m)\u001b[0m\u001b[0;34m\u001b[0m\u001b[0;34m\u001b[0m\u001b[0m\n\u001b[0m",
      "\u001b[0;31mNameError\u001b[0m: name 'df_final' is not defined"
     ]
    }
   ],
   "source": [
    "df_final.head(10)"
   ]
  },
  {
   "cell_type": "markdown",
   "metadata": {},
   "source": [
    "### Convert each response to categorical data according to each question, respectively. "
   ]
  },
  {
   "cell_type": "code",
   "execution_count": 58,
   "metadata": {},
   "outputs": [
    {
     "output_type": "error",
     "ename": "NameError",
     "evalue": "name 'df_final' is not defined",
     "traceback": [
      "\u001b[0;31m---------------------------------------------------------------------------\u001b[0m",
      "\u001b[0;31mNameError\u001b[0m                                 Traceback (most recent call last)",
      "\u001b[0;32m<ipython-input-58-c4fc69a452b1>\u001b[0m in \u001b[0;36m<module>\u001b[0;34m\u001b[0m\n\u001b[0;32m----> 1\u001b[0;31m \u001b[0mdf_final\u001b[0m\u001b[0;34m[\u001b[0m\u001b[0;34m'A_ACT'\u001b[0m\u001b[0;34m]\u001b[0m \u001b[0;34m=\u001b[0m \u001b[0mdf_final\u001b[0m\u001b[0;34m[\u001b[0m\u001b[0;34m'A_ACT'\u001b[0m\u001b[0;34m]\u001b[0m\u001b[0;34m.\u001b[0m\u001b[0mastype\u001b[0m\u001b[0;34m(\u001b[0m\u001b[0;34m\"category\"\u001b[0m\u001b[0;34m)\u001b[0m\u001b[0;34m\u001b[0m\u001b[0;34m\u001b[0m\u001b[0m\n\u001b[0m\u001b[1;32m      2\u001b[0m \u001b[0;31m#print(df_final['A_ACT'].unique())\u001b[0m\u001b[0;34m\u001b[0m\u001b[0;34m\u001b[0m\u001b[0;34m\u001b[0m\u001b[0m\n\u001b[1;32m      3\u001b[0m \u001b[0;31m# A_ACT\u001b[0m\u001b[0;34m\u001b[0m\u001b[0;34m\u001b[0m\u001b[0;34m\u001b[0m\u001b[0m\n\u001b[1;32m      4\u001b[0m df_final['A_ACT'].cat.reorder_categories(['NUNCA',\\\n\u001b[1;32m      5\u001b[0m                                           \u001b[0;34m'UNA VEZ A LA SEMANA'\u001b[0m\u001b[0;34m,\u001b[0m\u001b[0;31m\\\u001b[0m\u001b[0;34m\u001b[0m\u001b[0;34m\u001b[0m\u001b[0m\n",
      "\u001b[0;31mNameError\u001b[0m: name 'df_final' is not defined"
     ]
    }
   ],
   "source": [
    "df_final['A_ACT'] = df_final['A_ACT'].astype(\"category\")\n",
    "#print(df_final['A_ACT'].unique())\n",
    "# A_ACT\n",
    "df_final['A_ACT'].cat.reorder_categories(['NUNCA',\\\n",
    "                                          'UNA VEZ A LA SEMANA',\\\n",
    "                                          'UNA O DOS VECES',\\\n",
    "                                          'DE 2 A 3 NOCHES EN A LA SEMANA',\\\n",
    "                                          'MAS DE 4 NOCHES A LA SEMANA'],ordered = True, inplace = True)\n",
    "# B_ACT\n",
    "df_final['B_ACT'] = df_final['B_ACT'].astype(\"category\")\n",
    "df_final['B_ACT'].cat.reorder_categories(['NUNCA',\\\n",
    "                                          '1 O 2 VECES A LA SEMANA',\\\n",
    "                                          'DE 3 A 6 VECES A LA SEMANA',\\\n",
    "                                          'UNA VEZ AL DIA',\\\n",
    "                                          'MAS DE UNA VEZ AL DIA'],ordered = True, inplace = True)\n",
    "# C_ACT\n",
    "df_final['C_ACT'] = df_final['C_ACT'].astype(\"category\")\n",
    "df_final['C_ACT'].cat.reorder_categories(['NUNCA',\\\n",
    "                                          'POCAS VECES',\\\n",
    "                                          'ALGUNAS VECES',\\\n",
    "                                          'CASI SIEMPRE',\\\n",
    "                                          'SIEMPRE'],ordered = True, inplace = True)\n",
    "# D_ACT\n",
    "df_final['D_ACT'] = df_final['D_ACT'].astype(\"category\")\n",
    "df_final['D_ACT'].cat.reorder_categories(['NUNCA',\\\n",
    "                                          '1 VEZ A LA SEMANA O MENOS',\\\n",
    "                                          '2 O 3 VECES A LA SEMANA',\\\n",
    "                                          '1 O 2 VECES AL DIA',\\\n",
    "                                          'MAS DE 3 VECES AL DIA'],ordered = True, inplace = True)\n",
    "# FEEDBACK\n",
    "df_final['FEEDBACK'] = df_final['FEEDBACK'].astype(\"category\")\n",
    "df_final['FEEDBACK'].cat.reorder_categories(['BIEN CONTROLADA',\\\n",
    "                                             'ALGO CONTROLADA',\\\n",
    "                                             'NADA CONTROLADA',\\\n",
    "                                             'MAL CONTROLADA',\\\n",
    "                                             'TOTALMENTE CONTROLADA'],ordered = True, inplace = True)\n",
    "\n",
    "# To watch each category elements, refer to (i.e): df_final['FEEDBACK'].unique()\n",
    "df_final.groupby('id_paciente').count().shape"
   ]
  },
  {
   "cell_type": "markdown",
   "metadata": {},
   "source": [
    "\n",
    "### Conclusion\n",
    "We see that the ACT test is carried out by means of 4 questions, which are answered by 1715 people and which were registered by date and with their respective results. Same case with feedback question stored as FEEDBACK. \n",
    "While the other questions seem to be asked for only one person. Thence, they shall be deleted.\n",
    "\n",
    "Final procedure. Convert ACT questions to columns as afore shown. In the final dataset `df_final`, we intend to leave the number of rows equivalent to the number of patients.Thus we have obtained a dataframe shaped as 456 patient records x "
   ]
  },
  {
   "cell_type": "code",
   "execution_count": 59,
   "metadata": {},
   "outputs": [
    {
     "output_type": "error",
     "ename": "NameError",
     "evalue": "name 'df_final' is not defined",
     "traceback": [
      "\u001b[0;31m---------------------------------------------------------------------------\u001b[0m",
      "\u001b[0;31mNameError\u001b[0m                                 Traceback (most recent call last)",
      "\u001b[0;32m<ipython-input-59-1b985987ef04>\u001b[0m in \u001b[0;36m<module>\u001b[0;34m\u001b[0m\n\u001b[0;32m----> 1\u001b[0;31m \u001b[0mdf_final\u001b[0m\u001b[0;34m.\u001b[0m\u001b[0mdescribe\u001b[0m\u001b[0;34m(\u001b[0m\u001b[0minclude\u001b[0m\u001b[0;34m=\u001b[0m\u001b[0;34m'all'\u001b[0m\u001b[0;34m)\u001b[0m\u001b[0;34m\u001b[0m\u001b[0;34m\u001b[0m\u001b[0m\n\u001b[0m",
      "\u001b[0;31mNameError\u001b[0m: name 'df_final' is not defined"
     ]
    }
   ],
   "source": [
    "df_final.describe(include='all')"
   ]
  },
  {
   "cell_type": "code",
   "execution_count": 60,
   "metadata": {},
   "outputs": [
    {
     "output_type": "error",
     "ename": "NameError",
     "evalue": "name 'df_final' is not defined",
     "traceback": [
      "\u001b[0;31m---------------------------------------------------------------------------\u001b[0m",
      "\u001b[0;31mNameError\u001b[0m                                 Traceback (most recent call last)",
      "\u001b[0;32m<ipython-input-60-f87f009da34d>\u001b[0m in \u001b[0;36m<module>\u001b[0;34m\u001b[0m\n\u001b[0;32m----> 1\u001b[0;31m \u001b[0mdf_final\u001b[0m\u001b[0;34m.\u001b[0m\u001b[0mshape\u001b[0m\u001b[0;34m\u001b[0m\u001b[0;34m\u001b[0m\u001b[0m\n\u001b[0m",
      "\u001b[0;31mNameError\u001b[0m: name 'df_final' is not defined"
     ]
    }
   ],
   "source": [
    "df_final.shape"
   ]
  },
  {
   "cell_type": "code",
   "execution_count": 61,
   "metadata": {},
   "outputs": [
    {
     "output_type": "error",
     "ename": "NameError",
     "evalue": "name 'df_final' is not defined",
     "traceback": [
      "\u001b[0;31m---------------------------------------------------------------------------\u001b[0m",
      "\u001b[0;31mNameError\u001b[0m                                 Traceback (most recent call last)",
      "\u001b[0;32m<ipython-input-61-4e8b72c76237>\u001b[0m in \u001b[0;36m<module>\u001b[0;34m\u001b[0m\n\u001b[0;32m----> 1\u001b[0;31m \u001b[0mdf_final\u001b[0m\u001b[0;34m.\u001b[0m\u001b[0mgroupby\u001b[0m\u001b[0;34m(\u001b[0m\u001b[0;34m'id_paciente'\u001b[0m\u001b[0;34m)\u001b[0m\u001b[0;34m.\u001b[0m\u001b[0mcount\u001b[0m\u001b[0;34m(\u001b[0m\u001b[0;34m)\u001b[0m\u001b[0;34m.\u001b[0m\u001b[0mshape\u001b[0m\u001b[0;34m\u001b[0m\u001b[0;34m\u001b[0m\u001b[0m\n\u001b[0m",
      "\u001b[0;31mNameError\u001b[0m: name 'df_final' is not defined"
     ]
    }
   ],
   "source": [
    "df_final.groupby('id_paciente').count().shape"
   ]
  },
  {
   "cell_type": "code",
   "execution_count": 62,
   "metadata": {},
   "outputs": [
    {
     "output_type": "error",
     "ename": "NameError",
     "evalue": "name 'df_final' is not defined",
     "traceback": [
      "\u001b[0;31m---------------------------------------------------------------------------\u001b[0m",
      "\u001b[0;31mNameError\u001b[0m                                 Traceback (most recent call last)",
      "\u001b[0;32m<ipython-input-62-b48a3890ead9>\u001b[0m in \u001b[0;36m<module>\u001b[0;34m\u001b[0m\n\u001b[0;32m----> 1\u001b[0;31m \u001b[0mdf_final\u001b[0m\u001b[0;34m.\u001b[0m\u001b[0mto_csv\u001b[0m\u001b[0;34m(\u001b[0m\u001b[0;34m'./data/cleansed/act_desagregado.csv'\u001b[0m\u001b[0;34m,\u001b[0m \u001b[0msep\u001b[0m\u001b[0;34m=\u001b[0m\u001b[0;34m'|'\u001b[0m\u001b[0;34m)\u001b[0m\u001b[0;34m\u001b[0m\u001b[0;34m\u001b[0m\u001b[0m\n\u001b[0m",
      "\u001b[0;31mNameError\u001b[0m: name 'df_final' is not defined"
     ]
    }
   ],
   "source": [
    "df_final.to_csv('./data/cleansed/act_desagregado.csv', sep='|')"
   ]
  },
  {
   "cell_type": "code",
   "execution_count": 63,
   "metadata": {},
   "outputs": [
    {
     "output_type": "error",
     "ename": "NameError",
     "evalue": "name 'msno' is not defined",
     "traceback": [
      "\u001b[0;31m---------------------------------------------------------------------------\u001b[0m",
      "\u001b[0;31mNameError\u001b[0m                                 Traceback (most recent call last)",
      "\u001b[0;32m<ipython-input-63-3833eafe8215>\u001b[0m in \u001b[0;36m<module>\u001b[0;34m\u001b[0m\n\u001b[0;32m----> 1\u001b[0;31m \u001b[0mmsno\u001b[0m\u001b[0;34m.\u001b[0m\u001b[0mmatrix\u001b[0m\u001b[0;34m(\u001b[0m\u001b[0mmsno\u001b[0m\u001b[0;34m.\u001b[0m\u001b[0mnullity_sort\u001b[0m\u001b[0;34m(\u001b[0m\u001b[0mdf_final\u001b[0m\u001b[0;34m,\u001b[0m \u001b[0msort\u001b[0m\u001b[0;34m=\u001b[0m\u001b[0;34m'descending'\u001b[0m\u001b[0;34m)\u001b[0m\u001b[0;34m)\u001b[0m\u001b[0;34m\u001b[0m\u001b[0;34m\u001b[0m\u001b[0m\n\u001b[0m\u001b[1;32m      2\u001b[0m \u001b[0;34m\u001b[0m\u001b[0m\n",
      "\u001b[0;31mNameError\u001b[0m: name 'msno' is not defined"
     ]
    }
   ],
   "source": [
    "msno.matrix(msno.nullity_sort(df_final, sort='descending'))\n",
    "\n"
   ]
  },
  {
   "cell_type": "markdown",
   "metadata": {},
   "source": []
  },
  {
   "cell_type": "code",
   "execution_count": 64,
   "metadata": {},
   "outputs": [
    {
     "output_type": "error",
     "ename": "NameError",
     "evalue": "name 'df_final' is not defined",
     "traceback": [
      "\u001b[0;31m---------------------------------------------------------------------------\u001b[0m",
      "\u001b[0;31mNameError\u001b[0m                                 Traceback (most recent call last)",
      "\u001b[0;32m<ipython-input-64-f94a45fdf73e>\u001b[0m in \u001b[0;36m<module>\u001b[0;34m\u001b[0m\n\u001b[0;32m----> 1\u001b[0;31m \u001b[0mdf_final\u001b[0m\u001b[0;34m\u001b[0m\u001b[0;34m\u001b[0m\u001b[0m\n\u001b[0m",
      "\u001b[0;31mNameError\u001b[0m: name 'df_final' is not defined"
     ]
    }
   ],
   "source": [
    "df_final"
   ]
  },
  {
   "cell_type": "code",
   "execution_count": null,
   "metadata": {},
   "outputs": [],
   "source": []
  },
  {
   "cell_type": "code",
   "execution_count": null,
   "metadata": {},
   "outputs": [],
   "source": []
  },
  {
   "cell_type": "code",
   "execution_count": null,
   "metadata": {},
   "outputs": [],
   "source": []
  },
  {
   "cell_type": "code",
   "execution_count": null,
   "metadata": {},
   "outputs": [],
   "source": []
  },
  {
   "cell_type": "code",
   "execution_count": null,
   "metadata": {},
   "outputs": [],
   "source": []
  },
  {
   "cell_type": "code",
   "execution_count": null,
   "metadata": {},
   "outputs": [],
   "source": []
  },
  {
   "cell_type": "code",
   "execution_count": null,
   "metadata": {},
   "outputs": [],
   "source": []
  },
  {
   "cell_type": "code",
   "execution_count": null,
   "metadata": {},
   "outputs": [],
   "source": []
  },
  {
   "cell_type": "code",
   "execution_count": null,
   "metadata": {},
   "outputs": [],
   "source": []
  }
 ],
 "metadata": {
  "kernelspec": {
   "display_name": "Python 3",
   "language": "python",
   "name": "python3"
  },
  "language_info": {
   "codemirror_mode": {
    "name": "ipython",
    "version": 3
   },
   "file_extension": ".py",
   "mimetype": "text/x-python",
   "name": "python",
   "nbconvert_exporter": "python",
   "pygments_lexer": "ipython3",
   "version": "3.7.6-final"
  }
 },
 "nbformat": 4,
 "nbformat_minor": 4
}