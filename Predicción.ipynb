{
 "cells": [
  {
   "cell_type": "code",
   "execution_count": 1,
   "metadata": {
    "colab": {},
    "colab_type": "code",
    "id": "RaWPrqIVrNm3"
   },
   "outputs": [
    {
     "ename": "ModuleNotFoundError",
     "evalue": "No module named 'plotly'",
     "output_type": "error",
     "traceback": [
      "\u001b[0;31m---------------------------------------------------------------------------\u001b[0m",
      "\u001b[0;31mModuleNotFoundError\u001b[0m                       Traceback (most recent call last)",
      "\u001b[0;32m<ipython-input-1-36cd4900eca7>\u001b[0m in \u001b[0;36m<module>\u001b[0;34m\u001b[0m\n\u001b[1;32m      1\u001b[0m \u001b[0;32mimport\u001b[0m \u001b[0mpandas\u001b[0m \u001b[0;32mas\u001b[0m \u001b[0mpd\u001b[0m\u001b[0;34m\u001b[0m\u001b[0;34m\u001b[0m\u001b[0m\n\u001b[1;32m      2\u001b[0m \u001b[0;32mimport\u001b[0m \u001b[0mmatplotlib\u001b[0m\u001b[0;34m.\u001b[0m\u001b[0mpyplot\u001b[0m \u001b[0;32mas\u001b[0m \u001b[0mplt\u001b[0m\u001b[0;34m\u001b[0m\u001b[0;34m\u001b[0m\u001b[0m\n\u001b[0;32m----> 3\u001b[0;31m \u001b[0;32mfrom\u001b[0m \u001b[0mplotly\u001b[0m\u001b[0;34m.\u001b[0m\u001b[0msubplots\u001b[0m \u001b[0;32mimport\u001b[0m \u001b[0mmake_subplots\u001b[0m\u001b[0;34m\u001b[0m\u001b[0;34m\u001b[0m\u001b[0m\n\u001b[0m\u001b[1;32m      4\u001b[0m \u001b[0;32mimport\u001b[0m \u001b[0mplotly\u001b[0m\u001b[0;34m.\u001b[0m\u001b[0mgraph_objects\u001b[0m \u001b[0;32mas\u001b[0m \u001b[0mgo\u001b[0m\u001b[0;34m\u001b[0m\u001b[0;34m\u001b[0m\u001b[0m\n\u001b[1;32m      5\u001b[0m \u001b[0;32mimport\u001b[0m \u001b[0mnumpy\u001b[0m \u001b[0;32mas\u001b[0m \u001b[0mnp\u001b[0m\u001b[0;34m\u001b[0m\u001b[0;34m\u001b[0m\u001b[0m\n",
      "\u001b[0;31mModuleNotFoundError\u001b[0m: No module named 'plotly'"
     ]
    }
   ],
   "source": [
    "import pandas as pd\n",
    "import matplotlib.pyplot as plt\n",
    "from plotly.subplots import make_subplots\n",
    "import plotly.graph_objects as go\n",
    "import numpy as np\n",
    "import plotly.express as px\n",
    "# library\n",
    "import seaborn as sns\n",
    "\n",
    "#Importamos dependencias\n",
    "import statsmodels.api as sm\n",
    "import statsmodels.formula.api as sfm\n",
    "\n",
    "from matplotlib.widgets import Slider, Button, RadioButtons\n",
    "from scipy import interp\n",
    "from scipy.optimize import fsolve\n",
    "from scipy.stats import chi2_contingency, ttest_ind\n",
    "from sklearn.metrics import roc_curve, auc\n",
    "from sklearn.model_selection import StratifiedKFold\n",
    "from statsmodels.formula.api import ols"
   ]
  },
  {
   "cell_type": "code",
   "execution_count": null,
   "metadata": {},
   "outputs": [],
   "source": [
    "!ls"
   ]
  },
  {
   "cell_type": "markdown",
   "metadata": {},
   "source": [
    "> ¿Está la adherencia relacionada con los hábitos?"
   ]
  },
  {
   "cell_type": "code",
   "execution_count": null,
   "metadata": {},
   "outputs": [],
   "source": [
    "adh_df = pd.read_csv('Adher.csv')"
   ]
  },
  {
   "cell_type": "code",
   "execution_count": null,
   "metadata": {},
   "outputs": [],
   "source": [
    "adh_df.info()"
   ]
  },
  {
   "cell_type": "code",
   "execution_count": null,
   "metadata": {},
   "outputs": [],
   "source": [
    "adh_df.describe(include = 'all').T"
   ]
  },
  {
   "cell_type": "code",
   "execution_count": null,
   "metadata": {},
   "outputs": [],
   "source": [
    "adh_df.head() #adh_df[['id_patient', 'survey_date', 'quantitative_result']]"
   ]
  },
  {
   "cell_type": "code",
   "execution_count": null,
   "metadata": {},
   "outputs": [],
   "source": [
    "adh_df.dtypes"
   ]
  },
  {
   "cell_type": "code",
   "execution_count": null,
   "metadata": {},
   "outputs": [],
   "source": [
    "from pandas.api.types import CategoricalDtype\n",
    "cat_type = CategoricalDtype(categories=['NO APLICA', \n",
    "                                        '<30%',\n",
    "                                        '30-65%',\n",
    "                                        '64-84%',\n",
    "                                        '85-94%',                                       \n",
    "                                        '95-100%'], ordered=True)\n",
    "adh_df['quantitative_result'] = adh_df['quantitative_result'].astype(cat_type)"
   ]
  },
  {
   "cell_type": "code",
   "execution_count": null,
   "metadata": {},
   "outputs": [],
   "source": [
    "adh_df['quantitative_result'].cat.codes.head()"
   ]
  },
  {
   "cell_type": "code",
   "execution_count": null,
   "metadata": {},
   "outputs": [],
   "source": [
    "adh_df['id_patient'].value_counts().head()"
   ]
  },
  {
   "cell_type": "code",
   "execution_count": null,
   "metadata": {},
   "outputs": [],
   "source": [
    "df_0 = adh_df[adh_df['id_patient'] == 1769865].copy()\n",
    "df_0.sort_values('quantitative_result').head()"
   ]
  },
  {
   "cell_type": "code",
   "execution_count": null,
   "metadata": {},
   "outputs": [],
   "source": [
    "import plotly.express as px\n",
    "#df = px.data.iris()\n",
    "fig = px.scatter(df_0.sort_values('quantitative_result'), \n",
    "                 x=\"survey_date\", \n",
    "                 y=\"quantitative_result\", \n",
    "                 color=\"qualitative_result\")\n",
    "fig.update_layout(yaxis_type='category',\n",
    "                  title_text='Bar chart with categorical axes')\n",
    "fig.show()"
   ]
  },
  {
   "cell_type": "code",
   "execution_count": null,
   "metadata": {},
   "outputs": [],
   "source": [
    "#Dataset de hábitos Habitos.xlsx\n",
    "hab_df = pd.read_csv('habits.csv')"
   ]
  },
  {
   "cell_type": "code",
   "execution_count": null,
   "metadata": {},
   "outputs": [],
   "source": [
    "hab_df.head().columns"
   ]
  },
  {
   "cell_type": "code",
   "execution_count": null,
   "metadata": {},
   "outputs": [],
   "source": [
    "df_1 = hab_df[['id_patient', 'registration_date']].rename(columns = {'registration_date':'r_date'}).copy()\n",
    "df_1['quantitative_result'] = np.nan #qualitative_result\n",
    "df_1['qualitative_result'] = np.nan\n",
    "df_1['source'] = 'habits'\n",
    "print(df_1.shape)\n",
    "df_1.head()"
   ]
  },
  {
   "cell_type": "code",
   "execution_count": null,
   "metadata": {},
   "outputs": [],
   "source": [
    "df_2 = adh_df[['id_patient', 'survey_date', 'quantitative_result', 'qualitative_result']].rename(columns = {'survey_date':'r_date'}).copy()\n",
    "df_2['source'] = 'adherence'\n",
    "print(df_2.shape)\n",
    "df_2.head()"
   ]
  },
  {
   "cell_type": "code",
   "execution_count": null,
   "metadata": {},
   "outputs": [],
   "source": [
    "df_3 = df_1.append(df_2)\n",
    "print(df_3.shape)\n",
    "df_3['id_patient'].value_counts().head(20)"
   ]
  },
  {
   "cell_type": "code",
   "execution_count": null,
   "metadata": {},
   "outputs": [],
   "source": [
    "df_3[df_3['id_patient'] == 1769865].sort_values('r_date')"
   ]
  },
  {
   "cell_type": "code",
   "execution_count": null,
   "metadata": {},
   "outputs": [],
   "source": [
    "import plotly.express as px\n",
    "#df = px.data.iris()\n",
    "fig = px.scatter(df_3[df_3['id_patient'] == 1769865].sort_values('quantitative_result'), x=\"r_date\", y=\"quantitative_result\")\n",
    "fig.update_layout(yaxis_type='category',\n",
    "                  title_text='Bar chart with categorical axes')\n",
    "fig.show()"
   ]
  },
  {
   "cell_type": "code",
   "execution_count": null,
   "metadata": {},
   "outputs": [],
   "source": [
    "df_3.head()"
   ]
  },
  {
   "cell_type": "code",
   "execution_count": null,
   "metadata": {},
   "outputs": [],
   "source": [
    "df_3.dtypes"
   ]
  },
  {
   "cell_type": "code",
   "execution_count": null,
   "metadata": {},
   "outputs": [],
   "source": [
    "cat_type = CategoricalDtype(categories=['NO APLICA', \n",
    "                                        '<30%',\n",
    "                                        '30-65%',\n",
    "                                        '64-84%',\n",
    "                                        '85-94%',                                       \n",
    "                                        '95-100%'], ordered=True)\n",
    "df_3['quantitative_result'] = df_3['quantitative_result'].astype(cat_type)"
   ]
  },
  {
   "cell_type": "code",
   "execution_count": null,
   "metadata": {},
   "outputs": [],
   "source": [
    "#qualitative_result\n",
    "df_3['qualitative_result'].value_counts()\n",
    "\n",
    "cat_type = CategoricalDtype(categories=['si', \n",
    "                                        'no'], ordered=True)\n",
    "df_3['qualitative_result'] = df_3['qualitative_result'].astype(cat_type)"
   ]
  },
  {
   "cell_type": "code",
   "execution_count": null,
   "metadata": {},
   "outputs": [],
   "source": [
    "def fill_nas(g):\n",
    "    if sum(g['quantitative_result'].notna()) > 0:\n",
    "        #Backward\n",
    "        g['quantitative_result'] = g['quantitative_result'].fillna(method='bfill')\n",
    "        g['qualitative_result'] = g['qualitative_result'].fillna(method='bfill')\n",
    "        #Forward\n",
    "        g['quantitative_result'] = g['quantitative_result'].interpolate(method='pad')\n",
    "        g['qualitative_result'] = g['qualitative_result'].interpolate(method='pad')\n",
    "    if sum(g['quantitative_result'].isna()) > 0:\n",
    "        print(g)\n",
    "    return g\n",
    "\n",
    "#g['quantitative_result'].interpolate(method='pad', limit_direction = 'backward')\n",
    "print(df_3.sort_values(by = ['id_patient', 'r_date']).groupby('id_patient').apply(lambda x:x).info())\n",
    "df_4 = df_3.sort_values(by = ['id_patient', 'r_date']).groupby('id_patient').apply(lambda x:fill_nas(x))\n",
    "df_4"
   ]
  },
  {
   "cell_type": "code",
   "execution_count": null,
   "metadata": {},
   "outputs": [],
   "source": [
    "user = 1764814\n",
    "fig = px.scatter(df_4[df_4['id_patient'] == user].sort_values('quantitative_result'), \n",
    "                 x=\"r_date\", \n",
    "                 y=\"quantitative_result\",\n",
    "                color=\"source\")\n",
    "fig.update_layout(yaxis_type='category',\n",
    "                  title_text='Bar chart with categorical axes')\n",
    "fig.show()\n",
    "\n",
    "print(df_4[df_4['id_patient'] == user])"
   ]
  },
  {
   "cell_type": "code",
   "execution_count": null,
   "metadata": {},
   "outputs": [],
   "source": [
    "df_4[df_4['source']=='habits'].head()"
   ]
  },
  {
   "cell_type": "code",
   "execution_count": null,
   "metadata": {},
   "outputs": [],
   "source": [
    "df_4.columns"
   ]
  },
  {
   "cell_type": "code",
   "execution_count": null,
   "metadata": {},
   "outputs": [],
   "source": [
    "df_4[df_4['source']=='habits'].groupby(by = ['id_patient', 'r_date'], as_index = False)"
   ]
  },
  {
   "cell_type": "code",
   "execution_count": null,
   "metadata": {},
   "outputs": [],
   "source": [
    "hab_df.groupby(by = ['id_patient','registration_date'] ).apply(lambda x: )"
   ]
  },
  {
   "cell_type": "code",
   "execution_count": null,
   "metadata": {},
   "outputs": [],
   "source": [
    "hab_df.drop_duplicates().shape"
   ]
  },
  {
   "cell_type": "code",
   "execution_count": null,
   "metadata": {},
   "outputs": [],
   "source": [
    "hab_df.head()"
   ]
  },
  {
   "cell_type": "code",
   "execution_count": null,
   "metadata": {},
   "outputs": [],
   "source": [
    "hab_df['habit_one'].value_counts().plot.bar()"
   ]
  },
  {
   "cell_type": "code",
   "execution_count": null,
   "metadata": {},
   "outputs": [],
   "source": [
    "df_5 = hab_df.join(df_4[df_4['source']=='habits'][['quantitative_result', 'qualitative_result']])\n",
    "df_5.head()"
   ]
  },
  {
   "cell_type": "code",
   "execution_count": null,
   "metadata": {},
   "outputs": [],
   "source": [
    "selected_features = ['habit_one', 'habit_two']\n",
    "\n",
    "df_5['registration_date'] = pd.to_datetime(df_5['registration_date'])\n",
    "\n",
    "for column in selected_features:\n",
    "  df_5[column] = df_5[column].astype('category')"
   ]
  },
  {
   "cell_type": "code",
   "execution_count": null,
   "metadata": {},
   "outputs": [],
   "source": [
    "df_5.dtypes"
   ]
  },
  {
   "cell_type": "code",
   "execution_count": null,
   "metadata": {},
   "outputs": [],
   "source": [
    "#%%time\n",
    "vars_to_see_0 = ['habit_one', \n",
    "                 'habit_two',\n",
    "                 'quantitative_result'                 \n",
    "               ]\n",
    "df = df_5[df_5['qualitative_result'].notna()]\n",
    "for c in vars_to_see_0:\n",
    "    vars_to_see = [c]\n",
    "    dfs = []\n",
    "    for column in vars_to_see:\n",
    "      dfs.append(pd.get_dummies(df[column], prefix=column, drop_first=True))\n",
    "\n",
    "    df_log_x = pd.concat(dfs, axis=1)\n",
    "    df_log_x['Intercept'] = 1\n",
    "\n",
    "    logit_full1 = sm.Logit(df['qualitative_result'].cat.codes, df_log_x)\n",
    "    logit_full1_res = logit_full1.fit()\n",
    "    predict_withvs = logit_full1_res.predict(df_log_x)\n",
    "    print(logit_full1_res.summary())\n",
    "\n",
    "    #%matplotlib inline\n",
    "\n",
    "    #Next we plot the ROC curve:\n",
    "    roc_vs = roc_curve(df['qualitative_result'].astype('category').cat.codes, predict_withvs)\n",
    "    auc_vs = auc( roc_vs[0], roc_vs[1] )\n",
    "\n",
    "    plt.figure()\n",
    "    line_width = 2\n",
    "    plt.plot(roc_vs[0], roc_vs[1], color='darkorange', lw=line_width,\n",
    "             label=f\"ROC based on training data (AUC = {auc_vs:0.2f})\")\n",
    "    plt.plot([0, 1], [0, 1], color='navy', lw=line_width, linestyle='--', label='Random guess')\n",
    "    plt.xlim([0.0, 1.0])\n",
    "    plt.ylim([0.0, 1.05])\n",
    "    plt.xlabel('False Positive Rate')\n",
    "    plt.ylabel('True Positive Rate')\n",
    "    plt.title('Classification of Defaulters')\n",
    "    plt.legend(loc='lower right')\n",
    "    plt.show()"
   ]
  },
  {
   "cell_type": "code",
   "execution_count": null,
   "metadata": {},
   "outputs": [],
   "source": [
    "%%time\n",
    "vars_to_see = ['habit_one', \n",
    "                 'habit_two',\n",
    "                 #'quantitative_result'                 \n",
    "               ]\n",
    "\n",
    "df = df_5[df_5['qualitative_result'].notna()]\n",
    "\n",
    "dfs = []\n",
    "for column in vars_to_see:\n",
    "  dfs.append(pd.get_dummies(df[column], prefix=column, drop_first=True))\n",
    "\n",
    "df_log_x = pd.concat(dfs, axis=1)"
   ]
  },
  {
   "cell_type": "code",
   "execution_count": null,
   "metadata": {},
   "outputs": [],
   "source": [
    "temp_df = df_log_x.corr().stack().reset_index().sort_values(by = 0, ascending = False)\n",
    "temp_df[temp_df['level_0'] != temp_df['level_1']].head(10)"
   ]
  },
  {
   "cell_type": "code",
   "execution_count": null,
   "metadata": {},
   "outputs": [],
   "source": [
    "df_log_x.drop(['habit_one_ESTADO ANÍMICO', 'habit_one_ALIMENTACION','habit_one_EJERCICIO'], axis='columns', inplace=True)\n",
    "\n",
    "#Configura intercepto\n",
    "df_log_x['Intercept'] = 1\n",
    "\n",
    "logit_full1 = sm.Logit(df['qualitative_result'].astype('category').cat.codes, df_log_x)\n",
    "logit_full1_res = logit_full1.fit()\n",
    "predict_withvs = logit_full1_res.predict(df_log_x)\n",
    "print(logit_full1_res.summary())\n",
    "\n",
    "#%matplotlib inline\n",
    "\n",
    "#Next we plot the ROC curve:\n",
    "roc_vs = roc_curve(df['qualitative_result'].astype('category').cat.codes, predict_withvs)\n",
    "auc_vs = auc( roc_vs[0], roc_vs[1] )\n",
    "\n",
    "plt.figure()\n",
    "line_width = 2\n",
    "plt.plot(roc_vs[0], roc_vs[1], color='darkorange', lw=line_width,\n",
    "         label=f\"ROC based on training data (AUC = {auc_vs:0.2f})\")\n",
    "plt.plot([0, 1], [0, 1], color='navy', lw=line_width, linestyle='--', label='Random guess')\n",
    "plt.xlim([0.0, 1.0])\n",
    "plt.ylim([0.0, 1.05])\n",
    "plt.xlabel('False Positive Rate')\n",
    "plt.ylabel('True Positive Rate')\n",
    "plt.title('Classification of Defaulters')\n",
    "plt.legend(loc='lower right')\n",
    "plt.show()"
   ]
  },
  {
   "cell_type": "code",
   "execution_count": null,
   "metadata": {},
   "outputs": [],
   "source": [
    "df_temp = pd.read_excel('Habitos.xlsx')"
   ]
  },
  {
   "cell_type": "code",
   "execution_count": null,
   "metadata": {},
   "outputs": [],
   "source": []
  },
  {
   "cell_type": "code",
   "execution_count": null,
   "metadata": {},
   "outputs": [],
   "source": [
    "hab_df.head()"
   ]
  },
  {
   "cell_type": "code",
   "execution_count": null,
   "metadata": {},
   "outputs": [],
   "source": [
    "temp_df = hab_df[['id_patient', \n",
    "        'registration_date', \n",
    "        'habit_one',\n",
    "       'habit_two']].groupby( by = ['id_patient', \n",
    "                                    'registration_date',\n",
    "                                    'habit_one'],\n",
    "                            as_index = False).first().sort_values( by = 'habit_two', \n",
    "                                                                      ascending = False)\n",
    "\n",
    "temp_df.drop_duplicates(inplace=True)\n",
    "temp_df = temp_df.loc[~temp_df.index.duplicated(keep='first')]\n",
    "\n",
    "temp_df.pivot(index=['id_patient', 'registration_date'], columns=['habit_one'], values=['habit_two'])\n"
   ]
  },
  {
   "cell_type": "code",
   "execution_count": null,
   "metadata": {},
   "outputs": [],
   "source": [
    "hab_df.pivot(index=['id_patient', 'registration_date'], columns='habit_one', values='habit_two')"
   ]
  },
  {
   "cell_type": "code",
   "execution_count": null,
   "metadata": {},
   "outputs": [],
   "source": []
  }
 ],
 "metadata": {
  "colab": {
   "authorship_tag": "ABX9TyOZftWfgBzCjSUvh/+BniDs",
   "name": "Predicción.ipynb",
   "provenance": []
  },
  "kernelspec": {
   "display_name": "Python 3",
   "language": "python",
   "name": "python3"
  },
  "language_info": {
   "codemirror_mode": {
    "name": "ipython",
    "version": 3
   },
   "file_extension": ".py",
   "mimetype": "text/x-python",
   "name": "python",
   "nbconvert_exporter": "python",
   "pygments_lexer": "ipython3",
   "version": "3.6.7"
  }
 },
 "nbformat": 4,
 "nbformat_minor": 1
}
