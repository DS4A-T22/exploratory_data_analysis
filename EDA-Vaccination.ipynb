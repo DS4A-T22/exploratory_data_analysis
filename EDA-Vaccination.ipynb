{
 "cells": [
  {
   "cell_type": "markdown",
   "metadata": {},
   "source": [
    " ## DATASET DE VACUNACION \n",
    " This dataset has 264 patients and 8 different features or columns and from a visual inspection we can find that there are two long description columns, one refering to the health service and the second to the diagnostic. "
   ]
  },
  {
   "cell_type": "code",
   "execution_count": 74,
   "metadata": {},
   "outputs": [],
   "source": [
    "import pandas as pd\n",
    "import numpy as np\n",
    "import missingno as msno\n",
    "import matplotlib.pyplot as plt\n",
    "import seaborn as sns\n",
    "import folium\n",
    "import json\n",
    "import requests\n",
    "import geopandas as gpd\n",
    "%matplotlib inline"
   ]
  },
  {
   "cell_type": "code",
   "execution_count": 75,
   "metadata": {},
   "outputs": [
    {
     "data": {
      "text/html": [
       "<div>\n",
       "<style scoped>\n",
       "    .dataframe tbody tr th:only-of-type {\n",
       "        vertical-align: middle;\n",
       "    }\n",
       "\n",
       "    .dataframe tbody tr th {\n",
       "        vertical-align: top;\n",
       "    }\n",
       "\n",
       "    .dataframe thead th {\n",
       "        text-align: right;\n",
       "    }\n",
       "</style>\n",
       "<table border=\"1\" class=\"dataframe\">\n",
       "  <thead>\n",
       "    <tr style=\"text-align: right;\">\n",
       "      <th></th>\n",
       "      <th>Numero_de_documento</th>\n",
       "      <th>Fecha_Emision</th>\n",
       "      <th>Regional_EPS_Desc</th>\n",
       "      <th>Codigo_Prestacion_Op</th>\n",
       "      <th>Descripcion_Prestacion</th>\n",
       "      <th>Codigo_Diagnostico_EPS_Op</th>\n",
       "      <th>Diagnostico_EPS_Desc</th>\n",
       "      <th>Cantidad_Autorizada</th>\n",
       "    </tr>\n",
       "  </thead>\n",
       "  <tbody>\n",
       "    <tr>\n",
       "      <th>0</th>\n",
       "      <td>845676</td>\n",
       "      <td>2018-01-29</td>\n",
       "      <td>Bogota</td>\n",
       "      <td>S1120191</td>\n",
       "      <td>VACUNA PAI INFLUENZA NIÑOS/AS MAYORES DE 9 AÑOS</td>\n",
       "      <td>Z251</td>\n",
       "      <td>NECESIDAD DE INMUNIZACIÓN CONTRA LA INFLUENZA ...</td>\n",
       "      <td>1</td>\n",
       "    </tr>\n",
       "    <tr>\n",
       "      <th>1</th>\n",
       "      <td>686768</td>\n",
       "      <td>2018-05-20</td>\n",
       "      <td>Medellin</td>\n",
       "      <td>S1120191</td>\n",
       "      <td>VACUNA PAI INFLUENZA NIÑOS/AS MAYORES DE 9 AÑOS</td>\n",
       "      <td>Z759</td>\n",
       "      <td>PROBLEMA NO ESPECIFICADO RELACIONADO CON SERVI...</td>\n",
       "      <td>1</td>\n",
       "    </tr>\n",
       "    <tr>\n",
       "      <th>2</th>\n",
       "      <td>1790062</td>\n",
       "      <td>2018-06-05</td>\n",
       "      <td>Medellin</td>\n",
       "      <td>S1120191</td>\n",
       "      <td>VACUNA PAI INFLUENZA NIÑOS/AS MAYORES DE 9 AÑOS</td>\n",
       "      <td>Z251</td>\n",
       "      <td>NECESIDAD DE INMUNIZACIÓN CONTRA LA INFLUENZA ...</td>\n",
       "      <td>1</td>\n",
       "    </tr>\n",
       "    <tr>\n",
       "      <th>3</th>\n",
       "      <td>1142931</td>\n",
       "      <td>2018-01-10</td>\n",
       "      <td>Medellin</td>\n",
       "      <td>S1120191</td>\n",
       "      <td>VACUNA PAI INFLUENZA NIÑOS/AS MAYORES DE 9 AÑOS</td>\n",
       "      <td>Z759</td>\n",
       "      <td>PROBLEMA NO ESPECIFICADO RELACIONADO CON SERVI...</td>\n",
       "      <td>1</td>\n",
       "    </tr>\n",
       "    <tr>\n",
       "      <th>4</th>\n",
       "      <td>1734917</td>\n",
       "      <td>2018-06-06</td>\n",
       "      <td>Medellin</td>\n",
       "      <td>S1120191</td>\n",
       "      <td>VACUNA PAI INFLUENZA NIÑOS/AS MAYORES DE 9 AÑOS</td>\n",
       "      <td>Z251</td>\n",
       "      <td>NECESIDAD DE INMUNIZACIÓN CONTRA LA INFLUENZA ...</td>\n",
       "      <td>1</td>\n",
       "    </tr>\n",
       "    <tr>\n",
       "      <th>...</th>\n",
       "      <td>...</td>\n",
       "      <td>...</td>\n",
       "      <td>...</td>\n",
       "      <td>...</td>\n",
       "      <td>...</td>\n",
       "      <td>...</td>\n",
       "      <td>...</td>\n",
       "      <td>...</td>\n",
       "    </tr>\n",
       "    <tr>\n",
       "      <th>259</th>\n",
       "      <td>695889</td>\n",
       "      <td>2020-05-06</td>\n",
       "      <td>Medellin</td>\n",
       "      <td>S1120192</td>\n",
       "      <td>VACUNA PAI INFLUENZA NIÑOS/AS MAYORES DE 9 AÑOS</td>\n",
       "      <td>Z251</td>\n",
       "      <td>NECESIDAD DE INMUNIZACIÓN CONTRA LA INFLUENZA ...</td>\n",
       "      <td>1</td>\n",
       "    </tr>\n",
       "    <tr>\n",
       "      <th>260</th>\n",
       "      <td>682268</td>\n",
       "      <td>2020-05-13</td>\n",
       "      <td>Medellin</td>\n",
       "      <td>S1120191</td>\n",
       "      <td>VACUNA PAI INFLUENZA NIÑOS/AS MAYORES DE 9 AÑOS</td>\n",
       "      <td>Z759</td>\n",
       "      <td>PROBLEMA NO ESPECIFICADO RELACIONADO CON SERVI...</td>\n",
       "      <td>1</td>\n",
       "    </tr>\n",
       "    <tr>\n",
       "      <th>261</th>\n",
       "      <td>1932263</td>\n",
       "      <td>2020-05-11</td>\n",
       "      <td>Bogota</td>\n",
       "      <td>S1120191</td>\n",
       "      <td>VACUNA PAI INFLUENZA NIÑOS/AS MAYORES DE 9 AÑOS</td>\n",
       "      <td>Z251</td>\n",
       "      <td>NECESIDAD DE INMUNIZACIÓN CONTRA LA INFLUENZA ...</td>\n",
       "      <td>1</td>\n",
       "    </tr>\n",
       "    <tr>\n",
       "      <th>262</th>\n",
       "      <td>1233344</td>\n",
       "      <td>2020-05-14</td>\n",
       "      <td>Medellin</td>\n",
       "      <td>S1120195</td>\n",
       "      <td>VACUNA PAI INFLUENZA NIÑOS/AS MAYORES DE 9 AÑOS</td>\n",
       "      <td>Z251</td>\n",
       "      <td>NECESIDAD DE INMUNIZACIÓN CONTRA LA INFLUENZA ...</td>\n",
       "      <td>1</td>\n",
       "    </tr>\n",
       "    <tr>\n",
       "      <th>263</th>\n",
       "      <td>1035965</td>\n",
       "      <td>2020-05-13</td>\n",
       "      <td>Medellin</td>\n",
       "      <td>S1120192</td>\n",
       "      <td>VACUNA PAI INFLUENZA NIÑOS/AS MAYORES DE 9 AÑOS</td>\n",
       "      <td>Z251</td>\n",
       "      <td>NECESIDAD DE INMUNIZACIÓN CONTRA LA INFLUENZA ...</td>\n",
       "      <td>1</td>\n",
       "    </tr>\n",
       "  </tbody>\n",
       "</table>\n",
       "<p>264 rows × 8 columns</p>\n",
       "</div>"
      ],
      "text/plain": [
       "     Numero_de_documento Fecha_Emision Regional_EPS_Desc Codigo_Prestacion_Op  \\\n",
       "0                 845676    2018-01-29            Bogota             S1120191   \n",
       "1                 686768    2018-05-20          Medellin             S1120191   \n",
       "2                1790062    2018-06-05          Medellin             S1120191   \n",
       "3                1142931    2018-01-10          Medellin             S1120191   \n",
       "4                1734917    2018-06-06          Medellin             S1120191   \n",
       "..                   ...           ...               ...                  ...   \n",
       "259               695889    2020-05-06          Medellin             S1120192   \n",
       "260               682268    2020-05-13          Medellin             S1120191   \n",
       "261              1932263    2020-05-11            Bogota             S1120191   \n",
       "262              1233344    2020-05-14          Medellin             S1120195   \n",
       "263              1035965    2020-05-13          Medellin             S1120192   \n",
       "\n",
       "                              Descripcion_Prestacion  \\\n",
       "0    VACUNA PAI INFLUENZA NIÑOS/AS MAYORES DE 9 AÑOS   \n",
       "1    VACUNA PAI INFLUENZA NIÑOS/AS MAYORES DE 9 AÑOS   \n",
       "2    VACUNA PAI INFLUENZA NIÑOS/AS MAYORES DE 9 AÑOS   \n",
       "3    VACUNA PAI INFLUENZA NIÑOS/AS MAYORES DE 9 AÑOS   \n",
       "4    VACUNA PAI INFLUENZA NIÑOS/AS MAYORES DE 9 AÑOS   \n",
       "..                                               ...   \n",
       "259  VACUNA PAI INFLUENZA NIÑOS/AS MAYORES DE 9 AÑOS   \n",
       "260  VACUNA PAI INFLUENZA NIÑOS/AS MAYORES DE 9 AÑOS   \n",
       "261  VACUNA PAI INFLUENZA NIÑOS/AS MAYORES DE 9 AÑOS   \n",
       "262  VACUNA PAI INFLUENZA NIÑOS/AS MAYORES DE 9 AÑOS   \n",
       "263  VACUNA PAI INFLUENZA NIÑOS/AS MAYORES DE 9 AÑOS   \n",
       "\n",
       "    Codigo_Diagnostico_EPS_Op  \\\n",
       "0                        Z251   \n",
       "1                        Z759   \n",
       "2                        Z251   \n",
       "3                        Z759   \n",
       "4                        Z251   \n",
       "..                        ...   \n",
       "259                      Z251   \n",
       "260                      Z759   \n",
       "261                      Z251   \n",
       "262                      Z251   \n",
       "263                      Z251   \n",
       "\n",
       "                                  Diagnostico_EPS_Desc  Cantidad_Autorizada  \n",
       "0    NECESIDAD DE INMUNIZACIÓN CONTRA LA INFLUENZA ...                    1  \n",
       "1    PROBLEMA NO ESPECIFICADO RELACIONADO CON SERVI...                    1  \n",
       "2    NECESIDAD DE INMUNIZACIÓN CONTRA LA INFLUENZA ...                    1  \n",
       "3    PROBLEMA NO ESPECIFICADO RELACIONADO CON SERVI...                    1  \n",
       "4    NECESIDAD DE INMUNIZACIÓN CONTRA LA INFLUENZA ...                    1  \n",
       "..                                                 ...                  ...  \n",
       "259  NECESIDAD DE INMUNIZACIÓN CONTRA LA INFLUENZA ...                    1  \n",
       "260  PROBLEMA NO ESPECIFICADO RELACIONADO CON SERVI...                    1  \n",
       "261  NECESIDAD DE INMUNIZACIÓN CONTRA LA INFLUENZA ...                    1  \n",
       "262  NECESIDAD DE INMUNIZACIÓN CONTRA LA INFLUENZA ...                    1  \n",
       "263  NECESIDAD DE INMUNIZACIÓN CONTRA LA INFLUENZA ...                    1  \n",
       "\n",
       "[264 rows x 8 columns]"
      ]
     },
     "execution_count": 75,
     "metadata": {},
     "output_type": "execute_result"
    }
   ],
   "source": [
    "vaccination = pd.read_excel(f'./Data/Vacunacion.xlsx')\n",
    "#dyspnea = pd.read_excel(f'./Data/Disnea.xlsx')\n",
    "vaccination"
   ]
  },
  {
   "cell_type": "code",
   "execution_count": 76,
   "metadata": {},
   "outputs": [
    {
     "data": {
      "text/plain": [
       "Index(['Numero_de_documento', 'Fecha_Emision', 'Regional_EPS_Desc',\n",
       "       'Codigo_Prestacion_Op', 'Descripcion_Prestacion',\n",
       "       'Codigo_Diagnostico_EPS_Op', 'Diagnostico_EPS_Desc',\n",
       "       'Cantidad_Autorizada'],\n",
       "      dtype='object')"
      ]
     },
     "execution_count": 76,
     "metadata": {},
     "output_type": "execute_result"
    }
   ],
   "source": [
    "vaccination.columns"
   ]
  },
  {
   "cell_type": "code",
   "execution_count": 77,
   "metadata": {},
   "outputs": [
    {
     "data": {
      "text/plain": [
       "<matplotlib.axes._subplots.AxesSubplot at 0x7f4360466950>"
      ]
     },
     "execution_count": 77,
     "metadata": {},
     "output_type": "execute_result"
    },
    {
     "data": {
      "image/png": "[encoded data removed]",
      "text/plain": [
       "<Figure size 1800x720 with 2 Axes>"
      ]
     },
     "metadata": {
      "needs_background": "light"
     },
     "output_type": "display_data"
    }
   ],
   "source": [
    "msno.matrix(msno.nullity_sort(vaccination, sort='descending'))"
   ]
  },
  {
   "cell_type": "code",
   "execution_count": 78,
   "metadata": {},
   "outputs": [
    {
     "data": {
      "text/html": [
       "<div>\n",
       "<style scoped>\n",
       "    .dataframe tbody tr th:only-of-type {\n",
       "        vertical-align: middle;\n",
       "    }\n",
       "\n",
       "    .dataframe tbody tr th {\n",
       "        vertical-align: top;\n",
       "    }\n",
       "\n",
       "    .dataframe thead th {\n",
       "        text-align: right;\n",
       "    }\n",
       "</style>\n",
       "<table border=\"1\" class=\"dataframe\">\n",
       "  <thead>\n",
       "    <tr style=\"text-align: right;\">\n",
       "      <th></th>\n",
       "      <th>Numero_de_documento</th>\n",
       "      <th>Cantidad_Autorizada</th>\n",
       "    </tr>\n",
       "  </thead>\n",
       "  <tbody>\n",
       "    <tr>\n",
       "      <th>count</th>\n",
       "      <td>2.640000e+02</td>\n",
       "      <td>264.0</td>\n",
       "    </tr>\n",
       "    <tr>\n",
       "      <th>mean</th>\n",
       "      <td>1.222966e+06</td>\n",
       "      <td>1.0</td>\n",
       "    </tr>\n",
       "    <tr>\n",
       "      <th>std</th>\n",
       "      <td>4.297377e+05</td>\n",
       "      <td>0.0</td>\n",
       "    </tr>\n",
       "    <tr>\n",
       "      <th>min</th>\n",
       "      <td>5.005470e+05</td>\n",
       "      <td>1.0</td>\n",
       "    </tr>\n",
       "    <tr>\n",
       "      <th>25%</th>\n",
       "      <td>8.442592e+05</td>\n",
       "      <td>1.0</td>\n",
       "    </tr>\n",
       "    <tr>\n",
       "      <th>50%</th>\n",
       "      <td>1.216245e+06</td>\n",
       "      <td>1.0</td>\n",
       "    </tr>\n",
       "    <tr>\n",
       "      <th>75%</th>\n",
       "      <td>1.640782e+06</td>\n",
       "      <td>1.0</td>\n",
       "    </tr>\n",
       "    <tr>\n",
       "      <th>max</th>\n",
       "      <td>1.985014e+06</td>\n",
       "      <td>1.0</td>\n",
       "    </tr>\n",
       "  </tbody>\n",
       "</table>\n",
       "</div>"
      ],
      "text/plain": [
       "       Numero_de_documento  Cantidad_Autorizada\n",
       "count         2.640000e+02                264.0\n",
       "mean          1.222966e+06                  1.0\n",
       "std           4.297377e+05                  0.0\n",
       "min           5.005470e+05                  1.0\n",
       "25%           8.442592e+05                  1.0\n",
       "50%           1.216245e+06                  1.0\n",
       "75%           1.640782e+06                  1.0\n",
       "max           1.985014e+06                  1.0"
      ]
     },
     "execution_count": 78,
     "metadata": {},
     "output_type": "execute_result"
    }
   ],
   "source": [
    "vaccination.describe()"
   ]
  },
  {
   "cell_type": "markdown",
   "metadata": {},
   "source": [
    "### Re-naming columns"
   ]
  },
  {
   "cell_type": "code",
   "execution_count": 79,
   "metadata": {},
   "outputs": [
    {
     "data": {
      "text/html": [
       "<div>\n",
       "<style scoped>\n",
       "    .dataframe tbody tr th:only-of-type {\n",
       "        vertical-align: middle;\n",
       "    }\n",
       "\n",
       "    .dataframe tbody tr th {\n",
       "        vertical-align: top;\n",
       "    }\n",
       "\n",
       "    .dataframe thead th {\n",
       "        text-align: right;\n",
       "    }\n",
       "</style>\n",
       "<table border=\"1\" class=\"dataframe\">\n",
       "  <thead>\n",
       "    <tr style=\"text-align: right;\">\n",
       "      <th></th>\n",
       "      <th>id_paciente</th>\n",
       "      <th>Fecha_Emision</th>\n",
       "      <th>Regional_EPS_Desc</th>\n",
       "      <th>Codigo_Prestacion_Op</th>\n",
       "      <th>Codigo_Diagnostico_EPS_Op</th>\n",
       "      <th>Diagnostico_EPS_Desc</th>\n",
       "      <th>Cantidad_Autorizada</th>\n",
       "    </tr>\n",
       "    <tr>\n",
       "      <th>Descripcion_Prestacion</th>\n",
       "      <th></th>\n",
       "      <th></th>\n",
       "      <th></th>\n",
       "      <th></th>\n",
       "      <th></th>\n",
       "      <th></th>\n",
       "      <th></th>\n",
       "    </tr>\n",
       "  </thead>\n",
       "  <tbody>\n",
       "    <tr>\n",
       "      <th>HEPATITIS A, ANTICUERPOS IG M [ANTI HVA-M]</th>\n",
       "      <td>1</td>\n",
       "      <td>1</td>\n",
       "      <td>1</td>\n",
       "      <td>1</td>\n",
       "      <td>1</td>\n",
       "      <td>1</td>\n",
       "      <td>1</td>\n",
       "    </tr>\n",
       "    <tr>\n",
       "      <th>HEPATITIS A, ANTICUERPOS TOTALES [ANTI HVA]</th>\n",
       "      <td>1</td>\n",
       "      <td>1</td>\n",
       "      <td>1</td>\n",
       "      <td>1</td>\n",
       "      <td>1</td>\n",
       "      <td>1</td>\n",
       "      <td>1</td>\n",
       "    </tr>\n",
       "    <tr>\n",
       "      <th>HEPATITIS B, ANTICUERPOS SUPERFICIE [ANTI-HBS]</th>\n",
       "      <td>15</td>\n",
       "      <td>15</td>\n",
       "      <td>15</td>\n",
       "      <td>15</td>\n",
       "      <td>15</td>\n",
       "      <td>15</td>\n",
       "      <td>15</td>\n",
       "    </tr>\n",
       "    <tr>\n",
       "      <th>VACUNA HEPATITIS B ADULTOS -INDICACIONES DIFERENTES A RESOLUCIÓN 6408-</th>\n",
       "      <td>1</td>\n",
       "      <td>1</td>\n",
       "      <td>1</td>\n",
       "      <td>1</td>\n",
       "      <td>1</td>\n",
       "      <td>1</td>\n",
       "      <td>1</td>\n",
       "    </tr>\n",
       "    <tr>\n",
       "      <th>VACUNA INFLUENZA PAI MUJERES GESTANTES A PARTIR SEMANA 14</th>\n",
       "      <td>1</td>\n",
       "      <td>1</td>\n",
       "      <td>1</td>\n",
       "      <td>1</td>\n",
       "      <td>1</td>\n",
       "      <td>1</td>\n",
       "      <td>1</td>\n",
       "    </tr>\n",
       "    <tr>\n",
       "      <th>VACUNA NEUMOCOCO 23 -USO EXCLUSIVO BOGOTA Y CALI- DOSIS UNICA</th>\n",
       "      <td>2</td>\n",
       "      <td>2</td>\n",
       "      <td>2</td>\n",
       "      <td>2</td>\n",
       "      <td>2</td>\n",
       "      <td>2</td>\n",
       "      <td>2</td>\n",
       "    </tr>\n",
       "    <tr>\n",
       "      <th>VACUNA PAI INFLUENZA NIÑOS/AS MAYORES DE 9 AÑOS</th>\n",
       "      <td>242</td>\n",
       "      <td>242</td>\n",
       "      <td>242</td>\n",
       "      <td>242</td>\n",
       "      <td>242</td>\n",
       "      <td>242</td>\n",
       "      <td>242</td>\n",
       "    </tr>\n",
       "    <tr>\n",
       "      <th>VACUNA PAI INFLUENZA NIÑOS/ASHASTA LOS 23 MESES</th>\n",
       "      <td>1</td>\n",
       "      <td>1</td>\n",
       "      <td>1</td>\n",
       "      <td>1</td>\n",
       "      <td>1</td>\n",
       "      <td>1</td>\n",
       "      <td>1</td>\n",
       "    </tr>\n",
       "  </tbody>\n",
       "</table>\n",
       "</div>"
      ],
      "text/plain": [
       "                                                    id_paciente  \\\n",
       "Descripcion_Prestacion                                            \n",
       "HEPATITIS A, ANTICUERPOS IG M [ANTI HVA-M]                    1   \n",
       "HEPATITIS A, ANTICUERPOS TOTALES [ANTI HVA]                   1   \n",
       "HEPATITIS B, ANTICUERPOS SUPERFICIE [ANTI-HBS]               15   \n",
       "VACUNA HEPATITIS B ADULTOS -INDICACIONES DIFERE...            1   \n",
       "VACUNA INFLUENZA PAI MUJERES GESTANTES A PARTIR...            1   \n",
       "VACUNA NEUMOCOCO 23 -USO EXCLUSIVO BOGOTA Y CAL...            2   \n",
       "VACUNA PAI INFLUENZA NIÑOS/AS MAYORES DE 9 AÑOS             242   \n",
       "VACUNA PAI INFLUENZA NIÑOS/ASHASTA LOS 23 MESES               1   \n",
       "\n",
       "                                                    Fecha_Emision  \\\n",
       "Descripcion_Prestacion                                              \n",
       "HEPATITIS A, ANTICUERPOS IG M [ANTI HVA-M]                      1   \n",
       "HEPATITIS A, ANTICUERPOS TOTALES [ANTI HVA]                     1   \n",
       "HEPATITIS B, ANTICUERPOS SUPERFICIE [ANTI-HBS]                 15   \n",
       "VACUNA HEPATITIS B ADULTOS -INDICACIONES DIFERE...              1   \n",
       "VACUNA INFLUENZA PAI MUJERES GESTANTES A PARTIR...              1   \n",
       "VACUNA NEUMOCOCO 23 -USO EXCLUSIVO BOGOTA Y CAL...              2   \n",
       "VACUNA PAI INFLUENZA NIÑOS/AS MAYORES DE 9 AÑOS               242   \n",
       "VACUNA PAI INFLUENZA NIÑOS/ASHASTA LOS 23 MESES                 1   \n",
       "\n",
       "                                                    Regional_EPS_Desc  \\\n",
       "Descripcion_Prestacion                                                  \n",
       "HEPATITIS A, ANTICUERPOS IG M [ANTI HVA-M]                          1   \n",
       "HEPATITIS A, ANTICUERPOS TOTALES [ANTI HVA]                         1   \n",
       "HEPATITIS B, ANTICUERPOS SUPERFICIE [ANTI-HBS]                     15   \n",
       "VACUNA HEPATITIS B ADULTOS -INDICACIONES DIFERE...                  1   \n",
       "VACUNA INFLUENZA PAI MUJERES GESTANTES A PARTIR...                  1   \n",
       "VACUNA NEUMOCOCO 23 -USO EXCLUSIVO BOGOTA Y CAL...                  2   \n",
       "VACUNA PAI INFLUENZA NIÑOS/AS MAYORES DE 9 AÑOS                   242   \n",
       "VACUNA PAI INFLUENZA NIÑOS/ASHASTA LOS 23 MESES                     1   \n",
       "\n",
       "                                                    Codigo_Prestacion_Op  \\\n",
       "Descripcion_Prestacion                                                     \n",
       "HEPATITIS A, ANTICUERPOS IG M [ANTI HVA-M]                             1   \n",
       "HEPATITIS A, ANTICUERPOS TOTALES [ANTI HVA]                            1   \n",
       "HEPATITIS B, ANTICUERPOS SUPERFICIE [ANTI-HBS]                        15   \n",
       "VACUNA HEPATITIS B ADULTOS -INDICACIONES DIFERE...                     1   \n",
       "VACUNA INFLUENZA PAI MUJERES GESTANTES A PARTIR...                     1   \n",
       "VACUNA NEUMOCOCO 23 -USO EXCLUSIVO BOGOTA Y CAL...                     2   \n",
       "VACUNA PAI INFLUENZA NIÑOS/AS MAYORES DE 9 AÑOS                      242   \n",
       "VACUNA PAI INFLUENZA NIÑOS/ASHASTA LOS 23 MESES                        1   \n",
       "\n",
       "                                                    Codigo_Diagnostico_EPS_Op  \\\n",
       "Descripcion_Prestacion                                                          \n",
       "HEPATITIS A, ANTICUERPOS IG M [ANTI HVA-M]                                  1   \n",
       "HEPATITIS A, ANTICUERPOS TOTALES [ANTI HVA]                                 1   \n",
       "HEPATITIS B, ANTICUERPOS SUPERFICIE [ANTI-HBS]                             15   \n",
       "VACUNA HEPATITIS B ADULTOS -INDICACIONES DIFERE...                          1   \n",
       "VACUNA INFLUENZA PAI MUJERES GESTANTES A PARTIR...                          1   \n",
       "VACUNA NEUMOCOCO 23 -USO EXCLUSIVO BOGOTA Y CAL...                          2   \n",
       "VACUNA PAI INFLUENZA NIÑOS/AS MAYORES DE 9 AÑOS                           242   \n",
       "VACUNA PAI INFLUENZA NIÑOS/ASHASTA LOS 23 MESES                             1   \n",
       "\n",
       "                                                    Diagnostico_EPS_Desc  \\\n",
       "Descripcion_Prestacion                                                     \n",
       "HEPATITIS A, ANTICUERPOS IG M [ANTI HVA-M]                             1   \n",
       "HEPATITIS A, ANTICUERPOS TOTALES [ANTI HVA]                            1   \n",
       "HEPATITIS B, ANTICUERPOS SUPERFICIE [ANTI-HBS]                        15   \n",
       "VACUNA HEPATITIS B ADULTOS -INDICACIONES DIFERE...                     1   \n",
       "VACUNA INFLUENZA PAI MUJERES GESTANTES A PARTIR...                     1   \n",
       "VACUNA NEUMOCOCO 23 -USO EXCLUSIVO BOGOTA Y CAL...                     2   \n",
       "VACUNA PAI INFLUENZA NIÑOS/AS MAYORES DE 9 AÑOS                      242   \n",
       "VACUNA PAI INFLUENZA NIÑOS/ASHASTA LOS 23 MESES                        1   \n",
       "\n",
       "                                                    Cantidad_Autorizada  \n",
       "Descripcion_Prestacion                                                   \n",
       "HEPATITIS A, ANTICUERPOS IG M [ANTI HVA-M]                            1  \n",
       "HEPATITIS A, ANTICUERPOS TOTALES [ANTI HVA]                           1  \n",
       "HEPATITIS B, ANTICUERPOS SUPERFICIE [ANTI-HBS]                       15  \n",
       "VACUNA HEPATITIS B ADULTOS -INDICACIONES DIFERE...                    1  \n",
       "VACUNA INFLUENZA PAI MUJERES GESTANTES A PARTIR...                    1  \n",
       "VACUNA NEUMOCOCO 23 -USO EXCLUSIVO BOGOTA Y CAL...                    2  \n",
       "VACUNA PAI INFLUENZA NIÑOS/AS MAYORES DE 9 AÑOS                     242  \n",
       "VACUNA PAI INFLUENZA NIÑOS/ASHASTA LOS 23 MESES                       1  "
      ]
     },
     "execution_count": 79,
     "metadata": {},
     "output_type": "execute_result"
    }
   ],
   "source": [
    "df_cp = vaccination.copy()\n",
    "df_cp.rename(columns={\n",
    "    'Numero_de_documento':'id_paciente',\n",
    "    'Fecha_Emision':'Fecha_Emision',\n",
    "    'Regional_EPS_Desc':'Regional_EPS_Desc',\n",
    "    'Codigo_Prestacion_Op':'Codigo_Prestacion_Op',\n",
    "    'Descripcion_Prestacion':'Descripcion_Prestacion',\n",
    "    'Codigo_Diagnostico_EPS_Op':'Codigo_Diagnostico_EPS_Op',\n",
    "    'Diagnostico_EPS_Desc':'Diagnostico_EPS_Desc',\n",
    "    'Cantidad_Autorizada':'Cantidad_Autorizada'\n",
    "},inplace = True)\n",
    "df_cp.groupby('Descripcion_Prestacion').count()"
   ]
  },
  {
   "cell_type": "markdown",
   "metadata": {},
   "source": [
    "So we can count the amount of people that is currently under this enterprise by selecting using the function `reset_index()loc` to determine the amount of people thatcan be found by city. Therefore from the table we just generated below we can see that most of the population corresponds to Medellin areea \n",
    "\n",
    "So sofar we have 264 records"
   ]
  },
  {
   "cell_type": "code",
   "execution_count": 80,
   "metadata": {},
   "outputs": [
    {
     "name": "stdout",
     "output_type": "stream",
     "text": [
      "Records data before filtering out unuseful data: (264, 8)\n",
      "Patient data before filtering out unuseful data: (161, 7)\n"
     ]
    }
   ],
   "source": [
    "df_cp['Descripcion_Prestacion'].replace(\"HEPATITIS B, ANTICUERPOS SUPERFICIE [ANTI-HBS]\",\"ANTI-HBS\",inplace=True)\n",
    "df_cp['Descripcion_Prestacion'].replace(\"VACUNA PAI INFLUENZA NIÑOS/AS MAYORES DE 9 AÑOS\",\"PAI_VACC\",inplace=True)\n",
    "print(\"Records data before filtering out unuseful data: {0}\".format(df_cp.shape))\n",
    "print(\"Patient data before filtering out unuseful data: {0}\".format(df_cp.groupby('id_paciente').count().shape))"
   ]
  },
  {
   "cell_type": "code",
   "execution_count": 81,
   "metadata": {},
   "outputs": [
    {
     "name": "stdout",
     "output_type": "stream",
     "text": [
      "Records shape after filtering out data (257, 8)\n",
      "Patients shape after filtering out data (159, 7)\n"
     ]
    }
   ],
   "source": [
    "ANTI_HBS = df_cp[df_cp['Descripcion_Prestacion'].str.contains('ANTI-HBS')]\n",
    "PAI_VACC = df_cp[df_cp['Descripcion_Prestacion'].str.contains('PAI_VACC')]\n",
    "frames =  [ PAI_VACC, ANTI_HBS]\n",
    "result =  pd.concat(frames)\n",
    "print(\"Records shape after filtering out data {0}\".format(result.shape))\n",
    "print(\"Patients shape after filtering out data {0}\".format(result.groupby(\"id_paciente\").count().shape))"
   ]
  },
  {
   "cell_type": "markdown",
   "metadata": {},
   "source": [
    "From this we have simplified 7 raws, which were not useful for our analysis since they are not significantly important."
   ]
  },
  {
   "cell_type": "markdown",
   "metadata": {},
   "source": [
    "Convert to categorical data"
   ]
  },
  {
   "cell_type": "code",
   "execution_count": 84,
   "metadata": {},
   "outputs": [
    {
     "data": {
      "text/plain": [
       "[PAI_VACC, ANTI-HBS]\n",
       "Categories (2, object): [PAI_VACC, ANTI-HBS]"
      ]
     },
     "execution_count": 84,
     "metadata": {},
     "output_type": "execute_result"
    }
   ],
   "source": [
    "result['Descripcion_Prestacion'] = result['Descripcion_Prestacion'].astype(\"category\")\n",
    "result['Descripcion_Prestacion'].unique()"
   ]
  },
  {
   "cell_type": "markdown",
   "metadata": {},
   "source": [
    "### Visualization "
   ]
  },
  {
   "cell_type": "code",
   "execution_count": 85,
   "metadata": {},
   "outputs": [
    {
     "data": {
      "text/plain": [
       "Text(0, 0.5, 'Number of patients')"
      ]
     },
     "execution_count": 85,
     "metadata": {},
     "output_type": "execute_result"
    },
    {
     "data": {
      "image/png": "[encoded data removed]",
      "text/plain": [
       "<Figure size 432x288 with 1 Axes>"
      ]
     },
     "metadata": {
      "needs_background": "light"
     },
     "output_type": "display_data"
    }
   ],
   "source": [
    "ax = result[[\"id_paciente\", 'Descripcion_Prestacion']].groupby('Descripcion_Prestacion').size().plot(kind='bar', color='#367588')\n",
    "ax.set_title(\"Descripcion_Prestacion vs number of patients\")\n",
    "ax.set_xlabel('Descripcion_Prestacion')\n",
    "ax.set_ylabel('Number of patients')"
   ]
  },
  {
   "cell_type": "code",
   "execution_count": 86,
   "metadata": {},
   "outputs": [
    {
     "data": {
      "text/html": [
       "<div>\n",
       "<style scoped>\n",
       "    .dataframe tbody tr th:only-of-type {\n",
       "        vertical-align: middle;\n",
       "    }\n",
       "\n",
       "    .dataframe tbody tr th {\n",
       "        vertical-align: top;\n",
       "    }\n",
       "\n",
       "    .dataframe thead th {\n",
       "        text-align: right;\n",
       "    }\n",
       "</style>\n",
       "<table border=\"1\" class=\"dataframe\">\n",
       "  <thead>\n",
       "    <tr style=\"text-align: right;\">\n",
       "      <th></th>\n",
       "      <th>id_paciente</th>\n",
       "      <th>Fecha_Emision</th>\n",
       "      <th>Regional_EPS_Desc</th>\n",
       "      <th>Codigo_Prestacion_Op</th>\n",
       "      <th>Descripcion_Prestacion</th>\n",
       "      <th>Codigo_Diagnostico_EPS_Op</th>\n",
       "      <th>Cantidad_Autorizada</th>\n",
       "    </tr>\n",
       "    <tr>\n",
       "      <th>Diagnostico_EPS_Desc</th>\n",
       "      <th></th>\n",
       "      <th></th>\n",
       "      <th></th>\n",
       "      <th></th>\n",
       "      <th></th>\n",
       "      <th></th>\n",
       "      <th></th>\n",
       "    </tr>\n",
       "  </thead>\n",
       "  <tbody>\n",
       "    <tr>\n",
       "      <th>ARTRITIS REUMATOIDE, NO ESPECIFICADA</th>\n",
       "      <td>1</td>\n",
       "      <td>1</td>\n",
       "      <td>1</td>\n",
       "      <td>1</td>\n",
       "      <td>1</td>\n",
       "      <td>1</td>\n",
       "      <td>1</td>\n",
       "    </tr>\n",
       "    <tr>\n",
       "      <th>ASMA, NO ESPECIFICADA</th>\n",
       "      <td>1</td>\n",
       "      <td>1</td>\n",
       "      <td>1</td>\n",
       "      <td>1</td>\n",
       "      <td>1</td>\n",
       "      <td>1</td>\n",
       "      <td>1</td>\n",
       "    </tr>\n",
       "    <tr>\n",
       "      <th>DEGENERACIÓN GRASA DEL HÍGADO, NO CLASIFICADA EN OTRA PARTE</th>\n",
       "      <td>1</td>\n",
       "      <td>1</td>\n",
       "      <td>1</td>\n",
       "      <td>1</td>\n",
       "      <td>1</td>\n",
       "      <td>1</td>\n",
       "      <td>1</td>\n",
       "    </tr>\n",
       "    <tr>\n",
       "      <th>ENTESOPATÍA DEL MIEMBRO INFERIOR, NO ESPECIFICADA</th>\n",
       "      <td>1</td>\n",
       "      <td>1</td>\n",
       "      <td>1</td>\n",
       "      <td>1</td>\n",
       "      <td>1</td>\n",
       "      <td>1</td>\n",
       "      <td>1</td>\n",
       "    </tr>\n",
       "    <tr>\n",
       "      <th>EXAMEN ESPECIAL NO ESPECIFICADO</th>\n",
       "      <td>2</td>\n",
       "      <td>2</td>\n",
       "      <td>2</td>\n",
       "      <td>2</td>\n",
       "      <td>2</td>\n",
       "      <td>2</td>\n",
       "      <td>2</td>\n",
       "    </tr>\n",
       "    <tr>\n",
       "      <th>FIBROMIALGIA</th>\n",
       "      <td>1</td>\n",
       "      <td>1</td>\n",
       "      <td>1</td>\n",
       "      <td>1</td>\n",
       "      <td>1</td>\n",
       "      <td>1</td>\n",
       "      <td>1</td>\n",
       "    </tr>\n",
       "    <tr>\n",
       "      <th>NECESIDAD DE INMUNIZACIÓN CONTRA LA INFLUENZA [GRIPE]</th>\n",
       "      <td>196</td>\n",
       "      <td>196</td>\n",
       "      <td>196</td>\n",
       "      <td>196</td>\n",
       "      <td>196</td>\n",
       "      <td>196</td>\n",
       "      <td>196</td>\n",
       "    </tr>\n",
       "    <tr>\n",
       "      <th>OTRAS CIRROSIS DEL HÍGADO Y LAS NO ESPECIFICADAS</th>\n",
       "      <td>2</td>\n",
       "      <td>2</td>\n",
       "      <td>2</td>\n",
       "      <td>2</td>\n",
       "      <td>2</td>\n",
       "      <td>2</td>\n",
       "      <td>2</td>\n",
       "    </tr>\n",
       "    <tr>\n",
       "      <th>OTRAS URTICARIAS</th>\n",
       "      <td>1</td>\n",
       "      <td>1</td>\n",
       "      <td>1</td>\n",
       "      <td>1</td>\n",
       "      <td>1</td>\n",
       "      <td>1</td>\n",
       "      <td>1</td>\n",
       "    </tr>\n",
       "    <tr>\n",
       "      <th>OTROS EXÁMENES GENERALES</th>\n",
       "      <td>2</td>\n",
       "      <td>2</td>\n",
       "      <td>2</td>\n",
       "      <td>2</td>\n",
       "      <td>2</td>\n",
       "      <td>2</td>\n",
       "      <td>2</td>\n",
       "    </tr>\n",
       "    <tr>\n",
       "      <th>PROBLEMA NO ESPECIFICADO RELACIONADO CON SERVICIOS MÉDICOS Y DE SALUD</th>\n",
       "      <td>49</td>\n",
       "      <td>49</td>\n",
       "      <td>49</td>\n",
       "      <td>49</td>\n",
       "      <td>49</td>\n",
       "      <td>49</td>\n",
       "      <td>49</td>\n",
       "    </tr>\n",
       "  </tbody>\n",
       "</table>\n",
       "</div>"
      ],
      "text/plain": [
       "                                                    id_paciente  \\\n",
       "Diagnostico_EPS_Desc                                              \n",
       "ARTRITIS REUMATOIDE, NO ESPECIFICADA                          1   \n",
       "ASMA, NO ESPECIFICADA                                         1   \n",
       "DEGENERACIÓN GRASA DEL HÍGADO, NO CLASIFICADA E...            1   \n",
       "ENTESOPATÍA DEL MIEMBRO INFERIOR, NO ESPECIFICADA             1   \n",
       "EXAMEN ESPECIAL NO ESPECIFICADO                               2   \n",
       "FIBROMIALGIA                                                  1   \n",
       "NECESIDAD DE INMUNIZACIÓN CONTRA LA INFLUENZA [...          196   \n",
       "OTRAS CIRROSIS DEL HÍGADO Y LAS NO ESPECIFICADAS              2   \n",
       "OTRAS URTICARIAS                                              1   \n",
       "OTROS EXÁMENES GENERALES                                      2   \n",
       "PROBLEMA NO ESPECIFICADO RELACIONADO CON SERVIC...           49   \n",
       "\n",
       "                                                    Fecha_Emision  \\\n",
       "Diagnostico_EPS_Desc                                                \n",
       "ARTRITIS REUMATOIDE, NO ESPECIFICADA                            1   \n",
       "ASMA, NO ESPECIFICADA                                           1   \n",
       "DEGENERACIÓN GRASA DEL HÍGADO, NO CLASIFICADA E...              1   \n",
       "ENTESOPATÍA DEL MIEMBRO INFERIOR, NO ESPECIFICADA               1   \n",
       "EXAMEN ESPECIAL NO ESPECIFICADO                                 2   \n",
       "FIBROMIALGIA                                                    1   \n",
       "NECESIDAD DE INMUNIZACIÓN CONTRA LA INFLUENZA [...            196   \n",
       "OTRAS CIRROSIS DEL HÍGADO Y LAS NO ESPECIFICADAS                2   \n",
       "OTRAS URTICARIAS                                                1   \n",
       "OTROS EXÁMENES GENERALES                                        2   \n",
       "PROBLEMA NO ESPECIFICADO RELACIONADO CON SERVIC...             49   \n",
       "\n",
       "                                                    Regional_EPS_Desc  \\\n",
       "Diagnostico_EPS_Desc                                                    \n",
       "ARTRITIS REUMATOIDE, NO ESPECIFICADA                                1   \n",
       "ASMA, NO ESPECIFICADA                                               1   \n",
       "DEGENERACIÓN GRASA DEL HÍGADO, NO CLASIFICADA E...                  1   \n",
       "ENTESOPATÍA DEL MIEMBRO INFERIOR, NO ESPECIFICADA                   1   \n",
       "EXAMEN ESPECIAL NO ESPECIFICADO                                     2   \n",
       "FIBROMIALGIA                                                        1   \n",
       "NECESIDAD DE INMUNIZACIÓN CONTRA LA INFLUENZA [...                196   \n",
       "OTRAS CIRROSIS DEL HÍGADO Y LAS NO ESPECIFICADAS                    2   \n",
       "OTRAS URTICARIAS                                                    1   \n",
       "OTROS EXÁMENES GENERALES                                            2   \n",
       "PROBLEMA NO ESPECIFICADO RELACIONADO CON SERVIC...                 49   \n",
       "\n",
       "                                                    Codigo_Prestacion_Op  \\\n",
       "Diagnostico_EPS_Desc                                                       \n",
       "ARTRITIS REUMATOIDE, NO ESPECIFICADA                                   1   \n",
       "ASMA, NO ESPECIFICADA                                                  1   \n",
       "DEGENERACIÓN GRASA DEL HÍGADO, NO CLASIFICADA E...                     1   \n",
       "ENTESOPATÍA DEL MIEMBRO INFERIOR, NO ESPECIFICADA                      1   \n",
       "EXAMEN ESPECIAL NO ESPECIFICADO                                        2   \n",
       "FIBROMIALGIA                                                           1   \n",
       "NECESIDAD DE INMUNIZACIÓN CONTRA LA INFLUENZA [...                   196   \n",
       "OTRAS CIRROSIS DEL HÍGADO Y LAS NO ESPECIFICADAS                       2   \n",
       "OTRAS URTICARIAS                                                       1   \n",
       "OTROS EXÁMENES GENERALES                                               2   \n",
       "PROBLEMA NO ESPECIFICADO RELACIONADO CON SERVIC...                    49   \n",
       "\n",
       "                                                    Descripcion_Prestacion  \\\n",
       "Diagnostico_EPS_Desc                                                         \n",
       "ARTRITIS REUMATOIDE, NO ESPECIFICADA                                     1   \n",
       "ASMA, NO ESPECIFICADA                                                    1   \n",
       "DEGENERACIÓN GRASA DEL HÍGADO, NO CLASIFICADA E...                       1   \n",
       "ENTESOPATÍA DEL MIEMBRO INFERIOR, NO ESPECIFICADA                        1   \n",
       "EXAMEN ESPECIAL NO ESPECIFICADO                                          2   \n",
       "FIBROMIALGIA                                                             1   \n",
       "NECESIDAD DE INMUNIZACIÓN CONTRA LA INFLUENZA [...                     196   \n",
       "OTRAS CIRROSIS DEL HÍGADO Y LAS NO ESPECIFICADAS                         2   \n",
       "OTRAS URTICARIAS                                                         1   \n",
       "OTROS EXÁMENES GENERALES                                                 2   \n",
       "PROBLEMA NO ESPECIFICADO RELACIONADO CON SERVIC...                      49   \n",
       "\n",
       "                                                    Codigo_Diagnostico_EPS_Op  \\\n",
       "Diagnostico_EPS_Desc                                                            \n",
       "ARTRITIS REUMATOIDE, NO ESPECIFICADA                                        1   \n",
       "ASMA, NO ESPECIFICADA                                                       1   \n",
       "DEGENERACIÓN GRASA DEL HÍGADO, NO CLASIFICADA E...                          1   \n",
       "ENTESOPATÍA DEL MIEMBRO INFERIOR, NO ESPECIFICADA                           1   \n",
       "EXAMEN ESPECIAL NO ESPECIFICADO                                             2   \n",
       "FIBROMIALGIA                                                                1   \n",
       "NECESIDAD DE INMUNIZACIÓN CONTRA LA INFLUENZA [...                        196   \n",
       "OTRAS CIRROSIS DEL HÍGADO Y LAS NO ESPECIFICADAS                            2   \n",
       "OTRAS URTICARIAS                                                            1   \n",
       "OTROS EXÁMENES GENERALES                                                    2   \n",
       "PROBLEMA NO ESPECIFICADO RELACIONADO CON SERVIC...                         49   \n",
       "\n",
       "                                                    Cantidad_Autorizada  \n",
       "Diagnostico_EPS_Desc                                                     \n",
       "ARTRITIS REUMATOIDE, NO ESPECIFICADA                                  1  \n",
       "ASMA, NO ESPECIFICADA                                                 1  \n",
       "DEGENERACIÓN GRASA DEL HÍGADO, NO CLASIFICADA E...                    1  \n",
       "ENTESOPATÍA DEL MIEMBRO INFERIOR, NO ESPECIFICADA                     1  \n",
       "EXAMEN ESPECIAL NO ESPECIFICADO                                       2  \n",
       "FIBROMIALGIA                                                          1  \n",
       "NECESIDAD DE INMUNIZACIÓN CONTRA LA INFLUENZA [...                  196  \n",
       "OTRAS CIRROSIS DEL HÍGADO Y LAS NO ESPECIFICADAS                      2  \n",
       "OTRAS URTICARIAS                                                      1  \n",
       "OTROS EXÁMENES GENERALES                                              2  \n",
       "PROBLEMA NO ESPECIFICADO RELACIONADO CON SERVIC...                   49  "
      ]
     },
     "execution_count": 86,
     "metadata": {},
     "output_type": "execute_result"
    }
   ],
   "source": [
    "result.groupby('Diagnostico_EPS_Desc').count()"
   ]
  },
  {
   "cell_type": "code",
   "execution_count": 88,
   "metadata": {},
   "outputs": [
    {
     "name": "stdout",
     "output_type": "stream",
     "text": [
      "Records data before filtering out unuseful data: (245, 8)\n",
      "Patient data before filtering out unuseful data: (155, 7)\n"
     ]
    }
   ],
   "source": [
    "result['Diagnostico_EPS_Desc'].replace(\"NECESIDAD DE INMUNIZACIÓN CONTRA LA INFLUENZA [GRIPE]\",\"INM_GRIPE\",inplace=True)\n",
    "result['Diagnostico_EPS_Desc'].replace(\"PROBLEMA NO ESPECIFICADO RELACIONADO CON SERVICIOS MÉDICOS Y DE SALUD\",\"NON_RELATED\",inplace=True)\n",
    "INM_GRIPE = result[result['Diagnostico_EPS_Desc'].str.contains('INM_GRIPE')]\n",
    "NON_RELATED = result[result['Diagnostico_EPS_Desc'].str.contains('NON_RELATED')]\n",
    "frame_2 =  [ INM_GRIPE, NON_RELATED]\n",
    "result_2 =  pd.concat(frame_2)\n",
    "print(\"Records data before filtering out unuseful data: {0}\".format(result_2.shape))\n",
    "print(\"Patient data before filtering out unuseful data: {0}\".format(result_2.groupby('id_paciente').count().shape))"
   ]
  },
  {
   "cell_type": "markdown",
   "metadata": {},
   "source": [
    "### Convert to categorical data"
   ]
  },
  {
   "cell_type": "code",
   "execution_count": 89,
   "metadata": {},
   "outputs": [
    {
     "data": {
      "text/plain": [
       "[INM_GRIPE, NON_RELATED]\n",
       "Categories (2, object): [INM_GRIPE, NON_RELATED]"
      ]
     },
     "execution_count": 89,
     "metadata": {},
     "output_type": "execute_result"
    }
   ],
   "source": [
    "result_2['Diagnostico_EPS_Desc'] = result_2['Diagnostico_EPS_Desc'].astype(\"category\")\n",
    "result_2['Diagnostico_EPS_Desc'].unique()"
   ]
  },
  {
   "cell_type": "markdown",
   "metadata": {},
   "source": [
    "### Visualization"
   ]
  },
  {
   "cell_type": "code",
   "execution_count": 90,
   "metadata": {},
   "outputs": [
    {
     "data": {
      "text/plain": [
       "Text(0, 0.5, 'Number of patients')"
      ]
     },
     "execution_count": 90,
     "metadata": {},
     "output_type": "execute_result"
    },
    {
     "data": {
      "image/png": "[encoded data removed]",
      "text/plain": [
       "<Figure size 432x288 with 1 Axes>"
      ]
     },
     "metadata": {
      "needs_background": "light"
     },
     "output_type": "display_data"
    }
   ],
   "source": [
    "ax = result_2[[\"id_paciente\", 'Diagnostico_EPS_Desc']].groupby('Diagnostico_EPS_Desc').size().plot(kind='bar', color='#367548')\n",
    "ax.legend(['Number of patients'])\n",
    "ax.set_xlabel('Diagnostico_EPS_Desc')\n",
    "ax.set_ylabel('Number of patients')"
   ]
  },
  {
   "cell_type": "code",
   "execution_count": 91,
   "metadata": {},
   "outputs": [
    {
     "data": {
      "text/html": [
       "<div>\n",
       "<style scoped>\n",
       "    .dataframe tbody tr th:only-of-type {\n",
       "        vertical-align: middle;\n",
       "    }\n",
       "\n",
       "    .dataframe tbody tr th {\n",
       "        vertical-align: top;\n",
       "    }\n",
       "\n",
       "    .dataframe thead th {\n",
       "        text-align: right;\n",
       "    }\n",
       "</style>\n",
       "<table border=\"1\" class=\"dataframe\">\n",
       "  <thead>\n",
       "    <tr style=\"text-align: right;\">\n",
       "      <th></th>\n",
       "      <th>Fecha_Emision</th>\n",
       "    </tr>\n",
       "  </thead>\n",
       "  <tbody>\n",
       "    <tr>\n",
       "      <th>count</th>\n",
       "      <td>245</td>\n",
       "    </tr>\n",
       "    <tr>\n",
       "      <th>unique</th>\n",
       "      <td>157</td>\n",
       "    </tr>\n",
       "    <tr>\n",
       "      <th>top</th>\n",
       "      <td>2019-06-05 00:00:00</td>\n",
       "    </tr>\n",
       "    <tr>\n",
       "      <th>freq</th>\n",
       "      <td>6</td>\n",
       "    </tr>\n",
       "    <tr>\n",
       "      <th>first</th>\n",
       "      <td>2018-01-03 00:00:00</td>\n",
       "    </tr>\n",
       "    <tr>\n",
       "      <th>last</th>\n",
       "      <td>2020-05-14 00:00:00</td>\n",
       "    </tr>\n",
       "  </tbody>\n",
       "</table>\n",
       "</div>"
      ],
      "text/plain": [
       "              Fecha_Emision\n",
       "count                   245\n",
       "unique                  157\n",
       "top     2019-06-05 00:00:00\n",
       "freq                      6\n",
       "first   2018-01-03 00:00:00\n",
       "last    2020-05-14 00:00:00"
      ]
     },
     "execution_count": 91,
     "metadata": {},
     "output_type": "execute_result"
    }
   ],
   "source": [
    "result_2[['Fecha_Emision']].describe()"
   ]
  },
  {
   "cell_type": "markdown",
   "metadata": {},
   "source": [
    "From this data we can see that most of the measurements have been performed between 2018 and 2020"
   ]
  },
  {
   "cell_type": "code",
   "execution_count": 92,
   "metadata": {},
   "outputs": [
    {
     "data": {
      "text/html": [
       "<div>\n",
       "<style scoped>\n",
       "    .dataframe tbody tr th:only-of-type {\n",
       "        vertical-align: middle;\n",
       "    }\n",
       "\n",
       "    .dataframe tbody tr th {\n",
       "        vertical-align: top;\n",
       "    }\n",
       "\n",
       "    .dataframe thead th {\n",
       "        text-align: right;\n",
       "    }\n",
       "</style>\n",
       "<table border=\"1\" class=\"dataframe\">\n",
       "  <thead>\n",
       "    <tr style=\"text-align: right;\">\n",
       "      <th></th>\n",
       "      <th>Regional_EPS_Desc</th>\n",
       "      <th>id_paciente</th>\n",
       "    </tr>\n",
       "  </thead>\n",
       "  <tbody>\n",
       "    <tr>\n",
       "      <th>0</th>\n",
       "      <td>Barranquilla</td>\n",
       "      <td>7</td>\n",
       "    </tr>\n",
       "    <tr>\n",
       "      <th>1</th>\n",
       "      <td>Bogota</td>\n",
       "      <td>12</td>\n",
       "    </tr>\n",
       "    <tr>\n",
       "      <th>2</th>\n",
       "      <td>Cali</td>\n",
       "      <td>12</td>\n",
       "    </tr>\n",
       "    <tr>\n",
       "      <th>3</th>\n",
       "      <td>Manizales</td>\n",
       "      <td>4</td>\n",
       "    </tr>\n",
       "    <tr>\n",
       "      <th>4</th>\n",
       "      <td>Medellin</td>\n",
       "      <td>208</td>\n",
       "    </tr>\n",
       "    <tr>\n",
       "      <th>5</th>\n",
       "      <td>Pereira</td>\n",
       "      <td>2</td>\n",
       "    </tr>\n",
       "  </tbody>\n",
       "</table>\n",
       "</div>"
      ],
      "text/plain": [
       "  Regional_EPS_Desc  id_paciente\n",
       "0      Barranquilla            7\n",
       "1            Bogota           12\n",
       "2              Cali           12\n",
       "3         Manizales            4\n",
       "4          Medellin          208\n",
       "5           Pereira            2"
      ]
     },
     "execution_count": 92,
     "metadata": {},
     "output_type": "execute_result"
    }
   ],
   "source": [
    "loc = result_2[['id_paciente','Regional_EPS_Desc']].groupby('Regional_EPS_Desc').count().reset_index()\n",
    "loc"
   ]
  },
  {
   "cell_type": "code",
   "execution_count": 93,
   "metadata": {},
   "outputs": [
    {
     "data": {
      "text/html": [
       "<div>\n",
       "<style scoped>\n",
       "    .dataframe tbody tr th:only-of-type {\n",
       "        vertical-align: middle;\n",
       "    }\n",
       "\n",
       "    .dataframe tbody tr th {\n",
       "        vertical-align: top;\n",
       "    }\n",
       "\n",
       "    .dataframe thead th {\n",
       "        text-align: right;\n",
       "    }\n",
       "</style>\n",
       "<table border=\"1\" class=\"dataframe\">\n",
       "  <thead>\n",
       "    <tr style=\"text-align: right;\">\n",
       "      <th></th>\n",
       "      <th>id_paciente</th>\n",
       "      <th>Fecha_Emision</th>\n",
       "      <th>Regional_EPS_Desc</th>\n",
       "      <th>Codigo_Prestacion_Op</th>\n",
       "      <th>Descripcion_Prestacion</th>\n",
       "      <th>Codigo_Diagnostico_EPS_Op</th>\n",
       "      <th>Diagnostico_EPS_Desc</th>\n",
       "      <th>Cantidad_Autorizada</th>\n",
       "    </tr>\n",
       "  </thead>\n",
       "  <tbody>\n",
       "    <tr>\n",
       "      <th>0</th>\n",
       "      <td>500547</td>\n",
       "      <td>2</td>\n",
       "      <td>2</td>\n",
       "      <td>2</td>\n",
       "      <td>2</td>\n",
       "      <td>2</td>\n",
       "      <td>2</td>\n",
       "      <td>2</td>\n",
       "    </tr>\n",
       "    <tr>\n",
       "      <th>1</th>\n",
       "      <td>537607</td>\n",
       "      <td>1</td>\n",
       "      <td>1</td>\n",
       "      <td>1</td>\n",
       "      <td>1</td>\n",
       "      <td>1</td>\n",
       "      <td>1</td>\n",
       "      <td>1</td>\n",
       "    </tr>\n",
       "    <tr>\n",
       "      <th>2</th>\n",
       "      <td>539998</td>\n",
       "      <td>1</td>\n",
       "      <td>1</td>\n",
       "      <td>1</td>\n",
       "      <td>1</td>\n",
       "      <td>1</td>\n",
       "      <td>1</td>\n",
       "      <td>1</td>\n",
       "    </tr>\n",
       "    <tr>\n",
       "      <th>3</th>\n",
       "      <td>540250</td>\n",
       "      <td>2</td>\n",
       "      <td>2</td>\n",
       "      <td>2</td>\n",
       "      <td>2</td>\n",
       "      <td>2</td>\n",
       "      <td>2</td>\n",
       "      <td>2</td>\n",
       "    </tr>\n",
       "    <tr>\n",
       "      <th>4</th>\n",
       "      <td>541007</td>\n",
       "      <td>1</td>\n",
       "      <td>1</td>\n",
       "      <td>1</td>\n",
       "      <td>1</td>\n",
       "      <td>1</td>\n",
       "      <td>1</td>\n",
       "      <td>1</td>\n",
       "    </tr>\n",
       "    <tr>\n",
       "      <th>...</th>\n",
       "      <td>...</td>\n",
       "      <td>...</td>\n",
       "      <td>...</td>\n",
       "      <td>...</td>\n",
       "      <td>...</td>\n",
       "      <td>...</td>\n",
       "      <td>...</td>\n",
       "      <td>...</td>\n",
       "    </tr>\n",
       "    <tr>\n",
       "      <th>150</th>\n",
       "      <td>1932263</td>\n",
       "      <td>3</td>\n",
       "      <td>3</td>\n",
       "      <td>3</td>\n",
       "      <td>3</td>\n",
       "      <td>3</td>\n",
       "      <td>3</td>\n",
       "      <td>3</td>\n",
       "    </tr>\n",
       "    <tr>\n",
       "      <th>151</th>\n",
       "      <td>1940079</td>\n",
       "      <td>2</td>\n",
       "      <td>2</td>\n",
       "      <td>2</td>\n",
       "      <td>2</td>\n",
       "      <td>2</td>\n",
       "      <td>2</td>\n",
       "      <td>2</td>\n",
       "    </tr>\n",
       "    <tr>\n",
       "      <th>152</th>\n",
       "      <td>1971217</td>\n",
       "      <td>1</td>\n",
       "      <td>1</td>\n",
       "      <td>1</td>\n",
       "      <td>1</td>\n",
       "      <td>1</td>\n",
       "      <td>1</td>\n",
       "      <td>1</td>\n",
       "    </tr>\n",
       "    <tr>\n",
       "      <th>153</th>\n",
       "      <td>1973217</td>\n",
       "      <td>1</td>\n",
       "      <td>1</td>\n",
       "      <td>1</td>\n",
       "      <td>1</td>\n",
       "      <td>1</td>\n",
       "      <td>1</td>\n",
       "      <td>1</td>\n",
       "    </tr>\n",
       "    <tr>\n",
       "      <th>154</th>\n",
       "      <td>1985014</td>\n",
       "      <td>2</td>\n",
       "      <td>2</td>\n",
       "      <td>2</td>\n",
       "      <td>2</td>\n",
       "      <td>2</td>\n",
       "      <td>2</td>\n",
       "      <td>2</td>\n",
       "    </tr>\n",
       "  </tbody>\n",
       "</table>\n",
       "<p>155 rows × 8 columns</p>\n",
       "</div>"
      ],
      "text/plain": [
       "     id_paciente  Fecha_Emision  Regional_EPS_Desc  Codigo_Prestacion_Op  \\\n",
       "0         500547              2                  2                     2   \n",
       "1         537607              1                  1                     1   \n",
       "2         539998              1                  1                     1   \n",
       "3         540250              2                  2                     2   \n",
       "4         541007              1                  1                     1   \n",
       "..           ...            ...                ...                   ...   \n",
       "150      1932263              3                  3                     3   \n",
       "151      1940079              2                  2                     2   \n",
       "152      1971217              1                  1                     1   \n",
       "153      1973217              1                  1                     1   \n",
       "154      1985014              2                  2                     2   \n",
       "\n",
       "     Descripcion_Prestacion  Codigo_Diagnostico_EPS_Op  Diagnostico_EPS_Desc  \\\n",
       "0                         2                          2                     2   \n",
       "1                         1                          1                     1   \n",
       "2                         1                          1                     1   \n",
       "3                         2                          2                     2   \n",
       "4                         1                          1                     1   \n",
       "..                      ...                        ...                   ...   \n",
       "150                       3                          3                     3   \n",
       "151                       2                          2                     2   \n",
       "152                       1                          1                     1   \n",
       "153                       1                          1                     1   \n",
       "154                       2                          2                     2   \n",
       "\n",
       "     Cantidad_Autorizada  \n",
       "0                      2  \n",
       "1                      1  \n",
       "2                      1  \n",
       "3                      2  \n",
       "4                      1  \n",
       "..                   ...  \n",
       "150                    3  \n",
       "151                    2  \n",
       "152                    1  \n",
       "153                    1  \n",
       "154                    2  \n",
       "\n",
       "[155 rows x 8 columns]"
      ]
     },
     "execution_count": 93,
     "metadata": {},
     "output_type": "execute_result"
    }
   ],
   "source": [
    "result_2.groupby(['id_paciente'],as_index=False).count()"
   ]
  },
  {
   "cell_type": "markdown",
   "metadata": {},
   "source": [
    "By grouping the dataset by identification numbers, we have identified that there are 161 patients and therefore there are 103 repetitions\n"
   ]
  },
  {
   "cell_type": "code",
   "execution_count": 94,
   "metadata": {},
   "outputs": [
    {
     "data": {
      "text/plain": [
       "<matplotlib.axes._subplots.AxesSubplot at 0x7f4360290990>"
      ]
     },
     "execution_count": 94,
     "metadata": {},
     "output_type": "execute_result"
    },
    {
     "data": {
      "image/png": "[encoded data removed]",
      "text/plain": [
       "<Figure size 1800x720 with 2 Axes>"
      ]
     },
     "metadata": {
      "needs_background": "light"
     },
     "output_type": "display_data"
    }
   ],
   "source": [
    "msno.matrix(msno.nullity_sort(result_2, sort='descending'))\n",
    "# This dataset seems to be complete"
   ]
  },
  {
   "cell_type": "code",
   "execution_count": 95,
   "metadata": {},
   "outputs": [
    {
     "data": {
      "text/plain": [
       "<matplotlib.axes._subplots.AxesSubplot at 0x7f4360212690>"
      ]
     },
     "execution_count": 95,
     "metadata": {},
     "output_type": "execute_result"
    },
    {
     "data": {
      "image/png": "[encoded data removed]",
      "text/plain": [
       "<Figure size 1008x720 with 1 Axes>"
      ]
     },
     "metadata": {
      "needs_background": "light"
     },
     "output_type": "display_data"
    }
   ],
   "source": [
    "fig, ax = plt.subplots(figsize=(14,10))\n",
    "result_2['Regional_EPS_Desc'].hist(bins=8)"
   ]
  },
  {
   "cell_type": "code",
   "execution_count": 96,
   "metadata": {},
   "outputs": [
    {
     "data": {
      "text/html": [
       "<div>\n",
       "<style scoped>\n",
       "    .dataframe tbody tr th:only-of-type {\n",
       "        vertical-align: middle;\n",
       "    }\n",
       "\n",
       "    .dataframe tbody tr th {\n",
       "        vertical-align: top;\n",
       "    }\n",
       "\n",
       "    .dataframe thead th {\n",
       "        text-align: right;\n",
       "    }\n",
       "</style>\n",
       "<table border=\"1\" class=\"dataframe\">\n",
       "  <thead>\n",
       "    <tr style=\"text-align: right;\">\n",
       "      <th></th>\n",
       "      <th>Descripcion_Prestacion</th>\n",
       "      <th>id_paciente</th>\n",
       "      <th>Fecha_Emision</th>\n",
       "      <th>Regional_EPS_Desc</th>\n",
       "      <th>Codigo_Prestacion_Op</th>\n",
       "      <th>Codigo_Diagnostico_EPS_Op</th>\n",
       "      <th>Diagnostico_EPS_Desc</th>\n",
       "      <th>Cantidad_Autorizada</th>\n",
       "    </tr>\n",
       "  </thead>\n",
       "  <tbody>\n",
       "    <tr>\n",
       "      <th>0</th>\n",
       "      <td>ANTI-HBS</td>\n",
       "      <td>3</td>\n",
       "      <td>3</td>\n",
       "      <td>3</td>\n",
       "      <td>3</td>\n",
       "      <td>3</td>\n",
       "      <td>3</td>\n",
       "      <td>3</td>\n",
       "    </tr>\n",
       "    <tr>\n",
       "      <th>1</th>\n",
       "      <td>PAI_VACC</td>\n",
       "      <td>242</td>\n",
       "      <td>242</td>\n",
       "      <td>242</td>\n",
       "      <td>242</td>\n",
       "      <td>242</td>\n",
       "      <td>242</td>\n",
       "      <td>242</td>\n",
       "    </tr>\n",
       "  </tbody>\n",
       "</table>\n",
       "</div>"
      ],
      "text/plain": [
       "  Descripcion_Prestacion  id_paciente  Fecha_Emision  Regional_EPS_Desc  \\\n",
       "0               ANTI-HBS            3              3                  3   \n",
       "1               PAI_VACC          242            242                242   \n",
       "\n",
       "   Codigo_Prestacion_Op  Codigo_Diagnostico_EPS_Op  Diagnostico_EPS_Desc  \\\n",
       "0                     3                          3                     3   \n",
       "1                   242                        242                   242   \n",
       "\n",
       "   Cantidad_Autorizada  \n",
       "0                    3  \n",
       "1                  242  "
      ]
     },
     "execution_count": 96,
     "metadata": {},
     "output_type": "execute_result"
    }
   ],
   "source": [
    "result_2.groupby(['Descripcion_Prestacion'],as_index=False).count().head(20)"
   ]
  },
  {
   "cell_type": "code",
   "execution_count": 97,
   "metadata": {},
   "outputs": [
    {
     "data": {
      "text/plain": [
       "id_paciente                  False\n",
       "Fecha_Emision                False\n",
       "Regional_EPS_Desc            False\n",
       "Codigo_Prestacion_Op         False\n",
       "Descripcion_Prestacion       False\n",
       "Codigo_Diagnostico_EPS_Op    False\n",
       "Diagnostico_EPS_Desc         False\n",
       "Cantidad_Autorizada          False\n",
       "dtype: bool"
      ]
     },
     "execution_count": 97,
     "metadata": {},
     "output_type": "execute_result"
    }
   ],
   "source": [
    "result_2.isnull().any()"
   ]
  },
  {
   "cell_type": "code",
   "execution_count": 98,
   "metadata": {},
   "outputs": [],
   "source": [
    "result_2.to_csv('./data/cleansed/vacunacion.csv', sep='|')"
   ]
  },
  {
   "cell_type": "code",
   "execution_count": null,
   "metadata": {},
   "outputs": [],
   "source": []
  },
  {
   "cell_type": "code",
   "execution_count": null,
   "metadata": {},
   "outputs": [],
   "source": []
  }
 ],
 "metadata": {
  "kernelspec": {
   "display_name": "Python 3",
   "language": "python",
   "name": "python3"
  },
  "language_info": {
   "codemirror_mode": {
    "name": "ipython",
    "version": 3
   },
   "file_extension": ".py",
   "mimetype": "text/x-python",
   "name": "python",
   "nbconvert_exporter": "python",
   "pygments_lexer": "ipython3",
   "version": "3.7.6"
  }
 },
 "nbformat": 4,
 "nbformat_minor": 4
}
